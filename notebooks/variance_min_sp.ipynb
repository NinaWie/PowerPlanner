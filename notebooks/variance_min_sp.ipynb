{
 "cells": [
  {
   "cell_type": "code",
   "execution_count": null,
   "metadata": {},
   "outputs": [],
   "source": [
    "import os\n",
    "import pickle\n",
    "import time\n",
    "import numpy as np\n",
    "import json\n",
    "import pandas as pd\n",
    "import matplotlib.pyplot as plt\n",
    "from types import SimpleNamespace\n",
    "from collections import defaultdict\n",
    "from numba import jit\n",
    "\n",
    "# utils imports\n",
    "from power_planner.data_reader import DataReader\n",
    "from power_planner import graphs\n",
    "from power_planner.plotting import plot_path_costs, plot_pipeline_paths, plot_path, plot_k_sp\n",
    "from power_planner.utils.utils import get_distance_surface, time_test_csv, compute_pylon_dists\n",
    "from power_planner.utils.utils_ksp import KspUtils"
   ]
  },
  {
   "cell_type": "code",
   "execution_count": null,
   "metadata": {},
   "outputs": [],
   "source": [
    "PATH_FILES = \"../data\"\n",
    "\n",
    "# DEFINE CONFIGURATION\n",
    "ID = \"w_ksp_5\"  # str(round(time.time() / 60))[-5:]\n",
    "\n",
    "OUT_PATH = \"outputs/path_\" + ID\n",
    "SCALE_PARAM = 5  # args.scale\n",
    "# normal graph pipeline\n",
    "# PIPELINE = [(2, 50), (1, 0)]  # [(1, 0)]  # [(4, 80), (2, 50), (1, 0)]  #\n",
    "# random graph pipeline\n",
    "PIPELINE = [(1, 0)]  # [(0.9, 40), (0, 0)]\n",
    "\n",
    "GRAPH_TYPE = graphs.ImplicitLG\n",
    "# LineGraph, WeightedGraph, RandomWeightedGraph, RandomLineGraph, PowerBF\n",
    "# TwoPowerBF, WeightedKSP\n",
    "print(\"graph type:\", GRAPH_TYPE)\n",
    "# summarize: mean/max/min, remove: all/surrounding, sample: simple/watershed\n",
    "NOTES = \"None\"  # \"mean-all-simple\"\n",
    "\n",
    "IOPATH = os.path.join(PATH_FILES, \"ch_dump_s1_\" + str(SCALE_PARAM) + \".dat\")\n",
    "\n",
    "with open(\"../config.json\", \"r\") as infile:\n",
    "    cfg_dict = json.load(infile)  # Config(SCALE_PARAM)\n",
    "    cfg = SimpleNamespace(**cfg_dict)\n",
    "    cfg.PYLON_DIST_MIN, cfg.PYLON_DIST_MAX = compute_pylon_dists(\n",
    "        150, 250, cfg.RASTER, SCALE_PARAM\n",
    "    )\n",
    "    \n",
    "# READ DATA\n",
    "with open(IOPATH, \"rb\") as infile:\n",
    "    data = pickle.load(infile)\n",
    "    (instance, instance_corr, start_inds, dest_inds) = data.data\n",
    "    \n",
    "tic1 = time.time()\n",
    "graph = GRAPH_TYPE(\n",
    "    instance, instance_corr, graphtool=cfg.GTNX, verbose=cfg.VERBOSE\n",
    ")\n",
    "\n",
    "graph.set_shift(\n",
    "    cfg.PYLON_DIST_MIN,\n",
    "    cfg.PYLON_DIST_MAX,\n",
    "    dest_inds - start_inds,\n",
    "    cfg.MAX_ANGLE,\n",
    "    max_angle_lg=cfg.MAX_ANGLE_LG\n",
    ")\n",
    "corridor = np.ones(instance_corr.shape) * 0.5  # start with all\n",
    "\n",
    "graph.set_corridor(corridor, start_inds, dest_inds, factor_or_n_edges=1)\n",
    "\n",
    "graph.set_edge_costs(\n",
    "    data.layer_classes, data.class_weights, angle_weight= 0.1 # cfg.ANGLE_WEIGHT\n",
    ")\n",
    "# add vertices\n",
    "graph.add_nodes()\n",
    "\n",
    "# START PIPELINE\n",
    "tic = time.time()\n",
    "print(\"1) set cost rest\")"
   ]
  },
  {
   "cell_type": "code",
   "execution_count": null,
   "metadata": {},
   "outputs": [],
   "source": [
    "plt.figure(figsize=(20,10))\n",
    "plt.imshow(graph.instance)\n",
    "for i,path in enumerate(path_collection[-4:]):\n",
    "    path = np.asarray(path)\n",
    "    plt.plot(path[:,1], path[:,0], linewidth=3, label=i )# str(round(std_maxmin_max_2[i, 2],2)))\n",
    "plt.legend()\n",
    "plt.colorbar()\n",
    "plt.show()"
   ]
  },
  {
   "cell_type": "markdown",
   "metadata": {},
   "source": [
    "### Run one time to see best path"
   ]
  },
  {
   "cell_type": "code",
   "execution_count": null,
   "metadata": {},
   "outputs": [],
   "source": [
    "# compute first one\n",
    "# modify dest inds because they are the highest one\n",
    "graph.instance[tuple(dest_inds)] = graph.instance[tuple(start_inds)]\n",
    "# compute path\n",
    "graph.add_edges()\n",
    "path, path_costs, cost_sum = graph.get_shortest_path(start_inds, dest_inds)\n",
    "c = [graph.instance[i,j] for (i,j) in path]\n",
    "print(np.std(c), np.max(c)-np.min(c), np.max(c), cost_sum)\n",
    "PREV_MAX = np.max(c)\n",
    "\n",
    "# initialize the collections\n",
    "path_collection = [path]\n",
    "std_maxmin_max = [[np.std(c), np.max(c)-np.min(c), np.max(c), cost_sum]]"
   ]
  },
  {
   "cell_type": "markdown",
   "metadata": {},
   "source": [
    "### Run in loop to get the variants"
   ]
  },
  {
   "cell_type": "code",
   "execution_count": null,
   "metadata": {
    "scrolled": true
   },
   "outputs": [],
   "source": [
    "while True:\n",
    "    print(\"current max:\", PREV_MAX)\n",
    "    graph.add_nodes()\n",
    "    # set the once above the previous maximum point to inf\n",
    "    graph.instance[graph.instance>=PREV_MAX] = np.inf\n",
    "    graph.instance[tuple(dest_inds)] = graph.instance[tuple(start_inds)]\n",
    "    graph.add_edges()\n",
    "    try:\n",
    "        path, path_costs, cost_sum = graph.get_shortest_path(start_inds, dest_inds)\n",
    "    except RuntimeWarning:\n",
    "        print(\"already empty\", PREV_MAX)\n",
    "        break\n",
    "    # collect result\n",
    "    path_collection.append(path)\n",
    "    c = [graph.instance[i,j] for (i,j) in path]\n",
    "    print(np.std(c), np.max(c)-np.min(c), np.max(c), cost_sum)\n",
    "    std_maxmin_max.append([np.std(c), np.max(c)-np.min(c), np.max(c), cost_sum])\n",
    "    PREV_MAX = np.max(c)"
   ]
  },
  {
   "cell_type": "code",
   "execution_count": null,
   "metadata": {},
   "outputs": [],
   "source": [
    "# add means:\n",
    "for p in range(len(std_maxmin_max)):\n",
    "    path_len = len(path_collection[p])\n",
    "    m = std_maxmin_max[p][3] / path_len\n",
    "    std_maxmin_max[p].append(m)"
   ]
  },
  {
   "cell_type": "code",
   "execution_count": null,
   "metadata": {
    "scrolled": true
   },
   "outputs": [],
   "source": [
    "np.asarray(std_maxmin_max)"
   ]
  },
  {
   "cell_type": "code",
   "execution_count": null,
   "metadata": {},
   "outputs": [],
   "source": [
    "std_maxmin_max_2 = np.asarray(std_maxmin_max).copy()\n",
    "plt.figure(figsize=(10,5))\n",
    "# plt.scatter(std_maxmin_max_2[:,3], std_maxmin_max_2[:,0], label=\"standard deviation\")\n",
    "plt.scatter(std_maxmin_max_2[:,3], std_maxmin_max_2[:,1], label=\"variance (max-min)\")\n",
    "plt.scatter(std_maxmin_max_2[:,3], std_maxmin_max_2[:,2], label=\"maximum cost\")\n",
    "plt.scatter(std_maxmin_max_2[:,3], std_maxmin_max_2[:,4], label=\"average cost\")\n",
    "plt.legend()\n",
    "plt.xlabel(\"sum of costs\")\n",
    "plt.ylabel(\"variance / maximum / mean\")\n",
    "plt.title(\"Variance-cost tradeoff\")"
   ]
  },
  {
   "cell_type": "markdown",
   "metadata": {},
   "source": [
    "### Vary edge weight"
   ]
  },
  {
   "cell_type": "code",
   "execution_count": null,
   "metadata": {
    "scrolled": true
   },
   "outputs": [],
   "source": [
    "path_collection = []\n",
    "labels = []\n",
    "for e_w in [0.01, 0.1,0.3, 0.5, 0.7, 1]:\n",
    "    graph.add_nodes()\n",
    "    # set the once above the previous maximum point to inf\n",
    "    graph.add_edges(edge_weight=e_w)\n",
    "    try:\n",
    "        path, path_costs, cost_sum = graph.get_shortest_path(start_inds, dest_inds)\n",
    "    except RuntimeWarning:\n",
    "        print(\"already empty\", PREV_MAX)\n",
    "        break\n",
    "    # collect result\n",
    "    path_collection.append(path)\n",
    "    print(cost_sum)\n",
    "    e_cost = (cost_sum - np.dot(graph.cost_weights, np.sum(np.array(path_costs), axis=0))) / e_w\n",
    "    print(e_cost)\n",
    "    c = [graph.instance[i,j] for (i,j) in path]\n",
    "    print(np.sum(c))\n",
    "    labels.append(f\"edge weight: {e_w}, edge costs: {e_cost}, all costs: {cost_sum}\")"
   ]
  },
  {
   "cell_type": "code",
   "execution_count": null,
   "metadata": {},
   "outputs": [],
   "source": [
    "plt.figure(figsize=(20,20))\n",
    "plt.imshow(graph.instance)\n",
    "for i,path in enumerate(path_collection):\n",
    "    path = np.asarray(path)\n",
    "    plt.plot(path[:,1], path[:,0], linewidth=3, label=str(round(std_maxmin_max_2[i, 2],2))) # labels[i])# \n",
    "plt.legend(fontsize=15)\n",
    "plt.colorbar()\n",
    "plt.show()"
   ]
  },
  {
   "cell_type": "markdown",
   "metadata": {},
   "source": [
    "## Implement angle selection algorithm"
   ]
  },
  {
   "cell_type": "code",
   "execution_count": null,
   "metadata": {
    "scrolled": false
   },
   "outputs": [],
   "source": [
    "# test data\n",
    "test_range = 200\n",
    "for acd in [1, 5, 10, 15, 20, 30]:\n",
    "    iterations = []\n",
    "    for _ in range(100):\n",
    "        test_c = (np.random.rand(test_range)*100).astype(int)\n",
    "        c_tuples = [(c,i,0) for i,c in enumerate(test_c)]\n",
    "        sorted_c = sorted(c_tuples, key = lambda x: x[0])\n",
    "\n",
    "        # auxiliary lists\n",
    "        e_update = [i for i in range(len(test_c))]\n",
    "        to_update = np.ones(len(test_c))\n",
    "\n",
    "        # queue\n",
    "        q = []\n",
    "        acd = 5\n",
    "        update_counter = 1\n",
    "        while np.any(to_update):\n",
    "            # print(q)\n",
    "            # print(sorted_c)\n",
    "            # print(to_update)\n",
    "            # print(\"------------\")\n",
    "            if len(q)>0 and q[0][0]< sorted_c[0][0]:\n",
    "                cost, ind, div = q[0]\n",
    "                del q[0]\n",
    "            else:\n",
    "                cost, ind, div = sorted_c[0]\n",
    "                del sorted_c[0]\n",
    "            # update step\n",
    "            try:\n",
    "                to_update[ind+div] = 0\n",
    "                to_update[ind-div] = 0\n",
    "            except IndexError:\n",
    "                continue\n",
    "\n",
    "            q.append((cost + acd, ind, div+1))\n",
    "            update_counter+=1\n",
    "        iterations.append(update_counter)\n",
    "    print(np.mean(iterations), np.max(iterations)/test_range)"
   ]
  },
  {
   "cell_type": "code",
   "execution_count": null,
   "metadata": {},
   "outputs": [],
   "source": [
    "# test data\n",
    "def greedy(test_c, acd):\n",
    "    best_ones = []\n",
    "    for i in range(len(test_c)):\n",
    "        helper = [val + abs(j-i)*acd for j,val in enumerate(test_c)]\n",
    "        pred = np.argmin(helper)\n",
    "        best_ones.append(pred)\n",
    "    return np.asarray(best_ones)\n",
    "\n",
    "test_range = 200\n",
    "for acd in [10, 15, 20, 30]:\n",
    "    iterations = []\n",
    "    for _ in range(50):\n",
    "        test_c = (np.random.rand(test_range)*100).astype(int)\n",
    "        c_tuples = [(c,i,0) for i,c in enumerate(test_c)]\n",
    "        sorted_c = sorted(c_tuples, key = lambda x: x[0])\n",
    "\n",
    "        # auxiliary lists\n",
    "        e_update = [i for i in range(len(test_c))]\n",
    "        to_update = np.ones(len(test_c))\n",
    "        \n",
    "        # compute greedy method for validation\n",
    "        preds_gt = greedy(test_c, acd)\n",
    "        \n",
    "        # queueb\n",
    "        q = []\n",
    "        update_counter = 1\n",
    "        predecessor = np.zeros(len(test_c))\n",
    "        while np.any(to_update):\n",
    "            # print(q)\n",
    "            # print(sorted_c)\n",
    "            # print(to_update)\n",
    "            # print(\"------------\")\n",
    "            \n",
    "            # get next lowest value\n",
    "            if len(q)>0 and q[0][0]< sorted_c[0][0]:\n",
    "                cost, ind, div = q[0]\n",
    "                del q[0]\n",
    "            else:\n",
    "                cost, ind, div = sorted_c[0]\n",
    "                del sorted_c[0]\n",
    "                \n",
    "            # update step - only update if not updated yet!\n",
    "            if to_update[ind+div]:\n",
    "                # update\n",
    "                updated_ind = ind+div\n",
    "                predecessor[ind+div] = ind\n",
    "                to_update[ind+div] = 0\n",
    "\n",
    "                # CORRECTNESS: compare to ground truthpredecessor\n",
    "                div_gt_pred = abs(preds_gt[updated_ind]-updated_ind)\n",
    "                # if not equal predecessor and it does matter (not exactly equal costs)\n",
    "                if ind != preds_gt[updated_ind] and cost!=abs(div_gt_pred)*acd+test_c[preds_gt[updated_ind]]:\n",
    "                    print(test_c)\n",
    "                    print(preds_gt[ind+div], ind, div, test_c[updated_ind-4:updated_ind+4], cost)\n",
    "                \n",
    "                # get in which direction to go further\n",
    "                add = np.sign(div)\n",
    "                if add==0:\n",
    "                    # update -1: if in bounds and not updated yet\n",
    "                    if ind-1>=0 and to_update[ind-1]:\n",
    "                        q.append((cost + acd, ind, -1))\n",
    "                    add = 1\n",
    "                if ind+div+add >= 0 and ind+div+add < len(to_update) and to_update[ind+div+add]:\n",
    "                    q.append((cost + acd, ind, div+add))\n",
    "                # to_update[ind-div] = 0\n",
    "\n",
    "            update_counter+=1\n",
    "        iterations.append(update_counter)\n",
    "        \n",
    "        # print(predecessor)\n",
    "        # print(preds_gt)\n",
    "        # assert np.all(predecessor==preds_gt)\n",
    "    print(np.mean(iterations), np.max(iterations)/test_range)"
   ]
  },
  {
   "cell_type": "markdown",
   "metadata": {},
   "source": [
    "### Algorithm to be implemented in my framework:"
   ]
  },
  {
   "cell_type": "code",
   "execution_count": null,
   "metadata": {},
   "outputs": [],
   "source": []
  },
  {
   "cell_type": "markdown",
   "metadata": {},
   "source": [
    "### What guarantees\n",
    "\n",
    "much better than 100 times 100, but not simply times 2 or so"
   ]
  },
  {
   "cell_type": "code",
   "execution_count": null,
   "metadata": {},
   "outputs": [],
   "source": [
    "100 * np.log(100)"
   ]
  },
  {
   "cell_type": "code",
   "execution_count": null,
   "metadata": {},
   "outputs": [],
   "source": []
  }
 ],
 "metadata": {
  "kernelspec": {
   "display_name": "Python 3",
   "language": "python",
   "name": "python3"
  },
  "language_info": {
   "codemirror_mode": {
    "name": "ipython",
    "version": 3
   },
   "file_extension": ".py",
   "mimetype": "text/x-python",
   "name": "python",
   "nbconvert_exporter": "python",
   "pygments_lexer": "ipython3",
   "version": "3.8.2"
  }
 },
 "nbformat": 4,
 "nbformat_minor": 4
}
