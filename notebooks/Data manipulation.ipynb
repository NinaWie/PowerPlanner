{
 "cells": [
  {
   "cell_type": "code",
   "execution_count": null,
   "metadata": {},
   "outputs": [],
   "source": [
    "import rasterio\n",
    "import PIL\n",
    "import numpy as np\n",
    "import matplotlib.pyplot as plt\n",
    "import os"
   ]
  },
  {
   "cell_type": "markdown",
   "metadata": {},
   "source": [
    "### Load singel tif"
   ]
  },
  {
   "cell_type": "code",
   "execution_count": null,
   "metadata": {},
   "outputs": [],
   "source": [
    "fp = \"../../data/Instance_DE.nosync/corridor/Corridor.tif\"\n",
    "with rasterio.open(fp, 'r') as ds:\n",
    "    layer = ds.read()[0]\n",
    "    # layer[layer<0] = 200\n",
    "    print(ds.profile)"
   ]
  },
  {
   "cell_type": "code",
   "execution_count": null,
   "metadata": {},
   "outputs": [],
   "source": [
    "np.unique(layer[layer>0])"
   ]
  },
  {
   "cell_type": "code",
   "execution_count": null,
   "metadata": {},
   "outputs": [],
   "source": [
    "np.where(layer<0)"
   ]
  },
  {
   "cell_type": "markdown",
   "metadata": {},
   "source": [
    "### Write dataset (with profile) to change tif shape"
   ]
  },
  {
   "cell_type": "code",
   "execution_count": null,
   "metadata": {},
   "outputs": [],
   "source": [
    "from scipy.ndimage.morphology import binary_erosion, binary_dilation"
   ]
  },
  {
   "cell_type": "code",
   "execution_count": null,
   "metadata": {},
   "outputs": [],
   "source": [
    "fp = 'I_1422_Wald_ohne_Bedeutung.tif' \n",
    "#  #\n",
    "with rasterio.open(fp, 'r') as ds:\n",
    "    layer = ds.read()[0]\n",
    "    print(layer.shape)\n",
    "    transform_matrix = ds.transform\n",
    "    a = ds.dataset_mask()# / 255.\n",
    "    print(transform_matrix)\n",
    "    # layer[layer==0] = 1\n",
    "    plt.imshow(layer.astype(np.uint8))\n",
    "    plt.colorbar()\n",
    "    plt.show()\n",
    "    print(np.unique(layer))\n",
    "    layer = layer[:,:-1]\n",
    "    print(layer.shape)\n",
    "    # mod_layer = (layer==1).astype(int) # [:-1,:-1]\n",
    "    # mod_layer = \n",
    "    # for _ in range(10):\n",
    "    #    mod_layer = binary_erosion(mod_layer)\n",
    "    profile_dict = ds.profile\n",
    "    with rasterio.open('I_1422_Wald_ohne_Bedeutung.tif', 'w', **profile_dict) as dst:\n",
    "         dst.write(layer.astype(np.uint8), 1)\n",
    "    # \n",
    "\n",
    "print(len(np.unique(layer)))"
   ]
  },
  {
   "cell_type": "code",
   "execution_count": null,
   "metadata": {},
   "outputs": [],
   "source": [
    "os.path.exists(\"../../data/instance_CH.nosync/corridor/Corridor.tif\")"
   ]
  },
  {
   "cell_type": "code",
   "execution_count": null,
   "metadata": {},
   "outputs": [],
   "source": [
    "base = \"../../data/instance_CH.nosync/tif_layers\" # instance_DE.nosync/Suchraum.tif\"\n",
    "arr = []\n",
    "for fp in os.listdir(base):\n",
    "    if os.path.exists(os.path.join(base, fp)) and fp[0]!=\".\":\n",
    "        with rasterio.open(os.path.join(base, fp) , 'r') as ds: # os.path.join(base,\"Corridor.tif\")\n",
    "            layer = ds.read()[0]\n",
    "            # transform_matrix = ds.transform\n",
    "            arr.append((layer == 1).astype(int))\n",
    "arr = np.asarray(arr)"
   ]
  },
  {
   "cell_type": "code",
   "execution_count": null,
   "metadata": {},
   "outputs": [],
   "source": [
    "arr.shape"
   ]
  },
  {
   "cell_type": "code",
   "execution_count": null,
   "metadata": {},
   "outputs": [],
   "source": [
    "all_layers = np.sum(arr, axis=0)"
   ]
  },
  {
   "cell_type": "code",
   "execution_count": null,
   "metadata": {},
   "outputs": [],
   "source": [
    "plt.figure(figsize=(10,10))\n",
    "plt.imshow(LWZ)\n",
    "plt.colorbar()\n",
    "plt.show()"
   ]
  },
  {
   "cell_type": "code",
   "execution_count": null,
   "metadata": {},
   "outputs": [],
   "source": [
    "LWZ = ((all_layers==0).astype(int)).astype(np.uint8)"
   ]
  },
  {
   "cell_type": "code",
   "execution_count": null,
   "metadata": {},
   "outputs": [],
   "source": [
    "with rasterio.open(os.path.join(base, fp) , 'r') as ds:\n",
    "    profile_dict = ds.profile\n",
    "    with rasterio.open('Landwirtschaftszonen.tif', 'w', **profile_dict) as dst:\n",
    "        dst.write(LWZ.astype(np.uint8), 1)"
   ]
  },
  {
   "cell_type": "code",
   "execution_count": null,
   "metadata": {},
   "outputs": [],
   "source": [
    "base = \"../../data/instance_CH.nosync/corridor/Corridor.tif\" # instance_DE.nosync/Suchraum.tif\"\n",
    "with rasterio.open(base , 'r') as ds: # os.path.join(base,\"Corridor.tif\")\n",
    "    layer = ds.read()[0]\n",
    "    transform_matrix = ds.transform\n",
    "    print(layer.shape)\n",
    "    print(np.unique(layer))\n",
    "    plt.imshow(layer)\n",
    "    plt.colorbar()\n",
    "    plt.show()"
   ]
  },
  {
   "cell_type": "code",
   "execution_count": null,
   "metadata": {},
   "outputs": [],
   "source": [
    "base = \"../../data/large_instance/corridor\"\n",
    "with rasterio.open(os.path.join(base,\"Corridor.tif\"), \"r\") as infile:\n",
    "    layer = ds.dataset_mask() / 255\n",
    "    print(layer.shape)\n",
    "    print(np.unique(layer, return_counts=True))\n",
    "    transform_matrix = ds.transform\n",
    "    a = ds.dataset_mask()# / 255.\n",
    "    print(transform_matrix)"
   ]
  },
  {
   "cell_type": "code",
   "execution_count": null,
   "metadata": {},
   "outputs": [],
   "source": [
    "import shapefile\n",
    "def get_shape_polygon(path, transform_matrix):\n",
    "    sf = shapefile.Reader(path)\n",
    "    polygon_point = sf.shapes()[0].points\n",
    "    points = []\n",
    "    for p in polygon_point:\n",
    "        transformed = ~transform_matrix * p\n",
    "        points.append(transformed)\n",
    "    # resized = np.asarray(transformed) / self.scale_factor\n",
    "    # return resized.astype(int) + self.padding, np.asarray(transformed).astype(int)\n",
    "    return np.asarray(points).astype(int)"
   ]
  },
  {
   "cell_type": "code",
   "execution_count": null,
   "metadata": {},
   "outputs": [],
   "source": [
    "arr = get_shape_polygon(\"../../data/instance_CH.nosync/Scenario_BAFU/Scenario_BAFU\", transform_matrix)\n"
   ]
  },
  {
   "cell_type": "code",
   "execution_count": null,
   "metadata": {},
   "outputs": [],
   "source": [
    "plt.scatter(arr[:,0], arr[:,1])"
   ]
  },
  {
   "cell_type": "markdown",
   "metadata": {},
   "source": [
    "### data"
   ]
  },
  {
   "cell_type": "code",
   "execution_count": null,
   "metadata": {},
   "outputs": [],
   "source": [
    "import pickle\n",
    "with open(\"../../data/instance_CH.nosync/ch_dump_s1_1.dat\", \"rb\") as infile:\n",
    "    data = pickle.load(infile)\n",
    "    (instance, instance_corr, start_inds, dest_inds) = data.data"
   ]
  },
  {
   "cell_type": "code",
   "execution_count": null,
   "metadata": {},
   "outputs": [],
   "source": [
    "instance.shape"
   ]
  },
  {
   "cell_type": "code",
   "execution_count": null,
   "metadata": {},
   "outputs": [],
   "source": [
    "visualize_corr = 1 - instance_corr\n",
    "visualize_corr[visualize_corr == 1] = np.inf\n",
    "plt.figure(figsize=(8, 5))\n",
    "plt.imshow(np.sum(instance, axis=0) + visualize_corr)\n",
    "plt.colorbar()\n",
    "plt.show()"
   ]
  },
  {
   "cell_type": "code",
   "execution_count": null,
   "metadata": {},
   "outputs": [],
   "source": [
    "a = np.sum(instance, axis=0) + visualize_corr\n",
    "plt.imshow(a==0)"
   ]
  },
  {
   "cell_type": "code",
   "execution_count": null,
   "metadata": {},
   "outputs": [],
   "source": [
    "data.class_weights"
   ]
  },
  {
   "cell_type": "markdown",
   "metadata": {},
   "source": [
    "### List shapes of all layers"
   ]
  },
  {
   "cell_type": "code",
   "execution_count": null,
   "metadata": {},
   "outputs": [],
   "source": [
    "fp = \"../../data/Instance_CH/tif_layers/\"\n",
    "for f in os.listdir(fp):\n",
    "    if f[-3:]!= \"tif\":\n",
    "        continue\n",
    "    with rasterio.open(fp+f, 'r') as ds:\n",
    "        layer = ds.read()[0] \n",
    "    print(f, np.unique(layer, return_counts=True))\n",
    "    # plt.imshow(layer)\n",
    "    # plt.show()"
   ]
  },
  {
   "cell_type": "markdown",
   "metadata": {},
   "source": [
    "## Find common ground"
   ]
  },
  {
   "cell_type": "code",
   "execution_count": null,
   "metadata": {},
   "outputs": [],
   "source": [
    "with rasterio.open(os.path.join(base, \"instance_DE.nosync\", \"corridor\", \"Corridor.tif\"), 'r') as ds:\n",
    "    layer = (ds.read()[0]==1).astype(int)\n",
    "print(layer.shape)"
   ]
  },
  {
   "cell_type": "code",
   "execution_count": null,
   "metadata": {
    "scrolled": false
   },
   "outputs": [],
   "source": [
    "base = \"../../\"\n",
    "for data in os.listdir(base):\n",
    "    if data!=\".DS_Store\":\n",
    "        print(data)\n",
    "        with rasterio.open(os.path.join(base, data, \"corridor\", \"Corridor.tif\"), 'r') as ds:\n",
    "            # layer_mask = ds.dataset_mask() / 255\n",
    "            layer = ds.read()[0]\n",
    "        print(layer.shape)\n",
    "        print(np.unique(layer), np.unique(layer_mask))\n",
    "        plt.imshow((layer==np.max(layer)).astype(int))\n",
    "        print(np.sum(layer==np.max(layer)).astype(int))\n",
    "        plt.colorbar()\n",
    "        plt.show()\n",
    "        "
   ]
  },
  {
   "cell_type": "code",
   "execution_count": null,
   "metadata": {},
   "outputs": [],
   "source": [
    "os.path.exists(os.path.join(base, \"instance_DE.nosync\",\"tif_layers\", \"I_2711_Bodendenkmaeler.tif\"))"
   ]
  },
  {
   "cell_type": "code",
   "execution_count": null,
   "metadata": {},
   "outputs": [],
   "source": [
    "tuple([1]) + (2,3)"
   ]
  },
  {
   "cell_type": "code",
   "execution_count": null,
   "metadata": {},
   "outputs": [],
   "source": [
    "hard_constraints = np.all(\n",
    "            np.asarray([]).astype(int), axis=0\n",
    "        )"
   ]
  },
  {
   "cell_type": "markdown",
   "metadata": {},
   "source": [
    "## Import shape point"
   ]
  },
  {
   "cell_type": "code",
   "execution_count": null,
   "metadata": {},
   "outputs": [],
   "source": [
    "import shapefile"
   ]
  },
  {
   "cell_type": "code",
   "execution_count": null,
   "metadata": {},
   "outputs": [],
   "source": [
    "def shape_point(shape_path, transform_matrix):\n",
    "    sf = shapefile.Reader(shape_path)\n",
    "    startendpoint = sf.shapes()[0].points\n",
    "    transformed = ~transform_matrix * startendpoint[0]\n",
    "    return np.array(transformed).astype(int)\n",
    "base_path = \"../../Instance_CH.nosync/\"\n",
    "interm = \"interm_1/interm_1\"\n",
    "start = \"start_point/Start\"\n",
    "dest = \"dest_point/Destination\""
   ]
  },
  {
   "cell_type": "code",
   "execution_count": null,
   "metadata": {},
   "outputs": [],
   "source": [
    "s = shape_point(base_path+start, transform_matrix)\n",
    "i = shape_point(base_path+interm, transform_matrix)\n",
    "d = shape_point(base_path+dest, transform_matrix)\n",
    "plt.scatter(*i)\n",
    "plt.scatter(*s)\n",
    "plt.scatter(*d)\n",
    "plt.imshow(SOME LAYER HERE)\n",
    "plt.show()"
   ]
  },
  {
   "cell_type": "markdown",
   "metadata": {},
   "source": [
    "### Save as tif"
   ]
  },
  {
   "cell_type": "code",
   "execution_count": null,
   "metadata": {},
   "outputs": [],
   "source": [
    "from PIL import Image"
   ]
  },
  {
   "cell_type": "code",
   "execution_count": null,
   "metadata": {},
   "outputs": [],
   "source": [
    "img = Image.fromarray(layer)\n",
    "img.save(os.path.join(\"../../Instance_CH.nosync/\", \"Flugplatz.tif\")) # df.loc[i][\"class\"]\n",
    "# plt.imshow(img)\n",
    "# plt.savefig(os.path.join"
   ]
  },
  {
   "cell_type": "markdown",
   "metadata": {},
   "source": [
    "## Create tif layers for figure"
   ]
  },
  {
   "cell_type": "code",
   "execution_count": null,
   "metadata": {},
   "outputs": [],
   "source": [
    "from PIL import Image\n",
    "figure_path = \"../../figure/layers\""
   ]
  },
  {
   "cell_type": "code",
   "execution_count": null,
   "metadata": {},
   "outputs": [],
   "source": [
    "together_arr = []\n",
    "for i in range(len(arr)):\n",
    "    print(df.loc[i][\"class\"])\n",
    "    n,c = np.unique(arr[i], return_counts=True)\n",
    "    if c[1]>100000:\n",
    "        img = Image.fromarray(arr[i])\n",
    "        m,n = arr[i].shape\n",
    "        img = img.resize((m//10, n//10), resample=Image.BILINEAR)\n",
    "        together_arr.append(np.array(img))\n",
    "        img.save(os.path.join(figure_path, str(i)+\".tif\")) # df.loc[i][\"class\"]\n",
    "        # plt.imshow(img)\n",
    "        # plt.savefig(os.path.join(figure_path,df.loc[i][\"class\"], str(i)+\".jpg\"))"
   ]
  },
  {
   "cell_type": "code",
   "execution_count": null,
   "metadata": {},
   "outputs": [],
   "source": [
    "together_arr = np.asarray(together_arr)\n",
    "print(together_arr.shape)\n",
    "plt.imshow(np.sum(together_arr, axis=0), cmap='Greys')\n",
    "plt.axis(\"off\")\n",
    "plt.tight_layout()\n",
    "plt.savefig(\"together.png\")"
   ]
  }
 ],
 "metadata": {
  "kernelspec": {
   "display_name": "Python 3",
   "language": "python",
   "name": "python3"
  },
  "language_info": {
   "codemirror_mode": {
    "name": "ipython",
    "version": 3
   },
   "file_extension": ".py",
   "mimetype": "text/x-python",
   "name": "python",
   "nbconvert_exporter": "python",
   "pygments_lexer": "ipython3",
   "version": "3.8.2"
  }
 },
 "nbformat": 4,
 "nbformat_minor": 4
}
