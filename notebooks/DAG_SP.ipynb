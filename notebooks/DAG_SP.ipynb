{
 "cells": [
  {
   "cell_type": "code",
   "execution_count": null,
   "metadata": {},
   "outputs": [],
   "source": [
    "from power_planner.utils.utils import get_donut_vals, get_half_donut, get_distance_surface, bresenham_line, rescale, get_lg_donut, angle, normalize\n",
    "from power_planner.plotting import plot_path, plot_path_costs\n",
    "from power_planner.utils.utils_constraints import ConstraintUtils\n",
    "import numpy as np\n",
    "from graph_tool.all import Graph, shortest_path,load_graph, find_edge, remove_labeled_edges\n",
    "import matplotlib.pyplot as plt\n",
    "import os\n",
    "import pickle\n",
    "import time"
   ]
  },
  {
   "cell_type": "code",
   "execution_count": null,
   "metadata": {},
   "outputs": [],
   "source": [
    "instance_path = \"../data/data_dump_5.dat\"\n",
    "with open(instance_path, \"rb\") as infile:\n",
    "    data = pickle.load(infile)\n",
    "(instance, instance_corr, start_inds, dest_inds) = data.data"
   ]
  },
  {
   "cell_type": "code",
   "execution_count": null,
   "metadata": {},
   "outputs": [],
   "source": [
    "FACTOR_ALL = 2\n",
    "test_example = rescale(np.sum(instance, 0), FACTOR_ALL)"
   ]
  },
  {
   "cell_type": "code",
   "execution_count": null,
   "metadata": {},
   "outputs": [],
   "source": [
    "plt.imshow(test_example)\n",
    "plt.show"
   ]
  },
  {
   "cell_type": "code",
   "execution_count": null,
   "metadata": {},
   "outputs": [],
   "source": [
    "min_dist = 3\n",
    "max_dist = 5\n",
    "weights = [0.5,0.5]\n",
    "start_inds = start_inds//FACTOR_ALL\n",
    "dest_inds = dest_inds//FACTOR_ALL\n",
    "test_example = normalize(test_example)+0.1"
   ]
  },
  {
   "cell_type": "code",
   "execution_count": null,
   "metadata": {},
   "outputs": [],
   "source": []
  },
  {
   "cell_type": "code",
   "execution_count": null,
   "metadata": {},
   "outputs": [],
   "source": [
    "def shift_surface(costs, shift, fill_val = np.inf):\n",
    "    \"\"\"\n",
    "    Shifts a numpy array and pads with zeros\n",
    "    :param costs: 2-dim numpy array\n",
    "    :param shift: tuple of shift in x and y direction\n",
    "    BUT: ONLY WORKS FOR (+,+) or (+,-) shift tuples\n",
    "    :returns shifted array of same size\n",
    "    \"\"\"\n",
    "    rolled_costs = np.roll(costs, shift, axis=(0, 1))\n",
    "    if shift[0] >= 0:\n",
    "        rolled_costs[:shift[0], :] = fill_val\n",
    "    else:\n",
    "        rolled_costs[shift[0]:, :] = fill_val\n",
    "    if shift[1] >= 0:\n",
    "        rolled_costs[:, :shift[1]] = fill_val\n",
    "    else:\n",
    "        rolled_costs[:, shift[1]:] = fill_val\n",
    "    return rolled_costs\n",
    "\n",
    "def compute_angles_manually(path):\n",
    "    ang_out = [0]\n",
    "    for p in range(len(path)-2):\n",
    "        vec1 = path[p+1]-path[p]\n",
    "        vec2 = path[p+2]-path[p+1]\n",
    "        print( path[p+2],  path[p+1])\n",
    "        ang_out.append(round(angle(vec1, vec2)/(3*np.pi/4), 2))\n",
    "        print(ang_out[-1])\n",
    "    ang_out.append(0)\n",
    "    return ang_out"
   ]
  },
  {
   "cell_type": "code",
   "execution_count": null,
   "metadata": {
    "scrolled": false
   },
   "outputs": [],
   "source": [
    "def compute_dists(n_iters, shifts, test_example, start_inds, dest_inds, weights = [0.5, 1]):\n",
    "    # weights = [0.5,0.5]\n",
    "    min_angle= np.pi / 4 # TODO\n",
    "\n",
    "    fill_val = np.inf\n",
    "    # one iteration\n",
    "    # for i in range(len(shifts)):\n",
    "    x_len, y_len = test_example.shape\n",
    "    angle_weight, resistance_weight = tuple(np.array(weights)/np.sum(weights))\n",
    "    print(angle_weight, resistance_weight)\n",
    "    dists = np.zeros((len(shifts), x_len, y_len))\n",
    "    dists += fill_val\n",
    "    dists[:, start_inds[0], start_inds[1]] = test_example[start_inds[0], start_inds[1]]\n",
    "    dists_argmin = np.zeros(dists.shape)\n",
    "    # precompute angles\n",
    "    angles_all = np.zeros((len(shifts), len(shifts)))\n",
    "    for i in range(len(shifts)):\n",
    "        angles_all[i] = [angle(s, shifts[i]) for s in shifts]\n",
    "    angles_all = angles_all/min_angle\n",
    "    angles_all[angles_all>1] = np.inf\n",
    "    # print(angles_all)\n",
    "    times_cs = []\n",
    "    times_together = []\n",
    "    times_chosen = []\n",
    "    for j in range(n_iters):\n",
    "        for i in range(len(shifts)): # 10,11): # \n",
    "            # i = 10\n",
    "            # compute angle from the sorted neighbor list to the new edge\n",
    "            # immer plus das minimum\n",
    "            curr_shift = shifts[i]\n",
    "\n",
    "            angles = angles_all[i]\n",
    "            \n",
    "            ticcs = time.time()\n",
    "            # shift dists by this shift\n",
    "            # todo: avoid swaping dimenions each time\n",
    "            cost_switched = np.moveaxis(dists, 0, -1)\n",
    "            # shift by shift\n",
    "            costs_shifted = shift_surface(\n",
    "                cost_switched, curr_shift\n",
    "            )\n",
    "            times_cs.append(time.time() - ticcs)\n",
    "            # costs_shifted[costs_shifted==0] = fill_val\n",
    "\n",
    "            # POSSIBLE BUT not necessary!\n",
    "            # test_shifted = shift_surface(\n",
    "            #     test_example.copy(), curr_shift, fill_val=0\n",
    "            # )\n",
    "            # norm_angle = angles/min_angle # np.max(angles)\n",
    "            # norm_angle[norm_angle>min_angle] = np.inf\n",
    "            # norm_angle>1 --> np.inf\n",
    "            \n",
    "            # costs_shifted = np.moveaxis(costs_shifted, -1, 0)\n",
    "            together = np.zeros(costs_shifted.shape)\n",
    "            # for k in range(len(shifts)):\n",
    "            #     for l in range(x_len):\n",
    "            #         for m in range(y_len):\n",
    "            #             together[k,l,m] = costs_shifted[k,l,m] + angles[k] * angle_weight + test_example[l,m]* resistance_weight\n",
    "            tic_together = time.time()           \n",
    "            angle_cost = angle_weight *  angles\n",
    "            together = np.moveaxis(costs_shifted + angle_cost, -1, 0) + test_example * resistance_weight\n",
    "            # 28 x 10 x 10 + 28 angles + 10 x 10\n",
    "            times_together.append(time.time() - tic_together)\n",
    "            \n",
    "            tic_chosen = time.time()\n",
    "            weighted_costs_shifted = np.min(together, axis=0)\n",
    "            \n",
    "            # if j==8 and i==16:\n",
    "            #     print(angle_cost)\n",
    "            #     print(np.argmin(together, axis=0)[16,70])\n",
    "            #     print(weighted_costs_shifted[16, 70])\n",
    "            # \n",
    "\n",
    "            concat = np.array([dists[i], weighted_costs_shifted])\n",
    "            \n",
    "            # temp = dists_argmin[i]\n",
    "            # print(temp.shape)\n",
    "            # get spots that are actually updated\n",
    "            changed_ones = np.argmin(concat, axis=0)\n",
    "            # get argmin for each edge --> remember where the value on this edge came from\n",
    "            argmin_together = np.argmin(together, axis=0)\n",
    "            ## FOR LOOP SOLUTION\n",
    "            # for m in range(len(temp)):\n",
    "            #     for n in range(len(temp[0])):\n",
    "            #         if changed_ones[m,n]:\n",
    "            #             dists_argmin[i,m,n] = argmin_together[m,n]\n",
    "            ## TEMP SOLUTION:\n",
    "            # temp[changed_ones>0] = argmin_together[changed_ones>0]\n",
    "            # dists_argmin[i] = temp\n",
    "            dists_argmin[i, changed_ones>0] = argmin_together[changed_ones>0]\n",
    "            times_chosen = time.time() - tic_chosen\n",
    "\n",
    "            dists[i] = np.min(concat, axis=0)\n",
    "            # print(\"-------------\")\n",
    "    assert(np.all(dists_argmin<np.inf))\n",
    "    print(np.mean(times_cs), np.mean(times_together), np.mean(times_chosen))\n",
    "    print(\"opt\", np.min(dists[:, dest_inds[0], dest_inds[1]]))\n",
    "    \n",
    "    return dists, dists_argmin\n",
    "\n",
    "def get_path_from_dists(dists, dists_argmin, start_inds, dest_inds, test_example):\n",
    "    if not np.any(dists[:, dest_inds[0], dest_inds[1]] < np.inf):\n",
    "        raise RuntimeWarning(\"empty path\")\n",
    "        return [], []\n",
    "    curr_point = dest_inds\n",
    "    my_path = [dest_inds]\n",
    "    path_costs = [test_example[dest_inds[0], dest_inds[1]]]\n",
    "    # print(test_example[dest_inds[0], dest_inds[1]])\n",
    "    min_shift = np.argmin(dists[:, dest_inds[0], dest_inds[1]])\n",
    "    while np.any(curr_point - start_inds):\n",
    "        # min_dist = np.argmin(dists[:, curr_point[0], curr_point[1]])\n",
    "        new_point = curr_point - shifts[int(min_shift)]\n",
    "        min_shift = dists_argmin[int(min_shift), curr_point[0], curr_point[1]]\n",
    "        # print(new_point)\n",
    "        # print(test_example[new_point[0], new_point[1]])\n",
    "        path_costs.append(test_example[new_point[0], new_point[1]])\n",
    "        my_path.append(new_point)\n",
    "        curr_point = new_point\n",
    "    return my_path, path_costs\n",
    "\n",
    "# def my_path_computation(n_iters, shifts, test_example, start_inds, dest_inds, weights = [0.5, 1]):\n",
    "shifts_ba = get_half_donut(3,5, start_inds-dest_inds, angle_max = 0.5*np.pi)\n",
    "shifts_ab = get_half_donut(3,5, dest_inds-start_inds, angle_max = 0.5*np.pi)\n",
    "dists_ba, dists_argmin_ba = compute_dists(50, shifts_ba, test_example, dest_inds, start_inds, weights = [0.1,0.9])\n",
    "dists_ab, dists_argmin_ab = compute_dists(50, shifts_ab, test_example, start_inds, dest_inds, weights = [0.1,0.9])\n",
    "# plt.imshow(np.min(dists, axis=0))\n",
    "# plt.colorbar()\n",
    "# plt.show()\n",
    "\n",
    "path_ba, _ = get_path_from_dists(dists_ba, dists_argmin_ba, dest_inds, start_inds, test_example)\n",
    "path_ab, _ = get_path_from_dists(dists_ab, dists_argmin_ab, start_inds, dest_inds, test_example)\n",
    "\n",
    "# my_path = np.flip(np.asarray(my_path), axis=0) # # np.flip(np.array(my_path), axis=0)\n",
    "# my_path_costs = np.flip(np.asarray(path_costs), axis=0) # np.flip(np.array(path_costs), axis=0)\n",
    "# return my_path, my_path_costs"
   ]
  },
  {
   "cell_type": "markdown",
   "metadata": {},
   "source": [
    "#### Time tests\n",
    "\n",
    "* scale 5: 0.0029839556557791575 0.005615409782954625 0.008010149002075195\n",
    "* scale 4 (2 loaded and factor 2): 0.008167797610873268 0.014744256223951067 0.03291702270507812\n",
    "* scale 2: 0.031831826482500346 0.07233214804104396 0.0800\n",
    "\n",
    "--> downscaled 16 vs 25 --> 25/16 mal so viele pixel, 4x so viel time for each one\n",
    "downscale 16 vs 4: 4 times as many pixel, 4-5 times more time \n",
    "\n",
    "On cluster: for scale 2 7000 seconds --> quite long"
   ]
  },
  {
   "cell_type": "code",
   "execution_count": null,
   "metadata": {},
   "outputs": [],
   "source": [
    "# unit tests\n",
    "example2 = np.zeros(test_example.shape)\n",
    "example2 += np.inf\n",
    "line = bresenham_line(start_inds[0], start_inds[1], dest_inds[0], dest_inds[1])\n",
    "for (i,j) in line:\n",
    "    example2[i,j] = 1\n",
    "# get out thing, check that nonempty and corresponding "
   ]
  },
  {
   "cell_type": "code",
   "execution_count": null,
   "metadata": {},
   "outputs": [],
   "source": [
    "out = np.zeros(test_example.shape)\n",
    "for (i,j) in my_path:\n",
    "    out[i,j] = 1\n",
    "plt.imshow(out)\n",
    "plt.show()"
   ]
  },
  {
   "cell_type": "code",
   "execution_count": null,
   "metadata": {},
   "outputs": [],
   "source": [
    "angle([-1,0], [1,1])/np.pi"
   ]
  },
  {
   "cell_type": "code",
   "execution_count": null,
   "metadata": {},
   "outputs": [],
   "source": [
    "# unit test2: with 90 grad winkel --> not supposed to work with max_angle 3/4, only with 1/4\n",
    "example2 = np.zeros(test_example.shape)\n",
    "example2 += np.inf\n",
    "example2[start_inds[0], start_inds[1]:dest_inds[1]-3] = 1\n",
    "example2[start_inds[0], dest_inds[1]] = 1\n",
    "example2[dest_inds[0]:start_inds[0]-3, dest_inds[1]] = 1\n",
    "plt.imshow(example2)\n",
    "plt.show()"
   ]
  },
  {
   "cell_type": "code",
   "execution_count": null,
   "metadata": {},
   "outputs": [],
   "source": [
    "example2[start_inds[0], dest_inds[1]]"
   ]
  },
  {
   "cell_type": "markdown",
   "metadata": {},
   "source": [
    "### Most important testing function to check whether it is correct"
   ]
  },
  {
   "cell_type": "code",
   "execution_count": null,
   "metadata": {
    "scrolled": true
   },
   "outputs": [],
   "source": [
    "shift_dict = {tuple(shifts[i]):i for i in range(len(shifts))}\n",
    "prev = start_inds\n",
    "c = test_example[start_inds[0], start_inds[1]] # - 0.3918232239145548 # first angle is wrong --> subtract\n",
    "path = my_path\n",
    "for p in range(1, len(path)):\n",
    "    i,j = path[p] # current node\n",
    "    shift = path[p] - prev # incoming edge index to the current node --> should have accumulated cost of prev one \n",
    "    shift_ind = shift_dict[tuple(shift)]\n",
    "    prev = path[p]\n",
    "    ang = 0.5 * angle(path[p]-path[p-1], path[p-1]-path[p-2])/(3*np.pi/4)\n",
    "    if p==1:\n",
    "        c-=ang\n",
    "    cost = 0.5 * test_example[i,j]\n",
    "    print(round(dists[shift_ind, i,j], 5), \"actual\",  round(c + ang + cost, 5))\n",
    "    # print(shift_ind, i,j)\n",
    "    # print(ang)\n",
    "    c += ang + cost"
   ]
  },
  {
   "cell_type": "markdown",
   "metadata": {},
   "source": [
    "## Compare to line graph"
   ]
  },
  {
   "cell_type": "code",
   "execution_count": null,
   "metadata": {},
   "outputs": [],
   "source": [
    "a = np.zeros((5,5, 5))\n",
    "a[1,2] = 1\n",
    "a[:, (1,2)]"
   ]
  },
  {
   "cell_type": "code",
   "execution_count": null,
   "metadata": {},
   "outputs": [],
   "source": [
    "from power_planner.graphs import *"
   ]
  },
  {
   "cell_type": "code",
   "execution_count": null,
   "metadata": {},
   "outputs": [],
   "source": [
    "def run_on_lg(test_example, start_inds, dest_inds, cost_weights):\n",
    "    instance_corr = np.zeros(test_example.shape)\n",
    "    instance_corr[dest_inds[0]:start_inds[0]+1, start_inds[1]:dest_inds[1]+1] = 1\n",
    "    # plt.imshow(instance_corr)\n",
    "    # plt.colorbar()\n",
    "    # plt.show()\n",
    "    graph = LineGraph(\n",
    "        np.array([test_example]), instance_corr, graphtool=1, verbose=1\n",
    "    )\n",
    "    graph.set_edge_costs([\"resistance\"], cost_weights) # [0.4,1])\n",
    "    graph.set_shift(min_dist, max_dist, dest_inds-start_inds, 0.5 * np.pi)\n",
    "    # add vertices\n",
    "    graph.add_nodes()\n",
    "    corridor = np.ones(instance_corr.shape) * 0.5  # start with all\n",
    "    graph.set_corridor(1, corridor, start_inds, dest_inds)\n",
    "    print(\"1) set cost rest\")\n",
    "    graph.add_edges()\n",
    "    print(\"2) added edges\", len(list(graph.graph.edges())))\n",
    "    print(\"number of vertices:\", len(list(graph.graph.vertices())))\n",
    "\n",
    "    # weighted sum of all costs\n",
    "    graph.sum_costs()\n",
    "    source_v, target_v = graph.add_start_and_dest(start_inds, dest_inds)\n",
    "    path, path_costs, cost_sum = graph.get_shortest_path(source_v, target_v)\n",
    "    return np.array(path), np.array(path_costs)"
   ]
  },
  {
   "cell_type": "code",
   "execution_count": null,
   "metadata": {},
   "outputs": [],
   "source": [
    "path, path_costs = run_on_lg(test_example, start_inds, dest_inds, [0.1,0.9])"
   ]
  },
  {
   "cell_type": "markdown",
   "metadata": {},
   "source": [
    "### Plot both paths"
   ]
  },
  {
   "cell_type": "code",
   "execution_count": null,
   "metadata": {},
   "outputs": [],
   "source": [
    "path = np.array(path_ba)\n",
    "my_path = np.array(path_ab)\n",
    "plt.figure(figsize=(20,10))\n",
    "plt.imshow(np.swapaxes(test_example,1,0))\n",
    "plt.plot(path[:,0], path[:,1],color=\"yellow\")\n",
    "plt.plot(my_path[:,0], my_path[:,1], color=\"orange\")\n",
    "plt.show()"
   ]
  },
  {
   "cell_type": "markdown",
   "metadata": {},
   "source": [
    "### Compare costs"
   ]
  },
  {
   "cell_type": "code",
   "execution_count": null,
   "metadata": {
    "scrolled": true
   },
   "outputs": [],
   "source": [
    "rev_len = len(my_path)\n",
    "angs = compute_angles_manually(path)\n",
    "my_angs = compute_angles_manually(my_path)\n",
    "for p in range(len(path)):\n",
    "    print(path[p], my_path[p])\n",
    "    # print(test_example[my_path[p][0], my_path[p][1]])\n",
    "    i,j = tuple(my_path[p])\n",
    "    k,l = tuple(path[p])\n",
    "    print(test_example[k,l], my_path_costs[p], round(test_example[i,j],2), angs[p], my_angs[p])\n",
    "    # print(round(path_costs[p][1],2), round(test_example[i,j], 2))"
   ]
  },
  {
   "cell_type": "code",
   "execution_count": null,
   "metadata": {},
   "outputs": [],
   "source": [
    "print(np.sum(path_costs[1:-1,1]), np.sum(my_path_costs[1:-1]))"
   ]
  },
  {
   "cell_type": "code",
   "execution_count": null,
   "metadata": {},
   "outputs": [],
   "source": [
    "print(np.sum(angs), np.sum(my_angs))"
   ]
  },
  {
   "cell_type": "code",
   "execution_count": null,
   "metadata": {},
   "outputs": [],
   "source": [
    "print(0.5*np.sum(angs)+ 0.5*np.sum(path_costs[:,1]), 0.5*np.sum(my_angs)+ 0.5*np.sum(my_path_costs))"
   ]
  },
  {
   "cell_type": "code",
   "execution_count": null,
   "metadata": {},
   "outputs": [],
   "source": [
    "len(my_path), len(path)"
   ]
  },
  {
   "cell_type": "markdown",
   "metadata": {},
   "source": [
    "## K shortest paths"
   ]
  },
  {
   "cell_type": "markdown",
   "metadata": {},
   "source": [
    "### Best path"
   ]
  },
  {
   "cell_type": "code",
   "execution_count": null,
   "metadata": {},
   "outputs": [],
   "source": [
    "best_path = [dest_inds]\n",
    "best_costs = [np.min(dists[:, dest_inds[0], dest_inds[1]])]\n",
    "min_shift = np.argmin(dists[:, dest_inds[0], dest_inds[1]])\n",
    "curr_point = dest_inds\n",
    "while np.any(curr_point - start_inds):\n",
    "    new_point = curr_point - shifts[int(min_shift)]\n",
    "    min_shift = dists_argmin[int(min_shift), curr_point[0], curr_point[1]]\n",
    "    \n",
    "    best_path.append(new_point)\n",
    "    curr_point = new_point\n",
    "    best_costs.append(dists[int(min_shift), curr_point[0], curr_point[1]])\n",
    "    \n",
    "        \n",
    "# Todo: most different and most similar costs criteria\n",
    "# backtrack from dest_ind and then divide further / divide on different points on the path"
   ]
  },
  {
   "cell_type": "code",
   "execution_count": null,
   "metadata": {
    "scrolled": true
   },
   "outputs": [],
   "source": [
    "best_path = np.array(best_path)"
   ]
  },
  {
   "cell_type": "code",
   "execution_count": null,
   "metadata": {},
   "outputs": [],
   "source": [
    "# def recursive_paths()"
   ]
  },
  {
   "cell_type": "code",
   "execution_count": null,
   "metadata": {},
   "outputs": [],
   "source": [
    "N_EXPLORE = 3 # explore 3 paths for each vertex on the path\n",
    "angle_weight=0.1\n",
    "collected_paths = []\n",
    "collected_costs = []\n",
    "for k in range(len(best_path)-1):\n",
    "    i,j = best_path[k]\n",
    "    if k>0:\n",
    "        angles_for_shift = [angle(shifts[m], best_path[k-1]-best_path[k]) for m in range(len(shifts))] # k-1: dest, k: one before dest \n",
    "    else:\n",
    "        angles_for_shift = [1 for _ in range(len(shifts))]\n",
    "    angles_for_shift = np.array(angles_for_shift)/(3*np.pi/4)\n",
    "    angles_for_shift[angles_for_shift>1] = np.inf\n",
    "    # get the new three best dependent on angle and minimum accumilated cost\n",
    "    three_best = np.argsort(dists[:,i,j] + angle_weight * np.array(angles_for_shift))[7:N_EXPLORE+8] # [:N_EXPLORE+1]\n",
    "    # three_best = np.argsort(dists[:,i,j])[:N_EXPLORE]\n",
    "    # iterate over the x best ones for this part of the path\n",
    "    for div in range(1, N_EXPLORE+1):\n",
    "        expl_path = []\n",
    "        expl_cost = best_costs[0] - best_costs[k] - angle_weight * angles_for_shift[three_best[0]]\n",
    "        # add the points on the path so far (starting from dest)\n",
    "        for l in range(k+1): # for k = 0, only append the dest_inds\n",
    "            expl_path.append(best_path[l])\n",
    "        min_shift = three_best[div]\n",
    "        expl_cost = expl_cost + dists[int(min_shift),i,j] + angle_weight*angles_for_shift[min_shift]\n",
    "        curr_point = best_path[k]\n",
    "        # add the new part of the path\n",
    "        while np.any(curr_point - start_inds):\n",
    "            # min_dist = np.argmin(dists[:, curr_point[0], curr_point[1]])\n",
    "            new_point = curr_point - shifts[int(min_shift)]\n",
    "            min_shift = dists_argmin[int(min_shift), curr_point[0], curr_point[1]]\n",
    "            if dists[int(min_shift), curr_point[0], curr_point[1]] < np.inf:\n",
    "                expl_costs.append(dists[int(min_shift), curr_point[0], curr_point[1]])\n",
    "            expl_path.append(new_point)\n",
    "            curr_point = new_point\n",
    "    collected_paths.append(expl_path)\n",
    "    collected_costs.append(expl_cost)\n",
    "# Todo: most different and most similar costs criteria\n",
    "# backtrack from dest_ind and then divide further / divide on different points on the path"
   ]
  },
  {
   "cell_type": "code",
   "execution_count": null,
   "metadata": {},
   "outputs": [],
   "source": [
    "plt.figure(figsize=(20,10))\n",
    "for i, path_points in enumerate(collected_paths): # [3:4]):\n",
    "    # print(path_points)\n",
    "    co = round(collected_costs[i], 2) # np.sum(collected_costs[i])\n",
    "    if co < best_costs[0] + best_costs[0]*0.03: # take the ones that have only + x % costs\n",
    "        path_points = np.array(path_points)\n",
    "        plt.plot(path_points[:,0], path_points[:,1], label = str(i)+\"  \"+str(co))\n",
    "plt.legend()    \n",
    "plt.show()"
   ]
  },
  {
   "cell_type": "markdown",
   "metadata": {},
   "source": [
    "## Path passing through point C"
   ]
  },
  {
   "cell_type": "code",
   "execution_count": null,
   "metadata": {},
   "outputs": [],
   "source": [
    "path_ab"
   ]
  },
  {
   "cell_type": "code",
   "execution_count": null,
   "metadata": {},
   "outputs": [],
   "source": [
    "c = np.array([40, 80])\n",
    "print(np.min(dists_ab[:, c[0], c[1]]))\n",
    "print(np.min(dists_ba[:, c[0], c[1]]))\n",
    "\n",
    "def get_sp(dists, dists_argmin, start_inds, dest_inds, shifts):\n",
    "    if not np.any(dists[:, dest_inds[0], dest_inds[1]] < np.inf):\n",
    "        raise RuntimeWarning(\"empty path\")\n",
    "    curr_point = dest_inds\n",
    "    my_path = [dest_inds]\n",
    "    min_shift = np.argmin(dists[:, dest_inds[0], dest_inds[1]])\n",
    "    while np.any(curr_point - start_inds):\n",
    "        # print(curr_point)\n",
    "        new_point = curr_point - shifts[int(min_shift)]\n",
    "        min_shift = dists_argmin[int(min_shift), curr_point[0], curr_point[1]]\n",
    "        my_path.append(new_point)\n",
    "        curr_point = new_point\n",
    "    return np.asarray(my_path)\n",
    "\n",
    "def best_in_window(w_xmin, w_xmax, w_ymin, w_ymax, dists_ab, dists_ba, dest_inds, test_example, margin=0.05):\n",
    "    \"\"\"\n",
    "    margin: percent that it's allowed to be higher than average\n",
    "    \"\"\"\n",
    "    possible_cs = []\n",
    "    for x in range(w_xmin, w_xmax+1, 1):\n",
    "        for y in range(w_ymin, w_ymax+1, 1):\n",
    "            # todo here: take into account angle directly\n",
    "            added_costs = np.min(dists_ab[:, x, y]) +  np.min(dists_ba[:, x, y]) - test_example[x,y]\n",
    "            opt = np.min(dists_ab[:, dest_inds[0], dest_inds[1]])\n",
    "            # print(added_costs, opt)\n",
    "            if added_costs < opt + margin*opt:\n",
    "                possible_cs.append(np.array([x,y]))\n",
    "    for c in possible_cs:\n",
    "        path_ac = get_sp(dists_ab, dists_argmin_ab, start_inds, c, shifts_ab)\n",
    "        path_cb = get_sp(dists_ba, dists_argmin_ba, dest_inds, c, shifts_ba)\n",
    "        plt.plot(path_ac[:,0], path_ac[:,1])\n",
    "        plt.plot(path_cb[:,0], path_cb[:,1])\n",
    "        plt.show()\n",
    "\n",
    "best_in_window(45, 48, 60, 63, dists_ab, dists_ba, dest_inds, test_example)"
   ]
  },
  {
   "cell_type": "code",
   "execution_count": null,
   "metadata": {},
   "outputs": [],
   "source": [
    "# minimum incoming edge cost --> this is the edge we take\n",
    "# need to add it up and add angle inbetween\n",
    "# TODO: more elaborate approach (minimum of angle from both directions) --> would need to try all combinations of dists + angle --> len(shifts)^2 iters\n",
    "print(np.min(dists_ab[:, c[0], c[1]]))\n",
    "print(np.min(dists_ba[:, c[0], c[1]]))\n",
    "plt.plot(path_ac[:,0], path_ac[:,1])\n",
    "plt.plot(path_cb[:,0], path_cb[:,1])\n",
    "plt.show()"
   ]
  },
  {
   "cell_type": "code",
   "execution_count": null,
   "metadata": {},
   "outputs": [],
   "source": [
    "path_ac"
   ]
  },
  {
   "cell_type": "code",
   "execution_count": null,
   "metadata": {},
   "outputs": [],
   "source": [
    "# Todo: find minimums in that or so \n",
    "plt.figure(figsize=(20,10))\n",
    "plt.imshow(np.mean(dists_ab, axis=0) + np.mean(dists_ba, axis=0))\n",
    "plt.show()"
   ]
  },
  {
   "cell_type": "markdown",
   "metadata": {},
   "source": [
    "## Random shit"
   ]
  },
  {
   "cell_type": "code",
   "execution_count": null,
   "metadata": {},
   "outputs": [],
   "source": [
    "%timeit 2*2\n"
   ]
  },
  {
   "cell_type": "code",
   "execution_count": null,
   "metadata": {},
   "outputs": [],
   "source": [
    "# old versions from package\n",
    "    def get_path_from_dists(self, start_inds, dest_inds):\n",
    "        curr_point = dest_inds\n",
    "        path = [dest_inds]\n",
    "        path_costs = [self.instance[dest_inds[0], dest_inds[1]]]\n",
    "        # print(test_example[dest_inds[0], dest_inds[1]])\n",
    "        while np.any(curr_point - start_inds):\n",
    "            min_shift = np.argmin(self.dists[:, curr_point[0], curr_point[1]])\n",
    "            new_point = curr_point - self.shifts[min_shift]\n",
    "            path.append(new_point)\n",
    "            # print(new_point)\n",
    "            # print(test_example[new_point[0], new_point[1]])\n",
    "            path_costs.append(self.instance[new_point[0], new_point[1]])\n",
    "            curr_point = new_point\n",
    "        path.append(curr_point)\n",
    "\n",
    "        path = np.flip(np.asarray(path), axis=0)\n",
    "        path_costs = np.flip(np.asarray(path_costs), axis=0)\n",
    "\n",
    "        return path, path_costs"
   ]
  },
  {
   "cell_type": "code",
   "execution_count": null,
   "metadata": {},
   "outputs": [],
   "source": [
    "# Test functions for correctness\n",
    "# FUNCTION 1\n",
    "path = my_path\n",
    "costs_start = test_example[start_inds[0],start_inds[1]]\n",
    "for p in range(len(path)-2):\n",
    "    (i,j) = path[p]\n",
    "    k,l = path[p+1]\n",
    "    print(i,j)\n",
    "    # print(dists[:, i,j])\n",
    "    print(round(np.min(dists[:, i,j]),3))\n",
    "    print(\"angle\", 0.5* angle(path[p+1]-path[p], path[p+2]-path[p+1])/(3*np.pi/4))\n",
    "    print(\"costs\", round(0.5* test_example[k,l],2))\n",
    "    costs_start += 0.5* test_example[k,l] + 0.5* angle(path[p+1]-path[p], path[p+2]-path[p+1])/(3*np.pi/4)\n",
    "    print(round(costs_start,2))\n",
    "    print(\"-----------\")\n",
    "    \n",
    "# FUNCTION 2 \n",
    "curr_point = dest_inds\n",
    "some_path = [dest_inds]\n",
    "count = len(path)-2\n",
    "# print(test_example[dest_inds[0], dest_inds[1]])\n",
    "while np.any(curr_point - start_inds):\n",
    "    # print(dists[:, curr_point[0], curr_point[1]])\n",
    "    min_shift = np.argmin(dists[:, curr_point[0], curr_point[1]])\n",
    "    new_point = curr_point - shifts[min_shift]\n",
    "    print(\"--------------------\")\n",
    "    print(curr_point)\n",
    "    print(np.min(dists[:, curr_point[0], curr_point[1]]))\n",
    "    print(\"shift\", shifts[min_shift])\n",
    "    some_path.append(new_point)\n",
    "    \n",
    "    i,j = curr_point\n",
    "    print(\"costs currpoint\", test_example[i,j]*0.5)\n",
    "    curr_point = new_point\n",
    "    if np.any(curr_point!=path[count]):\n",
    "        print(path[count])\n",
    "    count-= 1\n",
    "    k,l = path[count]\n",
    "    # print(\"costs actual\", test_example[k,l]*0.5)"
   ]
  }
 ],
 "metadata": {
  "kernelspec": {
   "display_name": "Python 3",
   "language": "python",
   "name": "python3"
  },
  "language_info": {
   "codemirror_mode": {
    "name": "ipython",
    "version": 3
   },
   "file_extension": ".py",
   "mimetype": "text/x-python",
   "name": "python",
   "nbconvert_exporter": "python",
   "pygments_lexer": "ipython3",
   "version": "3.8.2"
  }
 },
 "nbformat": 4,
 "nbformat_minor": 4
}
