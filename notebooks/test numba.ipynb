{
 "cells": [
  {
   "cell_type": "code",
   "execution_count": 1,
   "metadata": {},
   "outputs": [],
   "source": [
    "from numba import jit"
   ]
  },
  {
   "cell_type": "code",
   "execution_count": 14,
   "metadata": {},
   "outputs": [],
   "source": [
    "import numpy as np\n",
    "import pickle"
   ]
  },
  {
   "cell_type": "code",
   "execution_count": 19,
   "metadata": {},
   "outputs": [],
   "source": [
    "from power_planner.utils import get_half_donut, angle"
   ]
  },
  {
   "cell_type": "code",
   "execution_count": 16,
   "metadata": {},
   "outputs": [],
   "source": [
    "instance_path = \"/Users/ninawiedemann/Downloads/tifs_new/data_dump_5.dat\"\n",
    "with open(instance_path, \"rb\") as infile:\n",
    "    data = pickle.load(infile)\n",
    "(instance, instance_corr, start_inds, dest_inds) = data.data\n",
    "\n",
    "min_dist = 3\n",
    "max_dist = 5\n",
    "weights = [0.5,0.5]\n",
    "test_example = np.mean(instance, axis=0)"
   ]
  },
  {
   "cell_type": "code",
   "execution_count": 11,
   "metadata": {},
   "outputs": [],
   "source": [
    "@jit\n",
    "def shift(arr):\n",
    "    return np.roll(arr, 2)"
   ]
  },
  {
   "cell_type": "code",
   "execution_count": 12,
   "metadata": {},
   "outputs": [
    {
     "data": {
      "text/plain": [
       "array([[18, 19,  0,  1,  2],\n",
       "       [ 3,  4,  5,  6,  7],\n",
       "       [ 8,  9, 10, 11, 12],\n",
       "       [13, 14, 15, 16, 17]])"
      ]
     },
     "execution_count": 12,
     "metadata": {},
     "output_type": "execute_result"
    }
   ],
   "source": [
    "shift(np.arange(20).reshape(4,5))"
   ]
  },
  {
   "cell_type": "code",
   "execution_count": 49,
   "metadata": {},
   "outputs": [],
   "source": [
    "@jit\n",
    "def compute_dists(n_iters, shifts, test_example, start_inds, dest_inds, angles_all, angle_weight=0.5):\n",
    "    # weights = [0.5,0.5]\n",
    "    min_angle= 1 / 4 # TODO\n",
    "\n",
    "    fill_val = np.inf\n",
    "    # one iteration\n",
    "    # for i in range(len(shifts)):\n",
    "    x_len, y_len = test_example.shape\n",
    "    \n",
    "    dists = np.zeros((len(shifts), x_len, y_len))\n",
    "    dists += fill_val\n",
    "    dists[:, start_inds[0], start_inds[1]] = test_example[start_inds[0], start_inds[1]]\n",
    "    dists_argmin = np.zeros(dists.shape)\n",
    "    # precompute angles\n",
    "    \n",
    "    # print(angles_all)\n",
    "    for j in range(n_iters):\n",
    "        for i in range(len(shifts)): # 10,11): # \n",
    "            # i = 10\n",
    "            # compute angle from the sorted neighbor list to the new edge\n",
    "            # immer plus das minimum\n",
    "            curr_shift = shifts[i]\n",
    "\n",
    "            angles = angles_all[i]\n",
    "            # shift dists by this shift\n",
    "            # todo: avoid swaping dimenions each time\n",
    "            # cost_switched = np.swapaxes(dists, 1, 0)\n",
    "            # shift by shift\n",
    "            costs_shifted = dists.copy() # cost_switched\n",
    "            # shift_surface(\n",
    "            #     cost_switched, curr_shift\n",
    "            # )\n",
    "            # costs_shifted[costs_shifted==0] = fill_val\n",
    "\n",
    "            # POSSIBLE BUT not necessary!\n",
    "            # test_shifted = shift_surface(\n",
    "            #     test_example.copy(), curr_shift, fill_val=0\n",
    "            # )\n",
    "            # norm_angle = angles/min_angle # np.max(angles)\n",
    "            # norm_angle[norm_angle>min_angle] = np.inf\n",
    "            # norm_angle>1 --> np.inf\n",
    "            \n",
    "            # costs_shifted = np.moveaxis(costs_shifted, -1, 0)\n",
    "            together = np.zeros(costs_shifted.shape)\n",
    "            # for k in range(len(shifts)):\n",
    "            #     for l in range(x_len):\n",
    "            #         for m in range(y_len):\n",
    "            #             together[k,l,m] = costs_shifted[k,l,m] + angles[k] * angle_weight + test_example[l,m]* resistance_weight\n",
    "          \n",
    "            angle_cost = angle_weight *  angles\n",
    "            together = costs_shifted + test_example\n",
    "            # 28 x 10 x 10 + 28 angles + 10 x 10\n",
    "            weighted_costs_shifted = np.min(together, axis=0)\n",
    "            \n",
    "            # if j==8 and i==16:\n",
    "            #     print(angle_cost)\n",
    "            #     print(np.argmin(together, axis=0)[16,70])\n",
    "            #     print(weighted_costs_shifted[16, 70])\n",
    "            # \n",
    "\n",
    "            concat = np.array([dists[i], weighted_costs_shifted])\n",
    "            \n",
    "            # temp = dists_argmin[i]\n",
    "            # print(temp.shape)\n",
    "            # get spots that are actually updated\n",
    "            changed_ones = np.argmin(concat, axis=0)\n",
    "            # get argmin for each edge --> remember where the value on this edge came from\n",
    "            argmin_together = np.argmin(together, axis=0)\n",
    "            ## FOR LOOP SOLUTION\n",
    "            # for m in range(len(temp)):\n",
    "            #     for n in range(len(temp[0])):\n",
    "            #         if changed_ones[m,n]:\n",
    "            #             dists_argmin[i,m,n] = argmin_together[m,n]\n",
    "            ## TEMP SOLUTION:\n",
    "            # temp[changed_ones>0] = argmin_together[changed_ones>0]\n",
    "            # dists_argmin[i] = temp\n",
    "            dists_argmin[i, changed_ones>0] = argmin_together[changed_ones>0]\n",
    "            \n",
    "            dists[i] = np.min(concat, axis=0)\n",
    "            # print(\"-------------\")\n",
    "    assert(np.all(dists_argmin<np.inf))\n",
    "    print(\"opt\", np.min(dists[:, dest_inds[0], dest_inds[1]]))\n",
    "    \n",
    "    return dists, dists_argmin\n",
    "\n"
   ]
  },
  {
   "cell_type": "code",
   "execution_count": 50,
   "metadata": {
    "scrolled": false
   },
   "outputs": [
    {
     "name": "stderr",
     "output_type": "stream",
     "text": [
      "<ipython-input-49-f5409f320114>:1: NumbaWarning: \n",
      "Compilation is falling back to object mode WITH looplifting enabled because Function \"compute_dists\" failed type inference due to: Invalid use of Function(<function amin at 0x1148a3320>) with argument(s) of type(s): (array(float64, 3d, C), axis=Literal[int](0))\n",
      " * parameterized\n",
      "In definition 0:\n",
      "    TypingError: numba doesn't support kwarg for min\n",
      "    raised from /Users/ninawiedemann/Desktop/thesis.nosync/power_planner/powerenv/lib/python3.7/site-packages/numba/typing/npydecl.py:402\n",
      "In definition 1:\n",
      "    TypingError: numba doesn't support kwarg for min\n",
      "    raised from /Users/ninawiedemann/Desktop/thesis.nosync/power_planner/powerenv/lib/python3.7/site-packages/numba/typing/npydecl.py:402\n",
      "This error is usually caused by passing an argument of a type that is unsupported by the named function.\n",
      "[1] During: resolving callee type: Function(<function amin at 0x1148a3320>)\n",
      "[2] During: typing of call at <ipython-input-49-f5409f320114> (54)\n",
      "\n",
      "\n",
      "File \"<ipython-input-49-f5409f320114>\", line 54:\n",
      "def compute_dists(n_iters, shifts, test_example, start_inds, dest_inds, angles_all, angle_weight=0.5):\n",
      "    <source elided>\n",
      "            # 28 x 10 x 10 + 28 angles + 10 x 10\n",
      "            weighted_costs_shifted = np.min(together, axis=0)\n",
      "            ^\n",
      "\n",
      "  @jit\n",
      "<ipython-input-49-f5409f320114>:1: NumbaWarning: \n",
      "Compilation is falling back to object mode WITHOUT looplifting enabled because Function \"compute_dists\" failed type inference due to: cannot determine Numba type of <class 'numba.dispatcher.LiftedLoop'>\n",
      "\n",
      "File \"<ipython-input-49-f5409f320114>\", line 18:\n",
      "def compute_dists(n_iters, shifts, test_example, start_inds, dest_inds, angles_all, angle_weight=0.5):\n",
      "    <source elided>\n",
      "    # print(angles_all)\n",
      "    for j in range(n_iters):\n",
      "    ^\n",
      "\n",
      "  @jit\n",
      "/Users/ninawiedemann/Desktop/thesis.nosync/power_planner/powerenv/lib/python3.7/site-packages/numba/object_mode_passes.py:178: NumbaWarning: Function \"compute_dists\" was compiled in object mode without forceobj=True, but has lifted loops.\n",
      "\n",
      "File \"<ipython-input-49-f5409f320114>\", line 4:\n",
      "def compute_dists(n_iters, shifts, test_example, start_inds, dest_inds, angles_all, angle_weight=0.5):\n",
      "    <source elided>\n",
      "    # weights = [0.5,0.5]\n",
      "    min_angle= 1 / 4 # TODO\n",
      "    ^\n",
      "\n",
      "  state.func_ir.loc))\n",
      "/Users/ninawiedemann/Desktop/thesis.nosync/power_planner/powerenv/lib/python3.7/site-packages/numba/object_mode_passes.py:188: NumbaDeprecationWarning: \n",
      "Fall-back from the nopython compilation path to the object mode compilation path has been detected, this is deprecated behaviour.\n",
      "\n",
      "For more information visit http://numba.pydata.org/numba-doc/latest/reference/deprecation.html#deprecation-of-object-mode-fall-back-behaviour-when-using-jit\n",
      "\n",
      "File \"<ipython-input-49-f5409f320114>\", line 4:\n",
      "def compute_dists(n_iters, shifts, test_example, start_inds, dest_inds, angles_all, angle_weight=0.5):\n",
      "    <source elided>\n",
      "    # weights = [0.5,0.5]\n",
      "    min_angle= 1 / 4 # TODO\n",
      "    ^\n",
      "\n",
      "  state.func_ir.loc))\n",
      "<ipython-input-49-f5409f320114>:1: NumbaWarning: \n",
      "Compilation is falling back to object mode WITHOUT looplifting enabled because Function \"compute_dists\" failed type inference due to: Invalid use of Function(<function amin at 0x1148a3320>) with argument(s) of type(s): (array(float64, 3d, C), axis=Literal[int](0))\n",
      " * parameterized\n",
      "In definition 0:\n",
      "    TypingError: numba doesn't support kwarg for min\n",
      "    raised from /Users/ninawiedemann/Desktop/thesis.nosync/power_planner/powerenv/lib/python3.7/site-packages/numba/typing/npydecl.py:402\n",
      "In definition 1:\n",
      "    TypingError: numba doesn't support kwarg for min\n",
      "    raised from /Users/ninawiedemann/Desktop/thesis.nosync/power_planner/powerenv/lib/python3.7/site-packages/numba/typing/npydecl.py:402\n",
      "This error is usually caused by passing an argument of a type that is unsupported by the named function.\n",
      "[1] During: resolving callee type: Function(<function amin at 0x1148a3320>)\n",
      "[2] During: typing of call at <ipython-input-49-f5409f320114> (54)\n",
      "\n",
      "\n",
      "File \"<ipython-input-49-f5409f320114>\", line 54:\n",
      "def compute_dists(n_iters, shifts, test_example, start_inds, dest_inds, angles_all, angle_weight=0.5):\n",
      "    <source elided>\n",
      "            # 28 x 10 x 10 + 28 angles + 10 x 10\n",
      "            weighted_costs_shifted = np.min(together, axis=0)\n",
      "            ^\n",
      "\n",
      "  @jit\n",
      "/Users/ninawiedemann/Desktop/thesis.nosync/power_planner/powerenv/lib/python3.7/site-packages/numba/object_mode_passes.py:178: NumbaWarning: Function \"compute_dists\" was compiled in object mode without forceobj=True.\n",
      "\n",
      "File \"<ipython-input-49-f5409f320114>\", line 18:\n",
      "def compute_dists(n_iters, shifts, test_example, start_inds, dest_inds, angles_all, angle_weight=0.5):\n",
      "    <source elided>\n",
      "    # print(angles_all)\n",
      "    for j in range(n_iters):\n",
      "    ^\n",
      "\n",
      "  state.func_ir.loc))\n",
      "/Users/ninawiedemann/Desktop/thesis.nosync/power_planner/powerenv/lib/python3.7/site-packages/numba/object_mode_passes.py:188: NumbaDeprecationWarning: \n",
      "Fall-back from the nopython compilation path to the object mode compilation path has been detected, this is deprecated behaviour.\n",
      "\n",
      "For more information visit http://numba.pydata.org/numba-doc/latest/reference/deprecation.html#deprecation-of-object-mode-fall-back-behaviour-when-using-jit\n",
      "\n",
      "File \"<ipython-input-49-f5409f320114>\", line 18:\n",
      "def compute_dists(n_iters, shifts, test_example, start_inds, dest_inds, angles_all, angle_weight=0.5):\n",
      "    <source elided>\n",
      "    # print(angles_all)\n",
      "    for j in range(n_iters):\n",
      "    ^\n",
      "\n",
      "  state.func_ir.loc))\n"
     ]
    },
    {
     "name": "stdout",
     "output_type": "stream",
     "text": [
      "opt inf\n"
     ]
    }
   ],
   "source": [
    "# def my_path_computation(n_iters, shifts, test_example, start_inds, dest_inds, weights = [0.5, 1]):\n",
    "shifts_ab = get_half_donut(3,5, dest_inds-start_inds, angle_max = 0.5*np.pi)\n",
    "angles_all = np.zeros((len(shifts_ab), len(shifts_ab)))\n",
    "for i in range(len(shifts_ab)):\n",
    "    angles_all[i] = [angle(s, shifts_ab[i]) for s in shifts_ab]\n",
    "angles_all = angles_all/(np.pi*0.5)\n",
    "angles_all[angles_all>1] = np.inf\n",
    "dists_ab, dists_argmin_ab = compute_dists(50, shifts_ab, test_example, start_inds, dest_inds, angles_all)\n",
    "\n",
    "# todo for numba:\n",
    "# angles weg\n",
    "# time.time\n",
    "# moveaxis and swapaxes"
   ]
  },
  {
   "cell_type": "code",
   "execution_count": 45,
   "metadata": {},
   "outputs": [],
   "source": [
    "@jit\n",
    "def nump(arr):\n",
    "    return np.swapaxes(arr, 1, 0)"
   ]
  },
  {
   "cell_type": "code",
   "execution_count": 46,
   "metadata": {},
   "outputs": [
    {
     "name": "stderr",
     "output_type": "stream",
     "text": [
      "<ipython-input-45-ccc60a4a4ae1>:1: NumbaWarning: \n",
      "Compilation is falling back to object mode WITH looplifting enabled because Function \"nump\" failed type inference due to: Use of unsupported NumPy function 'numpy.swapaxes' or unsupported use of the function.\n",
      "\n",
      "File \"<ipython-input-45-ccc60a4a4ae1>\", line 3:\n",
      "def nump(arr):\n",
      "    return np.swapaxes(arr, 1, 0)\n",
      "    ^\n",
      "\n",
      "[1] During: typing of get attribute at <ipython-input-45-ccc60a4a4ae1> (3)\n",
      "\n",
      "File \"<ipython-input-45-ccc60a4a4ae1>\", line 3:\n",
      "def nump(arr):\n",
      "    return np.swapaxes(arr, 1, 0)\n",
      "    ^\n",
      "\n",
      "  @jit\n",
      "/Users/ninawiedemann/Desktop/thesis.nosync/power_planner/powerenv/lib/python3.7/site-packages/numba/object_mode_passes.py:178: NumbaWarning: Function \"nump\" was compiled in object mode without forceobj=True.\n",
      "\n",
      "File \"<ipython-input-45-ccc60a4a4ae1>\", line 2:\n",
      "@jit\n",
      "def nump(arr):\n",
      "^\n",
      "\n",
      "  state.func_ir.loc))\n",
      "/Users/ninawiedemann/Desktop/thesis.nosync/power_planner/powerenv/lib/python3.7/site-packages/numba/object_mode_passes.py:188: NumbaDeprecationWarning: \n",
      "Fall-back from the nopython compilation path to the object mode compilation path has been detected, this is deprecated behaviour.\n",
      "\n",
      "For more information visit http://numba.pydata.org/numba-doc/latest/reference/deprecation.html#deprecation-of-object-mode-fall-back-behaviour-when-using-jit\n",
      "\n",
      "File \"<ipython-input-45-ccc60a4a4ae1>\", line 2:\n",
      "@jit\n",
      "def nump(arr):\n",
      "^\n",
      "\n",
      "  state.func_ir.loc))\n"
     ]
    },
    {
     "data": {
      "text/plain": [
       "array([[ 0,  5, 10, 15],\n",
       "       [ 1,  6, 11, 16],\n",
       "       [ 2,  7, 12, 17],\n",
       "       [ 3,  8, 13, 18],\n",
       "       [ 4,  9, 14, 19]])"
      ]
     },
     "execution_count": 46,
     "metadata": {},
     "output_type": "execute_result"
    }
   ],
   "source": [
    "nump(np.arange(20).reshape(4,5))"
   ]
  },
  {
   "cell_type": "code",
   "execution_count": null,
   "metadata": {},
   "outputs": [],
   "source": []
  }
 ],
 "metadata": {
  "kernelspec": {
   "display_name": "Python 3",
   "language": "python",
   "name": "python3"
  },
  "language_info": {
   "codemirror_mode": {
    "name": "ipython",
    "version": 3
   },
   "file_extension": ".py",
   "mimetype": "text/x-python",
   "name": "python",
   "nbconvert_exporter": "python",
   "pygments_lexer": "ipython3",
   "version": "3.7.4"
  }
 },
 "nbformat": 4,
 "nbformat_minor": 4
}
