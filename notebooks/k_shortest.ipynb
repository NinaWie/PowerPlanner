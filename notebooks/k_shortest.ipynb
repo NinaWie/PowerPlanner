{
 "cells": [
  {
   "cell_type": "code",
   "execution_count": null,
   "metadata": {},
   "outputs": [],
   "source": [
    "from power_planner.utils.utils import get_donut_vals, get_half_donut, get_distance_surface, bresenham_line, rescale, get_lg_donut, angle, normalize\n",
    "from power_planner.plotting import plot_path, plot_path_costs\n",
    "import numpy as np\n",
    "import matplotlib.pyplot as plt\n",
    "import os\n",
    "import pickle\n",
    "import time"
   ]
  },
  {
   "cell_type": "code",
   "execution_count": null,
   "metadata": {},
   "outputs": [],
   "source": [
    "from power_planner import graphs"
   ]
  },
  {
   "cell_type": "code",
   "execution_count": null,
   "metadata": {},
   "outputs": [],
   "source": [
    "instance_path = \"../data/data_dump_5.dat\"\n",
    "with open(instance_path, \"rb\") as infile:\n",
    "    data = pickle.load(infile)\n",
    "(instance, instance_corr, start_inds, dest_inds) = data.data"
   ]
  },
  {
   "cell_type": "code",
   "execution_count": null,
   "metadata": {},
   "outputs": [],
   "source": [
    "min_dist = 3\n",
    "max_dist = 5"
   ]
  },
  {
   "cell_type": "code",
   "execution_count": null,
   "metadata": {},
   "outputs": [],
   "source": [
    "class TwoPowerBF():\n",
    "    \n",
    "    def __init__(self,\n",
    "        instance,\n",
    "        instance_corr,\n",
    "        graphtool=1,\n",
    "        directed=True,\n",
    "        verbose=1,\n",
    "        n_iters=50,\n",
    "        fill_val=np.inf\n",
    "    ):\n",
    "        self.graph_ab = graphs.PowerBF(instance, instance_corr, graphtool=1, verbose=1)\n",
    "        self.graph_ba = graphs.PowerBF(instance, instance_corr, graphtool=1, verbose=1)\n",
    "\n",
    "    def set_edge_costs(self, layer_classes, class_weights, angle_weight=0.5):\n",
    "        self.graph_ab.set_edge_costs(layer_classes, class_weights, angle_weight=angle_weight)\n",
    "        self.graph_ba.set_edge_costs(layer_classes, class_weights, angle_weight=angle_weight)\n",
    "\n",
    "    def set_shift(self, min_dist, max_dist, vec, max_angle, max_angle_lg):\n",
    "        self.graph_ab.set_shift(min_dist, max_dist, vec, max_angle, max_angle_lg)\n",
    "        self.graph_ba.set_shift(min_dist, max_dist, np.asarray(vec)*(-1), max_angle, max_angle_lg)\n",
    "        \n",
    "    def add_nodes(self):\n",
    "        self.graph_ab.add_nodes()\n",
    "        self.graph_ba.add_nodes()\n",
    "\n",
    "    def set_corridor(self, factor, corridor, start_inds, dest_inds):\n",
    "        self.graph_ab.set_corridor(factor, corridor, start_inds, dest_inds)\n",
    "        self.graph_ba.set_corridor(factor, corridor, dest_inds, start_inds)\n",
    "        \n",
    "    def add_edges(self):\n",
    "        self.graph_ab.add_edges()\n",
    "        self.graph_ba.add_edges()\n",
    "\n",
    "    def get_shortest_path(self, start_inds, dest_inds):\n",
    "        self.path_ab, _, _ = self.graph_ab.get_shortest_path(start_inds, dest_inds)\n",
    "        self.path_ba, _, _ = self.graph_ba.get_shortest_path(dest_inds, start_inds)\n",
    "        assert np.all(np.flip(np.asarray(self.path_ba), axis=0)==self.path_ab)\n",
    "\n",
    "    def best_in_window(self, w_xmin, w_xmax, w_ymin, w_ymax, start_ind, dest_inds, margin=0.05):\n",
    "        \"\"\"\n",
    "        margin: percent that it's allowed to be higher than average\n",
    "        \"\"\"\n",
    "        opt = np.min(self.graph_ab.dists[:, dest_inds[0], dest_inds[1]])\n",
    "                \n",
    "        possible_cs = []\n",
    "        for x in range(w_xmin, w_xmax+1, 1):\n",
    "            for y in range(w_ymin, w_ymax+1, 1):\n",
    "                # todo here: take into account angle directly\n",
    "                added_costs = np.min(self.graph_ab.dists[:, x, y]) +  np.min(self.graph_ba.dists[:, x, y]) - self.graph_ab.instance[x,y]\n",
    "                if added_costs < opt + margin * opt:\n",
    "                    possible_cs.append(np.array([x,y]))\n",
    "        for c in possible_cs:\n",
    "            path_ac = self.graph_ab.get_shortest_path(start_inds, c, ret_only_path=True)\n",
    "            path_cb = self.graph_ba.get_shortest_path(dest_inds, c, ret_only_path=True)\n",
    "            plt.plot(path_ac[:,0], path_ac[:,1])\n",
    "            plt.plot(path_cb[:,0], path_cb[:,1])\n",
    "            plt.show()"
   ]
  },
  {
   "cell_type": "code",
   "execution_count": null,
   "metadata": {},
   "outputs": [],
   "source": [
    "graph = TwoPowerBF(\n",
    "    instance, instance_corr, graphtool=1, verbose=1\n",
    ")\n",
    "\n",
    "graph.set_edge_costs(\n",
    "    data.layer_classes, data.class_weights, angle_weight=0.1\n",
    ")\n",
    "graph.set_shift(min_dist, max_dist, dest_inds-start_inds, 0.5*np.pi, 0.25*np.pi)\n",
    "\n",
    "# add vertices\n",
    "graph.add_nodes()\n",
    "\n",
    "graph.set_corridor(1, None, start_inds, dest_inds)\n",
    "print(\"1) set cost rest\")\n",
    "\n",
    "graph.add_edges()\n"
   ]
  },
  {
   "cell_type": "code",
   "execution_count": null,
   "metadata": {},
   "outputs": [],
   "source": [
    "# get actual best path\n",
    "graph.get_shortest_path(start_inds, dest_inds)\n",
    "print(\"3) shortest path\")"
   ]
  },
  {
   "cell_type": "code",
   "execution_count": null,
   "metadata": {},
   "outputs": [],
   "source": [
    "def get_sp(dists, dists_argmin, start_inds, dest_inds, shifts, min_shift):\n",
    "    if not np.any(dists[:, dest_inds[0], dest_inds[1]] < np.inf):\n",
    "        raise RuntimeWarning(\"empty path\")\n",
    "    curr_point = dest_inds\n",
    "    my_path = [dest_inds]\n",
    "    # min_shift = np.argmin(dists[:, dest_inds[0], dest_inds[1]])\n",
    "    while np.any(curr_point - start_inds):\n",
    "        new_point = curr_point - shifts[int(min_shift)]\n",
    "        min_shift = dists_argmin[int(min_shift), curr_point[0], curr_point[1]]\n",
    "        my_path.append(new_point)\n",
    "        curr_point = new_point\n",
    "    return np.asarray(my_path)\n",
    "\n",
    "def best_in_window(two_power_obj, w_xmin, w_xmax, w_ymin, w_ymax, start_ind, dest_inds, margin=0.05):\n",
    "    \"\"\"\n",
    "    margin: percent that it's allowed to be higher than average\n",
    "    \"\"\"\n",
    "    opt = np.min(two_power_obj.graph_ab.dists[:, dest_inds[0], dest_inds[1]])\n",
    "\n",
    "    ang_weight = two_power_obj.graph_ba.angle_weight\n",
    "    ang_norm_factor = two_power_obj.graph_ba.angle_norm_factor\n",
    "            \n",
    "    possible_cs = []\n",
    "    c_path_cost = []\n",
    "    possible_shifts = []\n",
    "            \n",
    "    for x in range(w_xmin, w_xmax+1, 1):\n",
    "        for y in range(w_ymin, w_ymax+1, 1):\n",
    "            # todo here: take into account angle directly\n",
    "            cell_val = two_power_obj.graph_ab.instance[x,y]\n",
    "            if cell_val < np.inf:\n",
    "                min_costs = np.inf\n",
    "                min_shifts = [0,0]\n",
    "                for s1 in range(len(two_power_obj.graph_ab.shifts)):\n",
    "                    for s2 in range(len(two_power_obj.graph_ab.shifts)):\n",
    "                        val_ab = two_power_obj.graph_ab.dists[s1, x, y]\n",
    "                        shift_ab = two_power_obj.graph_ab.shifts[s1]\n",
    "                        val_ba = two_power_obj.graph_ba.dists[s2, x, y]\n",
    "                        shift_ba = two_power_obj.graph_ba.shifts[s2]\n",
    "                        ang = angle(np.asarray(shift_ab), np.asarray(shift_ba)*(-1))\n",
    "                        added_costs = val_ab + val_ba - cell_val + ang_weight * ang / ang_norm_factor\n",
    "                        if added_costs < min_costs:\n",
    "                            min_costs = added_costs\n",
    "                            min_shifts = [s1, s2]\n",
    "                possible_shifts.append(min_shifts)\n",
    "                added_costs = min_costs # np.min(two_power_obj.graph_ab.dists[:, x, y]) +  np.min(two_power_obj.graph_ba.dists[:, x, y]) - two_power_obj.graph_ab.instance[x,y]\n",
    "            else:\n",
    "                possible_shifts.append([0,0])\n",
    "                added_costs = np.inf\n",
    "            possible_cs.append(np.array([x,y]))\n",
    "            c_path_cost.append(min_costs)\n",
    "            \n",
    "    # get best one\n",
    "    best_c = np.argmin(c_path_cost)\n",
    "    print(best_c)\n",
    "    c = possible_cs[best_c]\n",
    "    s1, s2 = possible_shifts[best_c]\n",
    "    # stick together the path\n",
    "    path_ac = get_sp(two_power_obj.graph_ab.dists, two_power_obj.graph_ab.dists_argmin, start_inds, c, two_power_obj.graph_ab.shifts, s1)\n",
    "    path_cb = get_sp(two_power_obj.graph_ba.dists, two_power_obj.graph_ba.dists_argmin, dest_inds, c, two_power_obj.graph_ba.shifts, s2)\n",
    "    # path_ac = two_power_obj.graph_ab.get_shortest_path(start_inds, c, ret_only_path=True)\n",
    "    # path_cb = two_power_obj.graph_ba.get_shortest_path(dest_inds, c, ret_only_path=True)\n",
    "    # return concatenated path and new costs\n",
    "    print(opt, c_path_cost[best_c], c)\n",
    "    together = np.concatenate((np.flip(np.array(path_ac), axis=0), np.array(path_cb)), axis=0)\n",
    "    plt.plot(path_ac[:,0], path_ac[:,1])\n",
    "    plt.plot(path_cb[:,0], path_cb[:,1])\n",
    "    plt.show()\n",
    "    return together\n",
    "    "
   ]
  },
  {
   "cell_type": "code",
   "execution_count": null,
   "metadata": {},
   "outputs": [],
   "source": [
    "new_path = best_in_window(graph, 70,75, 185, 190, start_inds, dest_inds, margin = 0.2)"
   ]
  },
  {
   "cell_type": "code",
   "execution_count": null,
   "metadata": {
    "scrolled": true
   },
   "outputs": [],
   "source": [
    "path = np.array(graph.path_ab)\n",
    "plt.figure(figsize=(20,10))\n",
    "plt.imshow(np.swapaxes(graph.graph_ab.instance,1,0))\n",
    "plt.plot(path[:,0], path[:,1],color=\"yellow\")\n",
    "plt.plot(new_path[:,0], new_path[:,1],color=\"orange\")\n",
    "plt.show()"
   ]
  },
  {
   "cell_type": "code",
   "execution_count": null,
   "metadata": {},
   "outputs": [],
   "source": [
    "class BFangleKSP():\n",
    "    \n",
    "    def __init__(self, bf_graph):\n",
    "        self.graph = bf_graph\n",
    "        self.dists_ab = bf_graph.dists.copy()\n",
    "        self.dists_argmin_ab = bf_graph.dists_argmin.copy()\n",
    "        self.path_ab = bf_graph.best_path\n",
    "        \n",
    "    def add_ba(self):\n",
    "        graph.shifts = np.array(self.graph.shifts) * (-1)\n",
    "        # set dists to zero\n",
    "        self.graph.add_nodes()\n",
    "        # set dists of dest_inds\n",
    "        self.graph.set_corridor(1, None, dest_inds, start_inds)\n",
    "        # compute dists array\n",
    "        self.graph.add_edges()\n",
    "        # save new results\n",
    "        self.dists_ba = self.graph.dists\n",
    "        self.dists_argmin_ba = self.graph.dists_argmin\n",
    "        self.path_ba, _, _ = self.graph.get_shortest_path(dest_inds, start_inds)\n",
    "        assert np.all(np.flip(np.asarray(self.path_ba), axis=0)==self.path_ab)\n",
    "\n",
    "    \n",
    "\n",
    "    # best_in_window(45, 48, 60, 63, dists_ab, dists_ba, dest_inds, test_example)\n",
    "        \n",
    "        \n",
    "    def on_path(self, point, best_path):\n",
    "        point = np.array(point)\n",
    "        return any([not np.any(point-p) for p in best_path])\n",
    "        # test:\n",
    "        # print(on_path(best_path[20], best_path), on_path(best_path[20]+1, best_path))\n",
    "        \n",
    "           \n",
    "    @staticmethod\n",
    "    def get_sp(dists, dists_argmin, start_inds, dest_inds, shifts):\n",
    "        if not np.any(dists[:, dest_inds[0], dest_inds[1]] < np.inf):\n",
    "            raise RuntimeWarning(\"empty path\")\n",
    "        curr_point = dest_inds\n",
    "        my_path = [dest_inds]\n",
    "        min_shift = np.argmin(dists[:, dest_inds[0], dest_inds[1]])\n",
    "        while np.any(curr_point - start_inds):\n",
    "            new_point = curr_point - shifts[int(min_shift)]\n",
    "            min_shift = dists_argmin[int(min_shift), curr_point[0], curr_point[1]]\n",
    "            my_path.append(new_point)\n",
    "            curr_point = new_point\n",
    "        return np.asarray(my_path)"
   ]
  },
  {
   "cell_type": "code",
   "execution_count": null,
   "metadata": {},
   "outputs": [],
   "source": [
    "bf_ang = BFangleKSP(graph)"
   ]
  },
  {
   "cell_type": "code",
   "execution_count": null,
   "metadata": {},
   "outputs": [],
   "source": [
    "bf_ang.add_ba()"
   ]
  },
  {
   "cell_type": "code",
   "execution_count": null,
   "metadata": {},
   "outputs": [],
   "source": [
    "bf_ang.best_in_window(80,90, 140, 150, start_inds, dest_inds)"
   ]
  },
  {
   "cell_type": "code",
   "execution_count": null,
   "metadata": {},
   "outputs": [],
   "source": [
    "g = Graph()"
   ]
  },
  {
   "cell_type": "code",
   "execution_count": null,
   "metadata": {},
   "outputs": [],
   "source": [
    "g.add_vertex(20)"
   ]
  },
  {
   "cell_type": "code",
   "execution_count": null,
   "metadata": {},
   "outputs": [],
   "source": [
    "for e in range(5,15):\n",
    "    print(e,e+1)\n",
    "    g.add_edge(e,e+1)"
   ]
  },
  {
   "cell_type": "code",
   "execution_count": null,
   "metadata": {},
   "outputs": [],
   "source": [
    "dists,preds = shortest_distance(g, 10, pred_map=True) # dist_map mitgeben wird nicht überschrieben!\n",
    "# dists of a nonexistant vertex is 0!"
   ]
  },
  {
   "cell_type": "code",
   "execution_count": null,
   "metadata": {},
   "outputs": [],
   "source": [
    "dists[5]"
   ]
  },
  {
   "cell_type": "code",
   "execution_count": null,
   "metadata": {},
   "outputs": [],
   "source": [
    "g.set_reversed(is_reversed=True)"
   ]
  },
  {
   "cell_type": "markdown",
   "metadata": {},
   "source": [
    "## with graph-tool"
   ]
  },
  {
   "cell_type": "code",
   "execution_count": null,
   "metadata": {},
   "outputs": [],
   "source": [
    "from graph_tool.all import *"
   ]
  },
  {
   "cell_type": "code",
   "execution_count": null,
   "metadata": {},
   "outputs": [],
   "source": [
    "graph = Graph(directed=True)\n",
    "graph.add_vertex(40)\n",
    "for i in range(20): # np.random.randint(0,40,50):\n",
    "    second = np.random.randint(0,40,10)\n",
    "    for s in second:\n",
    "        graph.add_edge(i,s)"
   ]
  },
  {
   "cell_type": "code",
   "execution_count": null,
   "metadata": {},
   "outputs": [],
   "source": [
    "[v for v in graph.vertex(5).out_edges()]"
   ]
  },
  {
   "cell_type": "code",
   "execution_count": null,
   "metadata": {},
   "outputs": [],
   "source": [
    "source = 5\n",
    "target=3"
   ]
  },
  {
   "cell_type": "code",
   "execution_count": null,
   "metadata": {},
   "outputs": [],
   "source": [
    "vertices, _ = shortest_path(\n",
    "                graph,\n",
    "                source,\n",
    "                target\n",
    "            )"
   ]
  },
  {
   "cell_type": "code",
   "execution_count": null,
   "metadata": {},
   "outputs": [],
   "source": [
    "vertices"
   ]
  },
  {
   "cell_type": "code",
   "execution_count": null,
   "metadata": {},
   "outputs": [],
   "source": [
    "3-18-5  5-2-3"
   ]
  },
  {
   "cell_type": "code",
   "execution_count": null,
   "metadata": {},
   "outputs": [],
   "source": [
    "dist_map_ab, pred_map_ab = shortest_distance(\n",
    "                graph,\n",
    "                source,\n",
    "                pred_map=True\n",
    "            )"
   ]
  },
  {
   "cell_type": "code",
   "execution_count": null,
   "metadata": {},
   "outputs": [],
   "source": [
    "dist_map_ab[target], pred_map_ab[target]"
   ]
  },
  {
   "cell_type": "code",
   "execution_count": null,
   "metadata": {},
   "outputs": [],
   "source": [
    "graph.set_reversed(is_reversed=True)"
   ]
  },
  {
   "cell_type": "code",
   "execution_count": null,
   "metadata": {},
   "outputs": [],
   "source": [
    "dist_map_ba, pred_map_ba = shortest_distance(\n",
    "        graph,\n",
    "        target,\n",
    "    pred_map = True\n",
    "    )"
   ]
  },
  {
   "cell_type": "code",
   "execution_count": null,
   "metadata": {},
   "outputs": [],
   "source": [
    "dist_map_ba[source], pred_map_ba[source]"
   ]
  },
  {
   "cell_type": "code",
   "execution_count": null,
   "metadata": {},
   "outputs": [],
   "source": [
    "def get_sp_from_preds(pred_map, curr_vertex, start_vertex):\n",
    "    path = [curr_vertex]\n",
    "    while curr_vertex != start_vertex:\n",
    "        curr_vertex = pred_map[curr_vertex]\n",
    "        path.append(curr_vertex)\n",
    "    return path"
   ]
  },
  {
   "cell_type": "code",
   "execution_count": null,
   "metadata": {},
   "outputs": [],
   "source": [
    "get_sp_from_preds(pred_map_ba, source, target)"
   ]
  },
  {
   "cell_type": "code",
   "execution_count": null,
   "metadata": {},
   "outputs": [],
   "source": [
    "shifts = get_half_donut(3,5,[1,0])\n",
    "np.asarray(shifts)"
   ]
  },
  {
   "cell_type": "code",
   "execution_count": null,
   "metadata": {},
   "outputs": [],
   "source": [
    "get_sp_from_preds(pred_map_ab, target, source)"
   ]
  },
  {
   "cell_type": "code",
   "execution_count": null,
   "metadata": {},
   "outputs": [],
   "source": [
    "a = [[1,2],[3,4]]\n",
    "a.reverse()"
   ]
  },
  {
   "cell_type": "code",
   "execution_count": null,
   "metadata": {},
   "outputs": [],
   "source": [
    "a"
   ]
  },
  {
   "cell_type": "code",
   "execution_count": null,
   "metadata": {},
   "outputs": [],
   "source": [
    "def best_in_window(\n",
    "        graph,\n",
    "        w_xmin,\n",
    "        w_xmax,\n",
    "        w_ymin,\n",
    "        w_ymax,\n",
    "        source,\n",
    "        dest,\n",
    "        margin=0.05\n",
    "    ):\n",
    "    for x in range(w_xmin, w_xmax + 1, 1):\n",
    "        for y in range(w_ymin, w_ymax + 1, 1):\n",
    "            v = pos2node[x,y]\n",
    "            # get dists_map_ab[v]\n",
    "            # get_sp_from_preds(pred_map_ba, source, target)"
   ]
  },
  {
   "cell_type": "code",
   "execution_count": null,
   "metadata": {},
   "outputs": [],
   "source": [
    "path = \"../../outputs/scenarios/path_scenario\"\n",
    "\n",
    "plt.figure(figsize=(20,10))\n",
    "for i, img_name in enumerate([\"1.png\", \"2.png\", \"3.png\"]):\n",
    "    img = plt.imread(path+img_name)\n",
    "    plt.subplot(1,3,i+1)\n",
    "    plt.imshow(img[40:, 25:])\n",
    "    plt.axis(\"off\")\n",
    "    plt.title(\"scenario \"+img_name[0], fontsize=20)\n",
    "plt.savefig(path+\".pdf\")\n",
    "plt.show()"
   ]
  },
  {
   "cell_type": "code",
   "execution_count": null,
   "metadata": {},
   "outputs": [],
   "source": [
    "import json\n",
    "with open(\"../../outputs/path_kshortest_ksp.json\", \"r\") as outfile:\n",
    "    ksp = json.load(outfile)\n",
    "    "
   ]
  },
  {
   "cell_type": "code",
   "execution_count": null,
   "metadata": {},
   "outputs": [],
   "source": [
    "ksp[0]"
   ]
  },
  {
   "cell_type": "code",
   "execution_count": null,
   "metadata": {},
   "outputs": [],
   "source": [
    "costs = [k[2] for k in ksp]\n",
    "print(costs)"
   ]
  },
  {
   "cell_type": "code",
   "execution_count": null,
   "metadata": {},
   "outputs": [],
   "source": [
    "paths = [k[0] for k in ksp]"
   ]
  },
  {
   "cell_type": "code",
   "execution_count": null,
   "metadata": {},
   "outputs": [],
   "source": [
    "plt.figure(figsize=(10,20))\n",
    "plt.imshow(np.swapaxes(np.mean(instance, axis=0), 1, 0))\n",
    "# plt.imshow(np.swapaxes(instance[1:], 2,0), vmin=0, vmax=0.2)\n",
    "for i, path in enumerate(paths):\n",
    "    path = np.asarray(path)\n",
    "    plt.plot(path[:,0], path[:,1], label=str(round(costs[i], 2)), linewidth=3)\n",
    "\n",
    "leg = plt.legend(fontsize=15)\n",
    "leg.set_title('Costs',prop={'size':15})\n",
    "# plt.legend(title=\"costs\", fontsize=15, )\n",
    "plt.axis(\"off\")\n",
    "plt.savefig(\"k_shortest.pdf\")\n",
    "plt.show()"
   ]
  },
  {
   "cell_type": "code",
   "execution_count": null,
   "metadata": {},
   "outputs": [],
   "source": [
    " def k_shortest_paths(self, source, dest, k, overlap=0.5, mode=\"myset\"):\n",
    "        tic = time.time()\n",
    "        # initialize list of paths\n",
    "        sp_set = set(self.best_path)\n",
    "        best_paths = [self.best_path]\n",
    "        best_path_sets = [set(self.best_path)]\n",
    "        # get list of vertices = unique values in pos2node except -1\n",
    "        vertices = np.unique(self.pos2node)[1:]\n",
    "        v_dists = [self.dist_map_ab[v] + self.dist_map_ba[v] for v in vertices]\n",
    "        # sort paths\n",
    "        v_shortest = np.argsort(v_dists)\n",
    "        # iterate over vertices starting from shortest paths\n",
    "        # times_getpath = []\n",
    "        for j, v_ind in enumerate(v_shortest):\n",
    "            v = vertices[v_ind]\n",
    "            # TODO: for runtime scan only every xth one (anyways diverse)\n",
    "            if v not in sp_set:\n",
    "                # do not scan unreachable vertices\n",
    "                if int(self.pred_map_ab[v]\n",
    "                       ) == int(v) or int(self.pred_map_ba[v]) == int(v):\n",
    "                    continue\n",
    "                # tic1 = time.time()\n",
    "                try:\n",
    "                    path_ac = self.get_sp_from_preds(\n",
    "                        self.pred_map_ab, v, source\n",
    "                    )\n",
    "                    path_cb = self.get_sp_from_preds(self.pred_map_ba, v, dest)\n",
    "                except RuntimeWarning:\n",
    "                    print(\"while loop not terminating\")\n",
    "                    continue\n",
    "                # times_getpath.append(time.time() - tic1)\n",
    "                path_ac.reverse()\n",
    "                # concatenate - leave 1 away because otherwise twice\n",
    "                vertices_path = path_ac + path_cb[1:]\n",
    "\n",
    "                # similar = similarity(vertices_path, best_paths, sp_set)\n",
    "                if mode != \"myset\":\n",
    "                    sofar = np.array(\n",
    "                        [\n",
    "                            WeightedKSP.similarity(\n",
    "                                sp, set(vertices_path), mode\n",
    "                            ) for sp in best_path_sets\n",
    "                        ]\n",
    "                    )\n",
    "                    if np.all(sofar < overlap):\n",
    "                        best_paths.append(vertices_path)\n",
    "                        best_path_sets.append(set(vertices_path))\n",
    "                # mode myset --> my version: set of all paths together\n",
    "                else:\n",
    "                    already = np.array([u in sp_set for u in vertices_path])\n",
    "                    if np.sum(already) < len(already) * overlap:\n",
    "                        best_paths.append(vertices_path)\n",
    "                        sp_set.update(vertices_path)\n",
    "                    # print(\"added path, already scanned\", j)\n",
    "            # stop if k paths are sampled\n",
    "            if len(best_paths) >= k:\n",
    "                break\n",
    "\n",
    "        self.time_logs[\"ksp\"] = round(time.time() - tic, 3)\n",
    "        return [self.transform_path(p) for p in best_paths]"
   ]
  }
 ],
 "metadata": {
  "kernelspec": {
   "display_name": "Python 3",
   "language": "python",
   "name": "python3"
  },
  "language_info": {
   "codemirror_mode": {
    "name": "ipython",
    "version": 3
   },
   "file_extension": ".py",
   "mimetype": "text/x-python",
   "name": "python",
   "nbconvert_exporter": "python",
   "pygments_lexer": "ipython3",
   "version": "3.8.2"
  }
 },
 "nbformat": 4,
 "nbformat_minor": 4
}
