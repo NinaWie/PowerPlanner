{
 "cells": [
  {
   "cell_type": "code",
   "execution_count": 1,
   "metadata": {},
   "outputs": [],
   "source": [
    "import os\n",
    "import pickle\n",
    "import time\n",
    "import numpy as np\n",
    "import json\n",
    "import matplotlib.pyplot as plt\n",
    "from types import SimpleNamespace\n",
    "from numba import jit\n",
    "from numba.typed import List\n",
    "\n",
    "# utils imports\n",
    "from power_planner.data_reader import DataReader\n",
    "from power_planner import graphs\n",
    "from power_planner.plotting import plot_path_costs, plot_pipeline_paths, plot_path, plot_k_sp\n",
    "from power_planner.utils.utils import get_distance_surface, time_test_csv, compute_pylon_dists, angle\n",
    "from power_planner.utils.utils import get_half_donut\n"
   ]
  },
  {
   "cell_type": "code",
   "execution_count": 2,
   "metadata": {},
   "outputs": [
    {
     "name": "stdout",
     "output_type": "stream",
     "text": [
      "graph type: <class 'power_planner.graphs.implicit_lg.ImplicitLG'>\n",
      "defined pylon distances in raster: 7.5 12.5\n"
     ]
    }
   ],
   "source": [
    "PATH_FILES = \"../data\"\n",
    "\n",
    "# DEFINE CONFIGURATION\n",
    "ID = \"w_ksp_5\"  # str(round(time.time() / 60))[-5:]\n",
    "\n",
    "OUT_PATH = \"outputs/path_\" + ID\n",
    "SCALE_PARAM = 2  # args.scale\n",
    "# normal graph pipeline\n",
    "# PIPELINE = [(2, 50), (1, 0)]  # [(1, 0)]  # [(4, 80), (2, 50), (1, 0)]  #\n",
    "# random graph pipeline\n",
    "PIPELINE = [(1, 0)]  # [(0.9, 40), (0, 0)]\n",
    "\n",
    "GRAPH_TYPE = graphs.ImplicitLG\n",
    "# LineGraph, WeightedGraph, RandomWeightedGraph, RandomLineGraph, PowerBF\n",
    "# TwoPowerBF, WeightedKSP\n",
    "print(\"graph type:\", GRAPH_TYPE)\n",
    "# summarize: mean/max/min, remove: all/surrounding, sample: simple/watershed\n",
    "NOTES = \"None\"  # \"mean-all-simple\"\n",
    "\n",
    "IOPATH = os.path.join(PATH_FILES, \"data_dump_\" + str(SCALE_PARAM) + \".dat\")\n",
    "\n",
    "with open(\"../config.json\", \"r\") as infile:\n",
    "    cfg_dict = json.load(infile)  # Config(SCALE_PARAM)\n",
    "    cfg = SimpleNamespace(**cfg_dict)\n",
    "    cfg.PYLON_DIST_MIN, cfg.PYLON_DIST_MAX = compute_pylon_dists(\n",
    "        cfg.PYLON_DIST_MIN, cfg.PYLON_DIST_MAX, cfg.RASTER, SCALE_PARAM\n",
    "    )"
   ]
  },
  {
   "cell_type": "code",
   "execution_count": 3,
   "metadata": {},
   "outputs": [],
   "source": [
    "# READ DATA\n",
    "with open(IOPATH, \"rb\") as infile:\n",
    "    data = pickle.load(infile)\n",
    "    (instance, instance_corr, start_inds, dest_inds) = data.data"
   ]
  },
  {
   "cell_type": "code",
   "execution_count": 14,
   "metadata": {},
   "outputs": [
    {
     "name": "stdout",
     "output_type": "stream",
     "text": [
      "cost weights [0.09090909 0.25974026 0.32467532 0.12987013 0.19480519]\n",
      "instance shape (368, 649)\n",
      "memory taken (dists shape): 35347136\n",
      "----------- PIPELINE 1 0 ---------------\n",
      "1) set cost rest\n"
     ]
    }
   ],
   "source": [
    "graph = GRAPH_TYPE(\n",
    "    instance, instance_corr, graphtool=cfg.GTNX, verbose=cfg.VERBOSE\n",
    ")\n",
    "\n",
    "graph.set_shift(\n",
    "    cfg.PYLON_DIST_MIN,\n",
    "    cfg.PYLON_DIST_MAX,\n",
    "    dest_inds - start_inds,\n",
    "    1.5,\n",
    "    max_angle_lg=cfg.MAX_ANGLE_LG\n",
    ")\n",
    "graph.set_edge_costs(\n",
    "    data.layer_classes, data.class_weights, angle_weight=cfg.ANGLE_WEIGHT\n",
    ")\n",
    "\n",
    "# add vertices\n",
    "graph.add_nodes()\n",
    "\n",
    "# START PIPELINE\n",
    "tic = time.time()\n",
    "corridor = np.ones(instance_corr.shape) * 0.5  # start with all\n",
    "output_paths = []\n",
    "plot_surfaces = []\n",
    "time_infos = []\n",
    "\n",
    "for (factor, dist) in PIPELINE:\n",
    "    print(\"----------- PIPELINE\", factor, dist, \"---------------\")\n",
    "    graph.set_corridor(corridor, start_inds, dest_inds, factor_or_n_edges=factor)\n",
    "    print(\"1) set cost rest\")"
   ]
  },
  {
   "cell_type": "code",
   "execution_count": 97,
   "metadata": {},
   "outputs": [
    {
     "name": "stdout",
     "output_type": "stream",
     "text": [
      "time 19.101288080215454\n"
     ]
    }
   ],
   "source": [
    "tic = time.time()\n",
    "graph.add_edges()\n",
    "print(\"time\", time.time()-tic)"
   ]
  },
  {
   "cell_type": "code",
   "execution_count": 98,
   "metadata": {},
   "outputs": [],
   "source": [
    "path_orig, costs_orig, sum_orig = graph.get_shortest_path(start_inds, dest_inds)"
   ]
  },
  {
   "cell_type": "code",
   "execution_count": 99,
   "metadata": {},
   "outputs": [],
   "source": [
    "path_orig = np.asarray(path_orig)"
   ]
  },
  {
   "cell_type": "markdown",
   "metadata": {},
   "source": [
    "## Topological sorting"
   ]
  },
  {
   "cell_type": "code",
   "execution_count": 15,
   "metadata": {},
   "outputs": [],
   "source": [
    "@jit(nopython=True)\n",
    "def topological_sort_jit(v_x, v_y, shifts, visited, stack): \n",
    "    # Mark the current node as visited. \n",
    "    visited[v_x, v_y] = 0\n",
    "    \n",
    "    # Recur for all the vertices adjacent to this vertex \n",
    "    for s in shifts:\n",
    "        neigh_x = v_x + s[0]\n",
    "        neigh_y = v_y + s[1]\n",
    "        # if 0<=neigh_x<visited.shape[0] and 0<=neigh_y<visited.shape[1]:\n",
    "        if visited[neigh_x, neigh_y] == 1:\n",
    "            topological_sort_jit(neigh_x, neigh_y, shifts,visited,stack) \n",
    "\n",
    "    # Push current vertex to stack which stores result\n",
    "    l = List()\n",
    "    l.append(v_x)\n",
    "    l.append(v_y)\n",
    "    stack.append(l)\n",
    "    return stack\n",
    "\n",
    "@jit(nopython=True)\n",
    "def del_after_dest(stack, d_x, d_y):\n",
    "    for i in range(len(stack)):\n",
    "        if stack[i][0]==d_x and stack[i][1]==d_y:\n",
    "            return stack[i:]"
   ]
  },
  {
   "cell_type": "code",
   "execution_count": 19,
   "metadata": {},
   "outputs": [
    {
     "data": {
      "text/plain": [
       "112163"
      ]
     },
     "execution_count": 19,
     "metadata": {},
     "output_type": "execute_result"
    }
   ],
   "source": [
    "len(stack)"
   ]
  },
  {
   "cell_type": "code",
   "execution_count": 100,
   "metadata": {},
   "outputs": [
    {
     "data": {
      "text/plain": [
       "1.0"
      ]
     },
     "execution_count": 100,
     "metadata": {},
     "output_type": "execute_result"
    }
   ],
   "source": []
  },
  {
   "cell_type": "code",
   "execution_count": 16,
   "metadata": {},
   "outputs": [
    {
     "name": "stdout",
     "output_type": "stream",
     "text": [
      "0.5655620098114014\n"
     ]
    }
   ],
   "source": [
    "# visited = np.zeros(instance_corr.shape)\n",
    "# visited = np.absolute(1-instance_corr)\n",
    "tic = time.time()\n",
    "l = List()\n",
    "inner = List()\n",
    "inner.append(0)\n",
    "inner.append(0)\n",
    "l.append(inner)\n",
    "stack = topological_sort_jit(start_inds[0], start_inds[1], np.asarray(graph.shifts), instance_corr.copy(), l)\n",
    "print(time.time()-tic)\n",
    "# print(stack)"
   ]
  },
  {
   "cell_type": "code",
   "execution_count": 18,
   "metadata": {},
   "outputs": [],
   "source": [
    "stack = del_after_dest(stack, dest_inds[0], dest_inds[1])"
   ]
  },
  {
   "cell_type": "code",
   "execution_count": 114,
   "metadata": {},
   "outputs": [
    {
     "name": "stdout",
     "output_type": "stream",
     "text": [
      "4.584932804107666\n"
     ]
    }
   ],
   "source": [
    "visited = np.zeros(instance_corr.shape)\n",
    "tic = time.time()\n",
    "stack = topological_sort(start_inds, visited, [])\n",
    "print(time.time()-tic)\n",
    "# print(stack)"
   ]
  },
  {
   "cell_type": "code",
   "execution_count": 20,
   "metadata": {},
   "outputs": [
    {
     "data": {
      "text/plain": [
       "<matplotlib.image.AxesImage at 0x1829b7100>"
      ]
     },
     "execution_count": 20,
     "metadata": {},
     "output_type": "execute_result"
    },
    {
     "data": {
      "image/png": "[encoded data removed]",
      "text/plain": [
       "<Figure size 432x288 with 1 Axes>"
      ]
     },
     "metadata": {
      "needs_background": "light"
     },
     "output_type": "display_data"
    }
   ],
   "source": [
    "test = np.zeros(instance_corr.shape)\n",
    "counter = 0\n",
    "for i in range(len(stack)):\n",
    "    s1 = stack[i][0]\n",
    "    s2 = stack[i][1]\n",
    "    test[s1,s2] = counter\n",
    "    counter+=1\n",
    "plt.imshow(test)"
   ]
  },
  {
   "cell_type": "code",
   "execution_count": 6,
   "metadata": {},
   "outputs": [],
   "source": [
    "vec = (dest_inds-start_inds)/np.linalg.norm(dest_inds-start_inds)"
   ]
  },
  {
   "cell_type": "code",
   "execution_count": 7,
   "metadata": {},
   "outputs": [],
   "source": [
    "shifts = get_half_donut(3,5,vec, 1.5)"
   ]
  },
  {
   "cell_type": "code",
   "execution_count": 8,
   "metadata": {},
   "outputs": [],
   "source": [
    "shifts = np.asarray(shifts)"
   ]
  },
  {
   "cell_type": "code",
   "execution_count": 9,
   "metadata": {},
   "outputs": [
    {
     "data": {
      "text/plain": [
       "<matplotlib.image.AxesImage at 0x178821520>"
      ]
     },
     "execution_count": 9,
     "metadata": {},
     "output_type": "execute_result"
    },
    {
     "data": {
      "image/png": "[encoded data removed]",
      "text/plain": [
       "<Figure size 432x288 with 1 Axes>"
      ]
     },
     "metadata": {
      "needs_background": "light"
     },
     "output_type": "display_data"
    }
   ],
   "source": [
    "arr = np.zeros((11,11))\n",
    "for s in shifts:\n",
    "    arr[s[0]+5, s[1]+5] = 1\n",
    "plt.imshow(arr)"
   ]
  },
  {
   "cell_type": "code",
   "execution_count": 27,
   "metadata": {},
   "outputs": [],
   "source": [
    "dists = np.zeros((len(shifts), instance_corr.shape[0], instance_corr.shape[1]))"
   ]
  },
  {
   "cell_type": "code",
   "execution_count": 41,
   "metadata": {},
   "outputs": [],
   "source": [
    "def _precompute_angles():\n",
    "    angles_all = np.zeros((len(shifts), len(shifts)))\n",
    "    for i in range(len(shifts)):\n",
    "        angles_all[i] = [angle(s, shifts[i]) for s in shifts]\n",
    "    angles_all = angles_all / np.pi/2\n",
    "    angles_all[angles_all > 1] = np.inf\n",
    "    return angles_all\n",
    "angles_all = _precompute_angles()"
   ]
  },
  {
   "cell_type": "code",
   "execution_count": 13,
   "metadata": {},
   "outputs": [],
   "source": [
    "@jit(nopython=True)\n",
    "def _update_neighbors(v_x, v_y, shifts, angles_all, dists, dists_argmin, instance):\n",
    "    i = 0\n",
    "    for s in shifts:\n",
    "        neigh_x = v_x + s[0]\n",
    "        neigh_y = v_y + s[1]\n",
    "        if 0<=neigh_x<dists.shape[1] and 0<=neigh_y<dists.shape[2]:\n",
    "            cost_per_angle = dists[:,v_x, v_y] + angles_all[i] + instance[neigh_x, neigh_y] #  * angle_weight\n",
    "            dists[i, neigh_x, neigh_y] = np.min(cost_per_angle)\n",
    "            dists_argmin[i, neigh_x, neigh_y] =  np.argmin(cost_per_angle)\n",
    "        i+=1"
   ]
  },
  {
   "cell_type": "code",
   "execution_count": 14,
   "metadata": {},
   "outputs": [],
   "source": [
    "def add_edges_inner_jit(self, stack):\n",
    "    self.angles_all = self._precompute_angles() * self.angle_weight # TODO: does this give the same result?\n",
    "    # todo: build stack and graph at the same time?\n",
    "    shifts = np.asarray(self.shifts)\n",
    "    for i in range(len(stack)):\n",
    "        v_x, v_y = tuple(stack[-i-1])\n",
    "        _update_neighbors(v_x, v_y, shifts, self.angles_all, self.dists, self.dists_argmin, self.instance)"
   ]
  },
  {
   "cell_type": "code",
   "execution_count": 21,
   "metadata": {},
   "outputs": [],
   "source": [
    "@jit(nopython=True)\n",
    "def add_edges_outer_jit(stack, shifts, angles_all, dists, dists_argmin, instance):\n",
    "    # todo: build stack and graph at the same time?\n",
    "    for i in range(len(stack)):\n",
    "        v_x = stack[-i-1][0]\n",
    "        v_y = stack[-i-1][1]\n",
    "        for s in range(len(shifts)):\n",
    "            neigh_x = v_x + shifts[s][0]\n",
    "            neigh_y = v_y + shifts[s][1]\n",
    "            if 0<=neigh_x<dists.shape[1] and 0<=neigh_y<dists.shape[2]:\n",
    "                cost_per_angle = dists[:,v_x, v_y] + angles_all[s] + instance[neigh_x, neigh_y] #  * angle_weight\n",
    "                dists[s, neigh_x, neigh_y] = np.min(cost_per_angle)\n",
    "                dists_argmin[s, neigh_x, neigh_y] =  np.argmin(cost_per_angle)\n",
    "        #if i%1000==0:\n",
    "         #   print(i, len(stack))\n",
    "    return dists, dists_argmin"
   ]
  },
  {
   "cell_type": "code",
   "execution_count": 22,
   "metadata": {},
   "outputs": [
    {
     "data": {
      "text/plain": [
       "15.841392755508423"
      ]
     },
     "execution_count": 22,
     "metadata": {},
     "output_type": "execute_result"
    }
   ],
   "source": [
    "tic = time.time()\n",
    "graph.dists, graph.dists_argmin = add_edges_outer_jit(stack[1:], np.array(graph.shifts), graph.angle_cost_array, graph.dists, graph.dists_argmin, graph.instance)\n",
    "time.time()-tic"
   ]
  },
  {
   "cell_type": "code",
   "execution_count": null,
   "metadata": {},
   "outputs": [],
   "source": [
    "tic = time.time()\n",
    "add_edges_inner_jit(graph, stack)\n",
    "time.time()-tic"
   ]
  },
  {
   "cell_type": "code",
   "execution_count": 45,
   "metadata": {},
   "outputs": [
    {
     "data": {
      "text/plain": [
       "148"
      ]
     },
     "execution_count": 45,
     "metadata": {},
     "output_type": "execute_result"
    }
   ],
   "source": [
    "len(graph.shifts)"
   ]
  },
  {
   "cell_type": "code",
   "execution_count": 44,
   "metadata": {},
   "outputs": [
    {
     "data": {
      "text/plain": [
       "238832"
      ]
     },
     "execution_count": 44,
     "metadata": {},
     "output_type": "execute_result"
    }
   ],
   "source": [
    "368*649"
   ]
  },
  {
   "cell_type": "code",
   "execution_count": 29,
   "metadata": {},
   "outputs": [
    {
     "name": "stdout",
     "output_type": "stream",
     "text": [
      "1.9728879928588867\n"
     ]
    }
   ],
   "source": [
    "tic = time.time()\n",
    "add_edges_new(graph, stack[1:])\n",
    "print(time.time()-tic)"
   ]
  },
  {
   "cell_type": "code",
   "execution_count": 23,
   "metadata": {},
   "outputs": [
    {
     "data": {
      "text/plain": [
       "<matplotlib.image.AxesImage at 0x180bdac40>"
      ]
     },
     "execution_count": 23,
     "metadata": {},
     "output_type": "execute_result"
    },
    {
     "data": {
      "image/png": "[encoded data removed]",
      "text/plain": [
       "<Figure size 432x288 with 1 Axes>"
      ]
     },
     "metadata": {
      "needs_background": "light"
     },
     "output_type": "display_data"
    }
   ],
   "source": [
    "plt.imshow(np.min(graph.dists,axis=0))"
   ]
  },
  {
   "cell_type": "code",
   "execution_count": 24,
   "metadata": {},
   "outputs": [],
   "source": [
    "path, p_costs, cost_sum = graph.get_shortest_path(start_inds, dest_inds)\n",
    "path = np.asarray(path)"
   ]
  },
  {
   "cell_type": "code",
   "execution_count": 25,
   "metadata": {},
   "outputs": [
    {
     "data": {
      "image/png": "[encoded data removed]",
      "text/plain": [
       "<Figure size 432x288 with 1 Axes>"
      ]
     },
     "metadata": {
      "needs_background": "light"
     },
     "output_type": "display_data"
    }
   ],
   "source": [
    "# plt.plot(path_orig[:,0], path_orig[:,1])\n",
    "plt.plot(path[:,0], path[:,1])\n",
    "plt.show()"
   ]
  },
  {
   "cell_type": "markdown",
   "metadata": {},
   "source": [
    "## Old topological sort from py file:"
   ]
  },
  {
   "cell_type": "code",
   "execution_count": null,
   "metadata": {},
   "outputs": [],
   "source": [
    "    def topological_sort(self, v, visited, stack):\n",
    "        \"\"\"\n",
    "        Sort the vertices by topology\n",
    "        \"\"\"\n",
    "        # Mark the current node as visited.\n",
    "        visited[tuple(v)] = 1\n",
    "\n",
    "        # Recur for all the vertices adjacent to this vertex\n",
    "        for s in self.shifts:\n",
    "            neighbor = v + s\n",
    "            if (\n",
    "                0 <= neighbor[0] < visited.shape[0]\n",
    "                and 0 <= neighbor[1] < visited.shape[1]\n",
    "            ):\n",
    "                if visited[tuple(neighbor)] == 0:\n",
    "                    self.topological_sort(neighbor, visited, stack)\n",
    "\n",
    "        # Push current vertex to stack which stores result\n",
    "        stack.insert(0, v)\n",
    "        return stack"
   ]
  },
  {
   "cell_type": "code",
   "execution_count": null,
   "metadata": {},
   "outputs": [],
   "source": [
    "# topo sort without jit\n",
    "def topological_sort(v,visited,stack): \n",
    "    # Mark the current node as visited. \n",
    "    visited[tuple(v)] = 1\n",
    "\n",
    "    # Recur for all the vertices adjacent to this vertex \n",
    "    for s in shifts: \n",
    "        neighbor = v + s\n",
    "        if 0<=neighbor[0]<visited.shape[0] and 0<=neighbor[1]<visited.shape[1]:\n",
    "            if visited[tuple(neighbor)] == 0:\n",
    "                topological_sort(neighbor,visited,stack) \n",
    "\n",
    "    # Push current vertex to stack which stores result\n",
    "    stack.insert(0,v)\n",
    "    return stack"
   ]
  },
  {
   "cell_type": "code",
   "execution_count": null,
   "metadata": {},
   "outputs": [],
   "source": [
    "# backup\n",
    "def add_edges_new(self, stack):\n",
    "    angles_all = self._precompute_angles()\n",
    "    # todo: build stack and graph at the same time?\n",
    "    for vertex in stack:\n",
    "        v_x, v_y = tuple(vertex)\n",
    "        # todo: use numba here?\n",
    "        for i, s in enumerate(self.shifts):\n",
    "            neigh_x, neigh_y = tuple(vertex + s)\n",
    "            if 0<=neigh_x<self.dists.shape[1] and 0<=neigh_y<self.dists.shape[2]:\n",
    "                cost_per_angle = self.dists[:,v_x, v_y] + angles_all[i] + self.instance[neigh_x, neigh_y] #  * angle_weight\n",
    "                self.dists[i, neigh_x, neigh_y] = np.min(cost_per_angle)\n",
    "                self.dists_argmin[i, neigh_x, neigh_y] =  np.argmin(cost_per_angle)\n",
    "                "
   ]
  }
 ],
 "metadata": {
  "kernelspec": {
   "display_name": "Python 3",
   "language": "python",
   "name": "python3"
  },
  "language_info": {
   "codemirror_mode": {
    "name": "ipython",
    "version": 3
   },
   "file_extension": ".py",
   "mimetype": "text/x-python",
   "name": "python",
   "nbconvert_exporter": "python",
   "pygments_lexer": "ipython3",
   "version": "3.8.2"
  }
 },
 "nbformat": 4,
 "nbformat_minor": 4
}
