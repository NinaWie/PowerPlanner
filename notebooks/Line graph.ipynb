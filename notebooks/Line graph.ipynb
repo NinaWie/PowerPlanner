{
 "cells": [
  {
   "cell_type": "code",
   "execution_count": null,
   "metadata": {},
   "outputs": [],
   "source": [
    "import matplotlib.pyplot as plt\n",
    "import numpy as np\n",
    "import networkx as nx\n",
    "import os\n",
    "from PIL import Image\n",
    "import rasterio\n",
    "import time\n",
    "from graph_tool.all import *"
   ]
  },
  {
   "cell_type": "code",
   "execution_count": null,
   "metadata": {},
   "outputs": [],
   "source": [
    "from power_planner.utils.utils import angle, plot_path, shift_surface"
   ]
  },
  {
   "cell_type": "markdown",
   "metadata": {},
   "source": [
    "## Test graph operations"
   ]
  },
  {
   "cell_type": "code",
   "execution_count": null,
   "metadata": {},
   "outputs": [],
   "source": [
    "g_test = Graph()\n",
    "g_test.add_vertex(20)\n",
    "weight = g_test.new_edge_property(\"float\")\n",
    "edges = []\n",
    "for i in range(3,16):\n",
    "    edges.append([i,i+1, i])\n",
    "g_test.add_edge_list(edges, eprops=[weight])"
   ]
  },
  {
   "cell_type": "code",
   "execution_count": null,
   "metadata": {},
   "outputs": [],
   "source": [
    "edges = [[2,3,1], [16, 17,1]]\n",
    "g_test.add_edge_list(edges)"
   ]
  },
  {
   "cell_type": "code",
   "execution_count": null,
   "metadata": {},
   "outputs": [],
   "source": [
    "v_path, e_path = shortest_path(g_test, g_test.vertex(2), g_test.vertex(17), weights=weight)"
   ]
  },
  {
   "cell_type": "code",
   "execution_count": null,
   "metadata": {
    "scrolled": false
   },
   "outputs": [],
   "source": [
    "for e in e_path:\n",
    "    print(weight[e])"
   ]
  },
  {
   "cell_type": "markdown",
   "metadata": {},
   "source": [
    "### Load everything"
   ]
  },
  {
   "cell_type": "code",
   "execution_count": null,
   "metadata": {},
   "outputs": [],
   "source": [
    "base_path = \"../../outputs/\"\n",
    "graph_name = \"path_01128\""
   ]
  },
  {
   "cell_type": "code",
   "execution_count": null,
   "metadata": {},
   "outputs": [],
   "source": [
    "g = load_graph(base_path+graph_name+\"_graph.xml.gz\")"
   ]
  },
  {
   "cell_type": "code",
   "execution_count": null,
   "metadata": {},
   "outputs": [],
   "source": [
    "w = g.ep.weight"
   ]
  },
  {
   "cell_type": "code",
   "execution_count": null,
   "metadata": {},
   "outputs": [],
   "source": [
    "costs = np.load(base_path+\"cost_rest.npy\")"
   ]
  },
  {
   "cell_type": "code",
   "execution_count": null,
   "metadata": {},
   "outputs": [],
   "source": [
    "pos2node = np.load(base_path+graph_name+\"_pos2node.npy\")"
   ]
  },
  {
   "cell_type": "code",
   "execution_count": null,
   "metadata": {},
   "outputs": [],
   "source": [
    "node_pos = []\n",
    "for i in range(n_vertices):\n",
    "    pos_x, pos_y = np.where(pos2node==i)\n",
    "    node_pos.append((pos_x[0], pos_y[0]))"
   ]
  },
  {
   "cell_type": "code",
   "execution_count": null,
   "metadata": {},
   "outputs": [],
   "source": [
    "n_vertices = len(list(g.vertices()))\n",
    "n_edges = len(list(g.edges()))\n",
    "print(\"size of graph:\", n_vertices, n_edges)"
   ]
  },
  {
   "cell_type": "markdown",
   "metadata": {},
   "source": [
    "### Tests for correctness"
   ]
  },
  {
   "cell_type": "code",
   "execution_count": null,
   "metadata": {},
   "outputs": [],
   "source": [
    "plt.imshow(pos2node)\n",
    "plt.colorbar()\n",
    "plt.show()"
   ]
  },
  {
   "cell_type": "code",
   "execution_count": null,
   "metadata": {},
   "outputs": [],
   "source": [
    "plt.imshow(costs)\n",
    "plt.show()"
   ]
  },
  {
   "cell_type": "code",
   "execution_count": null,
   "metadata": {},
   "outputs": [],
   "source": [
    "v1 = g.vertex(pos2node[40,20])"
   ]
  },
  {
   "cell_type": "code",
   "execution_count": null,
   "metadata": {},
   "outputs": [],
   "source": [
    "for n in v1.out_neighbors():\n",
    "    v_ind = g.vertex_index[n]\n",
    "    pos_x, pos_y = np.where(pos2node==v_ind)\n",
    "    print(pos_x[0], pos_y[0])\n",
    "    print(w[g.edge(v1, v_ind)])"
   ]
  },
  {
   "cell_type": "markdown",
   "metadata": {},
   "source": [
    "### Define line graph and helper arrays"
   ]
  },
  {
   "cell_type": "code",
   "execution_count": null,
   "metadata": {},
   "outputs": [],
   "source": [
    "g_line = Graph()"
   ]
  },
  {
   "cell_type": "code",
   "execution_count": null,
   "metadata": {},
   "outputs": [],
   "source": [
    "_ = g_line.add_vertex(n_edges)"
   ]
  },
  {
   "cell_type": "code",
   "execution_count": null,
   "metadata": {},
   "outputs": [],
   "source": [
    "# not necessary!\n",
    "edge_mapping = []\n",
    "for e in g.edges():\n",
    "    edge_mapping.append(tuple(e))"
   ]
  },
  {
   "cell_type": "code",
   "execution_count": null,
   "metadata": {},
   "outputs": [],
   "source": [
    "max_shape = (int(np.max(pos2node))+1, int(np.max(pos2node))+1)"
   ]
  },
  {
   "cell_type": "code",
   "execution_count": null,
   "metadata": {},
   "outputs": [],
   "source": [
    "edge_to_node = np.ones(max_shape)\n",
    "edge_to_node *= -1\n",
    "for k, (i,j) in enumerate(edge_mapping):\n",
    "    edge_to_node[int(i),int(j)] = k"
   ]
  },
  {
   "cell_type": "code",
   "execution_count": null,
   "metadata": {},
   "outputs": [],
   "source": [
    "# plt.figure(figsize=(20,10))\n",
    "plt.imshow(costs)\n",
    "plt.show()"
   ]
  },
  {
   "cell_type": "markdown",
   "metadata": {},
   "source": [
    "### Fill line graph with edges"
   ]
  },
  {
   "cell_type": "code",
   "execution_count": null,
   "metadata": {},
   "outputs": [],
   "source": [
    "len(edges)"
   ]
  },
  {
   "cell_type": "code",
   "execution_count": null,
   "metadata": {
    "scrolled": true
   },
   "outputs": [],
   "source": [
    "counter = 10\n",
    "edges = []\n",
    "for i, v in enumerate(g.vertices()):\n",
    "    for in_nb in v.in_neighbours():\n",
    "        for out_nb in v.out_neighbours():\n",
    "            in_nb_ind = node_pos[int(in_nb)]\n",
    "            out_nb_ind = node_pos[int(out_nb)]\n",
    "            pos = node_pos[i]\n",
    "            # vector between: subtract two pos tuples\n",
    "            vec1 = np.subtract(in_nb_ind, pos)\n",
    "            vec2 = np.subtract(pos, out_nb_pos)\n",
    "            angle_cost = angle(vec1, vec2)/(0.5*np.pi)\n",
    "            # print(node_pos[int(in_nb)], node_pos[g.vertex_index[v]], node_pos[int(out_nb)])\n",
    "            # print(angle(vec1, vec2))\n",
    "            if angle_cost <= 1:\n",
    "                v1_line = edge_to_node[int(in_nb), i]\n",
    "                v2_line = edge_to_node[i, int(out_nb)]\n",
    "                # w[g.edge(v1, v_ind)]\n",
    "                cost_before = costs[pos[0], pos[1]]\n",
    "                # print(cost_before, angle_cost)\n",
    "                edges.append([v1_line, v2_line, 0.5 * angle_cost + cost_before])\n",
    "    #if i>counter:\n",
    "     #   break"
   ]
  },
  {
   "cell_type": "code",
   "execution_count": null,
   "metadata": {},
   "outputs": [],
   "source": [
    "w_line = g_line.new_edge_property(\"float\")\n",
    "g_line.add_edge_list(edges,  eprops=[w_line])"
   ]
  },
  {
   "cell_type": "code",
   "execution_count": null,
   "metadata": {},
   "outputs": [],
   "source": [
    "len(list(g_line.edges()))"
   ]
  },
  {
   "cell_type": "markdown",
   "metadata": {},
   "source": [
    "## Shortest path old"
   ]
  },
  {
   "cell_type": "code",
   "execution_count": null,
   "metadata": {},
   "outputs": [],
   "source": [
    "source = pos2node[40,6]\n",
    "dest = pos2node[23,60]"
   ]
  },
  {
   "cell_type": "code",
   "execution_count": null,
   "metadata": {},
   "outputs": [],
   "source": [
    "vertices_path, _ = shortest_path(\n",
    "                g,\n",
    "                g.vertex(source),\n",
    "                g.vertex(dest),\n",
    "                weights=w,\n",
    "                negative_weights=True\n",
    "            )\n",
    "path = [node_pos[g.vertex_index[v]] for v in vertices_path]"
   ]
  },
  {
   "cell_type": "code",
   "execution_count": null,
   "metadata": {},
   "outputs": [],
   "source": [
    "list(g.vertex(0).out_edges())"
   ]
  },
  {
   "cell_type": "code",
   "execution_count": null,
   "metadata": {},
   "outputs": [],
   "source": [
    "plot_path(costs, path, buffer=0)"
   ]
  },
  {
   "cell_type": "markdown",
   "metadata": {},
   "source": [
    "## Shortest path new"
   ]
  },
  {
   "cell_type": "code",
   "execution_count": null,
   "metadata": {},
   "outputs": [],
   "source": [
    "source_line = g_line.add_vertex()\n",
    "dest_line = g_line.add_vertex()"
   ]
  },
  {
   "cell_type": "code",
   "execution_count": null,
   "metadata": {},
   "outputs": [],
   "source": [
    "source_dest_edges = []\n",
    "for e_out in g.vertex(source).out_edges():\n",
    "    e_out = tuple(e_out)\n",
    "    node_line = edge_to_node[int(e_out[0]), int(e_out[1])]\n",
    "    print(node_line)\n",
    "    source_dest_edges.append([g_line.vertex_index[source_line], node_line, 0])\n",
    "    \n",
    "for e_out in g.vertex(dest).in_edges():\n",
    "    e_out = tuple(e_out)\n",
    "    node_line = edge_to_node[int(e_out[0]), int(e_out[1])]\n",
    "    print(node_line)\n",
    "    source_dest_edges.append([node_line, g_line.vertex_index[dest_line], 0])"
   ]
  },
  {
   "cell_type": "code",
   "execution_count": null,
   "metadata": {},
   "outputs": [],
   "source": [
    "g_line.add_edge_list(source_dest_edges,  eprops=[w_line])"
   ]
  },
  {
   "cell_type": "code",
   "execution_count": null,
   "metadata": {},
   "outputs": [],
   "source": [
    "vertices_path, _ = shortest_path(\n",
    "                g_line,\n",
    "                source_line,\n",
    "                dest_line,\n",
    "                weights=w_line,\n",
    "                negative_weights=True\n",
    "            )\n",
    "# path = [node_pos[g.vertex_index[v]] for v in vertices_path]"
   ]
  },
  {
   "cell_type": "code",
   "execution_count": null,
   "metadata": {},
   "outputs": [],
   "source": [
    "path_line = []\n",
    "for i, v in enumerate(vertices_path[1:-1]):\n",
    "    v_ind_line = g_line.vertex_index[v]\n",
    "    edge_actual = tuple(list(g.edges())[v_ind_line])\n",
    "    if i==0:\n",
    "        path_line.append(node_pos[g.vertex_index[edge_actual[0]]])\n",
    "    path_line.append(node_pos[g.vertex_index[edge_actual[1]]])"
   ]
  },
  {
   "cell_type": "code",
   "execution_count": null,
   "metadata": {},
   "outputs": [],
   "source": [
    "list(g.edges())[0]"
   ]
  },
  {
   "cell_type": "code",
   "execution_count": null,
   "metadata": {},
   "outputs": [],
   "source": [
    "plot_path(costs, path_line, buffer=0)"
   ]
  },
  {
   "cell_type": "code",
   "execution_count": null,
   "metadata": {},
   "outputs": [],
   "source": [
    "plot_path(costs, path_line, buffer=0)"
   ]
  },
  {
   "cell_type": "code",
   "execution_count": null,
   "metadata": {},
   "outputs": [],
   "source": [
    "p = # to be filled\n",
    "plt.figure(figsize=(20,10))\n",
    "for i, f in enumerate([\"cost_only\", \"angle_only\", \"angle+cost\"]):\n",
    "    img = plt.imread(p+f+\".png\")\n",
    "    plt.subplot(1,3,i+1)\n",
    "    plt.imshow(img)\n",
    "    plt.axis(\"off\")\n",
    "    plt.title(f)\n",
    "plt.tight_layout()\n",
    "plt.savefig(\"path_comparison.png\")\n",
    "plt.show()"
   ]
  },
  {
   "cell_type": "markdown",
   "metadata": {},
   "source": [
    "## New donut tuples"
   ]
  },
  {
   "cell_type": "code",
   "execution_count": null,
   "metadata": {},
   "outputs": [],
   "source": [
    "def get_donut(radius_low, radius_high):\n",
    "    \"\"\"\n",
    "    Compute all indices of points in donut around (0,0)\n",
    "    :param radius_low: minimum radius\n",
    "    :param radius_high: maximum radius\n",
    "    :returns: tuples of indices of points with radius between radius_low \n",
    "    and radius_high around (0, 0)\n",
    "    \"\"\"\n",
    "    img_size = int(radius_high + 10)\n",
    "    # xx and yy are 200x200 tables containing the x and y coordinates as values\n",
    "    # mgrid is a mesh creation helper\n",
    "    xx, yy = np.mgrid[-img_size:img_size, -img_size:img_size]\n",
    "    # circle equation\n",
    "    circle = (xx)**2 + (yy)**2\n",
    "    # donuts contains 1's and 0's organized in a donut shape\n",
    "    # you apply 2 thresholds on circle to define the shape\n",
    "    donut = np.logical_and(\n",
    "        circle <= (radius_high**2), circle >= (radius_low**2)\n",
    "    )\n",
    "    pos_x, pos_y = np.where(donut > 0)\n",
    "    return pos_x - img_size, pos_y - img_size\n",
    "\n",
    "def get_half_donut(radius_low, radius_high, vec, angle_max=0.5 * np.pi):\n",
    "    \"\"\"\n",
    "    Returns only the points with x >= 0 of the donut points (see above)\n",
    "    :param radius_low: minimum radius\n",
    "    :param radius_high: maximum radius\n",
    "    :returns: tuples of indices of points with radius between radius_low \n",
    "    and radius_high around (0, 0)\n",
    "    \"\"\"\n",
    "    pos_x, pos_y = get_donut(radius_low, radius_high)\n",
    "    new_tuples = []\n",
    "    shift_vals = []\n",
    "    for i, j in zip(pos_x, pos_y):\n",
    "        # if i > 0 or i == 0 and j > 0:\n",
    "        # if i * vec[0] + j * vec[1] >= 0:\n",
    "        ang = angle([i, j], vec)\n",
    "        if ang <= angle_max:\n",
    "            new_tuples.append((i, j))\n",
    "            shift_vals.append(ang + 0.1)\n",
    "    return new_tuples, shift_vals"
   ]
  },
  {
   "cell_type": "code",
   "execution_count": null,
   "metadata": {},
   "outputs": [],
   "source": [
    "donut = get_donut(2.5, 5)"
   ]
  },
  {
   "cell_type": "code",
   "execution_count": null,
   "metadata": {},
   "outputs": [],
   "source": [
    "vec = [1,1]\n",
    "tuple_zip = list(zip(donut[0], donut[1]))\n",
    "min_angle = 3*np.pi/4"
   ]
  },
  {
   "cell_type": "code",
   "execution_count": null,
   "metadata": {},
   "outputs": [],
   "source": [
    "def get_lg_donut(radius_low, radius_high, vec, min_angle= 3*np.pi/4):\n",
    "    donut = get_donut(radius_low, radius_high)\n",
    "    tuple_zip = list(zip(donut[0], donut[1]))\n",
    "    linegraph_tuples = []\n",
    "    for (i,j) in tuple_zip:\n",
    "        # if in incoming half\n",
    "        if i*vec[0] + j* vec[1] <= 0:\n",
    "            for (k,l) in tuple_zip:\n",
    "                ang = angle([k,l], [i,j])\n",
    "                # min angle and general outgoing edges half\n",
    "                if ang >= min_angle and k*vec[0] + l* vec[1] >= 0:\n",
    "                    print(ang)\n",
    "                    linegraph_tuples.append([[i,j], [k,l], round(1-(ang/np.pi),2)])\n",
    "    return linegraph_tuples"
   ]
  },
  {
   "cell_type": "code",
   "execution_count": null,
   "metadata": {},
   "outputs": [],
   "source": [
    "lg_tuples = get_lg_donut(0.75,1.5, [1,1])"
   ]
  },
  {
   "cell_type": "code",
   "execution_count": null,
   "metadata": {},
   "outputs": [],
   "source": [
    "lg_tuples"
   ]
  },
  {
   "cell_type": "code",
   "execution_count": null,
   "metadata": {},
   "outputs": [],
   "source": [
    "example = lg_tuples[4]"
   ]
  },
  {
   "cell_type": "code",
   "execution_count": null,
   "metadata": {},
   "outputs": [],
   "source": [
    "example"
   ]
  },
  {
   "cell_type": "code",
   "execution_count": null,
   "metadata": {},
   "outputs": [],
   "source": [
    "np.where(np.roll(costs, example[1], axis=(0,1)))"
   ]
  },
  {
   "cell_type": "code",
   "execution_count": null,
   "metadata": {},
   "outputs": [],
   "source": [
    "np.where(costs)"
   ]
  },
  {
   "cell_type": "markdown",
   "metadata": {},
   "source": [
    "### Shift in both directions"
   ]
  },
  {
   "cell_type": "code",
   "execution_count": null,
   "metadata": {},
   "outputs": [],
   "source": [
    "example_test = [[-1,-1],[1,1], 2]\n",
    "costs_test = np.zeros((3,3))\n",
    "costs_test[1,1]=1\n",
    "costs_test[2,2]=1\n",
    "costs_test[0,0]=1"
   ]
  },
  {
   "cell_type": "code",
   "execution_count": null,
   "metadata": {},
   "outputs": [],
   "source": [
    "in_edges = shift_surface(costs_test, np.asarray(example_test[0])*(-1))\n",
    "out_edges = shift_surface(costs_test, np.asarray(example_test[1]))\n",
    "possible_in_edges = np.where(costs_test * in_edges)\n",
    "possible_out_edges = np.where(costs_test * out_edges)\n",
    "print(possible_in_edges, possible_in_edges)\n",
    "in_edge_2 = np.swapaxes(np.vstack(possible_in_edges), 1,0)\n",
    "in_edge_1 = in_edge_2 + np.array(example_test[0])\n",
    "node_to_edge = np.concatenate([np.expand_dims(in_edge_1, 1), np.expand_dims(in_edge_2, 1)], axis=1)"
   ]
  },
  {
   "cell_type": "code",
   "execution_count": null,
   "metadata": {},
   "outputs": [],
   "source": [
    "costs_bin = costs_test>0\n",
    "out = valid_edges(costs_bin, example)"
   ]
  },
  {
   "cell_type": "code",
   "execution_count": null,
   "metadata": {},
   "outputs": [],
   "source": [
    "plt.figure(figsize=(20,10))\n",
    "plt.imshow(out) #out_node.astype(int)+costs_bin.astype(int))\n",
    "plt.show()"
   ]
  },
  {
   "cell_type": "code",
   "execution_count": null,
   "metadata": {},
   "outputs": [],
   "source": [
    "np.where(in_node)"
   ]
  },
  {
   "cell_type": "markdown",
   "metadata": {},
   "source": [
    "### Add nodes and edges"
   ]
  },
  {
   "cell_type": "code",
   "execution_count": null,
   "metadata": {},
   "outputs": [],
   "source": [
    "mask = costs>0"
   ]
  },
  {
   "cell_type": "markdown",
   "metadata": {},
   "source": [
    "### First attempt"
   ]
  },
  {
   "cell_type": "code",
   "execution_count": null,
   "metadata": {},
   "outputs": [],
   "source": [
    "# for shift in shift tuples:\n",
    "shift = example\n",
    "in_edges = shift_surface(mask, np.asarray(shift[0])*(-1))\n",
    "possible_in_edges = np.where(mask * in_edges)\n",
    "in_edge_2 = np.swapaxes(np.vstack(possible_in_edges), 1,0)\n",
    "in_edge_1 = in_edge_2 + np.array(shift[0])\n",
    "in_edge = np.concatenate([np.expand_dims(in_edge_1, 1), np.expand_dims(in_edge_2, 1)], axis=1)\n",
    "\n",
    "out_edges = shift_surface(mask, np.asarray(shift[1])*(-1))\n",
    "possible_out_edges = np.where(mask * out_edges)\n",
    "out_edge_2 = np.swapaxes(np.vstack(possible_out_edges), 1,0)\n",
    "out_edge_1 = out_edge_2 + np.array(shift[1])\n",
    "out_edge = np.concatenate([np.expand_dims(out_edge_1, 1), np.expand_dims(out_edge_2, 1)], axis=1)"
   ]
  },
  {
   "cell_type": "markdown",
   "metadata": {},
   "source": [
    "### Working version: with edge mapping dictionary"
   ]
  },
  {
   "cell_type": "code",
   "execution_count": null,
   "metadata": {},
   "outputs": [],
   "source": [
    "shifts, _ = get_half_donut(0.75, 1.5, [-17, 54])"
   ]
  },
  {
   "cell_type": "code",
   "execution_count": null,
   "metadata": {},
   "outputs": [],
   "source": [
    "# Build edge dictionary\n",
    "edge_array = []\n",
    "for i in range(len(shifts)):\n",
    "    out_edges = shift_surface(mask, np.asarray(shifts[i])*(-1))\n",
    "    possible_out_edges = np.where(mask * out_edges)\n",
    "    out_edge_2 = np.swapaxes(np.vstack(possible_out_edges), 1,0)\n",
    "    out_edge_1 = out_edge_2 + np.array(shifts[i])\n",
    "    out_edge = np.concatenate([np.expand_dims(out_edge_2, 1), np.expand_dims(out_edge_1, 1)], axis=1)\n",
    "    edge_array.append(out_edge)\n",
    "    \n",
    "edge_lists_concat = np.concatenate(edge_array, axis=0)\n",
    "edge_dict = {}\n",
    "edge_dict = {(tuple(edge_lists_concat[i, 0]), tuple(edge_lists_concat[i,1])):i for i in range(len(edge_lists_concat))}"
   ]
  },
  {
   "cell_type": "code",
   "execution_count": null,
   "metadata": {},
   "outputs": [],
   "source": [
    "def valid_edges(mask, shift):\n",
    "    in_node = shift_surface(mask, np.asarray(shift[0])*(-1))\n",
    "    out_node = shift_surface(mask, np.asarray(shift[1])*(-1))\n",
    "    stacked = np.asarray([mask, in_node, out_node])\n",
    "    return np.all(stacked, axis =0)"
   ]
  },
  {
   "cell_type": "code",
   "execution_count": null,
   "metadata": {},
   "outputs": [],
   "source": [
    "lg_tuples = get_lg_donut(0.75, 1.5, [-17, 54]) # different before!"
   ]
  },
  {
   "cell_type": "code",
   "execution_count": null,
   "metadata": {},
   "outputs": [],
   "source": [
    "graph = Graph()\n",
    "_ = graph.add_vertex(len(edge_lists_concat))\n",
    "weight = graph.new_edge_property(\"float\")"
   ]
  },
  {
   "cell_type": "code",
   "execution_count": null,
   "metadata": {},
   "outputs": [],
   "source": [
    "# for every angle in the new angle tuples\n",
    "for shift in lg_tuples:\n",
    "    print(shift[2])\n",
    "    all_angles = valid_edges(mask,shift)\n",
    "    node_inds = np.swapaxes(np.vstack(np.where(all_angles)), 1,0)\n",
    "    node_cost = costs[all_angles]\n",
    "    in_node = node_inds + shift[0]\n",
    "    out_node = node_inds + shift[1]\n",
    "    edges_lg = []\n",
    "    for i in range(len(node_inds)):\n",
    "        e1 = edge_dict[(tuple(in_node[i]), tuple(node_inds[i]))]\n",
    "        e2 = edge_dict[(tuple(node_inds[i]), tuple(out_node[i]))]\n",
    "        edges_lg.append([e1, e2, shift[2]]) # node_cost[i]])\n",
    "    graph.add_edge_list(edges_lg, eprops=[weight])"
   ]
  },
  {
   "cell_type": "code",
   "execution_count": null,
   "metadata": {},
   "outputs": [],
   "source": [
    "lg_tuples"
   ]
  },
  {
   "cell_type": "markdown",
   "metadata": {},
   "source": [
    "### Test "
   ]
  },
  {
   "cell_type": "code",
   "execution_count": null,
   "metadata": {},
   "outputs": [],
   "source": [
    "edges_lg[20]"
   ]
  },
  {
   "cell_type": "code",
   "execution_count": null,
   "metadata": {},
   "outputs": [],
   "source": [
    "edge_lists_concat[34]"
   ]
  },
  {
   "cell_type": "code",
   "execution_count": null,
   "metadata": {},
   "outputs": [],
   "source": [
    "edge_lists_concat[972]"
   ]
  },
  {
   "cell_type": "code",
   "execution_count": null,
   "metadata": {},
   "outputs": [],
   "source": [
    "len(edges_lg)*len(lg_tuples)"
   ]
  },
  {
   "cell_type": "markdown",
   "metadata": {},
   "source": [
    "### Add start and end"
   ]
  },
  {
   "cell_type": "code",
   "execution_count": null,
   "metadata": {},
   "outputs": [],
   "source": [
    "source = [40, 6]\n",
    "dest = [23, 60]\n",
    "\n",
    "\n",
    "possible_start_edges = []\n",
    "for shift in shifts:\n",
    "    neighbor = np.asarray(source) + np.asarray(shift)\n",
    "    node_val = edge_dict.get(\n",
    "        (tuple(source), tuple(neighbor)), -1\n",
    "    )\n",
    "    if node_val > 0:\n",
    "        possible_start_edges.append(node_val)\n",
    "\n",
    "possible_dest_edges = []\n",
    "for shift in shifts:\n",
    "    neighbor = np.asarray(dest) - np.asarray(shift)\n",
    "    node_val = edge_dict.get(\n",
    "        (tuple(neighbor), tuple(dest)), -1\n",
    "    )\n",
    "    if node_val > 0:\n",
    "        possible_dest_edges.append(node_val)\n",
    "\n",
    "start_v = graph.add_vertex()\n",
    "dest_v = graph.add_vertex()\n",
    "start_ind = graph.vertex_index[start_v]\n",
    "dest_ind = graph.vertex_index[dest_v]\n",
    "\n",
    "start_edges = [[start_ind, u, 1] for u in possible_start_edges]\n",
    "dest_edges = [[u, dest_ind, 1] for u in possible_dest_edges]\n",
    "graph.add_edge_list(start_edges)\n",
    "graph.add_edge_list(dest_edges)\n",
    "\n",
    "print([start_v, dest_v])\n"
   ]
  },
  {
   "cell_type": "code",
   "execution_count": null,
   "metadata": {},
   "outputs": [],
   "source": [
    "vertices_path, _ = shortest_path(\n",
    "                graph,\n",
    "                start_v,\n",
    "                dest_v,\n",
    "                weights=weight,\n",
    "                negative_weights=True\n",
    "            )\n",
    "# path = [node_pos[g.vertex_index[v]] for v in vertices_path]"
   ]
  },
  {
   "cell_type": "code",
   "execution_count": null,
   "metadata": {},
   "outputs": [],
   "source": [
    "edge_mapping = [k for k, _ in sorted(edge_dict.items(), key=lambda item: item[1])]"
   ]
  },
  {
   "cell_type": "code",
   "execution_count": null,
   "metadata": {},
   "outputs": [],
   "source": [
    "out_path = [edge_mapping[graph.vertex_index[v]][0] for v in vertices_path[1:-1]]\n",
    "out_path.append(edge_mapping[graph.vertex_index[vertices_path[-2]]][1])"
   ]
  },
  {
   "cell_type": "code",
   "execution_count": null,
   "metadata": {},
   "outputs": [],
   "source": [
    "plot_path(costs, out_path, buffer=0)"
   ]
  },
  {
   "cell_type": "markdown",
   "metadata": {},
   "source": [
    "## Compute sizes"
   ]
  },
  {
   "cell_type": "markdown",
   "metadata": {},
   "source": [
    "len(edges_lg)"
   ]
  },
  {
   "cell_type": "code",
   "execution_count": null,
   "metadata": {},
   "outputs": [],
   "source": [
    "len(lg_tuples)"
   ]
  },
  {
   "cell_type": "code",
   "execution_count": null,
   "metadata": {},
   "outputs": [],
   "source": [
    "nodes_orig = len(list(g.vertices()))\n",
    "edges_orig = len(list(g.edges()))\n",
    "donuts = get_half_donut(0.75, 1.5, [1,1])\n",
    "\n",
    "print(\"nodes\", nodes_orig, \"neighrbors\", len(donuts[0]), \"edges\", edges_orig)"
   ]
  },
  {
   "cell_type": "code",
   "execution_count": null,
   "metadata": {},
   "outputs": [],
   "source": [
    "nodes_lg = len(list(graph.vertices()))\n",
    "edges_lg = len(list(graph.edges()))\n",
    "# donuts = get_half_donut(0.75, 1.5, [1,1])\n",
    "print(\"nodes lg\", nodes_lg, \"edges lg\", edges_lg)\n"
   ]
  },
  {
   "cell_type": "code",
   "execution_count": null,
   "metadata": {},
   "outputs": [],
   "source": [
    "print(len(start_edges), len(dest_edges))"
   ]
  },
  {
   "cell_type": "code",
   "execution_count": null,
   "metadata": {},
   "outputs": [],
   "source": [
    "lg_donut_new = get_lg_donut(0.75, 1.5, [1,1]) # different before!"
   ]
  },
  {
   "cell_type": "code",
   "execution_count": null,
   "metadata": {},
   "outputs": [],
   "source": [
    "first = np.asarray([l[0] for l in lg_donut_new])\n",
    "second = np.asarray([l[1] for l in lg_donut_new])"
   ]
  },
  {
   "cell_type": "code",
   "execution_count": null,
   "metadata": {},
   "outputs": [],
   "source": [
    "plt.scatter(first[:,0], first[:,1])\n",
    "plt.scatter(second[:,0], second[:,1])"
   ]
  },
  {
   "cell_type": "markdown",
   "metadata": {},
   "source": [
    "--> only so much bigger in notebook because more lg tuples taken into account"
   ]
  },
  {
   "cell_type": "code",
   "execution_count": null,
   "metadata": {},
   "outputs": [],
   "source": []
  }
 ],
 "metadata": {
  "kernelspec": {
   "display_name": "Python 3",
   "language": "python",
   "name": "python3"
  },
  "language_info": {
   "codemirror_mode": {
    "name": "ipython",
    "version": 3
   },
   "file_extension": ".py",
   "mimetype": "text/x-python",
   "name": "python",
   "nbconvert_exporter": "python",
   "pygments_lexer": "ipython3",
   "version": "3.8.2"
  }
 },
 "nbformat": 4,
 "nbformat_minor": 4
}
