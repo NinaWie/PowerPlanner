{
 "cells": [
  {
   "cell_type": "markdown",
   "metadata": {},
   "source": [
    "# Replacement path"
   ]
  },
  {
   "cell_type": "code",
   "execution_count": null,
   "metadata": {},
   "outputs": [],
   "source": [
    "import matplotlib.pyplot as plt\n",
    "import numpy as np\n",
    "# import networkx as nx\n",
    "import os\n",
    "import time\n",
    "import pickle\n",
    "import json\n",
    "from numba import jit\n",
    "from types import SimpleNamespace\n",
    "from power_planner.data_reader import DataReader\n",
    "from power_planner import graphs\n",
    "from power_planner.plotting import plot_path_costs, plot_pipeline_paths, plot_path, plot_k_sp\n",
    "from power_planner.utils.utils import get_distance_surface, time_test_csv, compute_pylon_dists\n",
    "from power_planner.utils.utils_ksp import KspUtils\n",
    "from power_planner.graphs.implicit_lg import topological_sort_jit, del_after_dest"
   ]
  },
  {
   "cell_type": "code",
   "execution_count": null,
   "metadata": {},
   "outputs": [],
   "source": [
    "PATH_FILES = \"../data\"\n",
    "\n",
    "# DEFINE CONFIGURATION\n",
    "ID = \"w_ksp_5\"  # str(round(time.time() / 60))[-5:]\n",
    "\n",
    "OUT_PATH = \"outputs/path_\" + ID\n",
    "SCALE_PARAM = 5  # args.scale\n",
    "# normal graph pipeline\n",
    "# PIPELINE = [(2, 50), (1, 0)]  # [(1, 0)]  # [(4, 80), (2, 50), (1, 0)]  #\n",
    "# random graph pipeline\n",
    "PIPELINE = [(1, 0)]  # [(0.9, 40), (0, 0)]\n",
    "\n",
    "GRAPH_TYPE = graphs.ImplicitKSP\n",
    "# LineGraph, WeightedGraph, RandomWeightedGraph, RandomLineGraph, PowerBF\n",
    "# TwoPowerBF, WeightedKSP\n",
    "print(\"graph type:\", GRAPH_TYPE)\n",
    "# summarize: mean/max/min, remove: all/surrounding, sample: simple/watershed\n",
    "NOTES = \"None\"  # \"mean-all-simple\"\n",
    "\n",
    "IOPATH = os.path.join(PATH_FILES, \"ch_dump_w1_\" + str(SCALE_PARAM) + \".dat\")\n",
    "\n",
    "with open(\"../../data/instance_CH.nosync/config.json\", \"r\") as infile:\n",
    "    cfg_dict = json.load(infile)  # Config(SCALE_PARAM)\n",
    "    cfg = SimpleNamespace(**cfg_dict)\n",
    "    cfg.PYLON_DIST_MIN, cfg.PYLON_DIST_MAX = compute_pylon_dists(\n",
    "        150, 250, cfg.RASTER, SCALE_PARAM\n",
    "    )\n",
    "    \n",
    "# READ DATA\n",
    "with open(IOPATH, \"rb\") as infile:\n",
    "    data = pickle.load(infile)\n",
    "    (instance, instance_corr, start_inds, dest_inds) = data.data\n",
    "    \n",
    "tic1 = time.time()\n",
    "graph = GRAPH_TYPE(\n",
    "    instance, instance_corr, graphtool=cfg.GTNX, verbose=cfg.VERBOSE\n",
    ")\n",
    "\n",
    "graph.set_shift(\n",
    "    cfg.PYLON_DIST_MIN,\n",
    "    cfg.PYLON_DIST_MAX,\n",
    "    dest_inds - start_inds,\n",
    "    cfg.MAX_ANGLE,\n",
    "    max_angle_lg=cfg.MAX_ANGLE_LG\n",
    ")\n",
    "corridor = np.ones(instance_corr.shape) * 0.5  # start with all\n",
    "\n",
    "graph.set_corridor(corridor, start_inds, dest_inds, factor_or_n_edges=1)\n",
    "\n",
    "graph.set_edge_costs(\n",
    "    data.layer_classes, data.class_weights, angle_weight= 0.1 # cfg.ANGLE_WEIGHT\n",
    ")\n",
    "# add vertices\n",
    "graph.add_nodes()\n",
    "graph.add_edges()"
   ]
  },
  {
   "cell_type": "code",
   "execution_count": null,
   "metadata": {},
   "outputs": [],
   "source": [
    "path, path_costs, cost_sum = graph.get_shortest_path(start_inds, dest_inds)\n",
    "graph.get_shortest_path_tree(start_inds, dest_inds)\n"
   ]
  },
  {
   "cell_type": "markdown",
   "metadata": {},
   "source": [
    "### need stack"
   ]
  },
  {
   "cell_type": "code",
   "execution_count": null,
   "metadata": {},
   "outputs": [],
   "source": [
    "\n",
    "tmp_list = graph._helper_list()\n",
    "visit_points = (graph.instance < np.inf).astype(int)\n",
    "stack = topological_sort_jit(\n",
    "    start_inds[0], start_inds[1],\n",
    "    np.asarray(graph.shifts), visit_points, tmp_list\n",
    ")"
   ]
  },
  {
   "cell_type": "code",
   "execution_count": null,
   "metadata": {},
   "outputs": [],
   "source": [
    "some_point = 100\n",
    "path = np.asarray(path)\n",
    "s1 = path[some_point]\n",
    "s2 = path[some_point+1]\n",
    "shift = s2-s1\n",
    "shift_ind = np.argmin([np.linalg.norm(s-shift) for s in graph.shifts])\n",
    "marked = np.zeros(graph.dists.shape)\n",
    "marked[shift_ind, s2[0], s2[1]] = 1"
   ]
  },
  {
   "cell_type": "code",
   "execution_count": null,
   "metadata": {},
   "outputs": [],
   "source": [
    "marked_out = cut_edges(stack, graph.shifts, graph.dists, graph.preds, marked)"
   ]
  },
  {
   "cell_type": "code",
   "execution_count": null,
   "metadata": {},
   "outputs": [],
   "source": [
    "@jit(nopython=True)\n",
    "def cut_edges(stack, shifts, dists, preds, marked):\n",
    "    \"\"\"\n",
    "    Fast C++ (numba) method to compute the cumulative distances from start\n",
    "    \"\"\"\n",
    "    # print(len(stack))\n",
    "    for i in range(len(stack)):\n",
    "        v_x = stack[i][0]\n",
    "        v_y = stack[i][1]\n",
    "        for s in range(len(shifts)):\n",
    "            neigh_x = v_x + shifts[s][0]\n",
    "            neigh_y = v_y + shifts[s][1]\n",
    "            best_shift = preds[s, neigh_x, neigh_y]\n",
    "            if best_shift>=0 and marked[int(best_shift), v_x, v_y]:\n",
    "                marked[s, neigh_x, neigh_y] = 1\n",
    "            elif best_shift<0:\n",
    "                marked[s, neigh_x, neigh_y] = 2\n",
    "            # if s==len(shifts)-1:\n",
    "            # depends on topological sort whether that holds\n",
    "    return marked\n",
    "\n",
    "@jit(nopython=True)\n",
    "def cut_edges_dest(stack, shifts, dists, preds, marked):\n",
    "    \"\"\"\n",
    "    Fast C++ (numba) method to compute the cumulative distances from start\n",
    "    \"\"\"\n",
    "    # print(len(stack))\n",
    "    for i in range(len(stack)):\n",
    "        v_x = stack[i][0]\n",
    "        v_y = stack[i][1]\n",
    "        for s in range(len(shifts)):\n",
    "            best_shift = int(preds[s, v_x, v_y])\n",
    "            if best_shift>=0:\n",
    "                in_neigh_x = v_x - shifts[best_shift][0]\n",
    "                in_neigh_y = v_y - shifts[best_shift][1]\n",
    "                if marked[best_shift, in_neigh_x, in_neigh_y]:\n",
    "                    marked[s, v_x, v_y] = 1\n",
    "            else:\n",
    "                marked[s, v_x, v_y] = 2\n",
    "            # if s==len(shifts)-1:\n",
    "            # depends on topological sort whether that holds\n",
    "    return marked"
   ]
  },
  {
   "cell_type": "code",
   "execution_count": null,
   "metadata": {},
   "outputs": [],
   "source": [
    "def replacement_path(self, marked_out):\n",
    "    # get vertices that have edges with the predecessor but also other edges = cut edges\n",
    "    crit_points_x, crit_points_y = np.where(np.all(np.asarray([np.any(marked_out, axis=0), (1-np.absolute(np.all(marked_out, axis=0)))]), axis=0))\n",
    "    # np.absolute(np.mean(marked_out, axis=0)-0.5)!=0.5)\n",
    "    plt.imshow(np.absolute(np.mean(marked_out, axis=0)-0.5)!=0.5)\n",
    "    plt.title(\"valid replacement vertices\")\n",
    "    plt.show()\n",
    "    min_cost = np.inf\n",
    "    crit_points = []\n",
    "    crit_dists = []\n",
    "    for (x,y) in zip(crit_points_x, crit_points_y):\n",
    "        assert not np.all(marked_out[:,x,y]==1) and not np.all(marked_out[:,x,y]==0)\n",
    "        # compute distance for each edge\n",
    "        for s in range(len(marked_out)):\n",
    "            # cut edge: incoming edge that could replace the tree connection\n",
    "            if marked_out[s,x,y]==0:\n",
    "                edge_dist = self.dists[s,x,y] + self.dists_ba[s,x,y] - self.instance[x,y] - self.edge_cost[s,x,y]\n",
    "                if not np.isnan(edge_dist):\n",
    "                    crit_points.append((x,y,s))\n",
    "                    crit_dists.append(edge_dist)\n",
    "    best_ind = np.argmin(crit_dists)\n",
    "    b_x, b_y, b_s = crit_points[best_ind]\n",
    "    print(b_x, b_y, self.shifts[b_s], b_s, np.min(crit_dists))\n",
    "    vertices_path = self._combined_paths(start_inds, dest_inds, b_s, [b_x, b_y])\n",
    "    return self.transform_path(vertices_path)\n",
    "# new_path = replacement_path(graph, marked_out)\n"
   ]
  },
  {
   "cell_type": "code",
   "execution_count": null,
   "metadata": {},
   "outputs": [],
   "source": [
    "def replace_single_edge(self, u_x, u_y, v_x, v_y):\n",
    "    \"\"\"\n",
    "    Compute the best replacement path for the edge (u,v)\n",
    "    Arguments:\n",
    "        u_x, u_y, v_x, v_y: Integers defining the coordinates of u and v\n",
    "    Note: If e=(u,v) is not part of the LCP, then simply the LCP will be returned!\n",
    "    \"\"\"\n",
    "    # get index of edge we want to change\n",
    "    shift = np.asarray([v_x-u_x, v_y-u_y])\n",
    "    shift_ind = np.argmin([np.linalg.norm(s-shift) for s in self.shifts])\n",
    "    marked = np.zeros(self.dists.shape)\n",
    "    # set this single edge as marked (predecessor to be replaced)\n",
    "    marked[shift_ind, v_x, v_y] = 1\n",
    "    \n",
    "    # mark all edges in subtree of this edge\n",
    "    marked_out = cut_edges(stack, self.shifts, self.dists, self.preds, marked) # TODO: stack\n",
    "    \n",
    "    # compute replacement path\n",
    "    return replacement_path(self, marked_out) # todo\n",
    "\n",
    "@jit(nopython=True)\n",
    "def stack_after_window(stack, w_xmin, w_xmax, w_ymin, w_ymax):\n",
    "    for i in range(len(stack)):\n",
    "        if stack[-i-1][0] >= w_xmin and stack[-i-1][0]<=w_xmax and stack[-i-1][1] >= w_ymin and stack[-i-1][1] <= w_ymax:\n",
    "            return stack[-i-1:]\n",
    "\n",
    "def replace_window(self, w_xmin, w_xmax, w_ymin, w_ymax):\n",
    "    # get index of edge we want to change\n",
    "    marked = np.zeros(self.dists.shape)\n",
    "    # set this single edge as marked (predecessor to be replaced)\n",
    "    marked[:, w_xmin:w_xmax+1, w_ymin:w_ymax+1] = 1\n",
    "    \n",
    "    # get stack --> in both directions\n",
    "    tmp_list = graph._helper_list()\n",
    "    visit_points = (graph.instance < np.inf).astype(int)\n",
    "    stack_source = topological_sort_jit(\n",
    "        dest_inds[0], dest_inds[1],\n",
    "        np.asarray(self.shifts)*(-1), visit_points, tmp_list\n",
    "    )\n",
    "    stack_source = del_after_dest(stack_source, self.start_inds[0], self.start_inds[1])\n",
    "    marked_source = cut_edges(stack_source, np.asarray(self.shifts), self.dists, self.preds, marked.copy())\n",
    "    visit_points = (graph.instance < np.inf).astype(int)\n",
    "    # same for T_t\n",
    "    stack_dest = topological_sort_jit(\n",
    "        start_inds[0], start_inds[1],\n",
    "        np.asarray(self.shifts), visit_points, tmp_list\n",
    "    )\n",
    "    stack_dest = del_after_dest(stack_dest, self.dest_inds[0], self.dest_inds[1])\n",
    "    print(len(stack_dest), stack_dest[0])\n",
    "    marked_dest = cut_edges_dest(stack_dest, np.asarray(self.shifts)*(-1), self.dists_ba, self.preds_ba, marked.copy())\n",
    "    plt.imshow(np.mean(marked_source, axis=0))\n",
    "    plt.colorbar()\n",
    "    plt.show()\n",
    "    plt.imshow(np.mean(marked_dest, axis=0))\n",
    "    plt.colorbar()\n",
    "    plt.show()\n",
    "    comb_marked = np.any(np.asarray([marked_source, marked_dest]), axis=0)\n",
    "    # mark all edges in subtree of this edge\n",
    "    # marked_out = cut_edges(reduced_stack, np.asarray(self.shifts), self.dists, self.preds, comb_marked) # TODO: stack\n",
    "    # compute replacement path\n",
    "    return replacement_path(self, comb_marked)\n"
   ]
  },
  {
   "cell_type": "code",
   "execution_count": null,
   "metadata": {},
   "outputs": [],
   "source": [
    "window_path, _, _ = replace_window(graph, 150, 200,250, 300) # DELETE everything before last vertex in forbidden region from stack --> reduces runtime as well\n",
    "# 0,400,300,350)\n",
    "# "
   ]
  },
  {
   "cell_type": "code",
   "execution_count": null,
   "metadata": {},
   "outputs": [],
   "source": [
    "new_path = replace_single_edge(graph, 159, 413, 158, 417)\n",
    "new_path_coords = np.asarray(new_path[0])\n",
    "path[100:102], new_path_coords[100:102]"
   ]
  },
  {
   "cell_type": "code",
   "execution_count": null,
   "metadata": {},
   "outputs": [],
   "source": [
    "window_path = np.asarray(window_path)\n",
    "path = np.asarray(path)\n",
    "plt.figure(figsize=(20,10))\n",
    "plt.imshow(graph.instance) # np.mean(marked_out, axis=0))\n",
    "\n",
    "plt.scatter(path[:,1], path[:,0], c=\"orange\")\n",
    "# plt.scatter(new_path_coords[:,1], new_path_coords[:,0],c=\"red\")\n",
    "plt.scatter(window_path[:,1], window_path[:,0],c=\"green\")\n",
    "plt.colorbar()"
   ]
  },
  {
   "cell_type": "code",
   "execution_count": null,
   "metadata": {},
   "outputs": [],
   "source": [
    "graph.dists[shift_ind, s2[0], s2[1]]"
   ]
  },
  {
   "cell_type": "code",
   "execution_count": null,
   "metadata": {},
   "outputs": [],
   "source": [
    "plt.imshow(np.min(graph.dists[:, 200:250, 400:500], axis=0))"
   ]
  },
  {
   "cell_type": "code",
   "execution_count": null,
   "metadata": {},
   "outputs": [],
   "source": [
    "def replace_window_old(self, w_xmin, w_xmax, w_ymin, w_ymax):\n",
    "    \"\"\"\n",
    "    Compute the shortest path AVOIDING a window\n",
    "    Arguments:\n",
    "        w_xmin, w_xmax, w_ymin, w_ymax: Integers defining the bounds of the window\n",
    "    Note: If the window is not part of the LCP, then simply the LCP will be returned!\n",
    "    \"\"\"\n",
    "    # get index of edge we want to change\n",
    "    marked = np.zeros(self.dists.shape)\n",
    "    # set this single edge as marked (predecessor to be replaced)\n",
    "    marked[:, w_xmin:w_xmax+1, w_ymin:w_ymax+1] = 1\n",
    "    \n",
    "    # build reduced stack\n",
    "    tmp_list = graph._helper_list()\n",
    "    visit_points = (graph.instance < np.inf).astype(int)\n",
    "    stack = topological_sort_jit(\n",
    "        dest_inds[0], dest_inds[1],\n",
    "        np.asarray(graph.shifts)*(-1), visit_points, tmp_list\n",
    "    )\n",
    "    # encountered vertices\n",
    "    # encountered = 1-visit_points[w_xmin:w_xmax+1, w_ymin:w_ymax+1]\n",
    "    reduced_stack = stack_after_window(stack, w_xmin, w_xmax, w_ymin, w_ymax)\n",
    "    \n",
    "    # mark all edges in subtree of this edge\n",
    "    marked_out = cut_edges(reduced_stack, np.asarray(self.shifts), self.dists, self.preds, marked) # TODO: stack\n",
    "    plt.imshow(np.mean(marked_out, axis=0))\n",
    "    plt.show()\n",
    "    # compute replacement path\n",
    "    return replacement_path(self, marked_out) # todo\n",
    "\n",
    "# def stack_after_window(stack, w_xmin, w_xmax, w_ymin, w_ymax, encountered):\n",
    "#     for i in range(len(stack)):\n",
    "#         if stack[i][0] >= w_xmin and stack[i][0]<=w_xmax and stack[i][1] >= w_ymin and stack[i][1] <= w_ymax:\n",
    "#             encountered[stack[i][0]-w_xmin, stack[i][1]-w_ymin] = 1\n",
    "#         if np.all(encountered):\n",
    "#             return stack[i:]\n",
    "#     return encountered"
   ]
  },
  {
   "cell_type": "code",
   "execution_count": null,
   "metadata": {},
   "outputs": [],
   "source": [
    "# READ DATA\n",
    "with open(\"../data/ch_dump_e1_2.dat\", \"rb\") as infile:\n",
    "    data = pickle.load(infile)\n",
    "    (instance, edge_inst, instance_corr, start_inds, dest_inds) = data.data\n",
    "# ../data/instance_CH.nosync\n",
    "    "
   ]
  },
  {
   "cell_type": "code",
   "execution_count": null,
   "metadata": {},
   "outputs": [],
   "source": [
    "import pandas as pd\n",
    "test = pd.read_csv(\"../../data/instance_CH.nosync/layer_weights.csv\")"
   ]
  },
  {
   "cell_type": "code",
   "execution_count": null,
   "metadata": {},
   "outputs": [],
   "source": [
    "\"weight_1_edge\" in test.columns"
   ]
  },
  {
   "cell_type": "code",
   "execution_count": null,
   "metadata": {},
   "outputs": [],
   "source": [
    "np.all(instance==edge_inst)"
   ]
  },
  {
   "cell_type": "code",
   "execution_count": null,
   "metadata": {},
   "outputs": [],
   "source": [
    "plt.imshow(np.mean(edge_inst, axis=0))\n",
    "plt.colorbar()\n",
    "plt.show()"
   ]
  },
  {
   "cell_type": "code",
   "execution_count": null,
   "metadata": {},
   "outputs": [],
   "source": [
    "plt.imshow(np.mean(instance, axis=0))\n",
    "plt.colorbar()\n",
    "plt.show()"
   ]
  },
  {
   "cell_type": "code",
   "execution_count": null,
   "metadata": {},
   "outputs": [],
   "source": [
    "def test(*args, **kwargs):\n",
    "    print(kwargs[\"test\"])\n",
    "test(3, test=3)"
   ]
  },
  {
   "cell_type": "code",
   "execution_count": null,
   "metadata": {},
   "outputs": [],
   "source": []
  }
 ],
 "metadata": {
  "kernelspec": {
   "display_name": "Python 3",
   "language": "python",
   "name": "python3"
  },
  "language_info": {
   "codemirror_mode": {
    "name": "ipython",
    "version": 3
   },
   "file_extension": ".py",
   "mimetype": "text/x-python",
   "name": "python",
   "nbconvert_exporter": "python",
   "pygments_lexer": "ipython3",
   "version": "3.8.2"
  }
 },
 "nbformat": 4,
 "nbformat_minor": 4
}
