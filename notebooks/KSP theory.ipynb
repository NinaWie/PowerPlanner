{
 "cells": [
  {
   "cell_type": "code",
   "execution_count": null,
   "metadata": {},
   "outputs": [],
   "source": [
    "import os\n",
    "import pickle\n",
    "import time\n",
    "import numpy as np\n",
    "import json\n",
    "import matplotlib.pyplot as plt\n",
    "from types import SimpleNamespace\n",
    "from collections import defaultdict\n",
    "from numba import jit\n",
    "\n",
    "# utils imports\n",
    "from power_planner.data_reader import DataReader\n",
    "from power_planner import graphs\n",
    "from power_planner.plotting import plot_path_costs, plot_pipeline_paths, plot_path, plot_k_sp\n",
    "from power_planner.utils.utils import get_distance_surface, time_test_csv, compute_pylon_dists\n",
    "from power_planner.utils.utils_ksp import KspUtils"
   ]
  },
  {
   "cell_type": "code",
   "execution_count": null,
   "metadata": {},
   "outputs": [],
   "source": [
    "PATH_FILES = \"../data\"\n",
    "\n",
    "# DEFINE CONFIGURATION\n",
    "ID = \"w_ksp_5\"  # str(round(time.time() / 60))[-5:]\n",
    "\n",
    "OUT_PATH = \"outputs/path_\" + ID\n",
    "SCALE_PARAM = 2  # args.scale\n",
    "# normal graph pipeline\n",
    "# PIPELINE = [(2, 50), (1, 0)]  # [(1, 0)]  # [(4, 80), (2, 50), (1, 0)]  #\n",
    "# random graph pipeline\n",
    "PIPELINE = [(1, 0)]  # [(0.9, 40), (0, 0)]\n",
    "\n",
    "GRAPH_TYPE = graphs.ImplicitKSP\n",
    "# LineGraph, WeightedGraph, RandomWeightedGraph, RandomLineGraph, PowerBF\n",
    "# TwoPowerBF, WeightedKSP\n",
    "print(\"graph type:\", GRAPH_TYPE)\n",
    "# summarize: mean/max/min, remove: all/surrounding, sample: simple/watershed\n",
    "NOTES = \"None\"  # \"mean-all-simple\"\n",
    "\n",
    "IOPATH = os.path.join(PATH_FILES, \"belgium_dump_\" + str(SCALE_PARAM) + \".dat\")\n",
    "\n",
    "with open(\"../config.json\", \"r\") as infile:\n",
    "    cfg_dict = json.load(infile)  # Config(SCALE_PARAM)\n",
    "    cfg = SimpleNamespace(**cfg_dict)\n",
    "    cfg.PYLON_DIST_MIN, cfg.PYLON_DIST_MAX = compute_pylon_dists(\n",
    "        cfg.PYLON_DIST_MIN, cfg.PYLON_DIST_MAX, cfg.RASTER, SCALE_PARAM\n",
    "    )"
   ]
  },
  {
   "cell_type": "code",
   "execution_count": null,
   "metadata": {},
   "outputs": [],
   "source": [
    "# READ DATA\n",
    "with open(IOPATH, \"rb\") as infile:\n",
    "    data = pickle.load(infile)\n",
    "    (instance, instance_corr, start_inds, dest_inds) = data.data"
   ]
  },
  {
   "cell_type": "code",
   "execution_count": null,
   "metadata": {},
   "outputs": [],
   "source": [
    "tic1 = time.time()\n",
    "graph = GRAPH_TYPE(\n",
    "    instance, instance_corr, graphtool=cfg.GTNX, verbose=cfg.VERBOSE\n",
    ")\n",
    "\n",
    "graph.set_shift(\n",
    "    cfg.PYLON_DIST_MIN,\n",
    "    cfg.PYLON_DIST_MAX,\n",
    "    dest_inds - start_inds,\n",
    "    cfg.MAX_ANGLE,\n",
    "    max_angle_lg=cfg.MAX_ANGLE_LG\n",
    ")\n",
    "corridor = np.ones(instance_corr.shape) * 0.5  # start with all\n",
    "\n",
    "graph.set_corridor(corridor, start_inds, dest_inds, factor_or_n_edges=1)\n",
    "\n",
    "graph.set_edge_costs(\n",
    "    data.layer_classes, data.class_weights, angle_weight=cfg.ANGLE_WEIGHT\n",
    ")\n",
    "# add vertices\n",
    "graph.add_nodes()\n",
    "\n",
    "# START PIPELINE\n",
    "tic = time.time()\n",
    "print(\"1) set cost rest\")\n",
    "graph.add_edges()\n",
    "print(\"2) added edges\", graph.n_edges)\n",
    "print(\"number of vertices:\", graph.n_nodes)\n",
    "\n",
    "# weighted sum of all costs\n",
    "graph.sum_costs()\n",
    "source_v, target_v = graph.add_start_and_dest(start_inds, dest_inds)\n",
    "print(\"3) summed cost, get source and dest\")\n",
    "# get actual best path\n",
    "path, path_costs, cost_sum = graph.get_shortest_path(source_v, target_v)\n",
    "print(\"4) shortest path\")\n",
    "print(time.time()-tic1)"
   ]
  },
  {
   "cell_type": "code",
   "execution_count": null,
   "metadata": {},
   "outputs": [],
   "source": [
    "graph.get_shortest_path_tree(source_v, target_v)"
   ]
  },
  {
   "cell_type": "markdown",
   "metadata": {},
   "source": [
    "### eucl distance impl ksp"
   ]
  },
  {
   "cell_type": "code",
   "execution_count": null,
   "metadata": {},
   "outputs": [],
   "source": [
    "ksp = graph.k_shortest_paths(source_v, target_v, 5)"
   ]
  },
  {
   "cell_type": "markdown",
   "metadata": {},
   "source": [
    "### eucl max dist greedy"
   ]
  },
  {
   "cell_type": "code",
   "execution_count": null,
   "metadata": {},
   "outputs": [],
   "source": [
    "def ksp_eucl_max(self, source, dest, k, overlap=0.5):\n",
    "    min_node_dists, v_shortest, min_shift_dists = compute_min_node_dists(self)  \n",
    "    best_paths = [self.best_path]\n",
    "    tup_path = [np.array(p) for p in self.best_path]\n",
    "    # sp_set = set(tuple_path)\n",
    "    sorted_dists = min_node_dists.flatten()[v_shortest]\n",
    "    _, arr_len  = min_node_dists.shape\n",
    "\n",
    "    expanded = 0\n",
    "    for j in range(len(v_shortest)):\n",
    "        if sorted_dists[j]==sorted_dists[j-1]:\n",
    "            # we always check a path only if it is the x-th appearance\n",
    "            # print(counter)\n",
    "            continue\n",
    "         \n",
    "        # counter large enough --> expand\n",
    "        (x2, x3) = v_shortest[j]//arr_len, v_shortest[j]%arr_len\n",
    "        \n",
    "        # compute eucledian distances\n",
    "        eucl_dist = [np.linalg.norm(np.array([x2,x3]) - tup) for tup in tup_path]\n",
    "        if np.min(eucl_dist)>overlap:\n",
    "            expanded += 1\n",
    "            x1 = min_shift_dists[x2,x3]\n",
    "            if self.dists_ba[x1, x2, x3] == 0:\n",
    "                # print(\"inc edge to dest\")\n",
    "                # = 0 for inc edges of dest_inds (init of dists_ba)\n",
    "                continue\n",
    "            vertices_path = self._combined_paths(\n",
    "                source, dest, x1, [x2, x3]\n",
    "            )\n",
    "            best_paths.append(vertices_path)\n",
    "            tup_path.extend(list(vertices_path))\n",
    "\n",
    "            if len(best_paths) >= k:\n",
    "                print(j, \"expanded\", expanded)\n",
    "                break\n",
    "\n",
    "    return [self.transform_path(path) for path in best_paths]"
   ]
  },
  {
   "cell_type": "code",
   "execution_count": null,
   "metadata": {},
   "outputs": [],
   "source": [
    "tic_overall = time.time()\n",
    "ksp = ksp_eucl_max(graph, start_inds, dest_inds, 5, overlap = 30)\n",
    "print(\"time\", time.time()-tic_overall)"
   ]
  },
  {
   "cell_type": "code",
   "execution_count": null,
   "metadata": {
    "scrolled": false
   },
   "outputs": [],
   "source": [
    "plot_k_sp(ksp, graph.instance)"
   ]
  },
  {
   "cell_type": "markdown",
   "metadata": {},
   "source": [
    "### counter"
   ]
  },
  {
   "cell_type": "code",
   "execution_count": null,
   "metadata": {},
   "outputs": [],
   "source": [
    "def ksp_w_counter(self, source, dest, k, overlap=0.5):\n",
    "    min_node_dists, v_shortest, min_shift_dists = compute_min_node_dists(self)  \n",
    "    best_paths = [self.best_path]\n",
    "    tuple_path = [tuple(p) for p in self.best_path]\n",
    "    sp_set = set(tuple_path)\n",
    "    sorted_dists = min_node_dists.flatten()[v_shortest]\n",
    "    _, arr_len  = min_node_dists.shape\n",
    "    COUNT_THRESH = 4\n",
    "    counter = 0\n",
    "    start = 0\n",
    "    expanded = 0\n",
    "    for j in range(len(v_shortest)):\n",
    "        if sorted_dists[j]==start:\n",
    "            # we always check a path only if it is the x-th appearance\n",
    "            counter += 1\n",
    "            # print(counter)\n",
    "            continue\n",
    "            \n",
    "        if counter < COUNT_THRESH:\n",
    "            counter = 1\n",
    "            start = sorted_dists[j]\n",
    "            continue\n",
    "        # reset counter\n",
    "        counter = 0\n",
    "        expanded += 1\n",
    "        # counter large enough --> expand\n",
    "        (x2, x3) = v_shortest[j]//arr_len, v_shortest[j]%arr_len\n",
    "        x1 = min_shift_dists[x2,x3]\n",
    "        if self.dists_ba[x1, x2, x3] == 0:\n",
    "            # print(\"inc edge to dest\")\n",
    "            # = 0 for inc edges of dest_inds (init of dists_ba)\n",
    "            continue\n",
    "        vertices_path = self._combined_paths(\n",
    "            source, dest, x1, [x2, x3]\n",
    "        )\n",
    "        # compute similarity with previous paths\n",
    "        # TODO: similarities\n",
    "        already = np.array([tuple(u) in sp_set for u in vertices_path])\n",
    "        # print(already)\n",
    "        if np.sum(already) < len(already) * overlap:\n",
    "            best_paths.append(vertices_path)\n",
    "            tup_path = [tuple(p) for p in vertices_path]\n",
    "            sp_set.update(tup_path)\n",
    "            # _, _, cost = self.transform_path(vertices_path)\n",
    "            # print(\"found new path with cost\", cost)\n",
    "            # print(\"sorted dist:\", sorted_dists[j])\n",
    "        if len(best_paths) >= k:\n",
    "            print(j, \"expanded\", expanded)\n",
    "            break\n",
    "    \n",
    "        start = sorted_dists[j]\n",
    "    return [self.transform_path(path) for path in best_paths]"
   ]
  },
  {
   "cell_type": "markdown",
   "metadata": {},
   "source": [
    "## Implicit KSP with vertices"
   ]
  },
  {
   "cell_type": "code",
   "execution_count": null,
   "metadata": {},
   "outputs": [],
   "source": [
    "def k_shortest_paths(self, source, dest, k, overlap=0.5):\n",
    "    tic = time.time()\n",
    "\n",
    "    best_paths = [self.best_path]\n",
    "    tuple_path = [tuple(p) for p in self.best_path]\n",
    "    sp_set = set(tuple_path)\n",
    "    # sum both dists_ab and dists_ba, subtract inst because counted twice\n",
    "    summed_dists = (self.dists + self.dists_ba - self.instance)\n",
    "    # mins along outgoing edges\n",
    "    min_node_dists = np.min(summed_dists, axis=0)\n",
    "    self.min_node_dists = min_node_dists\n",
    "    min_shift_dists = np.argmin(summed_dists, axis=0)\n",
    "    # argsort\n",
    "    v_shortest = np.argsort(min_node_dists.flatten())\n",
    "    _, arr_len  = min_node_dists.shape\n",
    "    c1=0\n",
    "    c2=0\n",
    "    t1, t2 = [], []\n",
    "    times_expand, times_compare = [], []\n",
    "    expanded = 0\n",
    "    # e_shortest = np.argsort(min_node_dists.flatten())\n",
    "    # sorted dists:\n",
    "    sorted_dists = min_node_dists.flatten()[v_shortest]\n",
    "    # for (i,j) in self.best_path:\n",
    "     #   print(min_node_dists[i,j])\n",
    "    # print(sp_set)\n",
    "    # iterate over edges from least to most costly\n",
    "    for j in range(len(v_shortest)):\n",
    "        if sorted_dists[j] == sorted_dists[j - 1]:\n",
    "            # already checked\n",
    "            c1+=1\n",
    "            continue\n",
    "        (x2, x3) = v_shortest[j]//arr_len, v_shortest[j]%arr_len\n",
    "        x1 = min_shift_dists[x2,x3]\n",
    "        if self.dists_ba[x1, x2, x3] == 0:\n",
    "            # print(\"inc edge to dest\")\n",
    "            # = 0 for inc edges of dest_inds (init of dists_ba)\n",
    "            continue\n",
    "        tic1 = time.time()\n",
    "        vertices_path = self._combined_paths(\n",
    "            source, dest, x1, [x2, x3]\n",
    "        )\n",
    "        times_expand.append(time.time()-tic1)\n",
    "        expanded += 1\n",
    "        # compute similarity with previous paths\n",
    "        # TODO: similarities\n",
    "        tic2 = time.time()\n",
    "        already = np.array([tuple(u) in sp_set for u in vertices_path])\n",
    "        # if similarity < threshold, add\n",
    "        if np.sum(already) < len(already) * overlap:\n",
    "            best_paths.append(vertices_path)\n",
    "            tup_path = [tuple(p) for p in vertices_path]\n",
    "            sp_set.update(tup_path)\n",
    "            # _, _, cost = self.transform_path(vertices_path)\n",
    "            # print(\"found new path with cost\", cost)\n",
    "            # print(\"sorted dist:\", sorted_dists[j])\n",
    "        times_compare.append(time.time()-tic2)\n",
    "        if len(best_paths) >= k:\n",
    "            print(j, \"expanded\", expanded)\n",
    "            break\n",
    "        # if j%1000==0:\n",
    "        #     print(np.mean(times_expand), np.mean(times_compare))\n",
    "        #     print(j, \"expand\", expanded, \"left out\", c2)\n",
    "\n",
    "    self.time_logs[\"ksp\"] = round(time.time() - tic, 3)\n",
    "    return [self.transform_path(path) for path in best_paths]"
   ]
  },
  {
   "cell_type": "code",
   "execution_count": null,
   "metadata": {},
   "outputs": [],
   "source": [
    "plt.figure(figsize=(20,10))\n",
    "plt.imshow(graph.min_node_dists)\n",
    "plt.scatter(dest_inds[1], dest_inds[0])\n",
    "plt.show()\n",
    "# problem: incoming edges to dest ind --> cannot be zero"
   ]
  },
  {
   "cell_type": "code",
   "execution_count": null,
   "metadata": {
    "scrolled": true
   },
   "outputs": [],
   "source": [
    "tic = time.time()\n",
    "ksp = k_shortest_paths(graph, start_inds, dest_inds, 5)\n",
    "print(time.time()-tic)"
   ]
  },
  {
   "cell_type": "markdown",
   "metadata": {},
   "source": [
    "#### Validate results"
   ]
  },
  {
   "cell_type": "code",
   "execution_count": null,
   "metadata": {},
   "outputs": [],
   "source": [
    "plt.figure(figsize= (20,10))\n",
    "plt.imshow(instance_corr)\n",
    "for p in paths:\n",
    "    p = np.array(p)\n",
    "    plt.scatter(p[:,1], p[:,0])\n",
    "    for (i,j) in p:\n",
    "        if instance_corr[i,j]==0:\n",
    "            print(i,j)"
   ]
  },
  {
   "cell_type": "code",
   "execution_count": null,
   "metadata": {},
   "outputs": [],
   "source": [
    "with open(\"../../outputs/testksp_ksp.json\", \"r\") as outfile:\n",
    "    ksp = json.load(outfile)"
   ]
  },
  {
   "cell_type": "code",
   "execution_count": null,
   "metadata": {},
   "outputs": [],
   "source": [
    "paths = [k[0] for k in ksp]"
   ]
  },
  {
   "cell_type": "code",
   "execution_count": null,
   "metadata": {},
   "outputs": [],
   "source": [
    "p1 = np.array(paths[0])"
   ]
  },
  {
   "cell_type": "markdown",
   "metadata": {},
   "source": [
    "### Baseline"
   ]
  },
  {
   "cell_type": "code",
   "execution_count": null,
   "metadata": {},
   "outputs": [],
   "source": [
    "def short_eval(ksp):\n",
    "    # compute sum of all costs\n",
    "    return np.sum([k[2] for k in ksp])"
   ]
  },
  {
   "cell_type": "code",
   "execution_count": null,
   "metadata": {},
   "outputs": [],
   "source": [
    "ksp = graph.k_shortest_paths(source_v, target_v,10, overlap=0.2, mode=\"IoU\")"
   ]
  },
  {
   "cell_type": "code",
   "execution_count": null,
   "metadata": {},
   "outputs": [],
   "source": [
    "ksp_evaluate(ksp)"
   ]
  },
  {
   "cell_type": "code",
   "execution_count": null,
   "metadata": {
    "scrolled": false
   },
   "outputs": [],
   "source": [
    "plot_k_sp(ksp, graph.instance)"
   ]
  },
  {
   "cell_type": "markdown",
   "metadata": {},
   "source": [
    "## Optimize KSP"
   ]
  },
  {
   "cell_type": "code",
   "execution_count": null,
   "metadata": {},
   "outputs": [],
   "source": [
    "best_path_cells, _, best_cost = graph.transform_path(graph.best_path)\n",
    "best_path = graph.best_path"
   ]
  },
  {
   "cell_type": "code",
   "execution_count": null,
   "metadata": {},
   "outputs": [],
   "source": [
    "best_cost"
   ]
  },
  {
   "cell_type": "code",
   "execution_count": null,
   "metadata": {},
   "outputs": [],
   "source": [
    "# get shortest paths\n",
    "vertices = np.unique(graph.pos2node)[1:]\n",
    "v_costs = [graph.instance[(ind // graph.y_len, ind % graph.y_len)] for ind in vertices]\n",
    "v_dists = [graph.dist_map_ab[v] + graph.dist_map_ba[v] for i, v in enumerate(vertices)]\n",
    "v_shortest = np.argsort(v_dists)\n",
    "sorted_dists = np.array(v_dists)[v_shortest]"
   ]
  },
  {
   "cell_type": "code",
   "execution_count": null,
   "metadata": {},
   "outputs": [],
   "source": [
    "graph.instance[tuple(dest_inds)]/2, graph.instance[start_inds[0], start_inds[1]]/2"
   ]
  },
  {
   "cell_type": "code",
   "execution_count": null,
   "metadata": {},
   "outputs": [],
   "source": [
    "sorted_dists[0], v_shortest[0]"
   ]
  },
  {
   "cell_type": "code",
   "execution_count": null,
   "metadata": {},
   "outputs": [],
   "source": [
    "7.4533313605426 + 0.12793022374845409 + 0.07995270935960591"
   ]
  },
  {
   "cell_type": "code",
   "execution_count": null,
   "metadata": {},
   "outputs": [],
   "source": [
    "# proof that they are not the same!!\n",
    "opt_path = compute_sp(graph, vertices[v_shortest[0]], source_v, target_v)\n",
    "for b in range(len(best_path)):\n",
    "    if (opt_path[b]!=best_path[b]):\n",
    "        print(opt_path[b],best_path[b])"
   ]
  },
  {
   "cell_type": "code",
   "execution_count": null,
   "metadata": {},
   "outputs": [],
   "source": [
    "opt_path = simple_transform()"
   ]
  },
  {
   "cell_type": "code",
   "execution_count": null,
   "metadata": {},
   "outputs": [],
   "source": [
    "def compute_sp(self, v, source, dest):\n",
    "    path_ac = self.get_sp_from_preds(self.pred_map_ab, v, source)\n",
    "    path_cb = self.get_sp_from_preds(self.pred_map_ba, v, dest)\n",
    "    # times_getpath.append(time.time() - tic1)\n",
    "    path_ac.reverse()\n",
    "    # concatenate - leave 1 away because otherwise twice\n",
    "    vertices_path = path_ac + path_cb[1:]\n",
    "    return vertices_path"
   ]
  },
  {
   "cell_type": "code",
   "execution_count": null,
   "metadata": {},
   "outputs": [],
   "source": [
    "# params\n",
    "sim_mode = \"IoU\"\n",
    "k = 10\n",
    "overlap = 1"
   ]
  },
  {
   "cell_type": "markdown",
   "metadata": {},
   "source": [
    "### get only ksp:"
   ]
  },
  {
   "cell_type": "code",
   "execution_count": null,
   "metadata": {},
   "outputs": [],
   "source": [
    "overall_set = set(best_path)\n",
    "ksp_paths = [best_path]\n",
    "for j, v_ind in enumerate(v_shortest):\n",
    "    v = vertices[v_ind]\n",
    "    if v not in overall_set:\n",
    "        vertices_path = compute_sp(graph, v, source_v, target_v)\n",
    "        overall_set.update(vertices_path)\n",
    "        ksp_paths.append(vertices_path)\n",
    "        # p, _, cost = graph.transform_path(vertices_path)\n",
    "        # print(cost)\n",
    "    if len(ksp_paths)>=k:\n",
    "        break"
   ]
  },
  {
   "cell_type": "code",
   "execution_count": null,
   "metadata": {},
   "outputs": [],
   "source": [
    "ksp_ksp = [graph.transform_path(p) for p in ksp_paths]"
   ]
  },
  {
   "cell_type": "code",
   "execution_count": null,
   "metadata": {},
   "outputs": [],
   "source": [
    "cost_sum = short_eval(ksp_ksp)"
   ]
  },
  {
   "cell_type": "code",
   "execution_count": null,
   "metadata": {},
   "outputs": [],
   "source": [
    "c_approx = 1.01\n",
    "max_costs = c_approx * cost_sum"
   ]
  },
  {
   "cell_type": "code",
   "execution_count": null,
   "metadata": {},
   "outputs": [],
   "source": [
    "max_costs/10"
   ]
  },
  {
   "cell_type": "code",
   "execution_count": null,
   "metadata": {},
   "outputs": [],
   "source": []
  },
  {
   "cell_type": "code",
   "execution_count": null,
   "metadata": {},
   "outputs": [],
   "source": [
    "c_approx = 1.025\n",
    "max_costs = c_approx*best_cost\n",
    "print(max_costs)"
   ]
  },
  {
   "cell_type": "code",
   "execution_count": null,
   "metadata": {},
   "outputs": [],
   "source": [
    "def eucl_dist(p1, p2):\n",
    "    dists = []\n",
    "    for p in range(min([len(p1), len(p2)])):\n",
    "        dists.append(np.linalg.norm(p1[p]-p2[p]))\n",
    "    return np.mean(dists)\n",
    "    \n",
    "def similarity(s1, s2, mode = \"IoU\"):\n",
    "    path_inter = len(s1.intersection(s2))\n",
    "    if mode == \"IoU\":\n",
    "        return path_inter / len(s1.union(s2))\n",
    "    else:\n",
    "        raise NotImplementedError(\"mode must be iou\")\n",
    "        \n",
    "@jit(nopython=True)\n",
    "def compute_eucl(path1,path2, mode=\"mean\"):\n",
    "    min_dists_out = np.zeros(len(path1))\n",
    "    for p1 in range(len(path1)):\n",
    "        min_dists = np.zeros(len(path2))\n",
    "        for p2 in range(len(path2)):\n",
    "            min_dists[p2] = np.linalg.norm(path1[p1]-path2[p2])\n",
    "        min_dists_out[p1] = np.min(min_dists)\n",
    "    if mode==\"mean\":\n",
    "        return np.mean(min_dists_out)\n",
    "    elif mode==\"max\":\n",
    "        return np.max(min_dists_out)\n",
    "            \n",
    "        \n",
    "def path_distance(p1,p2,mode=\"jaccard\"):\n",
    "    \"\"\"\n",
    "    modes: Jaccard: jaccard distance (1-IoU)\n",
    "            eucl_mean: from all min eucl distances, take mean\n",
    "            eucl_max: from all min eucl distances, take max\n",
    "    \"\"\"\n",
    "    if mode==\"jaccard\":\n",
    "        s1 = set([tuple(p) for p in p1])\n",
    "        s2 = set([tuple(p) for p in p2])\n",
    "        # s1,s2 = (set(list(p1)),set(list(p2)))\n",
    "        return 1 - len(s1.intersection(s2))/len(s1.union(s2))\n",
    "    elif mode.startswith(\"euc\"):\n",
    "        p1 = np.array(p1).astype(\"float\")\n",
    "        p2 = np.array(p2).astype(\"float\")\n",
    "        eucl_mode = mode.split(\"_\")[1]\n",
    "        return max([compute_eucl(p1,p2,mode=eucl_mode), compute_eucl(p2,p1,mode=eucl_mode)])"
   ]
  },
  {
   "cell_type": "code",
   "execution_count": null,
   "metadata": {},
   "outputs": [],
   "source": [
    "path_distance()"
   ]
  },
  {
   "cell_type": "code",
   "execution_count": null,
   "metadata": {},
   "outputs": [],
   "source": [
    "start = 0\n",
    "counter = 20\n",
    "dist_arr = []\n",
    "collected_paths = []\n",
    "for c in range(len(v_shortest)):\n",
    "    new = sorted_dists[c]\n",
    "    # check whether exactly the same \n",
    "    if np.isclose(new, start):\n",
    "        counter +=1\n",
    "        continue\n",
    "        \n",
    "    # counter: tells me how many new nodes this path has in contrast to the one before --> skip if not very different  \n",
    "    if counter<10:\n",
    "        counter = 1\n",
    "        start = new\n",
    "        continue\n",
    "        \n",
    "    # elidgible: compute path\n",
    "    # print(start, counter)\n",
    "    vertices_path = compute_sp(graph, vertices[v_shortest[c]], source_v, target_v)\n",
    "    if vertices_path[0]!=source_v or vertices_path[-1]!= target_v:\n",
    "        print(vertices[v_shortest[c]])\n",
    "        print(vertices_path)\n",
    "        raise RuntimeError(\"source or target not contained\")\n",
    "    collected_paths.append(vertices_path)\n",
    "    \n",
    "    # renew the current mindist\n",
    "    start = new\n",
    "    counter = 1\n",
    "    \n",
    "    # stop to collect paths if costs too high\n",
    "    if start>max_costs:\n",
    "        break"
   ]
  },
  {
   "cell_type": "code",
   "execution_count": null,
   "metadata": {},
   "outputs": [],
   "source": [
    "len(collected_paths)"
   ]
  },
  {
   "cell_type": "code",
   "execution_count": null,
   "metadata": {},
   "outputs": [],
   "source": [
    "collected_coords = [simple_transform(p) for p in collected_paths]"
   ]
  },
  {
   "cell_type": "code",
   "execution_count": null,
   "metadata": {},
   "outputs": [],
   "source": [
    "dists = np.zeros((len(collected_coords), len(collected_coords)))\n",
    "for i in range(len(collected_coords)):\n",
    "    for j in range(i, len(collected_coords)):\n",
    "        dists[i,j] = path_distance(collected_coords[i], collected_coords[j],mode=\"jaccard\")\n",
    "        dists[j,i] = dists[i,j]"
   ]
  },
  {
   "cell_type": "code",
   "execution_count": null,
   "metadata": {},
   "outputs": [],
   "source": [
    "plt.imshow(dists)\n",
    "plt.colorbar()\n",
    "plt.show()"
   ]
  },
  {
   "cell_type": "code",
   "execution_count": null,
   "metadata": {},
   "outputs": [],
   "source": [
    "nr_paths = len(collected_sets)\n",
    "d1 = np.argmax(dists)// nr_paths\n",
    "d2 = np.argmax(dists)% nr_paths"
   ]
  },
  {
   "cell_type": "code",
   "execution_count": null,
   "metadata": {},
   "outputs": [],
   "source": [
    "d1,d2"
   ]
  },
  {
   "cell_type": "code",
   "execution_count": null,
   "metadata": {},
   "outputs": [],
   "source": [
    "collected_paths[d1][0], collected_paths[d1][-1], collected_paths[d2][0], collected_paths[d2][-1]"
   ]
  },
  {
   "cell_type": "code",
   "execution_count": null,
   "metadata": {},
   "outputs": [],
   "source": [
    "nr_paths"
   ]
  },
  {
   "cell_type": "code",
   "execution_count": null,
   "metadata": {},
   "outputs": [],
   "source": [
    "def plot_path(path):\n",
    "    coords, _, _ = graph.transform_path(path)\n",
    "    coords = np.array(coords)\n",
    "    plt.plot(coords[:,0], coords[:,1])"
   ]
  },
  {
   "cell_type": "code",
   "execution_count": null,
   "metadata": {},
   "outputs": [],
   "source": [
    "plot_path(collected_paths[d1])\n",
    "plot_path(collected_paths[d2])\n",
    "div_ksp = [d1,d2]\n",
    "for _ in range(8):\n",
    "    min_dists = []\n",
    "    for i in range(nr_paths):\n",
    "        min_dists.append(np.min([dists[i,div_ksp]]))\n",
    "    d3 = np.argmax(min_dists)\n",
    "    # print(collected_paths[d3][0], collected_paths[d3][-1])\n",
    "    # print(d3)\n",
    "    div_ksp.append(d3)\n",
    "    plot_path(collected_paths[d3])\n",
    "plt.show()"
   ]
  },
  {
   "cell_type": "markdown",
   "metadata": {},
   "source": [
    "### first part (based on prev)"
   ]
  },
  {
   "cell_type": "markdown",
   "metadata": {},
   "source": [
    "#### Eucledian distance"
   ]
  },
  {
   "cell_type": "code",
   "execution_count": null,
   "metadata": {},
   "outputs": [],
   "source": [
    "overlap = 5\n",
    "k=10\n",
    "sim_mode=\"IoU\""
   ]
  },
  {
   "cell_type": "code",
   "execution_count": null,
   "metadata": {},
   "outputs": [],
   "source": [
    "best_path = graph.best_path"
   ]
  },
  {
   "cell_type": "code",
   "execution_count": null,
   "metadata": {},
   "outputs": [],
   "source": [
    "def simple_transform(path):\n",
    "    return np.array([(ind // graph.y_len, ind % graph.y_len) for ind in path])"
   ]
  },
  {
   "cell_type": "code",
   "execution_count": null,
   "metadata": {},
   "outputs": [],
   "source": [
    "from power_planner.utils.utils_ksp import KspUtils"
   ]
  },
  {
   "cell_type": "code",
   "execution_count": null,
   "metadata": {},
   "outputs": [],
   "source": [
    "# set of all considered vertices\n",
    "overall_set = set(best_path)\n",
    "# helper set of only the best path\n",
    "best_set = set(best_path)\n",
    "# list of currently selected paths\n",
    "best_paths = []\n",
    "# same as above, but sets\n",
    "best_path_sets = [simple_transform(best_path)]\n",
    "# list of all that are considered\n",
    "all_considered_paths = []\n",
    "problematic_paths = []\n",
    "for j, v_ind in enumerate(v_shortest):\n",
    "    v = vertices[v_ind]\n",
    "    if v not in overall_set:\n",
    "        if int(graph.pred_map_ab[v]) == int(v) or int(graph.pred_map_ba[v]) == int(v):\n",
    "            continue\n",
    "        vertices_path = graph.compute_sp(v, source_v, target_v)\n",
    "        sim_w_best = KspUtils.similarity(best_set, set(vertices_path), mode=sim_mode)\n",
    "        if sim_w_best<overlap:\n",
    "            overall_set.update(vertices_path)\n",
    "            all_considered_paths.append(vertices_path)\n",
    "        else:\n",
    "            # do not care further if similarity with best path is already too big\n",
    "            continue\n",
    "        # check if diversity wrt to all others is fine\n",
    "        trans_path = simple_transform(vertices_path)\n",
    "        sofar = np.array([eucl_dist(trans_path, sp) for sp in best_path_sets])\n",
    "        # print(sofar)\n",
    "        # sofar = np.array([graphs.WeightedKSP.similarity(sp, set(vertices_path), sim_mode) for sp in best_path_sets])\n",
    "        if np.all(sofar > overlap):\n",
    "            # only store index of current path\n",
    "            best_paths.append(len(all_considered_paths)-1)\n",
    "            best_path_sets.append(trans_path)\n",
    "            problematic_paths.append(0)\n",
    "            print(j)\n",
    "        else:\n",
    "            a = np.where(sofar<=overlap)\n",
    "            problematic_paths.append(a[-1][0])\n",
    "    # stop if k paths have been found\n",
    "    if len(best_paths) >= k:\n",
    "        break"
   ]
  },
  {
   "cell_type": "code",
   "execution_count": null,
   "metadata": {},
   "outputs": [],
   "source": [
    "best_paths"
   ]
  },
  {
   "cell_type": "markdown",
   "metadata": {},
   "source": [
    "### consider preliminary result:"
   ]
  },
  {
   "cell_type": "code",
   "execution_count": null,
   "metadata": {},
   "outputs": [],
   "source": [
    "len(all_considered_paths), len(v_shortest)"
   ]
  },
  {
   "cell_type": "code",
   "execution_count": null,
   "metadata": {},
   "outputs": [],
   "source": [
    "ksp_prelim = [graph.transform_path(p) for p in np.array(all_considered_paths)[best_paths]]"
   ]
  },
  {
   "cell_type": "code",
   "execution_count": null,
   "metadata": {},
   "outputs": [],
   "source": [
    "short_eval(ksp_prelim)"
   ]
  },
  {
   "cell_type": "code",
   "execution_count": null,
   "metadata": {},
   "outputs": [],
   "source": [
    "def ksp_evaluate(ksp, sim_mode= \"IoU\"):\n",
    "    costs = [k[2] for k in ksp]\n",
    "    paths = [k[0] for k in ksp]\n",
    "    \n",
    "    path_sets = [set(p) for p in paths]\n",
    "    \n",
    "    if sim_mode==\"total_nodes\":\n",
    "        return np.sum(costs), len(set.union(*path_sets))\n",
    "    \n",
    "    inters = []\n",
    "    # iterate over all combinations\n",
    "    for i in range(len(paths)):\n",
    "        for j in range(i+1,len(paths)):\n",
    "            if sim_mode == 'eucledian':\n",
    "                p1 = paths[i]\n",
    "                p2 = paths[j]\n",
    "                norms = []\n",
    "                for k in range(min([len(p1), len(p2)])):\n",
    "                    norms.append(np.linalg.norm(np.array(p1[k])-np.array(p2[k])))\n",
    "                inters.append(np.max(norms))\n",
    "            else:\n",
    "                print(\"hi\")\n",
    "                inters.append(similarity(path_sets[i], path_sets[j], mode=sim_mode))\n",
    "    # print(inters)\n",
    "    # assert(not any([i==1 for i in inters]))\n",
    "    return np.sum(costs), np.sum(inters)"
   ]
  },
  {
   "cell_type": "code",
   "execution_count": null,
   "metadata": {},
   "outputs": [],
   "source": [
    "ksp_evaluate(ksp_prelim, sim_mode=\"eucledian\")"
   ]
  },
  {
   "cell_type": "code",
   "execution_count": null,
   "metadata": {},
   "outputs": [],
   "source": [
    "plot_k_sp(ksp_prelim, graph.instance)"
   ]
  },
  {
   "cell_type": "markdown",
   "metadata": {},
   "source": [
    "### plot all_considered"
   ]
  },
  {
   "cell_type": "code",
   "execution_count": null,
   "metadata": {},
   "outputs": [],
   "source": [
    "best_paths"
   ]
  },
  {
   "cell_type": "code",
   "execution_count": null,
   "metadata": {},
   "outputs": [],
   "source": [
    "arr = np.zeros(instance_corr.shape)\n",
    "for path in all_considered_paths:\n",
    "    path_trans = [(ind // graph.y_len, ind % graph.y_len) for ind in path]\n",
    "    for (i,j) in path_trans:\n",
    "        arr[i,j] = 1\n",
    "        \n",
    "for b in best_paths:\n",
    "    path_trans = [(ind // graph.y_len, ind % graph.y_len) for ind in all_considered_paths[b]]\n",
    "    for (i,j) in path_trans:\n",
    "        arr[i,j]= 2"
   ]
  },
  {
   "cell_type": "code",
   "execution_count": null,
   "metadata": {},
   "outputs": [],
   "source": [
    "plt.figure(figsize=(20,10))\n",
    "plt.imshow(arr)\n",
    "plt.colorbar()\n",
    "plt.show()"
   ]
  },
  {
   "cell_type": "markdown",
   "metadata": {},
   "source": [
    "## Refine\n",
    "\n",
    "Now, we only need to lower the cost by good switching"
   ]
  },
  {
   "cell_type": "code",
   "execution_count": null,
   "metadata": {},
   "outputs": [],
   "source": [
    "prob, prob_counts = np.unique(problematic_paths, return_counts=True)"
   ]
  },
  {
   "cell_type": "code",
   "execution_count": null,
   "metadata": {},
   "outputs": [],
   "source": [
    "swap_path = best_paths[prob[np.argmax(prob_counts)]]"
   ]
  },
  {
   "cell_type": "code",
   "execution_count": null,
   "metadata": {},
   "outputs": [],
   "source": [
    "swap_path"
   ]
  },
  {
   "cell_type": "code",
   "execution_count": null,
   "metadata": {},
   "outputs": [],
   "source": [
    "min_path_len = np.min([len(p) for p in all_considered_paths])"
   ]
  },
  {
   "cell_type": "code",
   "execution_count": null,
   "metadata": {},
   "outputs": [],
   "source": [
    "cut_paths = np.array([p[:min_path_len] for p in all_considered_paths])"
   ]
  },
  {
   "cell_type": "code",
   "execution_count": null,
   "metadata": {},
   "outputs": [],
   "source": [
    "cut_paths.shape"
   ]
  },
  {
   "cell_type": "code",
   "execution_count": null,
   "metadata": {},
   "outputs": [],
   "source": []
  },
  {
   "cell_type": "markdown",
   "metadata": {},
   "source": [
    "## KSP evaluate"
   ]
  },
  {
   "cell_type": "code",
   "execution_count": null,
   "metadata": {},
   "outputs": [],
   "source": [
    "def ksp_eval_eucledian(ksp):\n",
    "    path_pos = [k[0] for k in ksp]\n",
    "    # path_pos = [[(ind // graph.y_len, ind % graph.y_len) for ind in p] for p in paths]\n",
    "    \n",
    "    inters = []\n",
    "    for i in range(len(path_pos)):\n",
    "        for j in range(i+1,len(path_pos)):\n",
    "            p1 = path_pos[i]\n",
    "            p2 = path_pos[j]\n",
    "            norms = []\n",
    "            for k in range(min([len(p1), len(p2)])):\n",
    "                norms.append(np.linalg.norm(np.array(p1[k])-np.array(p2[k])))\n",
    "            inters.append(np.max(norms))\n",
    "            print(i,j,inters[-1])\n",
    "    for i,p in enumerate(path_pos):\n",
    "        p = np.array(p)\n",
    "        plt.plot(p[:,0], p[:,1], label=i)\n",
    "    plt.legend()\n",
    "    plt.show()\n",
    "\n",
    "def compare_ksps(list_of_ksps, plot_labels, k, sim_mode=\"total_nodes\"):\n",
    "    for i, ksp_comp in enumerate(list_of_ksps):\n",
    "        costs, sims = [], []\n",
    "        for ksp in ksp_comp:\n",
    "            if len(ksp)==k:\n",
    "                cost, sim = ksp_evaluate(ksp, sim_mode=sim_mode)\n",
    "                costs.append(cost)\n",
    "                sims.append(sim)\n",
    "        plt.plot(sims, costs, label=plot_labels[i])\n",
    "    plt.title(\"comparison of ksp algorithms\")\n",
    "    plt.ylabel(\"sum of costs\")\n",
    "    plt.xlabel(\"similarity\")\n",
    "    plt.legend()\n",
    "    plt.show()"
   ]
  },
  {
   "cell_type": "markdown",
   "metadata": {},
   "source": [
    "### My new formulation: number of unique nodes in set"
   ]
  },
  {
   "cell_type": "code",
   "execution_count": null,
   "metadata": {},
   "outputs": [],
   "source": [
    "def k_shortest_paths_new(self, source, dest, k, overlap=0.5):\n",
    "    \"\"\"\n",
    "    Compute the k shortest path with minumum number of unique vertices\n",
    "    Arguments:\n",
    "        source: source vertex\n",
    "        dest: target vertex\n",
    "        k: number of paths to output\n",
    "        overlap: maximum similarity\n",
    "    \"\"\"\n",
    "    tic = time.time()\n",
    "    THRESH = overlap * k * len(self.best_path)\n",
    "    # sp_set = set(self.best_path)\n",
    "    k_paths = [self.best_path]\n",
    "    # save for each element in which paths it occurs\n",
    "    occ_dict = defaultdict(list)\n",
    "    for elem in self.best_path:\n",
    "        occ_dict[elem].append(0)\n",
    "    # occ_dict = {elem: [0] for elem in self.best_path}\n",
    "    \n",
    "    # get shortest paths\n",
    "    vertices = np.unique(self.pos2node)[1:]\n",
    "    v_dists = [self.dist_map_ab[v] + self.dist_map_ba[v] for v in vertices]\n",
    "    v_shortest = np.argsort(v_dists)\n",
    "    \n",
    "    # iterate\n",
    "    for j, v_ind in enumerate(v_shortest):\n",
    "        v = vertices[v_ind]\n",
    "        # v is already in one of the paths\n",
    "        if v in occ_dict.keys():\n",
    "            continue\n",
    "        \n",
    "        # get path itself\n",
    "        if int(self.pred_map_ab[v]\n",
    "                   ) == int(v) or int(self.pred_map_ba[v]) == int(v):\n",
    "                continue\n",
    "        # tic1 = time.time()\n",
    "        try:\n",
    "            path_ac = self.get_sp_from_preds(\n",
    "                self.pred_map_ab, v, source\n",
    "            )\n",
    "            path_cb = self.get_sp_from_preds(self.pred_map_ba, v, dest)\n",
    "        except RuntimeWarning:\n",
    "            print(\"while loop not terminating\")\n",
    "            continue\n",
    "        # times_getpath.append(time.time() - tic1)\n",
    "        path_ac.reverse()\n",
    "        # concatenate - leave 1 away because otherwise twice\n",
    "        vertices_path = path_ac + path_cb[1:]\n",
    "\n",
    "        # if we have less than k paths so far, add immediatly\n",
    "        if len(k_paths)<k:\n",
    "            k_paths.append(vertices_path)\n",
    "            # sp_set.update(vertices_path)\n",
    "            for v in vertices_path:\n",
    "                occ_dict[v].append(len(k_paths)-1)\n",
    "            continue\n",
    "        # print(occ_dict)\n",
    "        \n",
    "        # implement path switch\n",
    "        overlap_new = np.sum(np.array([u in occ_dict.keys() for u in vertices_path]))\n",
    "        # skip first one because want to keep SP\n",
    "        overlaps_prev = [0]\n",
    "        for prev in k_paths[1:]:\n",
    "            occs = np.array([len(occ_dict[v]) for v in prev])\n",
    "            overlaps_prev.append(len(occs[occs>1]))\n",
    "        \n",
    "        # for k in range(len(k_paths)):\n",
    "        #     print(k_paths[k], len(k_paths[k]))\n",
    "        #     print(overlaps_prev[k])\n",
    "        # evaluate(k_paths)\n",
    "        \n",
    "        # print(np.max(overlaps_prev), overlap_new)\n",
    "        if np.max(overlaps_prev)> overlap_new:\n",
    "            # TODO: flip --> if tie than last one\n",
    "            # print([np.sum(p) for p in k_paths])\n",
    "            dump_path_ind = np.argmax(overlaps_prev)\n",
    "            del k_paths[dump_path_ind]\n",
    "            # print(\"dumped\", dump_path_ind)\n",
    "            k_paths.insert(dump_path_ind, vertices_path)\n",
    "            # remove indices from dict\n",
    "            for key in occ_dict.keys():\n",
    "                if dump_path_ind in occ_dict[key]:\n",
    "                \tocc_dict[key].remove(dump_path_ind)\n",
    "            for key in vertices_path:\n",
    "                occ_dict[key].append(dump_path_ind)\n",
    "            # print(\"swapped\", dump_path_ind)\n",
    "        # print(occ_dict)\n",
    "        check_cond = np.sum([1 for k in occ_dict.keys() if len(occ_dict[k])>0])\n",
    "        if check_cond>THRESH:\n",
    "            print(\"found end\")\n",
    "            print(check_cond, THRESH)\n",
    "            break\n",
    "    self.time_logs[\"ksp\"] = round(time.time() - tic, 3)\n",
    "    p_flat = list()\n",
    "    for k in k_paths:\n",
    "        p_flat.extend(k)\n",
    "    return [self.transform_path(p) for p in k_paths]"
   ]
  },
  {
   "cell_type": "code",
   "execution_count": null,
   "metadata": {},
   "outputs": [],
   "source": [
    "tic = time.time()\n",
    "ksp = k_shortest_paths_new(graph, source_v, target_v, 10, overlap=0.5)\n",
    "print(time.time()-tic)"
   ]
  },
  {
   "cell_type": "markdown",
   "metadata": {},
   "source": [
    "### Compare formulations"
   ]
  },
  {
   "cell_type": "code",
   "execution_count": null,
   "metadata": {},
   "outputs": [],
   "source": [
    "ksps_new = []\n",
    "ksps_old = []\n",
    "for i in [0.1, 0.3, 0.5, 0.65, 0.7, 0.75, 0.8, 0.85, 0.9]:\n",
    "    ksp = k_shortest_paths_new(graph, source_v, target_v, 10, overlap=i)\n",
    "    ksps_new.append(ksp)\n",
    "    ksp_old = graph.k_shortest_paths(source_v, target_v, 10, overlap=i)\n",
    "    ksps_old.append(ksp_old)\n",
    "iou_ksp = []\n",
    "for i in [0.05, 0.07, 0.1, 0.3, 0.5, 0.65, 0.7, 0.75, 0.8, 0.85, 0.9, 0.02]:\n",
    "    ksp_old = graph.k_shortest_paths(source_v, target_v, 10, overlap=i, mode=\"eucledian\")\n",
    "    iou_ksp.append(ksp_old)"
   ]
  },
  {
   "cell_type": "code",
   "execution_count": null,
   "metadata": {},
   "outputs": [],
   "source": [
    "compare_ksps([ksps_new, ksps_old, iou_ksp], [\"new formulation\", \"set mode\", \"IoU\"], 10, sim_mode=\"eucledian\")"
   ]
  },
  {
   "cell_type": "markdown",
   "metadata": {},
   "source": [
    "### Find out about dist_map and pred_map"
   ]
  },
  {
   "cell_type": "code",
   "execution_count": null,
   "metadata": {},
   "outputs": [],
   "source": [
    "from graph_tool.all import Graph, shortest_distance\n",
    "import numpy as np"
   ]
  },
  {
   "cell_type": "code",
   "execution_count": null,
   "metadata": {},
   "outputs": [],
   "source": [
    "g = Graph()\n",
    "g.add_vertex(20)\n",
    "help = g.new_edge_property(\"float\")\n",
    "edges = []\n",
    "for i in range(20):\n",
    "    inds = np.random.permutation(20)[:3]\n",
    "    for a in inds:\n",
    "        edges.append([i+1,a+1,np.random.rand(1)])\n",
    "g.add_edge_list(edges,eprops=[help])"
   ]
  },
  {
   "cell_type": "code",
   "execution_count": null,
   "metadata": {},
   "outputs": [],
   "source": [
    "edges = [e for e in g.vertex(5).out_edges()]"
   ]
  },
  {
   "cell_type": "code",
   "execution_count": null,
   "metadata": {},
   "outputs": [],
   "source": [
    "help[edges[2]]"
   ]
  },
  {
   "cell_type": "code",
   "execution_count": null,
   "metadata": {},
   "outputs": [],
   "source": [
    "g.is_directed()"
   ]
  },
  {
   "cell_type": "code",
   "execution_count": null,
   "metadata": {},
   "outputs": [],
   "source": [
    "dists_ab, preds_ab = shortest_distance(\n",
    "            g,\n",
    "            1,\n",
    "            weights=help,\n",
    "            directed=g.is_directed(),\n",
    "            pred_map=True\n",
    "        )\n",
    "g.set_reversed(is_reversed=True)\n",
    "dists_ba, preds_ba = shortest_distance(\n",
    "            g,\n",
    "            20,\n",
    "            weights=help,\n",
    "            directed=g.is_directed(),\n",
    "            pred_map=True\n",
    "        )"
   ]
  },
  {
   "cell_type": "code",
   "execution_count": null,
   "metadata": {},
   "outputs": [],
   "source": [
    "dists_ab[5], dists_ba[5]"
   ]
  },
  {
   "cell_type": "code",
   "execution_count": null,
   "metadata": {},
   "outputs": [],
   "source": []
  }
 ],
 "metadata": {
  "kernelspec": {
   "display_name": "Python 3",
   "language": "python",
   "name": "python3"
  },
  "language_info": {
   "codemirror_mode": {
    "name": "ipython",
    "version": 3
   },
   "file_extension": ".py",
   "mimetype": "text/x-python",
   "name": "python",
   "nbconvert_exporter": "python",
   "pygments_lexer": "ipython3",
   "version": "3.8.2"
  }
 },
 "nbformat": 4,
 "nbformat_minor": 4
}
