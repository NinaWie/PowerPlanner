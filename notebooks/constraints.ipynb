{
 "cells": [
  {
   "cell_type": "code",
   "execution_count": null,
   "metadata": {},
   "outputs": [],
   "source": [
    "import matplotlib.pyplot as plt\n",
    "import numpy as np\n",
    "import os\n",
    "from PIL import Image\n",
    "import rasterio\n",
    "import sys\n",
    "sys.path.append(\"..\")"
   ]
  },
  {
   "cell_type": "code",
   "execution_count": null,
   "metadata": {},
   "outputs": [],
   "source": [
    "from power_planner.utils.utils import *\n",
    "from power_planner.data_reader import *"
   ]
  },
  {
   "cell_type": "code",
   "execution_count": null,
   "metadata": {},
   "outputs": [],
   "source": [
    "path_files = \"../../data\""
   ]
  },
  {
   "cell_type": "markdown",
   "metadata": {},
   "source": [
    "###  Data exploration / corridor save as json"
   ]
  },
  {
   "cell_type": "code",
   "execution_count": null,
   "metadata": {},
   "outputs": [],
   "source": [
    "with rasterio.open(os.path.join(path_files, \"corridor/Corridor_BE.tif\"), 'r') as ds:\n",
    "    arr = ds.read()\n",
    "corr_img = Image.fromarray(arr[0])\n",
    "plt.hist(np.asarray(corr_img).flatten())\n",
    "# plt.imshow(normalize(corr_img))\n",
    "# plt.colorbar()\n",
    "plt.show()"
   ]
  },
  {
   "cell_type": "code",
   "execution_count": null,
   "metadata": {},
   "outputs": [],
   "source": [
    "import json\n",
    "with open(\"../outputs/path_52421_infos.json\", \"r\") as infile:\n",
    "    path = json.load(infile)[\"path_coordinates\"]"
   ]
  },
  {
   "cell_type": "code",
   "execution_count": null,
   "metadata": {},
   "outputs": [],
   "source": [
    "from rasterio import features"
   ]
  },
  {
   "cell_type": "code",
   "execution_count": null,
   "metadata": {},
   "outputs": [],
   "source": [
    "    # Extract feature shapes and values from the array.\n",
    "    for geom, val in features.shapes(\n",
    "            mask, transform=dataset.transform):\n",
    "\n",
    "        # Transform shapes from the dataset's own coordinate\n",
    "        # reference system to CRS84 (EPSG:4326).\n",
    "        geom = rasterio.warp.transform_geom(\n",
    "            dataset.crs, 'EPSG:4326', geom, precision=6)\n",
    "\n",
    "        # Print GeoJSON shapes to stdout.\n",
    "        print(geom)"
   ]
  },
  {
   "cell_type": "code",
   "execution_count": null,
   "metadata": {},
   "outputs": [],
   "source": [
    "with rasterio.open(os.path.join(path_files, \"corridor/COSTSURFACE.tif\")) as dataset:\n",
    "\n",
    "    # Read the dataset's valid data mask as a ndarray.\n",
    "    mask = dataset.dataset_mask() # gives the 0-1 mask I need!\n",
    "    print(mask.shape)\n",
    "    print(dataset.width)\n",
    "    print(dataset.bounds)\n",
    "    transform_matrix = dataset.transform\n",
    "    arr = dataset.read()\n",
    "    print(arr.shape)\n",
    "    print(dataset.crs)"
   ]
  },
  {
   "cell_type": "code",
   "execution_count": null,
   "metadata": {},
   "outputs": [],
   "source": [
    "crs = rasterio.crs.CRS()"
   ]
  },
  {
   "cell_type": "code",
   "execution_count": null,
   "metadata": {},
   "outputs": [],
   "source": [
    "crs = rasterio.crs.CRS.from_dict(init='epsg:31370')"
   ]
  },
  {
   "cell_type": "code",
   "execution_count": null,
   "metadata": {},
   "outputs": [],
   "source": [
    "crs.is_epsg_code"
   ]
  },
  {
   "cell_type": "code",
   "execution_count": null,
   "metadata": {},
   "outputs": [],
   "source": [
    "coordinates = [transform_matrix*tuple(p) for p in path]\n",
    "print(coordinates)"
   ]
  },
  {
   "cell_type": "code",
   "execution_count": null,
   "metadata": {},
   "outputs": [],
   "source": [
    "with open(\"../outputs/path_result_whole_instance_coords.json\", \"w\") as outfile:\n",
    "    json.dump(coordinates, outfile)"
   ]
  },
  {
   "cell_type": "markdown",
   "metadata": {},
   "source": [
    "## Path straightening:"
   ]
  },
  {
   "cell_type": "code",
   "execution_count": null,
   "metadata": {
    "scrolled": true
   },
   "outputs": [],
   "source": [
    "plot_path(normalize(arr[0]), path, out_path=\"corridor_figure.png\")"
   ]
  },
  {
   "cell_type": "code",
   "execution_count": null,
   "metadata": {},
   "outputs": [],
   "source": [
    "path = np.asarray(path)"
   ]
  },
  {
   "cell_type": "code",
   "execution_count": null,
   "metadata": {},
   "outputs": [],
   "source": [
    "from rdp import rdp, rdp_rec"
   ]
  },
  {
   "cell_type": "code",
   "execution_count": null,
   "metadata": {},
   "outputs": [],
   "source": [
    "straight = rdp_rec(path, epsilon=2) # eps from 0.3 to 2 tested"
   ]
  },
  {
   "cell_type": "code",
   "execution_count": null,
   "metadata": {},
   "outputs": [],
   "source": [
    "len(path),len(straight)"
   ]
  },
  {
   "cell_type": "code",
   "execution_count": null,
   "metadata": {},
   "outputs": [],
   "source": [
    "plt.scatter(path[:,0], path[:,1])\n",
    "plt.scatter(straight[:,0], straight[:,1])\n",
    "plt.show()"
   ]
  },
  {
   "cell_type": "markdown",
   "metadata": {},
   "source": [
    "### RDP Observations:\n",
    "\n",
    "* The Ramer-Douglas-Peucker algorithm is an algorithm for reducing the number of points in a curve that is approximated by a series of points.\n",
    "* leaves curves, simply reduces number of points"
   ]
  },
  {
   "cell_type": "markdown",
   "metadata": {},
   "source": [
    "## Check plotting"
   ]
  },
  {
   "cell_type": "code",
   "execution_count": null,
   "metadata": {},
   "outputs": [],
   "source": [
    "arr = plt.imread(\"../outputs/path_02182.png\")"
   ]
  },
  {
   "cell_type": "code",
   "execution_count": null,
   "metadata": {},
   "outputs": [],
   "source": [
    "np.all(arr[0,0] == np.array([1., 1, 1, 1]))"
   ]
  },
  {
   "cell_type": "code",
   "execution_count": null,
   "metadata": {},
   "outputs": [],
   "source": [
    "arr2 = arr[800:1200, 800:1400]"
   ]
  },
  {
   "cell_type": "code",
   "execution_count": null,
   "metadata": {},
   "outputs": [],
   "source": [
    "arr2[20,30]"
   ]
  },
  {
   "cell_type": "code",
   "execution_count": null,
   "metadata": {},
   "outputs": [],
   "source": [
    "plt.imshow(arr2)\n",
    "plt.show()"
   ]
  },
  {
   "cell_type": "markdown",
   "metadata": {},
   "source": [
    "# environmental constraints (resistance)"
   ]
  },
  {
   "cell_type": "code",
   "execution_count": null,
   "metadata": {},
   "outputs": [],
   "source": [
    "with rasterio.open(os.path.join(path_files, \"corridor/COSTSURFACE.tif\"), 'r') as ds:\n",
    "    arr = ds.read()\n",
    "print(\"read in cost array\", arr.shape)\n",
    "# cost_img = Image.fromarray(arr[0])\n",
    "costs = normalize(arr[0])"
   ]
  },
  {
   "cell_type": "code",
   "execution_count": null,
   "metadata": {},
   "outputs": [],
   "source": [
    "hard_cons = get_hard_constraints(os.path.join(path_files, \"corridor\"),os.path.join(path_files, \"hard_constraints\"))"
   ]
  },
  {
   "cell_type": "markdown",
   "metadata": {},
   "source": [
    "### node constraints"
   ]
  },
  {
   "cell_type": "code",
   "execution_count": null,
   "metadata": {},
   "outputs": [],
   "source": [
    "costs_rest = (costs*hard_cons.astype(int)) # [:, 500:2000]\n",
    "costs_rest = reduce_instance(costs_rest, 16)\n",
    "# todo: ensure sufficient zero padding"
   ]
  },
  {
   "cell_type": "code",
   "execution_count": null,
   "metadata": {},
   "outputs": [],
   "source": [
    "plt.imshow(costs)\n",
    "plt.show()"
   ]
  },
  {
   "cell_type": "code",
   "execution_count": null,
   "metadata": {},
   "outputs": [],
   "source": [
    "plt.imshow(costs_shifted)\n",
    "plt.show()"
   ]
  },
  {
   "cell_type": "code",
   "execution_count": null,
   "metadata": {},
   "outputs": [],
   "source": [
    "shifts = get_half_donut(15,25)"
   ]
  },
  {
   "cell_type": "code",
   "execution_count": null,
   "metadata": {},
   "outputs": [],
   "source": [
    "1621/60"
   ]
  },
  {
   "cell_type": "markdown",
   "metadata": {},
   "source": [
    "## Edge constraints: get line and make convolutions"
   ]
  },
  {
   "cell_type": "code",
   "execution_count": null,
   "metadata": {},
   "outputs": [],
   "source": [
    "shifts = get_half_donut(2.5,5)"
   ]
  },
  {
   "cell_type": "code",
   "execution_count": null,
   "metadata": {},
   "outputs": [],
   "source": [
    "def bresenham_line(x0, y0, x1, y1):\n",
    "    steep = abs(y1 - y0) > abs(x1 - x0)\n",
    "    if steep:\n",
    "        x0, y0 = y0, x0\n",
    "        x1, y1 = y1, x1\n",
    "\n",
    "    switched = False\n",
    "    if x0 > x1:\n",
    "        switched = True\n",
    "        x0, x1 = x1, x0\n",
    "        y0, y1 = y1, y0\n",
    "\n",
    "    if y0 < y1:\n",
    "        ystep = 1\n",
    "    else:\n",
    "        ystep = -1\n",
    "\n",
    "    deltax = x1 - x0\n",
    "    deltay = abs(y1 - y0)\n",
    "    error = -deltax / 2\n",
    "    y = y0\n",
    "\n",
    "    line = []\n",
    "    for x in range(x0, x1 + 1):\n",
    "        if steep:\n",
    "            line.append([y, x])\n",
    "        else:\n",
    "            line.append([x, y])\n",
    "\n",
    "        error = error + deltay\n",
    "        if error > 0:\n",
    "            y = y + ystep\n",
    "            error = error - deltax\n",
    "    if switched:\n",
    "        line.reverse()\n",
    "    return line\n"
   ]
  },
  {
   "cell_type": "code",
   "execution_count": null,
   "metadata": {},
   "outputs": [],
   "source": [
    "# lines = []\n",
    "# for shift in shifts:\n",
    "#     lines.extend(bresenham_line(0,0, shift[0],shift[1]))\n",
    "# lines = np.array(lines)\n",
    "lines = np.asarray(bresenham_line(0,0, 15,-6))\n",
    "arr = np.zeros((16,16))\n",
    "for l in lines:\n",
    "    arr[l[0], l[1]+6] = 1\n",
    "# plt.scatter(lines[:,0], lines[:,1])\n",
    "plt.imshow(arr)\n",
    "plt.show()"
   ]
  },
  {
   "cell_type": "code",
   "execution_count": null,
   "metadata": {},
   "outputs": [],
   "source": [
    "def get_kernel(lower, upper):\n",
    "    \"\"\"\n",
    "    Get all kernels describing the path of the edges in a discrete raster\n",
    "    :param lower: minimum distance of towers\n",
    "    :param upper: maximum distance of towers\n",
    "    \n",
    "    :returns kernel: all possible kernels (number of circle points x upper x upper)\n",
    "    :returns posneg: a list indicating whether it is a path to the left (=1) or to the right(=0)\n",
    "    \"\"\"\n",
    "    shifts = get_half_donut(lower, upper)\n",
    "    posneg = []\n",
    "    kernel = np.zeros((len(shifts), upper, upper))\n",
    "    \n",
    "    for i, shift in enumerate(shifts):\n",
    "        if shift[1]<0:\n",
    "            posneg.append(1)\n",
    "            line = bresenham_line(0, upper-1, shift[0],upper-1+shift[1])\n",
    "        else:\n",
    "            posneg.append(0)\n",
    "            line = bresenham_line(0, 0, shift[0],shift[1])\n",
    "        # add points of line to the kernel\n",
    "        for (j,k) in line:\n",
    "            kernel[i,j,k] += 1\n",
    "    return kernel, posneg"
   ]
  },
  {
   "cell_type": "code",
   "execution_count": null,
   "metadata": {},
   "outputs": [],
   "source": [
    "kernel, posneg = get_kernel(2.5,5)"
   ]
  },
  {
   "cell_type": "code",
   "execution_count": null,
   "metadata": {},
   "outputs": [],
   "source": [
    "def convolve(img, kernel, neg=0):\n",
    "    k_size = len(kernel)\n",
    "    if neg:\n",
    "        padded = np.pad(img, ((0, k_size-1),(k_size-1,0)))\n",
    "    else:\n",
    "        padded = np.pad(img, ((0,k_size),(0,k_size)))\n",
    "    # print(padded.shape)\n",
    "    convolved = np.zeros(img.shape)\n",
    "    w,h = img.shape\n",
    "    for i in range(0, w):\n",
    "        for j in range(0, h):\n",
    "            patch = padded[i:i+k_size, j:j+k_size]\n",
    "            convolved[i,j] = np.sum(patch*kernel)\n",
    "    return convolved\n",
    "\n",
    "# def convolve_negative(img, kernel):\n",
    "#     k_size = len(kernel)\n",
    "#     padded = np.pad(img, ((0, k_size-1),(k_size-1,0)))\n",
    "#     # print(padded.shape)\n",
    "#     convolved = np.zeros(img.shape)\n",
    "#     w,h = img.shape\n",
    "#     for i in range(0, w):\n",
    "#         for j in range(0, h):\n",
    "#             patch = padded[i:i+k_size, j:j+k_size]\n",
    "#             convolved[i,j] = np.sum(patch*kernel)\n",
    "#     return convolved"
   ]
  },
  {
   "cell_type": "code",
   "execution_count": null,
   "metadata": {},
   "outputs": [],
   "source": [
    "arr = np.arange(0,81,1).reshape((9,9))\n",
    "arr"
   ]
  },
  {
   "cell_type": "code",
   "execution_count": null,
   "metadata": {},
   "outputs": [],
   "source": [
    "# example for negative kernel\n",
    "kernel[14]"
   ]
  },
  {
   "cell_type": "code",
   "execution_count": null,
   "metadata": {},
   "outputs": [],
   "source": [
    "from graph_tool.all import *"
   ]
  },
  {
   "cell_type": "code",
   "execution_count": null,
   "metadata": {},
   "outputs": [],
   "source": [
    "arr2 = convolve(arr, kernel[14], actual[14])\n",
    "print(arr2)"
   ]
  },
  {
   "cell_type": "code",
   "execution_count": null,
   "metadata": {},
   "outputs": [],
   "source": [
    "# example for positive kernel\n",
    "kernel[18]"
   ]
  },
  {
   "cell_type": "code",
   "execution_count": null,
   "metadata": {},
   "outputs": [],
   "source": [
    "arr2 = convolve(arr, kernel[18])\n",
    "print(arr2)"
   ]
  },
  {
   "cell_type": "markdown",
   "metadata": {},
   "source": [
    "### Attempts to use scipy --> idea: use tensorflow?"
   ]
  },
  {
   "cell_type": "code",
   "execution_count": null,
   "metadata": {},
   "outputs": [],
   "source": [
    "from scipy.signal import convolve2d"
   ]
  },
  {
   "cell_type": "code",
   "execution_count": null,
   "metadata": {},
   "outputs": [],
   "source": [
    "arr = np.arange(0,20,1).reshape((4,5))\n",
    "kernel = np.zeros((4,4))\n",
    "kernel[[0,1,2],[0,1,2]] = 1"
   ]
  },
  {
   "cell_type": "code",
   "execution_count": null,
   "metadata": {},
   "outputs": [],
   "source": [
    "arr2 = convolve2d(arr, kernel, mode =\"same\")"
   ]
  },
  {
   "cell_type": "code",
   "execution_count": null,
   "metadata": {},
   "outputs": [],
   "source": [
    "arr"
   ]
  },
  {
   "cell_type": "code",
   "execution_count": null,
   "metadata": {},
   "outputs": [],
   "source": [
    "arr2"
   ]
  },
  {
   "cell_type": "markdown",
   "metadata": {},
   "source": [
    "### Test edge constraint optimization"
   ]
  },
  {
   "cell_type": "code",
   "execution_count": null,
   "metadata": {},
   "outputs": [],
   "source": [
    "costs_small = reduce_instance(costs,16)"
   ]
  },
  {
   "cell_type": "code",
   "execution_count": null,
   "metadata": {},
   "outputs": [],
   "source": [
    "dists = (3,6)\n",
    "kernels, posneg = get_kernel(dists[0], dists[1])"
   ]
  },
  {
   "cell_type": "code",
   "execution_count": null,
   "metadata": {},
   "outputs": [],
   "source": [
    "plt.imshow(costs_small)\n",
    "plt.show()"
   ]
  },
  {
   "cell_type": "code",
   "execution_count": null,
   "metadata": {},
   "outputs": [],
   "source": [
    "a = np.random.randint(len(kernels))\n",
    "print(a)\n",
    "print(kernels[a])\n",
    "out = convolve(costs_small, kernels[a], posneg[a])"
   ]
  },
  {
   "cell_type": "code",
   "execution_count": null,
   "metadata": {},
   "outputs": [],
   "source": [
    "plt.imshow(out)\n",
    "plt.show()"
   ]
  },
  {
   "cell_type": "code",
   "execution_count": null,
   "metadata": {},
   "outputs": [],
   "source": [
    "test_arr = np.zeros((20,20))\n",
    "test_arr[10, 10] = 1\n",
    "test_arr[11,10] = 1\n",
    "out = convolve(test_arr, kernels[a], posneg[a])\n",
    "plt.imshow(out)\n",
    "plt.show()"
   ]
  },
  {
   "cell_type": "markdown",
   "metadata": {},
   "source": [
    "# Optimize the computation of node constraints"
   ]
  },
  {
   "cell_type": "code",
   "execution_count": null,
   "metadata": {},
   "outputs": [],
   "source": [
    "def get_shift_transformed(shifts):\n",
    "    \n",
    "    shift_tuples = []\n",
    "    for shift in shifts:\n",
    "        if shift[0]<0:\n",
    "            tup1 = (0,-shift[0])\n",
    "        else:\n",
    "            tup1 = (shift[0],0)\n",
    "        if shift[1]<0:\n",
    "            tup2 = (0,-shift[1])\n",
    "        else:\n",
    "            tup2 = (shift[1],0)\n",
    "        shift_tuples.append((tup1,tup2))\n",
    "    \n",
    "    return shift_tuples"
   ]
  },
  {
   "cell_type": "code",
   "execution_count": null,
   "metadata": {},
   "outputs": [],
   "source": [
    "x_len, y_len = costs_rest.shape\n",
    "node_pos = [(i, j) for i in range(x_len) for j in range(y_len) if costs_rest[i, j]]\n",
    "\n",
    "pos2node = np.ones(costs_rest.shape)\n",
    "pos2node *= -1\n",
    "for n, (i,j) in enumerate(node_pos):\n",
    "    pos2node[i,j] = n"
   ]
  },
  {
   "cell_type": "code",
   "execution_count": null,
   "metadata": {},
   "outputs": [],
   "source": [
    "shift_tuples = get_shift_transformed(shifts)\n",
    "\n",
    "orig_greater_zero = costs_rest>0\n",
    "inds_orig = pos2node[costs_rest>0]\n",
    "\n",
    "for i in range(1):\n",
    "    print(shifts[i], shift_tuples[i])\n",
    "    a, b, c, d = tuple(slice_tuples[i])\n",
    "    costs_shifted = np.pad(costs_rest, shift_tuples[i], mode='constant')\n",
    "    shift = shifts[i]\n",
    "    if shift[0]>0 and shift[1]>0:\n",
    "        costs_shifted = costs_shifted[:-shift[0], :-shift[1]]\n",
    "    elif shift[0]>0 and shift[1]<=0:\n",
    "        costs_shifted = costs_shifted[:-shift[0], -shift[1]:]\n",
    "    elif shift[0]<=0 and shift[1]>0:\n",
    "        costs_shifted = costs_shifted[-shift[0]:, :-shift[1]]\n",
    "    elif shift[0]<=0 and shift[1]<=0:\n",
    "        costs_shifted = costs_shifted[-shift[0]:, -shift[1]:]\n",
    "    \n",
    "    both_greater_zero = np.all(np.asarray([orig_greater_zero, costs_shifted>0]), axis=0)\n",
    "    weights = (costs_shifted + costs_rest)/2\n",
    "    \n",
    "    inds_shifted = pos2node[costs_shifted>0]\n",
    "    # delete the ones where inds_shifted is zero\n",
    "    assert len(inds_shifted)==len(inds_orig)\n",
    "    weights_list = weights[costs_shifted>0]\n",
    "    \n",
    "    pos_inds = inds_shifted>=0\n",
    "    out = np.swapaxes(np.asarray([inds_orig, inds_shifted, weights_list]), 1,0)[pos_inds]\n",
    "    print(out.shape)\n",
    "    print(out[:100])\n",
    "    # todo: problem with one is zero, other one not\n",
    "    \n",
    "    # call add_edge_list 600 times?\n",
    "    \n",
    "    plt.figure(figsize=(20,10))\n",
    "    # plt.imshow((both_greater_zero.astype(int)+orig_greater_zero.astype(int)))\n",
    "    plt.show()\n",
    "    print()"
   ]
  },
  {
   "cell_type": "code",
   "execution_count": null,
   "metadata": {},
   "outputs": [],
   "source": [
    "(i,j) = node_pos[208]\n",
    "(k,l) = node_pos[224]\n",
    "print(i,j,k,l)\n",
    "print(costs_rest[i,j], costs_rest[k,l])"
   ]
  },
  {
   "cell_type": "markdown",
   "metadata": {},
   "source": [
    "# old stuff"
   ]
  },
  {
   "cell_type": "code",
   "execution_count": null,
   "metadata": {},
   "outputs": [],
   "source": [
    "cuts = []\n",
    "\n",
    "    for shift in shifts:\n",
    "        slice_tuple = []\n",
    "        if shift[0]<0:\n",
    "            slice_tuple.append(-shift[0])\n",
    "            slice_tuple.append(None)\n",
    "        else:\n",
    "            slice_tuple.append(0)\n",
    "            slice_tuple.append(-shift[0])\n",
    "        if shift[1]<0:\n",
    "            slice_tuple.append(-shift[1])\n",
    "            slice_tuple.append(None)\n",
    "        else: \n",
    "            slice_tuple.append(0)\n",
    "            slice_tuple.append(-shift[1])\n",
    "        cuts.append(slice_tuple)\n",
    "    "
   ]
  },
  {
   "cell_type": "markdown",
   "metadata": {},
   "source": [
    "### Open questions:\n",
    "\n",
    "* How to combine different costs? simply add up the absolute values? Or normalize to 0-1 and weight?\n",
    "\n",
    "### Possible constraints:\n",
    "\n",
    "* Height of tower --> make six nodes instead of one, connect for each possible combination of heights\n",
    "* Height of cables above ground\n",
    "* Angles\n",
    "* cables passing over environmental\n",
    "\n",
    "\n",
    "### Todo:\n",
    "\n",
    "* write possibility to split one surface into several parts and merge the paths in the end"
   ]
  },
  {
   "cell_type": "code",
   "execution_count": null,
   "metadata": {},
   "outputs": [],
   "source": [
    "arr = np.zeros((10,10))\n",
    "arr[3:5,4:7]=1"
   ]
  },
  {
   "cell_type": "code",
   "execution_count": null,
   "metadata": {},
   "outputs": [],
   "source": [
    "np.where(arr>0)"
   ]
  },
  {
   "cell_type": "code",
   "execution_count": null,
   "metadata": {},
   "outputs": [],
   "source": [
    "new_arr = np.zeros((10,10))\n",
    "new_arr[np.where(arr>0)]=1"
   ]
  },
  {
   "cell_type": "code",
   "execution_count": null,
   "metadata": {},
   "outputs": [],
   "source": [
    "new_arr"
   ]
  },
  {
   "cell_type": "code",
   "execution_count": null,
   "metadata": {},
   "outputs": [],
   "source": []
  },
  {
   "cell_type": "markdown",
   "metadata": {},
   "source": [
    "# Random tests"
   ]
  },
  {
   "cell_type": "code",
   "execution_count": null,
   "metadata": {},
   "outputs": [],
   "source": [
    "arr2 = np.zeros((5,5))\n",
    "arr2[2:5, 1:3]=1"
   ]
  },
  {
   "cell_type": "code",
   "execution_count": null,
   "metadata": {},
   "outputs": [],
   "source": [
    "counter=0\n",
    "for i in range(5):\n",
    "    for j in range(5):\n",
    "        arr[i,j] = counter\n",
    "        counter+=1"
   ]
  },
  {
   "cell_type": "code",
   "execution_count": null,
   "metadata": {},
   "outputs": [],
   "source": [
    "arr"
   ]
  },
  {
   "cell_type": "code",
   "execution_count": null,
   "metadata": {},
   "outputs": [],
   "source": [
    "arr[arr2.astype(bool)]"
   ]
  },
  {
   "cell_type": "code",
   "execution_count": null,
   "metadata": {},
   "outputs": [],
   "source": [
    "arr2"
   ]
  },
  {
   "cell_type": "code",
   "execution_count": null,
   "metadata": {},
   "outputs": [],
   "source": []
  }
 ],
 "metadata": {
  "kernelspec": {
   "display_name": "Python 3",
   "language": "python",
   "name": "python3"
  },
  "language_info": {
   "codemirror_mode": {
    "name": "ipython",
    "version": 3
   },
   "file_extension": ".py",
   "mimetype": "text/x-python",
   "name": "python",
   "nbconvert_exporter": "python",
   "pygments_lexer": "ipython3",
   "version": "3.8.2"
  }
 },
 "nbformat": 4,
 "nbformat_minor": 4
}
