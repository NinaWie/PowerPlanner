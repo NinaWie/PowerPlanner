{
 "cells": [
  {
   "cell_type": "code",
   "execution_count": 1,
   "metadata": {},
   "outputs": [],
   "source": [
    "import matplotlib.pyplot as plt\n",
    "import numpy as np\n",
    "# import networkx as nx\n",
    "import os\n",
    "import time\n",
    "import pickle\n",
    "import json\n",
    "import pandas as pd\n",
    "from numba import jit\n",
    "from types import SimpleNamespace\n",
    "# from power_planner.data_reader import DataReader\n",
    "from power_planner import graphs\n",
    "from power_planner.utils.utils import (compute_pylon_dists)"
   ]
  },
  {
   "cell_type": "code",
   "execution_count": 2,
   "metadata": {},
   "outputs": [
    {
     "name": "stdout",
     "output_type": "stream",
     "text": [
      "graph type: <class 'power_planner.graphs.line_graph.LineGraph'>\n"
     ]
    }
   ],
   "source": [
    "PATH_FILES = \"../data\"\n",
    "\n",
    "# DEFINE CONFIGURATION\n",
    "ID = \"w_ksp_5\"  # str(round(time.time() / 60))[-5:]\n",
    "\n",
    "OUT_PATH = \"outputs/path_\" + ID\n",
    "SCALE_PARAM = 5  # args.scale\n",
    "# normal graph pipeline\n",
    "# PIPELINE = [(2, 50), (1, 0)]  # [(1, 0)]  # [(4, 80), (2, 50), (1, 0)]  #\n",
    "# random graph pipeline\n",
    "PIPELINE = [(1, 0)]  # [(0.9, 40), (0, 0)]\n",
    "\n",
    "GRAPH_TYPE = graphs.LineGraph\n",
    "# LineGraph, WeightedGraph, RandomWeightedGraph, RandomLineGraph, PowerBF\n",
    "# TwoPowerBF, WeightedKSP\n",
    "print(\"graph type:\", GRAPH_TYPE)\n",
    "# summarize: mean/max/min, remove: all/surrounding, sample: simple/watershed\n",
    "NOTES = \"None\"  # \"mean-all-simple\"\n",
    "\n",
    "IOPATH = os.path.join(PATH_FILES, \"belgium_data_1_\" + str(SCALE_PARAM) + \".dat\")\n",
    "    \n",
    "# READ DATA\n",
    "with open(IOPATH, \"rb\") as infile:\n",
    "    data = pickle.load(infile)\n",
    "    (instance, edge_inst, instance_corr, config) = data"
   ]
  },
  {
   "cell_type": "code",
   "execution_count": 3,
   "metadata": {},
   "outputs": [],
   "source": [
    "graph = GRAPH_TYPE(instance, instance_corr)"
   ]
  },
  {
   "cell_type": "code",
   "execution_count": 4,
   "metadata": {
    "scrolled": true
   },
   "outputs": [
    {
     "name": "stdout",
     "output_type": "stream",
     "text": [
      "1) Initialize shifts and instance (corridor)\n",
      "['angle', 'cultural', 'parcel', 'planning', 'technical'] [0.33333333 0.25       0.16666667 0.25      ]\n",
      "['angle', 'cultural', 'parcel', 'planning', 'technical'] [0.09090909 0.3030303  0.22727273 0.15151515 0.22727273]\n",
      "Added nodes: 1070160 in time: 0.446260929107666\n",
      "2) Initialize distances to inf and predecessors\n",
      "n_neighbors: 568\n",
      "Done adding edges: 9590393\n",
      "DONE adding 9590393 edges: 20.302155017852783\n",
      "3) Compute source shortest path tree\n",
      "number of vertices and edges: 1070160 9590393\n",
      "4) shortest path 10.287088832186917\n"
     ]
    }
   ],
   "source": [
    "path, path_costs, cost_sum = graph.single_sp(**vars(config.graph))"
   ]
  },
  {
   "cell_type": "code",
   "execution_count": null,
   "metadata": {},
   "outputs": [],
   "source": [
    "graph.graph.get_shortest_path(graph.start_inds, graph.dest_inds)"
   ]
  },
  {
   "cell_type": "code",
   "execution_count": null,
   "metadata": {},
   "outputs": [],
   "source": [
    "_ = graph.sp_trees(edge_inst, **vars(config.graph))"
   ]
  },
  {
   "cell_type": "code",
   "execution_count": null,
   "metadata": {},
   "outputs": [],
   "source": [
    "from power_planner.alternative_paths import AlternativePaths\n",
    "from power_planner.ksp import KSP"
   ]
  },
  {
   "cell_type": "code",
   "execution_count": null,
   "metadata": {},
   "outputs": [],
   "source": [
    "ksp = KSP(graph)\n",
    "out_ksp = ksp.laplace(5)"
   ]
  },
  {
   "cell_type": "code",
   "execution_count": null,
   "metadata": {},
   "outputs": [],
   "source": [
    "alt = AlternativePaths(graph)\n",
    "window_path, _, _ = alt.replace_window(150, 200,250, 300)"
   ]
  },
  {
   "cell_type": "code",
   "execution_count": null,
   "metadata": {
    "scrolled": true
   },
   "outputs": [],
   "source": [
    "window_path = np.asarray(window_path)\n",
    "path_orig = np.asarray(out_ksp[0][0])\n",
    "plt.plot(window_path[:,0], window_path[:,1])\n",
    "plt.plot(path_orig[:,0], path_orig[:,1])"
   ]
  },
  {
   "cell_type": "code",
   "execution_count": 7,
   "metadata": {},
   "outputs": [
    {
     "data": {
      "text/plain": [
       "namespace(ANGLE_WEIGHT=0.1, CSV_TIMES='../outputs/time_tests.csv', EDGE_WEIGHT=0.33, GTNX=1, KSP=5, MAX_ANGLE=1.57079632679489, MAX_ANGLE_LG=1.57079632679489, PYLON_DIST_MAX=5.0, PYLON_DIST_MIN=3.0, VERBOSE=1, class_weights=[4.0, 3.0, 2.0, 3.0], dest_inds=array([ 39, 238]), layer_classes=['cultural', 'parcel', 'planning', 'technical'], orig_dest=array([ 471, 1202]), orig_start=array([816, 124]), scale=5, start_inds=array([108,  22]), transform_matrix=Affine(10.0, 0.0, 163246.20677687135,\n",
       "       0.0, -10.0, 139261.12138460297))"
      ]
     },
     "execution_count": 7,
     "metadata": {},
     "output_type": "execute_result"
    }
   ],
   "source": [
    "config.graph"
   ]
  },
  {
   "cell_type": "markdown",
   "metadata": {},
   "source": [
    "### Evaluation of outputs"
   ]
  },
  {
   "cell_type": "code",
   "execution_count": null,
   "metadata": {},
   "outputs": [],
   "source": [
    "with open(\"../../outputs/power analysis/power_analysis_belgium_paths.dat\", \"rb\") as infile:\n",
    "    #power analysis/power_analysis_belgium_paths.dat\n",
    "    paths = pickle.load(infile)"
   ]
  },
  {
   "cell_type": "code",
   "execution_count": null,
   "metadata": {},
   "outputs": [],
   "source": [
    "import seaborn as sb"
   ]
  },
  {
   "cell_type": "code",
   "execution_count": null,
   "metadata": {
    "scrolled": false
   },
   "outputs": [],
   "source": [
    "for p in paths:\n",
    "    print(\"mean:\", round(np.mean(p), 2), \"sum:\", round(np.sum(p), 2))\n",
    "    sb.distplot(p)\n",
    "    plt.ylim(0,0.4)\n",
    "    plt.show()"
   ]
  },
  {
   "cell_type": "markdown",
   "metadata": {},
   "source": [
    "## Create random instance for Github"
   ]
  },
  {
   "cell_type": "code",
   "execution_count": null,
   "metadata": {},
   "outputs": [],
   "source": [
    "test = instance_corr.copy()\n",
    "test[6:245, :60]=1\n",
    "plt.imshow(test)"
   ]
  },
  {
   "cell_type": "code",
   "execution_count": null,
   "metadata": {},
   "outputs": [],
   "source": [
    "[1] + [round(c,1) for c in np.logspace(0.1, 0.6, 6)]"
   ]
  },
  {
   "cell_type": "code",
   "execution_count": null,
   "metadata": {},
   "outputs": [],
   "source": [
    "random_inst = np.random.rand(*instance.shape)"
   ]
  },
  {
   "cell_type": "code",
   "execution_count": null,
   "metadata": {},
   "outputs": [],
   "source": [
    "random_inst.shape"
   ]
  },
  {
   "cell_type": "code",
   "execution_count": null,
   "metadata": {},
   "outputs": [],
   "source": [
    "random_edge_inst = random_inst + (np.random.rand(*instance.shape)-0.5)*0.1"
   ]
  },
  {
   "cell_type": "code",
   "execution_count": null,
   "metadata": {},
   "outputs": [],
   "source": [
    "random_inst[2,3,3]"
   ]
  },
  {
   "cell_type": "code",
   "execution_count": null,
   "metadata": {},
   "outputs": [],
   "source": [
    "from scipy.ndimage import gaussian_filter"
   ]
  },
  {
   "cell_type": "code",
   "execution_count": null,
   "metadata": {},
   "outputs": [],
   "source": [
    "smooth = np.asarray([gaussian_filter(random_inst[i], 5) for i in range(3)])"
   ]
  },
  {
   "cell_type": "code",
   "execution_count": null,
   "metadata": {},
   "outputs": [],
   "source": [
    "plt.imshow(smooth[0])\n",
    "plt.colorbar()"
   ]
  },
  {
   "cell_type": "code",
   "execution_count": null,
   "metadata": {},
   "outputs": [],
   "source": [
    "smooth_edge = np.asarray([gaussian_filter(random_edge_inst[i], 5) for i in range(3)])"
   ]
  },
  {
   "cell_type": "code",
   "execution_count": null,
   "metadata": {},
   "outputs": [],
   "source": [
    "smooth = (smooth-np.min(smooth))/(np.max(smooth)-np.min(smooth))"
   ]
  },
  {
   "cell_type": "code",
   "execution_count": null,
   "metadata": {},
   "outputs": [],
   "source": [
    "smooth_edge = (smooth_edge-np.min(smooth_edge))/(np.max(smooth_edge)-np.min(smooth_edge))"
   ]
  },
  {
   "cell_type": "code",
   "execution_count": null,
   "metadata": {},
   "outputs": [],
   "source": [
    "data_out = (smooth, smooth_edge, test, config)\n",
    "with open(\"../data/test_data_1_2.dat\", \"wb\") as outfile:\n",
    "    pickle.dump(data_out, outfile)\n",
    "print(\"successfully saved data\")"
   ]
  },
  {
   "cell_type": "code",
   "execution_count": null,
   "metadata": {},
   "outputs": [],
   "source": [
    "config.graph.scale"
   ]
  },
  {
   "cell_type": "markdown",
   "metadata": {},
   "source": [
    "### Check average cost path - did running average work?"
   ]
  },
  {
   "cell_type": "code",
   "execution_count": null,
   "metadata": {},
   "outputs": [],
   "source": [
    "nonavg = pd.read_csv(\"../../outputs/test_nonavg_ch_coords.csv_0.csv\")\n",
    "avg = pd.read_csv(\"../../outputs/test_avg_ch_coords.csv_0.csv\")"
   ]
  },
  {
   "cell_type": "code",
   "execution_count": null,
   "metadata": {},
   "outputs": [],
   "source": [
    "avg_path = (np.asarray(avg[[\"X_raw\", \"Y_raw\"]])/5).astype(int)\n",
    "nonavg_path = (np.asarray(nonavg[[\"X_raw\", \"Y_raw\"]])/5).astype(int)"
   ]
  },
  {
   "cell_type": "code",
   "execution_count": null,
   "metadata": {},
   "outputs": [],
   "source": [
    "costs1 = [graph.instance[tuple(p)] for p in avg_path]\n",
    "costs2 = [graph.instance[tuple(p)] for p in nonavg_path]"
   ]
  },
  {
   "cell_type": "code",
   "execution_count": null,
   "metadata": {},
   "outputs": [],
   "source": [
    "np.sum(costs1), np.mean(costs1), np.sum(costs2), np.mean(costs2)"
   ]
  }
 ],
 "metadata": {
  "kernelspec": {
   "display_name": "Python 3",
   "language": "python",
   "name": "python3"
  },
  "language_info": {
   "codemirror_mode": {
    "name": "ipython",
    "version": 3
   },
   "file_extension": ".py",
   "mimetype": "text/x-python",
   "name": "python",
   "nbconvert_exporter": "python",
   "pygments_lexer": "ipython3",
   "version": "3.8.2"
  }
 },
 "nbformat": 4,
 "nbformat_minor": 4
}
