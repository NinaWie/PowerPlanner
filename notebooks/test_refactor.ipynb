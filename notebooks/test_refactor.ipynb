{
 "cells": [
  {
   "cell_type": "code",
   "execution_count": null,
   "metadata": {},
   "outputs": [],
   "source": [
    "import matplotlib.pyplot as plt\n",
    "import numpy as np\n",
    "# import networkx as nx\n",
    "import os\n",
    "import time\n",
    "import pickle\n",
    "import json\n",
    "import pandas as pd\n",
    "from numba import jit\n",
    "from types import SimpleNamespace\n",
    "# from power_planner.data_reader import DataReader\n",
    "from power_planner import graphs\n",
    "from power_planner.utils.utils import (compute_pylon_dists)"
   ]
  },
  {
   "cell_type": "code",
   "execution_count": null,
   "metadata": {},
   "outputs": [],
   "source": [
    "PATH_FILES = \"../data\"\n",
    "\n",
    "# DEFINE CONFIGURATION\n",
    "ID = \"w_ksp_5\"  # str(round(time.time() / 60))[-5:]\n",
    "\n",
    "OUT_PATH = \"outputs/path_\" + ID\n",
    "SCALE_PARAM = 2  # args.scale\n",
    "# normal graph pipeline\n",
    "# PIPELINE = [(2, 50), (1, 0)]  # [(1, 0)]  # [(4, 80), (2, 50), (1, 0)]  #\n",
    "# random graph pipeline\n",
    "PIPELINE = [(1, 0)]  # [(0.9, 40), (0, 0)]\n",
    "\n",
    "GRAPH_TYPE = graphs.ImplicitLG\n",
    "# LineGraph, WeightedGraph, RandomWeightedGraph, RandomLineGraph, PowerBF\n",
    "# TwoPowerBF, WeightedKSP\n",
    "print(\"graph type:\", GRAPH_TYPE)\n",
    "# summarize: mean/max/min, remove: all/surrounding, sample: simple/watershed\n",
    "NOTES = \"None\"  # \"mean-all-simple\"\n",
    "\n",
    "IOPATH = os.path.join(PATH_FILES, \"de_data_1_\" + str(SCALE_PARAM) + \".dat\")\n",
    "    \n",
    "# READ DATA\n",
    "with open(IOPATH, \"rb\") as infile:\n",
    "    data = pickle.load(infile)\n",
    "    (instance, edge_inst, instance_corr, config) = data"
   ]
  },
  {
   "cell_type": "code",
   "execution_count": null,
   "metadata": {},
   "outputs": [],
   "source": [
    "graph = GRAPH_TYPE(instance, instance_corr, edge_inst)"
   ]
  },
  {
   "cell_type": "code",
   "execution_count": null,
   "metadata": {
    "scrolled": true
   },
   "outputs": [],
   "source": [
    "path, path_costs, cost_sum = graph.single_sp(**vars(config.graph))"
   ]
  },
  {
   "cell_type": "code",
   "execution_count": null,
   "metadata": {},
   "outputs": [],
   "source": [
    "graph.graph.get_shortest_path(graph.start_inds, graph.dest_inds)"
   ]
  },
  {
   "cell_type": "code",
   "execution_count": null,
   "metadata": {},
   "outputs": [],
   "source": [
    "path, path_costs, cost_sum = graph.sp_trees(**vars(config.graph))"
   ]
  },
  {
   "cell_type": "code",
   "execution_count": null,
   "metadata": {},
   "outputs": [],
   "source": [
    "path = np.asarray(path)\n",
    "plt.figure(figsize=(10,10))\n",
    "plt.imshow(graph.pos2node)\n",
    "plt.plot(path[:,1], path[:,0])\n",
    "plt.show()"
   ]
  },
  {
   "cell_type": "code",
   "execution_count": null,
   "metadata": {},
   "outputs": [],
   "source": [
    "\n",
    "from power_planner.ksp import KSP"
   ]
  },
  {
   "cell_type": "code",
   "execution_count": null,
   "metadata": {},
   "outputs": [],
   "source": [
    "ksp = KSP(graph)\n",
    "out_ksp = ksp.laplace(5)"
   ]
  },
  {
   "cell_type": "code",
   "execution_count": null,
   "metadata": {},
   "outputs": [],
   "source": [
    "# from power_planner.alternative_paths import AlternativePaths\n",
    "alt = AlternativePaths(graph)\n",
    "# rep_path,_,_ = alt.replace_single_edge(120,  56, 125,  56)\n",
    "window_path, _, _ = alt.replace_window(200, 250,180, 200)"
   ]
  },
  {
   "cell_type": "code",
   "execution_count": null,
   "metadata": {},
   "outputs": [],
   "source": [
    "plt.imshow(graph.angle_cost_array)\n",
    "plt.show()"
   ]
  },
  {
   "cell_type": "code",
   "execution_count": null,
   "metadata": {
    "scrolled": true
   },
   "outputs": [],
   "source": [
    "# window_path = rep_path\n",
    "window_path = np.asarray(window_path)\n",
    "path_orig = np.asarray(path)\n",
    "plt.plot(window_path[:,0], window_path[:,1])\n",
    "plt.plot(path_orig[:,0], path_orig[:,1])"
   ]
  },
  {
   "cell_type": "code",
   "execution_count": null,
   "metadata": {},
   "outputs": [],
   "source": [
    "config.graph"
   ]
  },
  {
   "cell_type": "markdown",
   "metadata": {},
   "source": [
    "### Evaluation of outputs"
   ]
  },
  {
   "cell_type": "code",
   "execution_count": null,
   "metadata": {},
   "outputs": [],
   "source": [
    "with open(\"../../outputs/power analysis/power_analysis_belgium_paths.dat\", \"rb\") as infile:\n",
    "    #power analysis/power_analysis_belgium_paths.dat\n",
    "    paths = pickle.load(infile)"
   ]
  },
  {
   "cell_type": "code",
   "execution_count": null,
   "metadata": {},
   "outputs": [],
   "source": [
    "import seaborn as sb"
   ]
  },
  {
   "cell_type": "code",
   "execution_count": null,
   "metadata": {
    "scrolled": false
   },
   "outputs": [],
   "source": [
    "for p in paths:\n",
    "    print(\"mean:\", round(np.mean(p), 2), \"sum:\", round(np.sum(p), 2))\n",
    "    sb.distplot(p)\n",
    "    plt.ylim(0,0.4)\n",
    "    plt.show()"
   ]
  },
  {
   "cell_type": "markdown",
   "metadata": {},
   "source": [
    "## Create random instance for Github"
   ]
  },
  {
   "cell_type": "code",
   "execution_count": null,
   "metadata": {},
   "outputs": [],
   "source": [
    "test = instance_corr.copy()\n",
    "test[6:245, :60]=1\n",
    "plt.imshow(test)"
   ]
  },
  {
   "cell_type": "code",
   "execution_count": null,
   "metadata": {},
   "outputs": [],
   "source": [
    "[1] + [round(c,1) for c in np.logspace(0.1, 0.6, 6)]"
   ]
  },
  {
   "cell_type": "code",
   "execution_count": null,
   "metadata": {},
   "outputs": [],
   "source": [
    "random_inst = np.random.rand(*instance.shape)"
   ]
  },
  {
   "cell_type": "code",
   "execution_count": null,
   "metadata": {},
   "outputs": [],
   "source": [
    "random_inst.shape"
   ]
  },
  {
   "cell_type": "code",
   "execution_count": null,
   "metadata": {},
   "outputs": [],
   "source": [
    "random_edge_inst = random_inst + (np.random.rand(*instance.shape)-0.5)*0.1"
   ]
  },
  {
   "cell_type": "code",
   "execution_count": null,
   "metadata": {},
   "outputs": [],
   "source": [
    "random_inst[2,3,3]"
   ]
  },
  {
   "cell_type": "code",
   "execution_count": null,
   "metadata": {},
   "outputs": [],
   "source": [
    "from scipy.ndimage import gaussian_filter"
   ]
  },
  {
   "cell_type": "code",
   "execution_count": null,
   "metadata": {},
   "outputs": [],
   "source": [
    "smooth = np.asarray([gaussian_filter(random_inst[i], 5) for i in range(3)])"
   ]
  },
  {
   "cell_type": "code",
   "execution_count": null,
   "metadata": {},
   "outputs": [],
   "source": [
    "plt.imshow(smooth[0])\n",
    "plt.colorbar()"
   ]
  },
  {
   "cell_type": "code",
   "execution_count": null,
   "metadata": {},
   "outputs": [],
   "source": [
    "smooth_edge = np.asarray([gaussian_filter(random_edge_inst[i], 5) for i in range(3)])"
   ]
  },
  {
   "cell_type": "code",
   "execution_count": null,
   "metadata": {},
   "outputs": [],
   "source": [
    "smooth = (smooth-np.min(smooth))/(np.max(smooth)-np.min(smooth))"
   ]
  },
  {
   "cell_type": "code",
   "execution_count": null,
   "metadata": {},
   "outputs": [],
   "source": [
    "smooth_edge = (smooth_edge-np.min(smooth_edge))/(np.max(smooth_edge)-np.min(smooth_edge))"
   ]
  },
  {
   "cell_type": "code",
   "execution_count": null,
   "metadata": {},
   "outputs": [],
   "source": [
    "data_out = (smooth, smooth_edge, test, config)\n",
    "with open(\"../data/test_data_1_2.dat\", \"wb\") as outfile:\n",
    "    pickle.dump(data_out, outfile)\n",
    "print(\"successfully saved data\")"
   ]
  },
  {
   "cell_type": "code",
   "execution_count": null,
   "metadata": {},
   "outputs": [],
   "source": [
    "config.graph.scale"
   ]
  },
  {
   "cell_type": "markdown",
   "metadata": {},
   "source": [
    "### Check average cost path - did running average work?"
   ]
  },
  {
   "cell_type": "code",
   "execution_count": null,
   "metadata": {},
   "outputs": [],
   "source": [
    "nonavg = pd.read_csv(\"../../outputs/test_nonavg_ch_coords.csv_0.csv\")\n",
    "avg = pd.read_csv(\"../../outputs/test_avg_ch_coords.csv_0.csv\")"
   ]
  },
  {
   "cell_type": "code",
   "execution_count": null,
   "metadata": {},
   "outputs": [],
   "source": [
    "avg_path = (np.asarray(avg[[\"X_raw\", \"Y_raw\"]])/5).astype(int)\n",
    "nonavg_path = (np.asarray(nonavg[[\"X_raw\", \"Y_raw\"]])/5).astype(int)"
   ]
  },
  {
   "cell_type": "code",
   "execution_count": null,
   "metadata": {},
   "outputs": [],
   "source": [
    "costs1 = [graph.instance[tuple(p)] for p in avg_path]\n",
    "costs2 = [graph.instance[tuple(p)] for p in nonavg_path]"
   ]
  },
  {
   "cell_type": "code",
   "execution_count": null,
   "metadata": {},
   "outputs": [],
   "source": [
    "np.sum(costs1), np.mean(costs1), np.sum(costs2), np.mean(costs2)"
   ]
  },
  {
   "cell_type": "markdown",
   "metadata": {},
   "source": [
    "## Check De output"
   ]
  },
  {
   "cell_type": "code",
   "execution_count": null,
   "metadata": {},
   "outputs": [],
   "source": [
    "json_path = \"../../outputs/testtt_2_de_0.csv\" # de_inst_ksp/de_inst_2_e5_d30/test_2_e5_d30de_4.csv\""
   ]
  },
  {
   "cell_type": "code",
   "execution_count": null,
   "metadata": {},
   "outputs": [],
   "source": [
    "path = pd.read_csv(json_path)[[\"X_raw\", \"Y_raw\"]]"
   ]
  },
  {
   "cell_type": "code",
   "execution_count": null,
   "metadata": {},
   "outputs": [],
   "source": [
    "path = np.asarray(path)"
   ]
  },
  {
   "cell_type": "code",
   "execution_count": null,
   "metadata": {},
   "outputs": [],
   "source": [
    "pd.read_csv(json_path)"
   ]
  },
  {
   "cell_type": "code",
   "execution_count": null,
   "metadata": {},
   "outputs": [],
   "source": [
    "from power_planner.utils.utils_costs import CostUtils\n",
    "from power_planner.utils.utils import bresenham_line"
   ]
  },
  {
   "cell_type": "code",
   "execution_count": null,
   "metadata": {},
   "outputs": [],
   "source": [
    "def compute_edge_costs(path, instance):\n",
    "    e_costs = []\n",
    "    for p in range(len(path) - 1):\n",
    "        point_list = bresenham_line(\n",
    "            path[p][0], path[p][1], path[p + 1][0], path[p + 1][1]\n",
    "        )\n",
    "        print([instance[i, j] for (i, j) in point_list[1:-1]])\n",
    "        e_costs.append(\n",
    "            np.mean([instance[i, j] for (i, j) in point_list[1:-1]])\n",
    "        )\n",
    "    # to make it the same size as other costs\n",
    "    e_costs.append(0)\n",
    "    return e_costs"
   ]
  },
  {
   "cell_type": "code",
   "execution_count": null,
   "metadata": {},
   "outputs": [],
   "source": [
    "dirty_extend = edge_inst_new.copy()\n",
    "x_len, y_len = edge_inst_new.shape\n",
    "for i in range(1, x_len - 1):\n",
    "    for j in range(1, y_len - 1):\n",
    "        if np.any(edge_inst_new[i - 1:i + 2, j - 1:j + 2] == np.inf):\n",
    "            dirty_extend[i, j] = np.inf"
   ]
  },
  {
   "cell_type": "code",
   "execution_count": null,
   "metadata": {},
   "outputs": [],
   "source": [
    "np.all(dirty_extend==edge_inst_new)"
   ]
  },
  {
   "cell_type": "code",
   "execution_count": null,
   "metadata": {},
   "outputs": [],
   "source": [
    "plt.imshow(dirty_extend[640:670, 550:680])\n",
    "plt.show()"
   ]
  },
  {
   "cell_type": "code",
   "execution_count": null,
   "metadata": {},
   "outputs": [],
   "source": [
    "edge_inst_new = np.sum(\n",
    "            np.moveaxis(edge_inst, 0, -1) *\n",
    "            config.graph.class_weights,\n",
    "            axis=2\n",
    "        )\n",
    "print(compute_edge_costs((path/SCALE_PARAM).astype(int), edge_inst_new))"
   ]
  },
  {
   "cell_type": "code",
   "execution_count": null,
   "metadata": {},
   "outputs": [],
   "source": [
    "path_scaled = (path/SCALE_PARAM).astype(int)\n",
    "for p in range(len(path_scaled) - 1):\n",
    "    point_list = bresenham_line(\n",
    "        path_scaled[p][0], path_scaled[p][1], path_scaled[p + 1][0], path_scaled[p + 1][1]\n",
    "    )\n",
    "    for (i,j) in point_list:\n",
    "        if edge_inst_new[i,j]==np.inf:\n",
    "            pass\n",
    "    print(point_list)"
   ]
  },
  {
   "cell_type": "code",
   "execution_count": null,
   "metadata": {},
   "outputs": [],
   "source": [
    "plt.imshow(edge_inst_new[640:670, 550:680])"
   ]
  },
  {
   "cell_type": "code",
   "execution_count": null,
   "metadata": {},
   "outputs": [],
   "source": [
    "print(path_scaled[-10:])"
   ]
  },
  {
   "cell_type": "code",
   "execution_count": null,
   "metadata": {},
   "outputs": [],
   "source": [
    "import resource"
   ]
  },
  {
   "cell_type": "code",
   "execution_count": null,
   "metadata": {},
   "outputs": [],
   "source": [
    "print(\n",
    "                \"Cannot initialize KSP object with a graph without\"\\\n",
    "                \"shortest path trees in both directions!\"\n",
    "            )"
   ]
  },
  {
   "cell_type": "code",
   "execution_count": null,
   "metadata": {},
   "outputs": [],
   "source": [
    "a = np.random.rand(4,2)"
   ]
  },
  {
   "cell_type": "code",
   "execution_count": null,
   "metadata": {},
   "outputs": [],
   "source": [
    "a"
   ]
  },
  {
   "cell_type": "code",
   "execution_count": null,
   "metadata": {},
   "outputs": [],
   "source": [
    "np.flip(a, axis=0)"
   ]
  },
  {
   "cell_type": "markdown",
   "metadata": {},
   "source": [
    "## Improve memory usage by efficient stack\n",
    "only the incoming edges of the stack will be updated--> only put them in memory"
   ]
  },
  {
   "cell_type": "code",
   "execution_count": null,
   "metadata": {},
   "outputs": [],
   "source": [
    "stack_array = np.asarray(stack)\n",
    "dists_new = np.concatenate((stack_array, np.zeros((len(stack), n_neighbors))+np.inf), axis=1)"
   ]
  },
  {
   "cell_type": "code",
   "execution_count": null,
   "metadata": {},
   "outputs": [],
   "source": [
    "pos2node = (np.zeros(self.instance.shape)-1).astype(int) # -1 for the unfilled ones\n",
    "# make mapping to position\n",
    "for i in range(len(stack_array)):\n",
    "    (x,y) = tuple(stack_array[i])\n",
    "    pos2node[x,y] = i"
   ]
  },
  {
   "cell_type": "code",
   "execution_count": null,
   "metadata": {},
   "outputs": [],
   "source": [
    "inst_x_len, inst_y_len = instance.shape\n",
    "for i in range(len(stack_array)):\n",
    "    v_x = stack[i,0]\n",
    "    v_y = stack[i,1]\n",
    "    for s in range(len(shifts)):\n",
    "        neigh_x = v_x + shifts[s][0]\n",
    "        neigh_y = v_y + shifts[s][1]\n",
    "        if (\n",
    "            0 <= neigh_x < inst_x_len and 0 <= neigh_y < inst_y_len\n",
    "            and pos2node[neigh_x, neigh_y]>=0\n",
    "        ):\n",
    "            neigh_stack_ind = pos2node[neigh_x, neigh_y]\n",
    "            # add up pylon cost + angle cost + edge cost\n",
    "            cost_per_angle = stack[i, 2:] + angles_all[s] + instance[\n",
    "                neigh_x, neigh_y] + edge_cost[neigh_stack_ind, s+2]\n",
    "            # update distances and predecessors\n",
    "            stack[neigh_stack_ind,s+2] = np.min(cost_per_angle)\n",
    "            preds[neigh_stack_ind, s+2] = np.argmin(cost_per_angle)"
   ]
  },
  {
   "cell_type": "markdown",
   "metadata": {},
   "source": [
    "# Test angle update algorithm"
   ]
  },
  {
   "cell_type": "code",
   "execution_count": null,
   "metadata": {},
   "outputs": [],
   "source": [
    "from power_planner.graphs.fast_shortest_path import sp_dag, efficient_update_sp\n",
    "from power_planner.utils.utils import angle, discrete_angle_costs, angle_360"
   ]
  },
  {
   "cell_type": "markdown",
   "metadata": {},
   "source": [
    "### Test data"
   ]
  },
  {
   "cell_type": "code",
   "execution_count": null,
   "metadata": {},
   "outputs": [],
   "source": [
    "from types import SimpleNamespace\n",
    "from power_planner import graphs\n",
    "from power_planner.utils.utils import bresenham_line\n",
    "expl_shape = (50, 50)\n",
    "# create configuration\n",
    "cfg = SimpleNamespace()\n",
    "cfg.PYLON_DIST_MIN = 3\n",
    "cfg.PYLON_DIST_MAX = 5\n",
    "start_inds = np.array([6, 6])\n",
    "dest_inds = np.array([41, 43])\n",
    "cfg.start_inds = start_inds\n",
    "cfg.dest_inds = dest_inds\n",
    "cfg.ANGLE_WEIGHT = 0.25\n",
    "cfg.EDGE_WEIGHT = 0\n",
    "cfg.MAX_ANGLE = np.pi / 2\n",
    "cfg.MAX_ANGLE_LG = np.pi / 4\n",
    "cfg.layer_classes = [\"dummy_class\"]\n",
    "cfg.class_weights = [1]\n",
    "\n",
    "# construct simple line instance\n",
    "example_inst = np.ones(expl_shape)\n",
    "# construct corresponding corridor\n",
    "working_expl_corr = np.zeros(expl_shape)\n",
    "line = bresenham_line(\n",
    "    start_inds[0], start_inds[1], dest_inds[0], dest_inds[1]\n",
    ")\n",
    "for (i, j) in line:\n",
    "    working_expl_corr[i - 1:i + 1, j - 1:j + 1] = 1\n",
    "\n",
    "# construct instance that required 90 degree angle\n",
    "high_angle_corr = np.zeros(expl_shape)\n",
    "high_angle_corr[start_inds[0], start_inds[1]:dest_inds[1] - 3] = 1\n",
    "high_angle_corr[start_inds[0], dest_inds[1]] = 1\n",
    "high_angle_corr[start_inds[0] + 3:dest_inds[0] + 1, dest_inds[1]] = 1\n",
    "\n",
    "graph = graphs.ImplicitLG(\n",
    "            np.array([example_inst]),\n",
    "            working_expl_corr,\n",
    "            n_iters=10,\n",
    "            verbose=0\n",
    "        )"
   ]
  },
  {
   "cell_type": "code",
   "execution_count": null,
   "metadata": {},
   "outputs": [],
   "source": [
    "def single_sp(self, power=1, **kwargs):\n",
    "    \"\"\"\n",
    "    Function for full processing until shortest path\n",
    "    \"\"\"\n",
    "    self.start_inds = kwargs[\"start_inds\"]\n",
    "    self.dest_inds = kwargs[\"dest_inds\"]\n",
    "    self.set_shift(\n",
    "        kwargs[\"PYLON_DIST_MIN\"],\n",
    "        kwargs[\"PYLON_DIST_MAX\"],\n",
    "        self.dest_inds - self.start_inds,\n",
    "        kwargs[\"MAX_ANGLE\"],\n",
    "        max_angle_lg=kwargs[\"MAX_ANGLE_LG\"]\n",
    "    )\n",
    "    print(\"1) Initialize shifts and instance (corridor)\")\n",
    "    self.set_edge_costs(\n",
    "        kwargs[\"layer_classes\"],\n",
    "        kwargs[\"class_weights\"],\n",
    "        angle_weight=kwargs[\"ANGLE_WEIGHT\"]\n",
    "    )\n",
    "    self.instance = self.instance**power\n",
    "    # add vertices\n",
    "    self.add_nodes()\n",
    "    return graph\n",
    "\n",
    "# config.graph.MAX_ANGLE = 3.14\n",
    "graph = single_sp(graph, **vars(config.graph)) # fg)) #"
   ]
  },
  {
   "cell_type": "code",
   "execution_count": null,
   "metadata": {},
   "outputs": [],
   "source": [
    "def _precompute_angles(self):\n",
    "    tic = time.time()\n",
    "    angles_all = np.zeros((len(self.shifts), len(self.shifts)))\n",
    "    angles_all += np.inf\n",
    "    for i in range(len(self.shifts)):\n",
    "        for j, s in enumerate(self.shifts):\n",
    "            ang = angle(s, self.shifts[i])\n",
    "            # if ang <= self.angle_norm_factor:\n",
    "            angles_all[i, j] = discrete_angle_costs(\n",
    "                ang, self.angle_norm_factor\n",
    "            )\n",
    "    self.time_logs[\"compute_angles\"] = round(time.time() - tic, 3)\n",
    "    # multiply with angle weights, need to prevent that not inf * 0\n",
    "   # angles_all[angles_all < np.inf\n",
    "    #           ] = angles_all[angles_all < np.inf] * self.angle_weight\n",
    "    return angles_all\n",
    "\n",
    "graph.angle_cost_array = _precompute_angles(graph)"
   ]
  },
  {
   "cell_type": "code",
   "execution_count": null,
   "metadata": {},
   "outputs": [],
   "source": [
    "shift_angles = [angle(s, graph.dest_inds-graph.start_inds) for s in graph.shifts]"
   ]
  },
  {
   "cell_type": "code",
   "execution_count": null,
   "metadata": {},
   "outputs": [],
   "source": [
    "prob_vecs = [graph.shifts[j] for j in range(140, 155)]"
   ]
  },
  {
   "cell_type": "code",
   "execution_count": null,
   "metadata": {},
   "outputs": [],
   "source": [
    "working = graph.dest_inds-graph.start_inds\n",
    "not_work = graph.shifts[0]"
   ]
  },
  {
   "cell_type": "code",
   "execution_count": null,
   "metadata": {},
   "outputs": [],
   "source": [
    "plt.plot([angle_360(v, working) for v in prob_vecs])\n",
    "print([angle_360(v, not_work) for v in prob_vecs])\n",
    "plt.plot([angle_360(v, not_work) for v in prob_vecs])"
   ]
  },
  {
   "cell_type": "code",
   "execution_count": null,
   "metadata": {},
   "outputs": [],
   "source": [
    "not_work = np.asarray(not_work)\n",
    "for vec1 in prob_vecs:\n",
    "    vec1 = np.asarray(vec1)\n",
    "    x1, y2 = vec1 / np.linalg.norm(vec1)\n",
    "    y1, y2 = not_work/np.linalg.norm(not_work)\n",
    "    dot = x1 * x2 + y1 * y2  # dot product\n",
    "    det = x1 * y2 - y1 * x2  # determinant\n",
    "    angle = np.arctan2(det, dot)\n",
    "    print(angle)"
   ]
  },
  {
   "cell_type": "code",
   "execution_count": null,
   "metadata": {},
   "outputs": [],
   "source": [
    "plt.plot(graph.angle_cost_array[40])\n",
    "plt.show()"
   ]
  },
  {
   "cell_type": "code",
   "execution_count": null,
   "metadata": {},
   "outputs": [],
   "source": [
    "dists = graph.dists.copy()\n",
    "preds = graph.preds.copy()\n",
    "shifts = graph.shifts\n",
    "stack = graph.stack_array.copy()\n",
    "pos2node = graph.pos2node.copy()\n",
    "angles_all = graph.angle_cost_array\n",
    "instance = graph.instance\n",
    "edge_cost = np.zeros(graph.dists.shape)"
   ]
  },
  {
   "cell_type": "code",
   "execution_count": null,
   "metadata": {
    "scrolled": true
   },
   "outputs": [],
   "source": [
    "dists = graph.dists.copy()\n",
    "preds = graph.preds.copy()\n",
    "shifts = graph.shifts\n",
    "stack = graph.stack_array.copy()\n",
    "pos2node = graph.pos2node.copy()\n",
    "angles_all = graph.angle_cost_array\n",
    "instance = graph.instance\n",
    "edge_cost = np.zeros(graph.dists.shape)\n",
    "@jit(nopython=True)\n",
    "def efficient_update_sp(dists, preds, shifts, stack, pos2node, angles_all, instance, edge_cost):\n",
    "    inst_x_len, inst_y_len = instance.shape\n",
    "    n_neighbors = len(shifts)\n",
    "    for i in range(len(dists)):\n",
    "        v_x = stack[i, 0]\n",
    "        v_y = stack[i, 1]\n",
    "\n",
    "        # sort the in edge distances and initialize\n",
    "        initial_S = np.argsort(dists[i])\n",
    "        marked_plus = np.zeros(n_neighbors)\n",
    "        marked_minus = np.zeros(n_neighbors)\n",
    "\n",
    "        # initialize dists and do first pass\n",
    "        neighbor_vals = np.zeros(n_neighbors)+np.inf\n",
    "        neighbor_inds = np.zeros(n_neighbors) -1\n",
    "        ground_truth = np.zeros(n_neighbors)+np.inf\n",
    "        ground_truth_pred = np.zeros(n_neighbors)\n",
    "\n",
    "        for s in range(n_neighbors):\n",
    "            neigh_x = int(v_x + shifts[s][0])\n",
    "            neigh_y = int(v_y + shifts[s][1])\n",
    "            if (\n",
    "                    0 <= neigh_x < inst_x_len and 0 <= neigh_y < inst_y_len\n",
    "                    and pos2node[neigh_x, neigh_y] >= 0 and instance[neigh_x, neigh_y]<np.inf\n",
    "                ):            \n",
    "                # PROBLE\n",
    "                neighbor_vals[s] = instance[neigh_x, neigh_y]\n",
    "                neigh_stack_ind = pos2node[neigh_x, neigh_y]\n",
    "                neighbor_inds[s] = neigh_stack_ind\n",
    "                # initialize distances to the straight line value\n",
    "                dists[neigh_stack_ind, s] = dists[i, s] + instance[neigh_x, neigh_y]+ edge_cost[neigh_stack_ind, s]\n",
    "                preds[neigh_stack_ind, s] = s\n",
    "\n",
    "                cost_per_angle = dists[i] + angles_all[s] + instance[\n",
    "                            neigh_x, neigh_y] + edge_cost[neigh_stack_ind, s]\n",
    "                ground_truth[s] = np.min(cost_per_angle)\n",
    "                ground_truth_pred[s] = np.argmin(cost_per_angle)\n",
    "        # if i==67:\n",
    "        #     print(ground_truth_pred)\n",
    "        #     print(neighbor_inds)\n",
    "        #     print(initial_S)\n",
    "\n",
    "        # set current tuple: in edge and shift (out edge index unncessary because same as in edge)\n",
    "        current_in_edge = initial_S[0]\n",
    "        current_shift = 0\n",
    "        tuple_counter = 0\n",
    "\n",
    "        # debug\n",
    "        update_shift = np.zeros(n_neighbors)\n",
    "\n",
    "        while tuple_counter<len(initial_S)-1:\n",
    "            # best out edge is exactly the same shift!\n",
    "            current_out_edge = (current_in_edge+current_shift)%n_neighbors\n",
    "            # if current_out_edge>=n_neighbors:\n",
    "            #     current_shift = -1\n",
    "            #     continue\n",
    "            # # next tuple \n",
    "            # elif current_out_edge<0:\n",
    "            #     current_shift = 0\n",
    "            #     tuple_counter+=1\n",
    "            #     current_in_edge = initial_S[tuple_counter]\n",
    "            #     continue\n",
    "            # print(current_out_edge, current_shift)\n",
    "            # compute possible update value:\n",
    "            update_val = dists[i, current_in_edge] + angles_all[current_out_edge, current_in_edge]\n",
    "\n",
    "            if current_shift==0:\n",
    "                marked = marked_plus[current_out_edge] and marked_minus[current_out_edge]\n",
    "            elif current_shift>0:\n",
    "                marked = marked_plus[current_out_edge]\n",
    "            else:\n",
    "                marked = marked_minus[current_out_edge]\n",
    "            # update only if better\n",
    "            neigh_stack_ind = int(neighbor_inds[current_out_edge])\n",
    "            # if i==71 and (current_in_edge==148 or current_in_edge==145):\n",
    "            #     print(\"SHIFT\", current_shift, \"marked\", marked, \"neigh_stack_ind\", neigh_stack_ind)\n",
    "            #     print(\"update with\", update_val + neighbor_vals[current_out_edge] + edge_cost[neigh_stack_ind, current_out_edge])\n",
    "            #     print(\"current dist\", dists[neigh_stack_ind, current_out_edge])\n",
    "            #     print(np.around(update_val + neighbor_vals[current_out_edge] + edge_cost[neigh_stack_ind, current_out_edge],5) <= np.around(dists[neigh_stack_ind, current_out_edge], 5))\n",
    "            #     print(\"second comparison\", np.around(update_val, 5), np.around(dists[i, current_out_edge], 5))\n",
    "            # print(marked, neigh_stack_ind, update_val)\n",
    "            # actual update: only if the neighbor exists\n",
    "            # PROBLEM: what if angle cost becomes inf\n",
    "            if marked==0 and neigh_stack_ind>=0 and np.around(update_val + neighbor_vals[current_out_edge] + edge_cost[neigh_stack_ind, current_out_edge],5) <= np.around(dists[neigh_stack_ind, current_out_edge], 5):\n",
    "                dists[neigh_stack_ind, current_out_edge] = update_val + neighbor_vals[current_out_edge] + edge_cost[neigh_stack_ind, current_out_edge]\n",
    "                preds[neigh_stack_ind, current_out_edge] = current_in_edge\n",
    "                update_shift[current_out_edge] = current_shift\n",
    "                progress_one = True\n",
    "                \n",
    "            # inf neighbor --> jump over it if its incoming edge is worse\n",
    "            elif marked==0 and neigh_stack_ind<0 and np.around(update_val, 5) <= np.around(dists[i, current_out_edge], 5):\n",
    "                progress_one = True\n",
    "\n",
    "            # already marked or update not successful:\n",
    "            # Consider first edge in other direction or next overall tuple\n",
    "            else:\n",
    "                progress_one = False\n",
    "                if current_shift>0:\n",
    "                    current_shift = -1\n",
    "                else:\n",
    "                    # get next tuple from stack\n",
    "                    tuple_counter+=1\n",
    "                    current_in_edge = initial_S[tuple_counter]\n",
    "                    current_shift = 0\n",
    "                        # Progress to next edge\n",
    "        \n",
    "            if progress_one:\n",
    "                    \n",
    "                if current_shift < 0:\n",
    "                    current_shift -= 1\n",
    "                if current_shift <= 0:\n",
    "                    marked_minus[current_out_edge] = 1\n",
    "                if current_shift >= 0:\n",
    "                    current_shift += 1\n",
    "                    marked_plus[current_out_edge] = 1\n",
    "                    \n",
    "                    \n",
    "        # CHECK GT\n",
    "        # for s in range(n_neighbors):\n",
    "        #     stack_ind = int(neighbor_inds[s])\n",
    "        #     if stack_ind>=0 and not np.isclose(dists[stack_ind, s], ground_truth[s]):\n",
    "        #         print(\"PROBLEM\")\n",
    "        #         # print(dists[i], initial_S[0]) # , ground_truth[s])\n",
    "        #         # neigh_x = int(v_x + shifts[s][0])\n",
    "        #         # neigh_y = int(v_y + shifts[s][1])\n",
    "        #         print(s)\n",
    "        #         print(\"updated with\", update_shift[s])\n",
    "        #         print(dists[stack_ind, s], ground_truth[s])\n",
    "        #         print(\"new pred\", preds[stack_ind, s], \"gt_pred\", ground_truth_pred[s])\n",
    "        #         print(dists[i, int(preds[stack_ind, s])], dists[i, int(ground_truth_pred[s])])\n",
    "        #         print(\"----------\")\n",
    "        #         # print(dists[i])\n",
    "        #         # print(instance[neigh_x, neigh_y])\n",
    "        # # print(\"-------------------------\", i)\n",
    "    return dists, preds\n",
    "\n",
    "dists, preds = efficient_update_sp(dists.copy(), preds.copy(), shifts, stack, pos2node, angles_all, instance, edge_cost)      "
   ]
  },
  {
   "cell_type": "markdown",
   "metadata": {},
   "source": [
    "### Display and check if equivalent"
   ]
  },
  {
   "cell_type": "code",
   "execution_count": null,
   "metadata": {},
   "outputs": [],
   "source": [
    "def display_dists(self, edge_array, func=np.min):\n",
    "    arr = np.zeros(self.pos2node.shape)\n",
    "    for i in range(len(self.pos2node)):\n",
    "        for j in range(len(self.pos2node[0])):\n",
    "            ind = self.pos2node[i, j]\n",
    "            if ind >= 0:\n",
    "                arr[i, j] = func(edge_array[ind, :])\n",
    "    plt.imshow(arr)\n",
    "    plt.colorbar()\n",
    "    plt.show()\n",
    "    return arr"
   ]
  },
  {
   "cell_type": "code",
   "execution_count": null,
   "metadata": {},
   "outputs": [],
   "source": [
    "tic = time.time()\n",
    "dists1, preds1 = efficient_update_sp(stack, pos2node, shifts, angles_all, graph.dists.copy(), graph.preds.copy(), instance, edge_cost)\n",
    "print(time.time()-tic)\n"
   ]
  },
  {
   "cell_type": "code",
   "execution_count": null,
   "metadata": {},
   "outputs": [],
   "source": [
    "arr = display_dists(graph, dists)"
   ]
  },
  {
   "cell_type": "code",
   "execution_count": null,
   "metadata": {},
   "outputs": [],
   "source": [
    "tic = time.time()\n",
    "dists2, preds2 = sp_dag(stack, pos2node, shifts, angles_all, graph.dists.copy(), graph.preds.copy(), instance, edge_cost)\n",
    "print(time.time()-tic)\n"
   ]
  },
  {
   "cell_type": "code",
   "execution_count": null,
   "metadata": {},
   "outputs": [],
   "source": [
    "arr2 = display_dists(graph, dists2)"
   ]
  },
  {
   "cell_type": "code",
   "execution_count": null,
   "metadata": {
    "scrolled": true
   },
   "outputs": [],
   "source": [
    "arr_copy = arr.copy()\n",
    "arr_copy[arr_copy==np.inf] = 0\n",
    "arr2_copy = arr2.copy()\n",
    "arr2_copy[arr2_copy==np.inf] = 0\n",
    "plt.figure(figsize=(20,20))\n",
    "plt.imshow(arr_copy-arr2_copy)\n",
    "plt.colorbar()"
   ]
  },
  {
   "cell_type": "code",
   "execution_count": null,
   "metadata": {},
   "outputs": [],
   "source": [
    "len(np.where(arr!=arr2)[0])"
   ]
  },
  {
   "cell_type": "code",
   "execution_count": null,
   "metadata": {},
   "outputs": [],
   "source": [
    "arr.shape"
   ]
  },
  {
   "cell_type": "code",
   "execution_count": null,
   "metadata": {},
   "outputs": [],
   "source": [
    "arr2[tuple(graph.dest_inds)], arr[tuple(graph.dest_inds)]"
   ]
  },
  {
   "cell_type": "code",
   "execution_count": null,
   "metadata": {},
   "outputs": [],
   "source": [
    "np.where(arr!=arr2)"
   ]
  }
 ],
 "metadata": {
  "kernelspec": {
   "display_name": "Python 3",
   "language": "python",
   "name": "python3"
  },
  "language_info": {
   "codemirror_mode": {
    "name": "ipython",
    "version": 3
   },
   "file_extension": ".py",
   "mimetype": "text/x-python",
   "name": "python",
   "nbconvert_exporter": "python",
   "pygments_lexer": "ipython3",
   "version": "3.8.2"
  }
 },
 "nbformat": 4,
 "nbformat_minor": 4
}
