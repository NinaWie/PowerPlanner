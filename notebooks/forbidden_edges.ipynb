{
 "cells": [
  {
   "cell_type": "markdown",
   "metadata": {},
   "source": [
    "# In this notebook:\n",
    "\n",
    "* Load graph"
   ]
  },
  {
   "cell_type": "code",
   "execution_count": 1,
   "metadata": {},
   "outputs": [
    {
     "name": "stderr",
     "output_type": "stream",
     "text": [
      "/Users/ninawiedemann/Desktop/thesis.nosync/power_planner/powerenv/lib/python3.7/site-packages/graph_tool/draw/cairo_draw.py:39: RuntimeWarning: Error importing cairo. Graph drawing will not work.\n",
      "  warnings.warn(msg, RuntimeWarning)\n",
      "/Users/ninawiedemann/Desktop/thesis.nosync/power_planner/powerenv/lib/python3.7/site-packages/graph_tool/draw/cairo_draw.py:39: RuntimeWarning: Error importing cairo. Graph drawing will not work.\n",
      "  warnings.warn(msg, RuntimeWarning)\n",
      "/Users/ninawiedemann/Desktop/thesis.nosync/power_planner/powerenv/lib/python3.7/site-packages/graph_tool/draw/cairo_draw.py:39: RuntimeWarning: Error importing cairo. Graph drawing will not work.\n",
      "  warnings.warn(msg, RuntimeWarning)\n",
      "/Users/ninawiedemann/Desktop/thesis.nosync/power_planner/powerenv/lib/python3.7/site-packages/graph_tool/all.py:40: RuntimeWarning: Error importing draw module, proceeding nevertheless: No module named 'cairo'\n",
      "  warnings.warn(msg, RuntimeWarning)\n"
     ]
    }
   ],
   "source": [
    "from graph_tool.all import *\n",
    "import matplotlib.pyplot as plt\n",
    "import numpy as np\n",
    "import os\n",
    "import json"
   ]
  },
  {
   "cell_type": "code",
   "execution_count": null,
   "metadata": {},
   "outputs": [],
   "source": []
  },
  {
   "cell_type": "markdown",
   "metadata": {},
   "source": [
    "## Load graph and pos2node"
   ]
  },
  {
   "cell_type": "code",
   "execution_count": 2,
   "metadata": {},
   "outputs": [],
   "source": [
    "base_path = \"../outputs/path_92699\""
   ]
  },
  {
   "cell_type": "code",
   "execution_count": 3,
   "metadata": {},
   "outputs": [],
   "source": [
    "pos2node = np.load(base_path+\"_pos2node.npy\")"
   ]
  },
  {
   "cell_type": "code",
   "execution_count": 4,
   "metadata": {},
   "outputs": [
    {
     "data": {
      "image/png": "[encoded data removed]",
      "text/plain": [
       "<Figure size 1440x720 with 1 Axes>"
      ]
     },
     "metadata": {
      "needs_background": "light"
     },
     "output_type": "display_data"
    }
   ],
   "source": [
    "plt.figure(figsize=(20,10))\n",
    "plt.imshow(pos2node[70:180, 10:250])\n",
    "plt.show()"
   ]
  },
  {
   "cell_type": "code",
   "execution_count": 52,
   "metadata": {},
   "outputs": [],
   "source": [
    "# load graph itself\n",
    "graph = load_graph(base_path + \"_graph.xml.gz\")"
   ]
  },
  {
   "cell_type": "code",
   "execution_count": 54,
   "metadata": {},
   "outputs": [],
   "source": [
    "all_costs = graph.ep.weight\n",
    "cost_props = list()\n",
    "classes = [\"env\", \"urban\"]\n",
    "for props in classes:\n",
    "    cost_props.append(eval(\"graph.ep.\"+props))"
   ]
  },
  {
   "cell_type": "code",
   "execution_count": 7,
   "metadata": {},
   "outputs": [
    {
     "name": "stdout",
     "output_type": "stream",
     "text": [
      "0.4 0.3580952380952381 0.2526984126984127\n"
     ]
    }
   ],
   "source": [
    "# test: all costs if combination of others\n",
    "print(cost_props[0].get_array()[10], cost_props[1].get_array()[10], all_costs.get_array()[10])"
   ]
  },
  {
   "cell_type": "code",
   "execution_count": 8,
   "metadata": {},
   "outputs": [
    {
     "data": {
      "text/plain": [
       "0.24999975000000002"
      ]
     },
     "execution_count": 8,
     "metadata": {},
     "output_type": "execute_result"
    }
   ],
   "source": [
    "0.333333*0.4 + 0.333333*0.35"
   ]
  },
  {
   "cell_type": "code",
   "execution_count": 9,
   "metadata": {},
   "outputs": [],
   "source": [
    "# load infos\n",
    "with open(base_path+\"_infos.json\", \"r\") as infile:\n",
    "    infos_path = json.load(infile)"
   ]
  },
  {
   "cell_type": "code",
   "execution_count": 10,
   "metadata": {},
   "outputs": [],
   "source": [
    "## beginning: 5 293 756 edges\n",
    "# start cells: [408  62] dest cells: [235 601]        \n",
    "source = 16749 # 58730 \n",
    "dest = 3557 # 12160"
   ]
  },
  {
   "cell_type": "markdown",
   "metadata": {},
   "source": [
    "## Randomly delete edges:"
   ]
  },
  {
   "cell_type": "code",
   "execution_count": 11,
   "metadata": {},
   "outputs": [],
   "source": [
    "def remove_edges(graph, remove_percent = 0.3):\n",
    "    n_edges = len(list(graph.edges()))\n",
    "    print(\"prev number edges\", n_edges)\n",
    "    remove_ind = int(n_edges * remove_percent)\n",
    "    print(\"removing \", remove_ind, \"edges\")\n",
    "    remove = np.random.permutation(np.arange(n_edges))[:remove_ind]\n",
    "    remove_arr = np.zeros(n_edges)\n",
    "    remove_arr[remove] = 1\n",
    "    # del graph.properties[(\"e\", \"remove_property\")]\n",
    "    remove_property = graph.new_edge_property(\"float\")\n",
    "    remove_property.a = remove_arr\n",
    "    remove_labeled_edges(graph, remove_property)\n",
    "    print(\"now number edges:\", len(list(graph.edges())))"
   ]
  },
  {
   "cell_type": "code",
   "execution_count": 12,
   "metadata": {},
   "outputs": [
    {
     "name": "stdout",
     "output_type": "stream",
     "text": [
      "prev number edges 483010\n",
      "removing  241505 edges\n",
      "now number edges: 241505\n"
     ]
    }
   ],
   "source": [
    "remove_edges(graph, remove_percent = 0.5)"
   ]
  },
  {
   "cell_type": "code",
   "execution_count": null,
   "metadata": {},
   "outputs": [],
   "source": [
    "# USE SET FILTERS FUNCTION\n",
    "# set_filters(self, eprop, vprop, inverted_edges=False, inverted_vertices=False)[source]¶"
   ]
  },
  {
   "cell_type": "code",
   "execution_count": 35,
   "metadata": {},
   "outputs": [
    {
     "name": "stdout",
     "output_type": "stream",
     "text": [
      "483010\n",
      "338107\n"
     ]
    }
   ],
   "source": [
    "# To also reduce property maps\n",
    "keep = np.abs(1-remove_arr)\n",
    "arr = all_costs.get_array()\n",
    "arr_keep = arr*keep\n",
    "print(len(arr_keep))\n",
    "arr_keep = arr_keep[arr_keep>0]\n",
    "print(len(arr_keep))"
   ]
  },
  {
   "cell_type": "code",
   "execution_count": 80,
   "metadata": {},
   "outputs": [
    {
     "data": {
      "text/plain": [
       "0.32381886087768436"
      ]
     },
     "execution_count": 80,
     "metadata": {},
     "output_type": "execute_result"
    }
   ],
   "source": [
    "# edges = graph.get_edges()\n",
    "# v1, v2 = edges[2000]\n",
    "all_costs[graph.edge(graph.vertex(v1), graph.vertex(v2))]"
   ]
  },
  {
   "cell_type": "code",
   "execution_count": 53,
   "metadata": {},
   "outputs": [
    {
     "name": "stdout",
     "output_type": "stream",
     "text": [
      "163 366\n"
     ]
    },
    {
     "data": {
      "text/plain": [
       "0.32381886087768436"
      ]
     },
     "execution_count": 53,
     "metadata": {},
     "output_type": "execute_result"
    }
   ],
   "source": [
    "edges = graph.get_edges()\n",
    "v1, v2 = edges[2000]\n",
    "print(v1,v2)\n",
    "all_costs[graph.edge(graph.vertex(v1), graph.vertex(v2))]"
   ]
  },
  {
   "cell_type": "code",
   "execution_count": 24,
   "metadata": {},
   "outputs": [
    {
     "name": "stdout",
     "output_type": "stream",
     "text": [
      "average path costs for original: [0.38807622 0.36841572]\n"
     ]
    }
   ],
   "source": [
    "print(\"average path costs for original:\", np.mean(np.asarray(infos_path[\"edgecosts\"]), axis=0))\n",
    "# not equal to costs computed here weil edge costs vs node costs"
   ]
  },
  {
   "cell_type": "markdown",
   "metadata": {},
   "source": [
    "### Compute probability that edges are kept"
   ]
  },
  {
   "cell_type": "code",
   "execution_count": 142,
   "metadata": {},
   "outputs": [
    {
     "name": "stdout",
     "output_type": "stream",
     "text": [
      "482960 483010 2415\n",
      "probability to keep the shortest path edges 0.7783066860127305\n"
     ]
    }
   ],
   "source": [
    "m = 483010 # n_edges\n",
    "k = 50 # length of path\n",
    "p = 0.005 # probability remove\n",
    "def prob_kept(m,k,p):\n",
    "    n_rem = int(m*p)\n",
    "    print(m-k, m, n_rem)\n",
    "    # prob = binom(m-k, n_rem) / binom(m, n_rem) # number of sets to draw with \n",
    "    zaehler = np.arange(m-n_rem, m-n_rem-k, -1)\n",
    "    nenner = np.arange(m,m-k, -1)\n",
    "    prob = np.product(zaehler/nenner)\n",
    "    print(\"probability to keep the shortest path edges\", prob)\n",
    "    return prob\n",
    "_ = prob_kept(m,k,p)"
   ]
  },
  {
   "cell_type": "markdown",
   "metadata": {},
   "source": [
    "### Baseline path: path without weights"
   ]
  },
  {
   "cell_type": "code",
   "execution_count": 143,
   "metadata": {},
   "outputs": [],
   "source": [
    "vertices_path, edges_path = get_path(graph_red, None)\n",
    "path, path_costs = convert_path(graph_red, vertices_path, edges_path, pos2node)"
   ]
  },
  {
   "cell_type": "code",
   "execution_count": 150,
   "metadata": {},
   "outputs": [
    {
     "data": {
      "image/png": "[encoded data removed]",
      "text/plain": [
       "<Figure size 432x288 with 1 Axes>"
      ]
     },
     "metadata": {
      "needs_background": "light"
     },
     "output_type": "display_data"
    },
    {
     "name": "stdout",
     "output_type": "stream",
     "text": [
      "Baseline path: length: 49 costs: [20.81543491 21.88372622]\n"
     ]
    }
   ],
   "source": [
    "path = np.asarray(path)\n",
    "plt.plot(path[:,0], path[:,1])\n",
    "plt.show()\n",
    "print(\"Baseline path:\", \"length:\", len(path), \"costs:\", np.sum(path_costs,axis=0))"
   ]
  },
  {
   "cell_type": "markdown",
   "metadata": {},
   "source": [
    "### Remove edges and compute path"
   ]
  },
  {
   "cell_type": "code",
   "execution_count": 136,
   "metadata": {
    "scrolled": true
   },
   "outputs": [
    {
     "name": "stdout",
     "output_type": "stream",
     "text": [
      "[0.00411523 0.00670575 0.01092701 0.01780555 0.02901411 0.04727844\n",
      " 0.07704014 0.12553677 0.20456195 0.33333333]\n",
      "prev number edges 483010\n",
      "removing  1987 edges\n",
      "now number edges: 481023\n",
      "removed: 0.00411522633744856 cost sum 0.0 path length 50\n",
      "prev number edges 483010\n",
      "removing  3238 edges\n",
      "now number edges: 479772\n",
      "removed: 0.006705754000900604 cost sum 0.0 path length 50\n",
      "prev number edges 483010\n",
      "removing  5277 edges\n",
      "now number edges: 477733\n",
      "removed: 0.010927014223104452 cost sum 0.0 path length 50\n",
      "prev number edges 483010\n",
      "removing  8600 edges\n",
      "now number edges: 474410\n",
      "removed: 0.01780555025070874 cost sum 0.0 path length 51\n",
      "prev number edges 483010\n",
      "removing  14014 edges\n",
      "now number edges: 468996\n",
      "removed: 0.029014112479158232 cost sum 0.0 path length 51\n",
      "prev number edges 483010\n",
      "removing  22835 edges\n",
      "now number edges: 460175\n",
      "removed: 0.04727844470404599 cost sum 0.0 path length 51\n",
      "prev number edges 483010\n",
      "removing  37211 edges\n",
      "now number edges: 445799\n",
      "removed: 0.07704014159451496 cost sum 0.0 path length 51\n",
      "prev number edges 483010\n",
      "removing  60635 edges\n",
      "now number edges: 422375\n",
      "removed: 0.12553677376775027 cost sum 0.0 path length 51\n",
      "prev number edges 483010\n",
      "removing  98805 edges\n",
      "now number edges: 384205\n",
      "removed: 0.20456194967763863 cost sum 0.0 path length 52\n",
      "prev number edges 483010\n",
      "removing  161003 edges\n",
      "now number edges: 322007\n",
      "removed: 0.3333333333333333 cost sum 0.0 path length 52\n"
     ]
    }
   ],
   "source": [
    "# same procedure as for pareto fronteir, just vary the number of removed edges instead\n",
    "rem = np.logspace(-5, -1, 10, base=3)\n",
    "print(rem)\n",
    "pareto = []\n",
    "paths = list()\n",
    "for r in rem:\n",
    "    if r==0:\n",
    "        graph_red = graph\n",
    "    else:\n",
    "        graph_red = graph.copy()\n",
    "        remove_edges(graph_red, remove_percent = r)\n",
    "    all_costs = graph_red.ep.weight\n",
    "    vertices_path, edges_path = get_path(graph_red, all_costs)\n",
    "    path, path_costs = convert_path(graph_red, vertices_path, edges_path, pos2node)\n",
    "    print(\"removed:\", r, \"cost sum\", np.sum(path_costs, axis=0), \"path length\", len(path))\n",
    "    pareto.append(np.sum(path_costs, axis=0))\n",
    "    paths.append(path)"
   ]
  },
  {
   "cell_type": "markdown",
   "metadata": {},
   "source": [
    "## All shortest paths:\n",
    "* all_paths function of graph-tool does DFS --> not useful\n",
    "* all_shortest_paths of graph-tool returns only the unique single path in our case\n",
    "\n",
    "### Round edge costs --> more shortest paths "
   ]
  },
  {
   "cell_type": "code",
   "execution_count": 85,
   "metadata": {},
   "outputs": [],
   "source": [
    "costs_rounded = graph.new_edge_property(\"int\")\n",
    "costs_rounded.a = (cost_props[0].get_array()*10).astype(int)"
   ]
  },
  {
   "cell_type": "code",
   "execution_count": 90,
   "metadata": {
    "scrolled": true
   },
   "outputs": [
    {
     "name": "stdout",
     "output_type": "stream",
     "text": [
      "number of paths: 101\n"
     ]
    }
   ],
   "source": [
    "max_paths = 100\n",
    "paths = []\n",
    "rem = []\n",
    "for i,vertices_path in enumerate(all_shortest_paths(graph, graph.vertex(source),\n",
    "                    graph.vertex(dest), weights=costs_rounded,\n",
    "                    negative_weights=True)):\n",
    "    rem.append(i)\n",
    "    # edges_path = []\n",
    "    path, _ = convert_path(graph, vertices_path, [], pos2node)\n",
    "    paths.append(path)\n",
    "    if i>max_paths:\n",
    "        break\n",
    "print(\"number of paths:\", i)"
   ]
  },
  {
   "cell_type": "code",
   "execution_count": null,
   "metadata": {},
   "outputs": [],
   "source": []
  },
  {
   "cell_type": "markdown",
   "metadata": {},
   "source": [
    "## Shortest path"
   ]
  },
  {
   "cell_type": "code",
   "execution_count": 137,
   "metadata": {},
   "outputs": [],
   "source": [
    "def get_path(graph, all_costs):\n",
    "    vertices_path, edges_path = shortest_path(\n",
    "                    graph,\n",
    "                    graph.vertex(source),\n",
    "                    graph.vertex(dest),\n",
    "                    weights=all_costs,\n",
    "                    negative_weights=True\n",
    "                )\n",
    "    return vertices_path, edges_path\n",
    "def convert_path(graph, vertices_path, edges_path, pos2node):\n",
    "    path = []\n",
    "    for v in vertices_path:\n",
    "        pos_x, pos_y = np.where(pos2node==graph.vertex_index[v])\n",
    "        assert len(pos_x)==1, \"posx{}\".format(pos_x)\n",
    "        path.append([pos_x[0], pos_y[0]])\n",
    "\n",
    "    path_costs = []\n",
    "    for e in edges_path:\n",
    "        costs = [props[e] for props in cost_props]\n",
    "        path_costs.append(costs)\n",
    "    return path, path_costs"
   ]
  },
  {
   "cell_type": "code",
   "execution_count": 14,
   "metadata": {},
   "outputs": [
    {
     "data": {
      "text/plain": [
       "483010"
      ]
     },
     "execution_count": 14,
     "metadata": {},
     "output_type": "execute_result"
    }
   ],
   "source": [
    "len(all_costs.get_array())"
   ]
  },
  {
   "cell_type": "code",
   "execution_count": 15,
   "metadata": {},
   "outputs": [],
   "source": [
    "path, path_costs = get_path(graph, all_costs, pos2node)"
   ]
  },
  {
   "cell_type": "code",
   "execution_count": 16,
   "metadata": {},
   "outputs": [],
   "source": [
    "path_orig = infos_path[\"path_cells\"]"
   ]
  },
  {
   "cell_type": "code",
   "execution_count": 17,
   "metadata": {},
   "outputs": [
    {
     "data": {
      "text/plain": [
       "50"
      ]
     },
     "execution_count": 17,
     "metadata": {},
     "output_type": "execute_result"
    }
   ],
   "source": [
    "len(path_orig)"
   ]
  },
  {
   "cell_type": "markdown",
   "metadata": {},
   "source": [
    "## Pareto frontier"
   ]
  },
  {
   "cell_type": "code",
   "execution_count": 152,
   "metadata": {},
   "outputs": [
    {
     "name": "stdout",
     "output_type": "stream",
     "text": [
      "0.0 1.0 [21.71425844 16.47612717]\n",
      "0.1 0.9 [21.38955255 16.48565098]\n",
      "0.2 0.8 [20.82484667 16.61136527]\n",
      "0.30000000000000004 0.7 [20.41190549 16.73517479]\n",
      "0.4 0.6 [20.28249373 16.80756375]\n",
      "0.5 0.5 [19.02484667 17.94658337]\n",
      "0.6000000000000001 0.3999999999999999 [18.99072902 17.98848813]\n",
      "0.7000000000000001 0.29999999999999993 [18.49661138 18.85325003]\n",
      "0.8 0.19999999999999996 [18.36249373 19.28563098]\n",
      "0.9 0.09999999999999998 [18.12837608 20.35610717]\n",
      "1.0 0.0 [18.12837608 20.37325003]\n"
     ]
    }
   ],
   "source": [
    "rem = np.arange(0,1.1, 0.1)\n",
    "pareto = []\n",
    "paths = list()\n",
    "all_costs = graph.ep.weight\n",
    "for w in rem:\n",
    "    all_costs.a = cost_props[0].get_array()*w + cost_props[1].get_array() * (1-w)\n",
    "    vertices_path, edges_path = get_path(graph, all_costs)\n",
    "    path, path_costs = convert_path(graph, vertices_path, edges_path, pos2node)\n",
    "    print(w, 1-w, np.sum(path_costs, axis=0))\n",
    "    pareto.append(np.sum(path_costs, axis=0))\n",
    "    paths.append(path)"
   ]
  },
  {
   "cell_type": "code",
   "execution_count": 232,
   "metadata": {
    "scrolled": true
   },
   "outputs": [
    {
     "name": "stderr",
     "output_type": "stream",
     "text": [
      "No handles with labels found to put in legend.\n"
     ]
    },
    {
     "data": {
      "image/png": "[encoded data removed]",
      "text/plain": [
       "<Figure size 432x288 with 2 Axes>"
      ]
     },
     "metadata": {
      "needs_background": "light"
     },
     "output_type": "display_data"
    }
   ],
   "source": [
    "pareto = np.asarray(pareto)\n",
    "color=plt.cm.rainbow(np.linspace(0,1,len(pareto)))\n",
    "plt.subplot(1,2,1)\n",
    "plt.scatter(pareto[:,0], pareto[:,1], c=color)\n",
    "plt.xlabel(classes[0])\n",
    "plt.ylabel(classes[1])\n",
    "plt.legend()\n",
    "\n",
    "plt.subplot(1,2,2)\n",
    "plt.scatter(pareto[:,0], pareto[:,1], label=rem, c=color)\n",
    "plt.xlabel(classes[0])\n",
    "plt.ylabel(classes[1], fontsize=15)\n",
    "plt.legend()\n",
    "plt.show()"
   ]
  },
  {
   "cell_type": "code",
   "execution_count": 118,
   "metadata": {},
   "outputs": [
    {
     "data": {
      "text/plain": [
       "0.2596638655462185"
      ]
     },
     "execution_count": 118,
     "metadata": {},
     "output_type": "execute_result"
    }
   ],
   "source": [
    "e = find_edge(graph, graph.edge_index, 33)\n",
    "all_costs[e[0]]"
   ]
  },
  {
   "cell_type": "code",
   "execution_count": 226,
   "metadata": {},
   "outputs": [
    {
     "data": {
      "image/png": "[encoded data removed]",
      "text/plain": [
       "<Figure size 1440x720 with 1 Axes>"
      ]
     },
     "metadata": {
      "needs_background": "light"
     },
     "output_type": "display_data"
    }
   ],
   "source": [
    "color=iter(plt.cm.rainbow(np.linspace(0,1,len(paths))))\n",
    "plt.figure(figsize=(20,10))\n",
    "for i,p in enumerate(paths):\n",
    "    p_arr = np.array(p)\n",
    "    c = next(color)\n",
    "    plt.plot(p_arr[:,1], p_arr[:,0], label = rem[i], c=c)\n",
    "    # print(\"path length:\", len(p))\n",
    "plt.legend( title=\"Weight of \"+classes[0]+\"costs\")\n",
    "plt.savefig(\"dropout_path.png\")\n",
    "plt.show()"
   ]
  },
  {
   "cell_type": "markdown",
   "metadata": {},
   "source": [
    "## Path to distance corridor"
   ]
  },
  {
   "cell_type": "code",
   "execution_count": 220,
   "metadata": {},
   "outputs": [],
   "source": [
    "from power_planner.utils import bresenham_line\n",
    "from scipy.ndimage.morphology import binary_dilation\n",
    "from scipy.spatial.distance import cdist\n",
    "import time"
   ]
  },
  {
   "cell_type": "code",
   "execution_count": 206,
   "metadata": {},
   "outputs": [],
   "source": [
    "def get_path_lines(cost_shape, paths):\n",
    "    path_dilation = np.zeros(cost_shape)\n",
    "    for path in paths:\n",
    "        # iterate over path nodes\n",
    "        for i in range(len(path)-1):\n",
    "            line = bresenham_line(*path[i], *path[i+1])\n",
    "            # print(line)\n",
    "            for (j,k) in line:\n",
    "                path_dilation[j,k] = 1\n",
    "    return path_dilation"
   ]
  },
  {
   "cell_type": "code",
   "execution_count": 217,
   "metadata": {},
   "outputs": [],
   "source": [
    "def dilation_dist(path_dilation):\n",
    "    \"\"\"\n",
    "    path_dilation: binary array with zeros everywhere except for path locations\n",
    "    \"\"\"\n",
    "    saved_arrs = [path_dilation]\n",
    "    # compute number of iterations: maximum distance of pixel to line\n",
    "    x_coords, y_coords = np.where(path_dilation)\n",
    "    x_len, y_len = path_dilation.shape\n",
    "    # print([np.min(x_coords), x_len- np.max(x_coords), np.min(y_coords), y_len- np.max(y_coords)])\n",
    "    n_iters = max([np.min(x_coords), x_len- np.max(x_coords), np.min(y_coords), y_len- np.max(y_coords)])\n",
    "    # dilate\n",
    "    for k in range(n_iters):\n",
    "        path_dilation = binary_dilation(path_dilation)\n",
    "        saved_arrs.append(path_dilation)\n",
    "    saved_arrs = np.sum(np.array(saved_arrs), axis=0)\n",
    "    return saved_arrs"
   ]
  },
  {
   "cell_type": "code",
   "execution_count": 218,
   "metadata": {},
   "outputs": [],
   "source": [
    "def cdist_dist(path_dilation):\n",
    "    saved_arrs = np.zeros(path_dilation.shape)\n",
    "    x_len, y_len = path_dilation.shape\n",
    "    xa = np.array([[i,j] for i in range(x_len) for j in range(y_len)])\n",
    "    xb = np.swapaxes(np.vstack(np.where(path_dilation>0)),1,0)\n",
    "    print(xa.shape, xb.shape)\n",
    "    all_dists = cdist(xa,xb)\n",
    "    print(all_dists.shape)\n",
    "    out = np.min(all_dists, axis = 1)\n",
    "    k=0\n",
    "    for i in range(x_len):\n",
    "        for j in range(y_len):\n",
    "            saved_arrs[i,j] = out[k]\n",
    "            k+=1\n",
    "    return saved_arrs"
   ]
  },
  {
   "cell_type": "code",
   "execution_count": 234,
   "metadata": {},
   "outputs": [
    {
     "name": "stdout",
     "output_type": "stream",
     "text": [
      "[94, 136, 24, 22]\n",
      "time dilation: 0.36892080307006836\n"
     ]
    }
   ],
   "source": [
    "path_dilation = get_path_lines(pos2node.shape, paths)\n",
    "tic = time.time()\n",
    "saved_arrs = dilation_dist(path_dilation)\n",
    "print(\"time dilation:\",time.time()-tic)"
   ]
  },
  {
   "cell_type": "code",
   "execution_count": 224,
   "metadata": {},
   "outputs": [
    {
     "name": "stdout",
     "output_type": "stream",
     "text": [
      "(79124, 2) (684, 2)\n",
      "(79124, 684)\n",
      "time cdist: 0.7996978759765625\n"
     ]
    }
   ],
   "source": [
    "tic = time.time()\n",
    "saved_arrs = cdist_dist(path_dilation)\n",
    "print(\"time cdist:\",time.time()-tic)"
   ]
  },
  {
   "cell_type": "code",
   "execution_count": 235,
   "metadata": {},
   "outputs": [
    {
     "data": {
      "image/png": "[encoded data removed]",
      "text/plain": [
       "<Figure size 1440x720 with 2 Axes>"
      ]
     },
     "metadata": {
      "needs_background": "light"
     },
     "output_type": "display_data"
    }
   ],
   "source": [
    "plt.figure(figsize=(20,10))\n",
    "plt.imshow(saved_arrs[70:180, 10:250])\n",
    "plt.colorbar()\n",
    "plt.show()"
   ]
  },
  {
   "cell_type": "markdown",
   "metadata": {},
   "source": [
    "# Tests"
   ]
  },
  {
   "cell_type": "code",
   "execution_count": null,
   "metadata": {
    "scrolled": true
   },
   "outputs": [],
   "source": [
    "# make sure that edge costs are just the nodecosts means\n",
    "edgecosts= np.asarray(infos_path[\"edgecosts\"])\n",
    "for p in range(len(path_costs)-1):\n",
    "    costmean = edgecosts[p] + edgecosts[p+1]\n",
    "    print(path_costs[p], 0.5*costmean)"
   ]
  },
  {
   "cell_type": "code",
   "execution_count": 26,
   "metadata": {},
   "outputs": [
    {
     "name": "stdout",
     "output_type": "stream",
     "text": [
      "[[816, 124], [828, 142], [830, 166], [816, 186], [802, 206], [788, 224], [778, 242], [762, 260], [772, 282], [774, 306], [760, 320], [758, 344], [754, 368], [748, 392], [742, 416], [734, 438], [728, 462], [718, 484], [712, 508], [708, 532], [708, 556], [710, 580], [704, 604], [706, 626], [696, 642], [688, 664], [682, 688], [676, 712], [670, 736], [676, 760], [672, 776], [672, 800], [668, 824], [664, 848], [658, 872], [648, 894], [642, 918], [626, 936], [622, 960], [608, 980], [588, 992], [574, 1012], [568, 1036], [560, 1058], [556, 1082], [542, 1102], [534, 1122], [544, 1144], [528, 1162], [508, 1176], [494, 1196], [470, 1202]]\n"
     ]
    }
   ],
   "source": [
    "print(infos_path[\"path_cells\"])"
   ]
  },
  {
   "cell_type": "code",
   "execution_count": 31,
   "metadata": {},
   "outputs": [
    {
     "name": "stdout",
     "output_type": "stream",
     "text": [
      "Only included  0.47856727272727273 % of the actual raster cells\n"
     ]
    }
   ],
   "source": [
    "print(\"Only included \", len(list(graph.vertices()))/(250*550), \"% of the actual raster cells\")"
   ]
  },
  {
   "cell_type": "code",
   "execution_count": 39,
   "metadata": {},
   "outputs": [
    {
     "data": {
      "text/plain": [
       "5293756"
      ]
     },
     "execution_count": 39,
     "metadata": {},
     "output_type": "execute_result"
    }
   ],
   "source": [
    "len(list(graph.edges())) # --> actually 80 neighbors on average (65000*80 = 5200000)"
   ]
  },
  {
   "cell_type": "code",
   "execution_count": null,
   "metadata": {},
   "outputs": [],
   "source": []
  }
 ],
 "metadata": {
  "kernelspec": {
   "display_name": "Python 3",
   "language": "python",
   "name": "python3"
  },
  "language_info": {
   "codemirror_mode": {
    "name": "ipython",
    "version": 3
   },
   "file_extension": ".py",
   "mimetype": "text/x-python",
   "name": "python",
   "nbconvert_exporter": "python",
   "pygments_lexer": "ipython3",
   "version": "3.8.2"
  }
 },
 "nbformat": 4,
 "nbformat_minor": 4
}
