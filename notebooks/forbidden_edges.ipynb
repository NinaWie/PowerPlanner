{
 "cells": [
  {
   "cell_type": "markdown",
   "metadata": {},
   "source": [
    "# In this notebook:\n",
    "\n",
    "* Load graph"
   ]
  },
  {
   "cell_type": "code",
   "execution_count": null,
   "metadata": {},
   "outputs": [],
   "source": [
    "from graph_tool.all import *\n",
    "import matplotlib.pyplot as plt\n",
    "import numpy as np\n",
    "import os\n",
    "import json"
   ]
  },
  {
   "cell_type": "code",
   "execution_count": null,
   "metadata": {},
   "outputs": [],
   "source": []
  },
  {
   "cell_type": "markdown",
   "metadata": {},
   "source": [
    "## Load graph and pos2node"
   ]
  },
  {
   "cell_type": "code",
   "execution_count": null,
   "metadata": {},
   "outputs": [],
   "source": [
    "base_path = \"../outputs/path_92699\""
   ]
  },
  {
   "cell_type": "code",
   "execution_count": null,
   "metadata": {},
   "outputs": [],
   "source": [
    "pos2node = np.load(base_path+\"_pos2node.npy\")"
   ]
  },
  {
   "cell_type": "code",
   "execution_count": null,
   "metadata": {},
   "outputs": [],
   "source": [
    "plt.figure(figsize=(20,10))\n",
    "plt.imshow(pos2node[70:180, 10:250])\n",
    "plt.show()"
   ]
  },
  {
   "cell_type": "code",
   "execution_count": null,
   "metadata": {},
   "outputs": [],
   "source": [
    "# load graph itself\n",
    "graph = load_graph(base_path + \"_graph.xml.gz\")"
   ]
  },
  {
   "cell_type": "code",
   "execution_count": null,
   "metadata": {},
   "outputs": [],
   "source": [
    "all_costs = graph.ep.weight\n",
    "cost_props = list()\n",
    "classes = [\"env\", \"urban\"]\n",
    "for props in classes:\n",
    "    cost_props.append(eval(\"graph.ep.\"+props))"
   ]
  },
  {
   "cell_type": "code",
   "execution_count": null,
   "metadata": {},
   "outputs": [],
   "source": [
    "# test: all costs if combination of others\n",
    "print(cost_props[0].get_array()[10], cost_props[1].get_array()[10], all_costs.get_array()[10])"
   ]
  },
  {
   "cell_type": "code",
   "execution_count": null,
   "metadata": {},
   "outputs": [],
   "source": [
    "0.333333*0.4 + 0.333333*0.35"
   ]
  },
  {
   "cell_type": "code",
   "execution_count": null,
   "metadata": {},
   "outputs": [],
   "source": [
    "# load infos\n",
    "with open(base_path+\"_infos.json\", \"r\") as infile:\n",
    "    infos_path = json.load(infile)"
   ]
  },
  {
   "cell_type": "code",
   "execution_count": null,
   "metadata": {},
   "outputs": [],
   "source": [
    "## beginning: 5 293 756 edges\n",
    "# start cells: [408  62] dest cells: [235 601]        \n",
    "source = 16749 # 58730 \n",
    "dest = 3557 # 12160"
   ]
  },
  {
   "cell_type": "markdown",
   "metadata": {},
   "source": [
    "## Randomly delete edges:"
   ]
  },
  {
   "cell_type": "code",
   "execution_count": null,
   "metadata": {},
   "outputs": [],
   "source": [
    "def remove_edges(graph, remove_percent = 0.3):\n",
    "    n_edges = len(list(graph.edges()))\n",
    "    print(\"prev number edges\", n_edges)\n",
    "    remove_ind = int(n_edges * remove_percent)\n",
    "    print(\"removing \", remove_ind, \"edges\")\n",
    "    remove = np.random.permutation(np.arange(n_edges))[:remove_ind]\n",
    "    remove_arr = np.zeros(n_edges)\n",
    "    remove_arr[remove] = 1\n",
    "    # del graph.properties[(\"e\", \"remove_property\")]\n",
    "    remove_property = graph.new_edge_property(\"float\")\n",
    "    remove_property.a = remove_arr\n",
    "    remove_labeled_edges(graph, remove_property)\n",
    "    print(\"now number edges:\", len(list(graph.edges())))"
   ]
  },
  {
   "cell_type": "code",
   "execution_count": null,
   "metadata": {},
   "outputs": [],
   "source": [
    "remove_edges(graph, remove_percent = 0.5)"
   ]
  },
  {
   "cell_type": "code",
   "execution_count": null,
   "metadata": {},
   "outputs": [],
   "source": [
    "# USE SET FILTERS FUNCTION\n",
    "# set_filters(self, eprop, vprop, inverted_edges=False, inverted_vertices=False)[source]¶"
   ]
  },
  {
   "cell_type": "code",
   "execution_count": null,
   "metadata": {},
   "outputs": [],
   "source": [
    "# To also reduce property maps\n",
    "keep = np.abs(1-remove_arr)\n",
    "arr = all_costs.get_array()\n",
    "arr_keep = arr*keep\n",
    "print(len(arr_keep))\n",
    "arr_keep = arr_keep[arr_keep>0]\n",
    "print(len(arr_keep))"
   ]
  },
  {
   "cell_type": "code",
   "execution_count": null,
   "metadata": {},
   "outputs": [],
   "source": [
    "# edges = graph.get_edges()\n",
    "# v1, v2 = edges[2000]\n",
    "all_costs[graph.edge(graph.vertex(v1), graph.vertex(v2))]"
   ]
  },
  {
   "cell_type": "code",
   "execution_count": null,
   "metadata": {},
   "outputs": [],
   "source": [
    "edges = graph.get_edges()\n",
    "v1, v2 = edges[2000]\n",
    "print(v1,v2)\n",
    "all_costs[graph.edge(graph.vertex(v1), graph.vertex(v2))]"
   ]
  },
  {
   "cell_type": "code",
   "execution_count": null,
   "metadata": {},
   "outputs": [],
   "source": [
    "print(\"average path costs for original:\", np.mean(np.asarray(infos_path[\"edgecosts\"]), axis=0))\n",
    "# not equal to costs computed here weil edge costs vs node costs"
   ]
  },
  {
   "cell_type": "markdown",
   "metadata": {},
   "source": [
    "### Compute probability that edges are kept"
   ]
  },
  {
   "cell_type": "code",
   "execution_count": null,
   "metadata": {},
   "outputs": [],
   "source": [
    "m = 483010 # n_edges\n",
    "k = 50 # length of path\n",
    "p = 0.005 # probability remove\n",
    "def prob_kept(m,k,p):\n",
    "    n_rem = int(m*p)\n",
    "    print(m-k, m, n_rem)\n",
    "    # prob = binom(m-k, n_rem) / binom(m, n_rem) # number of sets to draw with \n",
    "    zaehler = np.arange(m-n_rem, m-n_rem-k, -1)\n",
    "    nenner = np.arange(m,m-k, -1)\n",
    "    prob = np.product(zaehler/nenner)\n",
    "    print(\"probability to keep the shortest path edges\", prob)\n",
    "    return prob\n",
    "_ = prob_kept(m,k,p)"
   ]
  },
  {
   "cell_type": "markdown",
   "metadata": {},
   "source": [
    "### Baseline path: path without weights"
   ]
  },
  {
   "cell_type": "code",
   "execution_count": null,
   "metadata": {},
   "outputs": [],
   "source": [
    "vertices_path, edges_path = get_path(graph_red, None)\n",
    "path, path_costs = convert_path(graph_red, vertices_path, edges_path, pos2node)"
   ]
  },
  {
   "cell_type": "code",
   "execution_count": null,
   "metadata": {},
   "outputs": [],
   "source": [
    "path = np.asarray(path)\n",
    "plt.plot(path[:,0], path[:,1])\n",
    "plt.show()\n",
    "print(\"Baseline path:\", \"length:\", len(path), \"costs:\", np.sum(path_costs,axis=0))"
   ]
  },
  {
   "cell_type": "markdown",
   "metadata": {},
   "source": [
    "### Remove edges and compute path"
   ]
  },
  {
   "cell_type": "code",
   "execution_count": null,
   "metadata": {
    "scrolled": true
   },
   "outputs": [],
   "source": [
    "# same procedure as for pareto fronteir, just vary the number of removed edges instead\n",
    "rem = np.logspace(-5, -1, 10, base=3)\n",
    "print(rem)\n",
    "pareto = []\n",
    "paths = list()\n",
    "for r in rem:\n",
    "    if r==0:\n",
    "        graph_red = graph\n",
    "    else:\n",
    "        graph_red = graph.copy()\n",
    "        remove_edges(graph_red, remove_percent = r)\n",
    "    all_costs = graph_red.ep.weight\n",
    "    vertices_path, edges_path = get_path(graph_red, all_costs)\n",
    "    path, path_costs = convert_path(graph_red, vertices_path, edges_path, pos2node)\n",
    "    print(\"removed:\", r, \"cost sum\", np.sum(path_costs, axis=0), \"path length\", len(path))\n",
    "    pareto.append(np.sum(path_costs, axis=0))\n",
    "    paths.append(path)"
   ]
  },
  {
   "cell_type": "markdown",
   "metadata": {},
   "source": [
    "## All shortest paths:\n",
    "* all_paths function of graph-tool does DFS --> not useful\n",
    "* all_shortest_paths of graph-tool returns only the unique single path in our case\n",
    "\n",
    "### Round edge costs --> more shortest paths "
   ]
  },
  {
   "cell_type": "code",
   "execution_count": null,
   "metadata": {},
   "outputs": [],
   "source": [
    "costs_rounded = graph.new_edge_property(\"int\")\n",
    "costs_rounded.a = (cost_props[0].get_array()*10).astype(int)"
   ]
  },
  {
   "cell_type": "code",
   "execution_count": null,
   "metadata": {
    "scrolled": true
   },
   "outputs": [],
   "source": [
    "max_paths = 100\n",
    "paths = []\n",
    "rem = []\n",
    "for i,vertices_path in enumerate(all_shortest_paths(graph, graph.vertex(source),\n",
    "                    graph.vertex(dest), weights=costs_rounded,\n",
    "                    negative_weights=True)):\n",
    "    rem.append(i)\n",
    "    # edges_path = []\n",
    "    path, _ = convert_path(graph, vertices_path, [], pos2node)\n",
    "    paths.append(path)\n",
    "    if i>max_paths:\n",
    "        break\n",
    "print(\"number of paths:\", i)"
   ]
  },
  {
   "cell_type": "code",
   "execution_count": null,
   "metadata": {},
   "outputs": [],
   "source": []
  },
  {
   "cell_type": "markdown",
   "metadata": {},
   "source": [
    "## Shortest path"
   ]
  },
  {
   "cell_type": "code",
   "execution_count": null,
   "metadata": {},
   "outputs": [],
   "source": [
    "def get_path(graph, all_costs):\n",
    "    vertices_path, edges_path = shortest_path(\n",
    "                    graph,\n",
    "                    graph.vertex(source),\n",
    "                    graph.vertex(dest),\n",
    "                    weights=all_costs,\n",
    "                    negative_weights=True\n",
    "                )\n",
    "    return vertices_path, edges_path\n",
    "def convert_path(graph, vertices_path, edges_path, pos2node):\n",
    "    path = []\n",
    "    for v in vertices_path:\n",
    "        pos_x, pos_y = np.where(pos2node==graph.vertex_index[v])\n",
    "        assert len(pos_x)==1, \"posx{}\".format(pos_x)\n",
    "        path.append([pos_x[0], pos_y[0]])\n",
    "\n",
    "    path_costs = []\n",
    "    for e in edges_path:\n",
    "        costs = [props[e] for props in cost_props]\n",
    "        path_costs.append(costs)\n",
    "    return path, path_costs"
   ]
  },
  {
   "cell_type": "code",
   "execution_count": null,
   "metadata": {},
   "outputs": [],
   "source": [
    "len(all_costs.get_array())"
   ]
  },
  {
   "cell_type": "code",
   "execution_count": null,
   "metadata": {},
   "outputs": [],
   "source": [
    "path, path_costs = get_path(graph, all_costs, pos2node)"
   ]
  },
  {
   "cell_type": "code",
   "execution_count": null,
   "metadata": {},
   "outputs": [],
   "source": [
    "path_orig = infos_path[\"path_cells\"]"
   ]
  },
  {
   "cell_type": "code",
   "execution_count": null,
   "metadata": {},
   "outputs": [],
   "source": [
    "len(path_orig)"
   ]
  },
  {
   "cell_type": "markdown",
   "metadata": {},
   "source": [
    "## Pareto frontier"
   ]
  },
  {
   "cell_type": "code",
   "execution_count": null,
   "metadata": {},
   "outputs": [],
   "source": [
    "rem = np.arange(0,1.1, 0.1)\n",
    "pareto = []\n",
    "paths = list()\n",
    "all_costs = graph.ep.weight\n",
    "for w in rem:\n",
    "    all_costs.a = cost_props[0].get_array()*w + cost_props[1].get_array() * (1-w)\n",
    "    vertices_path, edges_path = get_path(graph, all_costs)\n",
    "    path, path_costs = convert_path(graph, vertices_path, edges_path, pos2node)\n",
    "    print(w, 1-w, np.sum(path_costs, axis=0))\n",
    "    pareto.append(np.sum(path_costs, axis=0))\n",
    "    paths.append(path)"
   ]
  },
  {
   "cell_type": "code",
   "execution_count": null,
   "metadata": {
    "scrolled": true
   },
   "outputs": [],
   "source": [
    "pareto = np.asarray(pareto)\n",
    "color=plt.cm.rainbow(np.linspace(0,1,len(pareto)))\n",
    "plt.subplot(1,2,1)\n",
    "plt.scatter(pareto[:,0], pareto[:,1], c=color)\n",
    "plt.xlabel(classes[0])\n",
    "plt.ylabel(classes[1])\n",
    "plt.legend()\n",
    "\n",
    "plt.subplot(1,2,2)\n",
    "plt.scatter(pareto[:,0], pareto[:,1], label=rem, c=color)\n",
    "plt.xlabel(classes[0])\n",
    "plt.ylabel(classes[1], fontsize=15)\n",
    "plt.legend()\n",
    "plt.show()"
   ]
  },
  {
   "cell_type": "code",
   "execution_count": null,
   "metadata": {},
   "outputs": [],
   "source": [
    "e = find_edge(graph, graph.edge_index, 33)\n",
    "all_costs[e[0]]"
   ]
  },
  {
   "cell_type": "code",
   "execution_count": null,
   "metadata": {},
   "outputs": [],
   "source": [
    "color=iter(plt.cm.rainbow(np.linspace(0,1,len(paths))))\n",
    "plt.figure(figsize=(20,10))\n",
    "for i,p in enumerate(paths):\n",
    "    p_arr = np.array(p)\n",
    "    c = next(color)\n",
    "    plt.plot(p_arr[:,1], p_arr[:,0], label = rem[i], c=c)\n",
    "    # print(\"path length:\", len(p))\n",
    "plt.legend( title=\"Weight of \"+classes[0]+\"costs\")\n",
    "plt.savefig(\"dropout_path.png\")\n",
    "plt.show()"
   ]
  },
  {
   "cell_type": "markdown",
   "metadata": {},
   "source": [
    "## Path to distance corridor"
   ]
  },
  {
   "cell_type": "code",
   "execution_count": null,
   "metadata": {},
   "outputs": [],
   "source": [
    "from power_planner.utils.utils import bresenham_line\n",
    "from scipy.ndimage.morphology import binary_dilation\n",
    "from scipy.spatial.distance import cdist\n",
    "import time"
   ]
  },
  {
   "cell_type": "code",
   "execution_count": null,
   "metadata": {},
   "outputs": [],
   "source": [
    "def get_path_lines(cost_shape, paths):\n",
    "    path_dilation = np.zeros(cost_shape)\n",
    "    for path in paths:\n",
    "        # iterate over path nodes\n",
    "        for i in range(len(path)-1):\n",
    "            line = bresenham_line(*path[i], *path[i+1])\n",
    "            # print(line)\n",
    "            for (j,k) in line:\n",
    "                path_dilation[j,k] = 1\n",
    "    return path_dilation"
   ]
  },
  {
   "cell_type": "code",
   "execution_count": null,
   "metadata": {},
   "outputs": [],
   "source": [
    "def dilation_dist(path_dilation):\n",
    "    \"\"\"\n",
    "    path_dilation: binary array with zeros everywhere except for path locations\n",
    "    \"\"\"\n",
    "    saved_arrs = [path_dilation]\n",
    "    # compute number of iterations: maximum distance of pixel to line\n",
    "    x_coords, y_coords = np.where(path_dilation)\n",
    "    x_len, y_len = path_dilation.shape\n",
    "    # print([np.min(x_coords), x_len- np.max(x_coords), np.min(y_coords), y_len- np.max(y_coords)])\n",
    "    n_iters = max([np.min(x_coords), x_len- np.max(x_coords), np.min(y_coords), y_len- np.max(y_coords)])\n",
    "    # dilate\n",
    "    for k in range(n_iters):\n",
    "        path_dilation = binary_dilation(path_dilation)\n",
    "        saved_arrs.append(path_dilation)\n",
    "    saved_arrs = np.sum(np.array(saved_arrs), axis=0)\n",
    "    return saved_arrs"
   ]
  },
  {
   "cell_type": "code",
   "execution_count": null,
   "metadata": {},
   "outputs": [],
   "source": [
    "def cdist_dist(path_dilation):\n",
    "    saved_arrs = np.zeros(path_dilation.shape)\n",
    "    x_len, y_len = path_dilation.shape\n",
    "    xa = np.array([[i,j] for i in range(x_len) for j in range(y_len)])\n",
    "    xb = np.swapaxes(np.vstack(np.where(path_dilation>0)),1,0)\n",
    "    print(xa.shape, xb.shape)\n",
    "    all_dists = cdist(xa,xb)\n",
    "    print(all_dists.shape)\n",
    "    out = np.min(all_dists, axis = 1)\n",
    "    k=0\n",
    "    for i in range(x_len):\n",
    "        for j in range(y_len):\n",
    "            saved_arrs[i,j] = out[k]\n",
    "            k+=1\n",
    "    return saved_arrs"
   ]
  },
  {
   "cell_type": "code",
   "execution_count": null,
   "metadata": {},
   "outputs": [],
   "source": [
    "path_dilation = get_path_lines(pos2node.shape, paths)\n",
    "tic = time.time()\n",
    "saved_arrs = dilation_dist(path_dilation)\n",
    "print(\"time dilation:\",time.time()-tic)"
   ]
  },
  {
   "cell_type": "code",
   "execution_count": null,
   "metadata": {},
   "outputs": [],
   "source": [
    "tic = time.time()\n",
    "saved_arrs = cdist_dist(path_dilation)\n",
    "print(\"time cdist:\",time.time()-tic)"
   ]
  },
  {
   "cell_type": "code",
   "execution_count": null,
   "metadata": {},
   "outputs": [],
   "source": [
    "plt.figure(figsize=(20,10))\n",
    "plt.imshow(saved_arrs[70:180, 10:250])\n",
    "plt.colorbar()\n",
    "plt.show()"
   ]
  },
  {
   "cell_type": "markdown",
   "metadata": {},
   "source": [
    "# Tests"
   ]
  },
  {
   "cell_type": "code",
   "execution_count": null,
   "metadata": {
    "scrolled": true
   },
   "outputs": [],
   "source": [
    "# make sure that edge costs are just the nodecosts means\n",
    "edgecosts= np.asarray(infos_path[\"edgecosts\"])\n",
    "for p in range(len(path_costs)-1):\n",
    "    costmean = edgecosts[p] + edgecosts[p+1]\n",
    "    print(path_costs[p], 0.5*costmean)"
   ]
  },
  {
   "cell_type": "code",
   "execution_count": null,
   "metadata": {},
   "outputs": [],
   "source": [
    "print(infos_path[\"path_cells\"])"
   ]
  },
  {
   "cell_type": "code",
   "execution_count": null,
   "metadata": {},
   "outputs": [],
   "source": [
    "print(\"Only included \", len(list(graph.vertices()))/(250*550), \"% of the actual raster cells\")"
   ]
  },
  {
   "cell_type": "code",
   "execution_count": null,
   "metadata": {},
   "outputs": [],
   "source": [
    "len(list(graph.edges())) # --> actually 80 neighbors on average (65000*80 = 5200000)"
   ]
  },
  {
   "cell_type": "code",
   "execution_count": null,
   "metadata": {},
   "outputs": [],
   "source": []
  }
 ],
 "metadata": {
  "kernelspec": {
   "display_name": "Python 3",
   "language": "python",
   "name": "python3"
  },
  "language_info": {
   "codemirror_mode": {
    "name": "ipython",
    "version": 3
   },
   "file_extension": ".py",
   "mimetype": "text/x-python",
   "name": "python",
   "nbconvert_exporter": "python",
   "pygments_lexer": "ipython3",
   "version": "3.8.2"
  }
 },
 "nbformat": 4,
 "nbformat_minor": 4
}
