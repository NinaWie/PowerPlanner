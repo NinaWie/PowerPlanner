{
 "cells": [
  {
   "cell_type": "code",
   "execution_count": 1,
   "metadata": {},
   "outputs": [
    {
     "name": "stderr",
     "output_type": "stream",
     "text": [
      "/Users/ninawiedemann/Desktop/thesis.nosync/power_planner/powerenv/lib/python3.7/site-packages/graph_tool/draw/cairo_draw.py:39: RuntimeWarning: Error importing cairo. Graph drawing will not work.\n",
      "  warnings.warn(msg, RuntimeWarning)\n",
      "/Users/ninawiedemann/Desktop/thesis.nosync/power_planner/powerenv/lib/python3.7/site-packages/graph_tool/draw/cairo_draw.py:39: RuntimeWarning: Error importing cairo. Graph drawing will not work.\n",
      "  warnings.warn(msg, RuntimeWarning)\n",
      "/Users/ninawiedemann/Desktop/thesis.nosync/power_planner/powerenv/lib/python3.7/site-packages/graph_tool/draw/cairo_draw.py:39: RuntimeWarning: Error importing cairo. Graph drawing will not work.\n",
      "  warnings.warn(msg, RuntimeWarning)\n",
      "/Users/ninawiedemann/Desktop/thesis.nosync/power_planner/powerenv/lib/python3.7/site-packages/graph_tool/all.py:40: RuntimeWarning: Error importing draw module, proceeding nevertheless: No module named 'cairo'\n",
      "  warnings.warn(msg, RuntimeWarning)\n",
      "/Users/ninawiedemann/Desktop/thesis.nosync/power_planner/powerenv/lib/python3.7/site-packages/graph_tool/draw/cairo_draw.py:39: RuntimeWarning: Error importing cairo. Graph drawing will not work.\n",
      "  warnings.warn(msg, RuntimeWarning)\n",
      "/Users/ninawiedemann/Desktop/thesis.nosync/power_planner/powerenv/lib/python3.7/site-packages/graph_tool/draw/cairo_draw.py:39: RuntimeWarning: Error importing cairo. Graph drawing will not work.\n",
      "  warnings.warn(msg, RuntimeWarning)\n",
      "/Users/ninawiedemann/Desktop/thesis.nosync/power_planner/powerenv/lib/python3.7/site-packages/graph_tool/draw/cairo_draw.py:39: RuntimeWarning: Error importing cairo. Graph drawing will not work.\n",
      "  warnings.warn(msg, RuntimeWarning)\n",
      "/Users/ninawiedemann/Desktop/thesis.nosync/power_planner/powerenv/lib/python3.7/site-packages/graph_tool/all.py:40: RuntimeWarning: Error importing draw module, proceeding nevertheless: No module named 'cairo'\n",
      "  warnings.warn(msg, RuntimeWarning)\n"
     ]
    }
   ],
   "source": [
    "import matplotlib.pyplot as plt\n",
    "import numpy as np\n",
    "import os\n",
    "import rasterio\n",
    "import networkx as nx\n",
    "import time\n",
    "from graph_tool.all import *\n",
    "import pickle"
   ]
  },
  {
   "cell_type": "code",
   "execution_count": null,
   "metadata": {},
   "outputs": [],
   "source": [
    "from power_planner.utils import angle"
   ]
  },
  {
   "cell_type": "code",
   "execution_count": null,
   "metadata": {},
   "outputs": [],
   "source": [
    "path = \"/Users/ninawiedemann/Downloads/tifs_new/tif_layers/Buildingftp.tif\"\n",
    "with rasterio.open(path, 'r') as ds:\n",
    "    arr = ds.read()[0]"
   ]
  },
  {
   "cell_type": "code",
   "execution_count": null,
   "metadata": {},
   "outputs": [],
   "source": [
    "np.unique(arr)"
   ]
  },
  {
   "cell_type": "code",
   "execution_count": 2,
   "metadata": {},
   "outputs": [],
   "source": [
    "IOPATH = \"/Users/ninawiedemann/Downloads/tifs_new/data_dump_5.dat\"\n",
    "with open(IOPATH, \"rb\") as infile:\n",
    "    (instance, instance_corr, start_inds, dest_inds) = pickle.load(infile)"
   ]
  },
  {
   "cell_type": "code",
   "execution_count": null,
   "metadata": {},
   "outputs": [],
   "source": [
    "plt.hist(instance.flatten())\n",
    "plt.show()"
   ]
  },
  {
   "cell_type": "code",
   "execution_count": null,
   "metadata": {},
   "outputs": [],
   "source": [
    "emerg = np.zeros((20,20))\n",
    "max_dist = 1.5\n",
    "for row in np.arange(1,20,max_dist).astype(int):\n",
    "    emerg[row, np.arange(1,20,max_dist).astype(int)] = 1"
   ]
  },
  {
   "cell_type": "markdown",
   "metadata": {},
   "source": [
    "### slow version dist arr"
   ]
  },
  {
   "cell_type": "code",
   "execution_count": null,
   "metadata": {},
   "outputs": [],
   "source": [
    "start_inds = np.asarray([163, 24])\n",
    "dest_inds = np.asarray([94, 240])"
   ]
  },
  {
   "cell_type": "code",
   "execution_count": null,
   "metadata": {},
   "outputs": [],
   "source": [
    "dist_arr = np.zeros(instance.shape)\n",
    "norm = np.linalg.norm(dest_inds-start_inds)\n",
    "for i in range(len(dist_arr)):\n",
    "    for j in range(len(dist_arr[0])):\n",
    "        p3 = np.asarray([i,j])\n",
    "        dist_arr[i,j] = np.abs(np.cross(dest_inds-start_inds, start_inds-p3)) / norm"
   ]
  },
  {
   "cell_type": "code",
   "execution_count": null,
   "metadata": {},
   "outputs": [],
   "source": [
    "plt.imshow(dist_arr)\n",
    "plt.show()"
   ]
  },
  {
   "cell_type": "markdown",
   "metadata": {},
   "source": [
    "### fast version for dist arr, but rotation padding problem"
   ]
  },
  {
   "cell_type": "code",
   "execution_count": null,
   "metadata": {},
   "outputs": [],
   "source": [
    "from scipy.ndimage import rotate"
   ]
  },
  {
   "cell_type": "code",
   "execution_count": null,
   "metadata": {},
   "outputs": [],
   "source": [
    "size = np.linalg.norm(dest_inds-start_inds)\n",
    "size = int(size)\n",
    "arr = np.zeros((size,size))\n",
    "arr[:,:size//2] = np.stack([np.arange(size//2) for _ in range(size)])\n",
    "arr[:,size//2:] = np.vstack([np.arange(size//2,0,-1).tolist() for _ in range(size)])\n",
    "ang = 90 + 90 * angle([0,1], dest_inds-start_inds)/np.pi\n",
    "w,h = instance.shape\n",
    "dist_arr = np.pad(rotate(arr, ang), ((0, w-size), (0,h-size)))"
   ]
  },
  {
   "cell_type": "code",
   "execution_count": null,
   "metadata": {},
   "outputs": [],
   "source": []
  },
  {
   "cell_type": "markdown",
   "metadata": {},
   "source": [
    "## construct constraint"
   ]
  },
  {
   "cell_type": "code",
   "execution_count": null,
   "metadata": {},
   "outputs": [],
   "source": [
    "start_inds = [163, 24]\n",
    "dest_inds = [94, 240]\n",
    "start_dest_inds = np.array([start_inds, dest_inds])\n",
    "inter_line = start_dest_inds[0]-start_dest_inds[1]\n",
    "longer = np.argmin(np.abs(inter_line))\n",
    "\n",
    "padding = [0,0]\n",
    "percent_padding = 0.25\n",
    "padding[longer] = abs(int(percent_padding*inter_line[longer]))\n",
    "\n",
    "start_x, start_y = np.min(start_dest_inds, axis=0) - np.asarray(padding)\n",
    "end_x, end_y = np.max(start_dest_inds, axis=0) + np.asarray(padding)\n",
    "\n",
    "corr = np.zeros(instance.shape)\n",
    "corr[start_x:end_x, start_y:end_y] = 1"
   ]
  },
  {
   "cell_type": "code",
   "execution_count": null,
   "metadata": {},
   "outputs": [],
   "source": [
    "hard_cons = corr * instance_corr # hard_constraints"
   ]
  },
  {
   "cell_type": "code",
   "execution_count": null,
   "metadata": {},
   "outputs": [],
   "source": [
    "max_dist = 10\n",
    "w_inds = np.arange(start_x, end_x, max_dist).astype(int)\n",
    "h_inds = np.arange(start_y, end_y, max_dist).astype(int)\n",
    "\n",
    "# max_cost = np.max(costs)\n",
    "for row in w_inds:\n",
    "    hard_cons[row, h_inds] = 1\n",
    "    # costs[row, h_inds] = max_cost\n"
   ]
  },
  {
   "cell_type": "code",
   "execution_count": null,
   "metadata": {},
   "outputs": [],
   "source": [
    "padding"
   ]
  },
  {
   "cell_type": "code",
   "execution_count": null,
   "metadata": {},
   "outputs": [],
   "source": [
    "start_x, start_y"
   ]
  },
  {
   "cell_type": "code",
   "execution_count": null,
   "metadata": {},
   "outputs": [],
   "source": []
  },
  {
   "cell_type": "code",
   "execution_count": null,
   "metadata": {},
   "outputs": [],
   "source": [
    "plt.figure(figsize=(20,10))\n",
    "plt.imshow(hard_cons) # possible)\n",
    "plt.show()"
   ]
  },
  {
   "cell_type": "markdown",
   "metadata": {},
   "source": [
    "## Test algorithms on instance"
   ]
  },
  {
   "cell_type": "code",
   "execution_count": null,
   "metadata": {},
   "outputs": [],
   "source": [
    "INP = \"/Users/ninawiedemann/Desktop/thesis.nosync/power_planner/outputs/path_70055.weighted.edgelist\""
   ]
  },
  {
   "cell_type": "code",
   "execution_count": null,
   "metadata": {},
   "outputs": [],
   "source": [
    "g = nx.read_edgelist(\n",
    "                INP,\n",
    "                nodetype=float,\n",
    "                create_using=nx.DiGraph,\n",
    "                data=(('weight', float), )\n",
    "            )"
   ]
  },
  {
   "cell_type": "code",
   "execution_count": null,
   "metadata": {},
   "outputs": [],
   "source": [
    "vec = np.linalg.norm([-173, 539])"
   ]
  },
  {
   "cell_type": "code",
   "execution_count": null,
   "metadata": {},
   "outputs": [],
   "source": [
    "cutoff = 4*vec/15\n",
    "cutoff"
   ]
  },
  {
   "cell_type": "code",
   "execution_count": null,
   "metadata": {},
   "outputs": [],
   "source": [
    "class SP():\n",
    "    def __init__(self, graph):\n",
    "        self.graph = graph\n",
    "\n",
    "    def bellman_ford_my(self, source, target, cutoff):\n",
    "        \"\"\"\n",
    "        Actual BF algorithm, not SPFA\n",
    "        \"\"\"\n",
    "        pred = {}\n",
    "        dist = {source: 0}\n",
    "\n",
    "        inf = float('inf')\n",
    "\n",
    "        for i in range(int(cutoff)):\n",
    "            print(i)\n",
    "            for (u, v, w_dict) in self.graph.edges(data=True):\n",
    "                w = w_dict[\"weight\"]\n",
    "                if dist.get(u, inf) + w < dist.get(v, inf):\n",
    "                    dist[v] = dist[u] + w\n",
    "                    pred[v] = u\n",
    "        path = [target]\n",
    "        curr = target\n",
    "        while curr != source:\n",
    "            curr = pred[curr]\n",
    "            path.append(curr)\n",
    "        path.append(source)\n",
    "        return list(reversed(path))\n",
    "\n",
    "    def bellman_ford_nx(\n",
    "        self,\n",
    "        source,\n",
    "        target,\n",
    "        pred=None,\n",
    "        paths=None,\n",
    "        dist=None,\n",
    "    ):\n",
    "        \"\"\"Relaxation loop for Bellman–Ford algorithm.\n",
    "        This is an implementation of the SPFA variant.\n",
    "        See https://en.wikipedia.org/wiki/Shortest_Path_Faster_Algorithm\n",
    "        Parameters\n",
    "        SEE https://github.com/networkx/networkx/blob/02a1721276b3a84d3be8558e4\n",
    "        79a9cb6b0715488/networkx/algorithms/shortest_paths/weighted.py#L1203\n",
    "        \"\"\"\n",
    "        G = self.graph\n",
    "        weight = lambda u, v, data: data.get(\"weight\", 1)\n",
    " \n",
    "        # vertices_path = self.bellman_ford(source, target, cutoff)\n",
    "        paths = {source: [source]}\n",
    "        # dist, it_list = self._bellman_ford(self.graph, [source], weight, cutoff, paths = paths, target=target)\n",
    "        # vertices_path = paths[target]\n",
    "        source = [source]\n",
    "        \n",
    "        for s in source:\n",
    "            if s not in G:\n",
    "                raise nx.NodeNotFound(f\"Source {s} not in G\")\n",
    "\n",
    "        if pred is None:\n",
    "            pred = {v: [] for v in source}\n",
    "\n",
    "        if dist is None:\n",
    "            dist = {v: 0 for v in source}\n",
    "\n",
    "        G_succ = G.succ if G.is_directed() else G.adj\n",
    "        print(\"directed?\", G.is_directed())\n",
    "        inf = float('inf')\n",
    "        n = len(G)\n",
    "\n",
    "        # count = {}\n",
    "        q = deque(source)\n",
    "        in_q = set(source)\n",
    "        iteration = 0\n",
    "        it_list = []\n",
    "        while q:\n",
    "            u = q.popleft()\n",
    "            in_q.remove(u)\n",
    "            \n",
    "            it_ind = 0\n",
    "            \n",
    "            # print(\"new vertex\", u)\n",
    "\n",
    "            # Skip relaxations if any of the predecessors of u is in the queue.\n",
    "            if all(pred_u not in in_q for pred_u in pred[u]):\n",
    "                dist_u = dist[u]\n",
    "                # print(dist_u)\n",
    "                for v, e in G_succ[u].items():\n",
    "                    dist_v = dist_u + weight(u, v, e)  # TODO:replace function\n",
    "                    # print(v)\n",
    "                    if dist_v < dist.get(v, inf):\n",
    "                        \n",
    "                        if v not in in_q:\n",
    "                            # print(\"update\")\n",
    "                            q.append(v)\n",
    "                            in_q.add(v)\n",
    "                            # count_v = count.get(v, 0) + 1\n",
    "                            # if count_v == n:\n",
    "                            #     raise nx.NetworkXUnbounded(\n",
    "                            #         \"Negative cost cycle detected.\"\n",
    "                            #     )\n",
    "                            # count[v] = count_v\n",
    "                        dist[v] = dist_v\n",
    "                        pred[v] = [u]\n",
    "\n",
    "                    elif dist.get(v) is not None and dist_v == dist.get(v):\n",
    "                        pred[v].append(u)\n",
    "                    \n",
    "                    it_ind += 1\n",
    "            else:\n",
    "                # pass\n",
    "                print(\"err\")\n",
    "            \n",
    "            it_list.append(it_ind)\n",
    "            iteration += 1\n",
    "\n",
    "            # TODO\n",
    "            # if u == target:\n",
    "            #     print(\"early stopping\")\n",
    "            #     break\n",
    "            # if iteration > cutoff and dist.get(target, inf) < inf:\n",
    "                # print(\"iteration more than cutoff\")\n",
    "                # if dist.get(target, inf) < inf:\n",
    "                # print(\"early stopping\")\n",
    "                # break\n",
    "        print(\"number of iterations:\", iteration)\n",
    "        if paths is not None:\n",
    "            dsts = [target] if target is not None else pred\n",
    "            for dst in dsts:\n",
    "\n",
    "                path = [dst]\n",
    "                cur = dst\n",
    "\n",
    "                while pred[cur]:\n",
    "                    cur = pred[cur][0]\n",
    "                    path.append(cur)\n",
    "\n",
    "                path.reverse()\n",
    "                paths[dst] = path\n",
    "\n",
    "        return paths[target], it_list # dist, it_list\n",
    "from collections import deque\n"
   ]
  },
  {
   "cell_type": "code",
   "execution_count": null,
   "metadata": {},
   "outputs": [],
   "source": [
    "g_undir = g.to_undirected()"
   ]
  },
  {
   "cell_type": "code",
   "execution_count": null,
   "metadata": {
    "scrolled": true
   },
   "outputs": [],
   "source": [
    "print(\"Start shortest path\")\n",
    "sp = SP(g)\n",
    "out = sp.bellman_ford_nx(43104, 8447) # , it_list"
   ]
  },
  {
   "cell_type": "markdown",
   "metadata": {},
   "source": [
    "## Test results:\n",
    "\n",
    "* graph with 5.6 mio edges, 50 000 nodes\n",
    "* directed case: 50757 terations, so slightly more than the nodes --> doch cycles --> maybe because of 180 degrees thing? (15 sec)\n",
    "* undirected case: 59042 iterations why not more? though more iterations in each iteration probably, takes longer (26 sec)\n",
    "\n",
    "\n",
    "* my algorithm: 10 minutes! (for 150 iterations) --> basically 150 times the runtime of the other ones\n",
    "* with directed edges, other algorithm: 5 837 055, but just twice the time 12 753 072 if undirected\n",
    "\n",
    "\n",
    "* because of Skip relaxations if any of the predecessors of u is in the queue?\n",
    "\n",
    "sanity check was correct: inner iteration (over neighbors) is twice as much for undirected as for directed"
   ]
  },
  {
   "cell_type": "code",
   "execution_count": null,
   "metadata": {
    "scrolled": true
   },
   "outputs": [],
   "source": [
    "len(g.edges)"
   ]
  },
  {
   "cell_type": "code",
   "execution_count": null,
   "metadata": {},
   "outputs": [],
   "source": [
    "len(g.nodes)"
   ]
  },
  {
   "cell_type": "markdown",
   "metadata": {},
   "source": [
    "### total iterations for directed / undirected:"
   ]
  },
  {
   "cell_type": "code",
   "execution_count": null,
   "metadata": {},
   "outputs": [],
   "source": [
    "print(50757*115, 59042*216)"
   ]
  },
  {
   "cell_type": "markdown",
   "metadata": {},
   "source": [
    "### Sanity check"
   ]
  },
  {
   "cell_type": "code",
   "execution_count": null,
   "metadata": {},
   "outputs": [],
   "source": [
    "np.mean(it_list)"
   ]
  },
  {
   "cell_type": "code",
   "execution_count": null,
   "metadata": {},
   "outputs": [],
   "source": [
    "plt.hist(it_list)\n",
    "plt.show()"
   ]
  },
  {
   "cell_type": "code",
   "execution_count": null,
   "metadata": {},
   "outputs": [],
   "source": [
    "np.mean(it_list)"
   ]
  },
  {
   "cell_type": "code",
   "execution_count": null,
   "metadata": {},
   "outputs": [],
   "source": [
    "plt.hist(it_list)\n",
    "plt.show()"
   ]
  },
  {
   "cell_type": "markdown",
   "metadata": {},
   "source": [
    "## Random graph tests"
   ]
  },
  {
   "cell_type": "code",
   "execution_count": null,
   "metadata": {},
   "outputs": [],
   "source": [
    "comp = nx.complete_graph(100)"
   ]
  },
  {
   "cell_type": "code",
   "execution_count": null,
   "metadata": {},
   "outputs": [],
   "source": [
    "len(comp.edges())"
   ]
  },
  {
   "cell_type": "code",
   "execution_count": null,
   "metadata": {},
   "outputs": [],
   "source": [
    "sp = SP(comp)\n",
    "out, its = sp.bellman_ford_nx(0, 5) # , it_list"
   ]
  },
  {
   "cell_type": "code",
   "execution_count": null,
   "metadata": {},
   "outputs": [],
   "source": [
    "sum(its)"
   ]
  },
  {
   "cell_type": "code",
   "execution_count": null,
   "metadata": {},
   "outputs": [],
   "source": [
    "g_new = nx.DiGraph()\n",
    "e = []\n",
    "# for i in range(20):\n",
    "#    e.append([i,i+1,{\"weight\":i}])\n",
    "for i in range(1,4):\n",
    "    e.append([0,i,{\"weight\":i}])\n",
    "for i in range(1,4):\n",
    "    e.append([i,5, {\"weight\":i}])\n",
    "g_new.add_edges_from(e)"
   ]
  },
  {
   "cell_type": "code",
   "execution_count": null,
   "metadata": {},
   "outputs": [],
   "source": [
    "sp = SP(g_new)\n",
    "out = sp.get_shortest_path_nx(0, 5) # , it_list"
   ]
  },
  {
   "cell_type": "code",
   "execution_count": null,
   "metadata": {},
   "outputs": [],
   "source": [
    "nx.write_weighted_edgelist(\n",
    "                g_new,'test.weighted.edgelist'\n",
    "            )"
   ]
  },
  {
   "cell_type": "code",
   "execution_count": null,
   "metadata": {},
   "outputs": [],
   "source": [
    "in_g_new = nx.read_edgelist(\n",
    "                'test.weighted.edgelist',\n",
    "                nodetype=int,\n",
    "    create_using=nx.DiGraph,\n",
    "                data=(('weight', float), )\n",
    "            )"
   ]
  },
  {
   "cell_type": "code",
   "execution_count": null,
   "metadata": {},
   "outputs": [],
   "source": [
    "in_g_new_dir = nx.DiGraph(in_g_new)"
   ]
  },
  {
   "cell_type": "code",
   "execution_count": null,
   "metadata": {},
   "outputs": [],
   "source": [
    "in_g_new.out_edges()"
   ]
  },
  {
   "cell_type": "code",
   "execution_count": null,
   "metadata": {},
   "outputs": [],
   "source": [
    "g_new.edges()"
   ]
  },
  {
   "cell_type": "code",
   "execution_count": null,
   "metadata": {},
   "outputs": [],
   "source": []
  },
  {
   "cell_type": "code",
   "execution_count": null,
   "metadata": {},
   "outputs": [],
   "source": [
    "len(comp.nodes()), len(comp.edges())"
   ]
  },
  {
   "cell_type": "code",
   "execution_count": null,
   "metadata": {},
   "outputs": [],
   "source": [
    "g1 = Graph()\n",
    "g1.add_vertex(20)\n",
    "g1.add_edge_list([[i,i+1] for i in range(19)])"
   ]
  },
  {
   "cell_type": "code",
   "execution_count": null,
   "metadata": {},
   "outputs": [],
   "source": [
    "len(list(g1.vertices())), len(list(g1.edges()))"
   ]
  },
  {
   "cell_type": "code",
   "execution_count": null,
   "metadata": {},
   "outputs": [],
   "source": [
    "len(list(comp.nodes())), len(list(comp.edges()))"
   ]
  },
  {
   "cell_type": "markdown",
   "metadata": {},
   "source": [
    "## subplots for paths"
   ]
  },
  {
   "cell_type": "code",
   "execution_count": null,
   "metadata": {},
   "outputs": [],
   "source": [
    "a = np.zeros((500,1000))\n",
    "a[200:260, 100:500] = np.arange(24000).reshape(60,400)\n",
    "a = np.swapaxes(a,1,0)"
   ]
  },
  {
   "cell_type": "code",
   "execution_count": null,
   "metadata": {},
   "outputs": [],
   "source": [
    "b = a[:, np.any(a>0, axis=0)]\n",
    "b = b[np.any(b>0, axis=1), :]"
   ]
  },
  {
   "cell_type": "code",
   "execution_count": null,
   "metadata": {},
   "outputs": [],
   "source": [
    "b = np.arange(20).reshape(2,10)\n",
    "b.shape"
   ]
  },
  {
   "cell_type": "code",
   "execution_count": null,
   "metadata": {},
   "outputs": [],
   "source": []
  },
  {
   "cell_type": "code",
   "execution_count": null,
   "metadata": {},
   "outputs": [],
   "source": [
    "x"
   ]
  },
  {
   "cell_type": "code",
   "execution_count": null,
   "metadata": {},
   "outputs": [],
   "source": [
    "plt.figure(figsize=(25,15))\n",
    "for i in range(3):\n",
    "    plt.subplot(1,3,i+1)\n",
    "    plt.imshow(b)\n",
    "    plt.axis('scaled')\n",
    "plt.tight_layout()\n",
    "plt.show()"
   ]
  },
  {
   "cell_type": "markdown",
   "metadata": {},
   "source": [
    "## Summarize points"
   ]
  },
  {
   "cell_type": "code",
   "execution_count": 3,
   "metadata": {},
   "outputs": [],
   "source": [
    "inst = instance*instance_corr\n",
    "test = inst[:, np.any(inst > 0, axis=0)]\n",
    "test = test[np.any(test > 0, axis=1), :]"
   ]
  },
  {
   "cell_type": "code",
   "execution_count": 4,
   "metadata": {},
   "outputs": [
    {
     "data": {
      "image/png": "[encoded data removed]",
      "text/plain": [
       "<Figure size 432x288 with 1 Axes>"
      ]
     },
     "metadata": {
      "needs_background": "light"
     },
     "output_type": "display_data"
    },
    {
     "data": {
      "image/png": "[encoded data removed]",
      "text/plain": [
       "<Figure size 432x288 with 1 Axes>"
      ]
     },
     "metadata": {
      "needs_background": "light"
     },
     "output_type": "display_data"
    }
   ],
   "source": [
    "plt.imshow(test)\n",
    "plt.show()"
   ]
  },
  {
   "cell_type": "code",
   "execution_count": null,
   "metadata": {},
   "outputs": [],
   "source": []
  }
 ],
 "metadata": {
  "kernelspec": {
   "display_name": "Python 3",
   "language": "python",
   "name": "python3"
  },
  "language_info": {
   "codemirror_mode": {
    "name": "ipython",
    "version": 3
   },
   "file_extension": ".py",
   "mimetype": "text/x-python",
   "name": "python",
   "nbconvert_exporter": "python",
   "pygments_lexer": "ipython3",
   "version": "3.7.4"
  }
 },
 "nbformat": 4,
 "nbformat_minor": 4
}
