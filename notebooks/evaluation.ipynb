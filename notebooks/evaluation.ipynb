{
 "cells": [
  {
   "cell_type": "code",
   "execution_count": 10,
   "metadata": {},
   "outputs": [],
   "source": [
    "import matplotlib.pyplot as plt\n",
    "import numpy as np\n",
    "# import networkx as nx\n",
    "import os\n",
    "import pandas as pd\n",
    "import time\n",
    "import json"
   ]
  },
  {
   "cell_type": "code",
   "execution_count": 4,
   "metadata": {},
   "outputs": [],
   "source": [
    "path = \"../outputs\"\n",
    "f = \"path_21946_infos.json\""
   ]
  },
  {
   "cell_type": "code",
   "execution_count": 17,
   "metadata": {},
   "outputs": [],
   "source": [
    "with open(os.path.join(path,f),\"r\") as infile:\n",
    "    infos = json.load(infile)"
   ]
  },
  {
   "cell_type": "code",
   "execution_count": null,
   "metadata": {},
   "outputs": [],
   "source": [
    "plt.figure(figsize=(20,10))\n",
    "for i in range(len(infos[\"pipeline\"])):\n",
    "    print(infos[\"pipeline\"][i])\n",
    "    costs = np.array(infos[\"data\"][i][\"edgecosts\"])\n",
    "    path = np.array(infos[\"data\"][i][\"path_cells\"])\n",
    "    plt.plot(path[:,0], path[:,1], label=i)\n",
    "    print(np.sum(costs, axis=0))\n",
    "    print(infos[\"data\"][i][\"time_logs\"])\n",
    "plt.legend()\n",
    "plt.show()"
   ]
  },
  {
   "cell_type": "code",
   "execution_count": 2,
   "metadata": {},
   "outputs": [],
   "source": [
    "path = \"../outputs\""
   ]
  },
  {
   "cell_type": "code",
   "execution_count": 27,
   "metadata": {},
   "outputs": [],
   "source": [
    "times = pd.read_csv(os.path.join(path, \"watershed_comp/time_tests.csv\")) # \"time_tests_compare1.csv\"))"
   ]
  },
  {
   "cell_type": "markdown",
   "metadata": {},
   "source": [
    "## Scale 2 comparison"
   ]
  },
  {
   "cell_type": "code",
   "execution_count": 18,
   "metadata": {},
   "outputs": [],
   "source": [
    "direct = times[times[\"id\"].str.contains(\"direct\")]"
   ]
  },
  {
   "cell_type": "code",
   "execution_count": 19,
   "metadata": {},
   "outputs": [],
   "source": [
    "overall_times = times[times[\"time_pipeline\"]!=0]"
   ]
  },
  {
   "cell_type": "code",
   "execution_count": 8,
   "metadata": {
    "scrolled": true
   },
   "outputs": [],
   "source": [
    "# out_costs = np.array([eval(c) for c in times[\"cost_sum\"]])"
   ]
  },
  {
   "cell_type": "code",
   "execution_count": 9,
   "metadata": {},
   "outputs": [
    {
     "data": {
      "text/plain": [
       "Index(['id', 'scale', 'graphtype', 'pipeline', 'n_nodes', 'n_edges',\n",
       "       'add_nodes_time', 'add_edge_time', 'shortest_path_time', 'sp_tree_time',\n",
       "       'ksp_time', 'pareto_time', 'downsample_time', 'cult_costs', 'hum_costs',\n",
       "       'plan_costs', 'tech_costs', 'cost_sum', 'time_pipeline'],\n",
       "      dtype='object')"
      ]
     },
     "execution_count": 9,
     "metadata": {},
     "output_type": "execute_result"
    }
   ],
   "source": [
    "times.columns"
   ]
  },
  {
   "cell_type": "code",
   "execution_count": 30,
   "metadata": {},
   "outputs": [],
   "source": [
    "agg_dict = {\"n_edges\":\"max\", \"add_edge_time\":\"sum\", \"shortest_path_time\":\"sum\",\"downsample_time\":\"sum\", \"cost_sum\":\"min\", \"time_pipeline\":\"max\"}\n",
    "#  \"pareto_time\":\"sum\", \"ksp_time\":\"sum\", \"sp_tree_time\":\"sum\",\n",
    "max_edges = times.groupby(\"id\").agg(agg_dict).reset_index()"
   ]
  },
  {
   "cell_type": "code",
   "execution_count": 32,
   "metadata": {},
   "outputs": [],
   "source": [
    "# times.groupby('id')['dist'].apply(list)\n",
    "max_edges[\"cost_sum\"] = list(times.groupby('id')['cost_sum'].apply(list))\n",
    "# max_edges[\"factos\"] = list(times.groupby('id')['sample_factor'].apply(list))"
   ]
  },
  {
   "cell_type": "code",
   "execution_count": 22,
   "metadata": {},
   "outputs": [],
   "source": [
    "df_plot = times[[\"id\", \"cost_sum\", ]]"
   ]
  },
  {
   "cell_type": "code",
   "execution_count": null,
   "metadata": {},
   "outputs": [],
   "source": [
    "ax = max_edges.plot.bar(x='id', y='n_edges', rot=0, figsize=(15,5))\n"
   ]
  },
  {
   "cell_type": "markdown",
   "metadata": {},
   "source": [
    "## Bar plot of costs"
   ]
  },
  {
   "cell_type": "code",
   "execution_count": 24,
   "metadata": {},
   "outputs": [],
   "source": [
    "def plot_comparison(var):\n",
    "    costs = times.groupby('id')[var].apply(list)\n",
    "    co = np.array(costs)\n",
    "    max_len = max([len(c) for c in co])\n",
    "    new_list = [l + [l[-1] for _ in range(max_len-len(l))] for l in co]\n",
    "    new_df = pd.DataFrame(data = new_list, columns=[str(i) for i in range(max_len)])\n",
    "    new_df[\"id\"] = np.unique(times[\"id\"])\n",
    "    ax = new_df.plot.bar(x='id', figsize=(15,5))"
   ]
  },
  {
   "cell_type": "code",
   "execution_count": 25,
   "metadata": {},
   "outputs": [
    {
     "data": {
      "image/png": "[encoded data removed]",
      "text/plain": [
       "<Figure size 1080x360 with 1 Axes>"
      ]
     },
     "metadata": {
      "needs_background": "light"
     },
     "output_type": "display_data"
    }
   ],
   "source": [
    "plot_comparison(\"cost_sum\")"
   ]
  },
  {
   "cell_type": "code",
   "execution_count": 26,
   "metadata": {},
   "outputs": [
    {
     "data": {
      "image/png": "[encoded data removed]",
      "text/plain": [
       "<Figure size 1080x360 with 1 Axes>"
      ]
     },
     "metadata": {
      "needs_background": "light"
     },
     "output_type": "display_data"
    }
   ],
   "source": [
    "plot_comparison(\"n_edges\")"
   ]
  },
  {
   "cell_type": "markdown",
   "metadata": {},
   "source": [
    "## Check outputs qualitatively:"
   ]
  },
  {
   "cell_type": "code",
   "execution_count": null,
   "metadata": {},
   "outputs": [],
   "source": [
    "instance_path = \"../data/data_dump_1.dat\"\n",
    "with open(instance_path, \"rb\") as infile:\n",
    "    data = pickle.load(infile)\n",
    "(instance, instance_corr, start_inds, dest_inds) = data.data"
   ]
  },
  {
   "cell_type": "code",
   "execution_count": null,
   "metadata": {},
   "outputs": [],
   "source": [
    "paths = []\n",
    "for json_file in [\"path_norm-1-direct_infos.json\", \"path_norm_1_pipe_infos.json\", \"path_random_1_pipe_infos.json\"]:\n",
    "    with open(\"../outputs/\"+json_file, \"r\") as infile:\n",
    "        infos = json.load(infile)\n",
    "        print(json_file)\n",
    "        costs = infos[\"data\"][-1][\"edgecosts\"]\n",
    "        print(np.sum(np.array(costs), axis=0), np.sum(np.array(costs)))\n",
    "        paths.append(np.array(infos[\"data\"][-1][\"path_cells\"]))"
   ]
  },
  {
   "cell_type": "markdown",
   "metadata": {},
   "source": [
    "### Double check costs"
   ]
  },
  {
   "cell_type": "code",
   "execution_count": null,
   "metadata": {},
   "outputs": [],
   "source": [
    "for i, path in enumerate(paths):\n",
    "    costs = []\n",
    "    for p in path:\n",
    "        cost = instance[:, p[0], p[1]]\n",
    "        costs.append(cost)\n",
    "    print(np.sum(np.array(costs), axis=0))"
   ]
  },
  {
   "cell_type": "markdown",
   "metadata": {},
   "source": [
    "### Color paths in image"
   ]
  },
  {
   "cell_type": "code",
   "execution_count": null,
   "metadata": {},
   "outputs": [],
   "source": [
    "expanded = np.expand_dims(instance_corr*instance[2], axis=2)\n",
    "expanded = np.tile(expanded, (1, 1, 3)) \n",
    "buffer = 2\n",
    "for i, path in enumerate(paths[:3]):\n",
    "    col = np.zeros(3)\n",
    "    col[i] = 1\n",
    "    for p in path:\n",
    "        x = p[0]\n",
    "        y = p[1]\n",
    "        expanded[x - buffer:x + buffer + 1,\n",
    "                 y - buffer:y + buffer + 1]  = col"
   ]
  },
  {
   "cell_type": "code",
   "execution_count": null,
   "metadata": {},
   "outputs": [],
   "source": [
    "red = normal\n",
    "\n",
    "green = norm pipe\n",
    "\n",
    "blue = random pipe"
   ]
  },
  {
   "cell_type": "code",
   "execution_count": null,
   "metadata": {},
   "outputs": [],
   "source": [
    "plt.figure(figsize=(10,20))\n",
    "plt.imshow(np.swapaxes(expanded, 1, 0))"
   ]
  },
  {
   "cell_type": "markdown",
   "metadata": {},
   "source": [
    "### Time tests"
   ]
  },
  {
   "cell_type": "code",
   "execution_count": null,
   "metadata": {},
   "outputs": [],
   "source": [
    "# min and argmin at same time\n",
    "def original_app(A):\n",
    "    min_idx = np.argmin(A,axis=0)\n",
    "    min_val = np.amin(A,axis=0)\n",
    "    return min_idx, min_val\n",
    "\n",
    "def proposed_app(A):\n",
    "    min_idx = np.argmin(A,axis=0)\n",
    "    min_val = np.take_along_axis(A, min_idx[None,:,:], axis=0)[0,:,:]\n",
    "    return min_idx, min_val\n",
    "\n",
    "\n",
    "A = np.random.randint(0,99,(40,400,500))\n",
    "%timeit original_app(A)\n",
    "%timeit proposed_app(A)"
   ]
  },
  {
   "cell_type": "markdown",
   "metadata": {},
   "source": [
    "## Check average distance on out path"
   ]
  },
  {
   "cell_type": "code",
   "execution_count": 19,
   "metadata": {},
   "outputs": [
    {
     "name": "stdout",
     "output_type": "stream",
     "text": [
      "2\n",
      "23.44796037531516 min: 16.1245154965971\n",
      "2\n",
      "23.88907334236418 min: 16.492422502470642\n"
     ]
    },
    {
     "data": {
      "image/png": "[encoded data removed]",
      "text/plain": [
       "<Figure size 432x288 with 1 Axes>"
      ]
     },
     "metadata": {
      "needs_background": "light"
     },
     "output_type": "display_data"
    }
   ],
   "source": [
    "path_in = \"../../outputs\"\n",
    "found_paths = []\n",
    "for f in [\"impl_2_small\", \"weighted_2_small\"]:\n",
    "    with open(os.path.join(path_in,f+\"_infos.json\"),\"r\") as infile:\n",
    "        infos = json.load(infile)\n",
    "    # print(infos[\"data\"][0][\"path_cells\"])\n",
    "    print(infos[\"scale\"])\n",
    "    found_paths.append(infos[\"data\"][0][\"path_cells\"])\n",
    "    # get path\n",
    "    path = np.asarray(infos[\"data\"][0][\"path_cells\"])\n",
    "    # plot\n",
    "    plt.plot(path[:,0], path[:,1], label=f)\n",
    "    # get dists\n",
    "    dists = []\n",
    "    for p in range(len(path)-1):\n",
    "         dists.append(np.linalg.norm(path[p]-path[p+1]))\n",
    "    print(np.mean(dists), \"min:\", np.min(dists))\n",
    "    a = np.where(np.array(dists)<17)\n",
    "    plt.scatter(path[a,0], path[a,1])\n",
    "plt.legend()\n",
    "plt.show()"
   ]
  },
  {
   "cell_type": "code",
   "execution_count": null,
   "metadata": {},
   "outputs": [],
   "source": [
    "for path in found_paths:\n",
    "    path = np.asarray(path)\n",
    "    # plt.plot(path[:,0], path[:,1])\n",
    "    dists = []\n",
    "    for p in range(len(path)-1):\n",
    "         dists.append(np.linalg.norm(path[p]-path[p+1]))\n",
    "    # print(dists)\n",
    "    print(\"smaller 17:\", np.where(np.array(dists)<17))\n",
    "    plt.hist(dists)\n",
    "    plt.show()"
   ]
  },
  {
   "cell_type": "markdown",
   "metadata": {},
   "source": [
    "# Evaluate non-normalized costs"
   ]
  },
  {
   "cell_type": "code",
   "execution_count": 1,
   "metadata": {},
   "outputs": [],
   "source": [
    "import os\n",
    "import pickle\n",
    "import rasterio\n",
    "from power_planner.utils.utils import normalize, bresenham_line, discrete_angle_costs, angle\n",
    "from power_planner.utils.utils_costs import CostUtils\n",
    "from power_planner.utils.utils_constraints import ConstraintUtils"
   ]
  },
  {
   "cell_type": "code",
   "execution_count": 2,
   "metadata": {},
   "outputs": [],
   "source": [
    "layer_path = \"../../data/instance_CH.nosync/tif_layers\" # belgium.nosync/tif_layers\"\n",
    "csv_path = \"../../data/instance_CH.nosync/layer_weights.csv\" # /belgium.nosync/layer_weights.csv\"\n",
    "json_path = \"../../outputs/\" # paths_compare\"\n"
   ]
  },
  {
   "cell_type": "code",
   "execution_count": 17,
   "metadata": {},
   "outputs": [],
   "source": [
    "def get_raw_data(layer_path, csv_path, scenario=1):\n",
    "    layer_list = pd.read_csv(csv_path).dropna()\n",
    "    # layer_list = layer_csv[layer_csv[\"weight_\" + str(scenario)] != \"Forbidden\"]\n",
    "    cost_classes = np.unique(layer_list[\"class\"])\n",
    "    layer_arr = []\n",
    "    layer_weights, layer_names, layer_classes = [], [], []\n",
    "    forb_arr = []\n",
    "    for i, row in layer_list.iterrows():\n",
    "        file_path = os.path.join(\n",
    "            layer_path, row[\"Layer Name\"] + \".tif\"\n",
    "        )\n",
    "        if os.path.exists(file_path):\n",
    "            with rasterio.open(file_path, 'r') as ds:\n",
    "                arr = ds.read()[0]\n",
    "            # binarize single tif layer so it can be weighted\n",
    "            # -1  because in tifs the costly areas are black\n",
    "            \n",
    "            # add to hard constraints or general instance\n",
    "            if row[\"weight_\" + str(scenario)]==\"Forbidden\":\n",
    "                constraint = (arr.astype(int) != 1).astype(int)\n",
    "                forb_arr.append(constraint)\n",
    "                print(constraint.shape)\n",
    "            else:\n",
    "                costs = (arr==1).astype(int)\n",
    "                # costs = np.absolute(normalize(arr) - 1)\n",
    "                layer_arr.append(costs)\n",
    "                layer_weights.append(row[\"weight_\" + str(scenario)]*row[\"category_weight_\" + str(scenario)])\n",
    "                layer_classes.append(row[\"class\"])\n",
    "                layer_names.append(row[\"Layer Name\"]) # [\"Corresponding Name\"])\n",
    "        else:\n",
    "            print(\"file not found:\", row[\"Layer Name\"])\n",
    "    df = pd.DataFrame()\n",
    "    df[\"weights\"] = layer_weights\n",
    "    df[\"arr_inds\"] = [i for i in range(len(layer_arr))]\n",
    "    df[\"class\"] = layer_classes\n",
    "    df[\"layer\"] = layer_names\n",
    "    layer_arr = np.asarray(layer_arr)\n",
    "    if len(forb_arr)==0:\n",
    "        forb_arr = np.ones(layer_arr.shape)\n",
    "    return np.swapaxes(layer_arr,2,1), np.swapaxes(np.array(forb_arr), 2,1), df"
   ]
  },
  {
   "cell_type": "markdown",
   "metadata": {},
   "source": [
    "### Display hard constraints"
   ]
  },
  {
   "cell_type": "code",
   "execution_count": 4,
   "metadata": {},
   "outputs": [],
   "source": [
    "def display_paths(forbidden_arr, paths):\n",
    "    plt.figure(figsize=(20,10))\n",
    "    plt.imshow(np.all(forbidden_arr.astype(int), axis=0), cmap=plt.get_cmap(\"gist_gray\"))\n",
    "    plt.colorbar()\n",
    "    for path in paths:\n",
    "        plt.scatter(path[:,1], path[:,0])\n",
    "    plt.show()"
   ]
  },
  {
   "cell_type": "markdown",
   "metadata": {},
   "source": [
    "#### Check if forbidden layers used"
   ]
  },
  {
   "cell_type": "code",
   "execution_count": 5,
   "metadata": {},
   "outputs": [],
   "source": [
    "def assert_forbidden(forbidden_arr, paths):\n",
    "    for l,f in enumerate(forbidden_arr):\n",
    "        for (i,j) in path:\n",
    "            assert f[i,j] >0, f\"forbidden: layer {l} cell {i} {j}\"\n",
    "\n",
    "def assert_forbidden_inst(forbidden_arr, path):\n",
    "    for (i,j) in path:\n",
    "        assert forbidden_arr[i,j] >0, f\"forbidden: cell {i} {j}\""
   ]
  },
  {
   "cell_type": "markdown",
   "metadata": {},
   "source": [
    "### Compute absolute costs"
   ]
  },
  {
   "cell_type": "markdown",
   "metadata": {},
   "source": [
    "#### Vertex costs"
   ]
  },
  {
   "cell_type": "code",
   "execution_count": 6,
   "metadata": {},
   "outputs": [],
   "source": [
    "def pylon_costs(layer_arr, path):\n",
    "    pylons = []\n",
    "    for l in range(len(layer_arr)):\n",
    "        pylons.append(np.sum([layer_arr[l,i,j] for (i,j) in path]))\n",
    "    return pylons"
   ]
  },
  {
   "cell_type": "markdown",
   "metadata": {},
   "source": [
    "#### Cable costs"
   ]
  },
  {
   "cell_type": "code",
   "execution_count": 7,
   "metadata": {},
   "outputs": [],
   "source": [
    "def cable_costs(layer_arr, path):\n",
    "    edge_costs = []\n",
    "    path_int = path.astype(int)\n",
    "    for l in range(len(layer_arr)): \n",
    "        path_edges = []\n",
    "        for p in range(len(path)-1):\n",
    "            # edge costs\n",
    "            line = bresenham_line(\n",
    "                    path[p][0], path[p][1], path[p + 1][0], path[p + 1][1]\n",
    "                )\n",
    "            path_edges.extend(line[1:-1])\n",
    "        edge_costs.append(np.sum([layer_arr[l,i,j] for (i,j) in path_edges]))\n",
    "    return edge_costs\n",
    "\n",
    "def edge_costs(layer_arr, path):\n",
    "    edge_costs = []\n",
    "    path_int = path.astype(int)\n",
    "    for l in range(len(layer_arr)): \n",
    "        path_edges = []\n",
    "        for p in range(len(path)-1):\n",
    "            # get connection line between two paths\n",
    "            line = bresenham_line(\n",
    "                    path[p][0], path[p][1], path[p + 1][0], path[p + 1][1]\n",
    "                )\n",
    "            # take the mean of each segment\n",
    "            path_edges.append(np.mean([layer_arr[l,i,j] for (i,j) in line[1:-1]]))\n",
    "        edge_costs.append(np.sum(path_edges))\n",
    "    return edge_costs"
   ]
  },
  {
   "cell_type": "markdown",
   "metadata": {},
   "source": [
    "#### Angle costs"
   ]
  },
  {
   "cell_type": "code",
   "execution_count": 8,
   "metadata": {},
   "outputs": [],
   "source": [
    "# angle costs\n",
    "def angle_costs(path):\n",
    "    angle_costs = []\n",
    "    for p in range(len(path)-2):\n",
    "        vec1 = path[p + 1] - path[p]\n",
    "        vec2 = path[p + 2] - path[p + 1]\n",
    "        angle_costs.append(angle(vec1, vec2))\n",
    "    sum_angle = np.sum(angle_costs)\n",
    "    return round(sum_angle, 2)"
   ]
  },
  {
   "cell_type": "markdown",
   "metadata": {},
   "source": [
    "### Normalized costs"
   ]
  },
  {
   "cell_type": "code",
   "execution_count": 9,
   "metadata": {},
   "outputs": [],
   "source": [
    "from power_planner.utils.utils import normalize"
   ]
  },
  {
   "cell_type": "code",
   "execution_count": 12,
   "metadata": {},
   "outputs": [],
   "source": [
    "normed_per_class = []\n",
    "for class_name, df_grouped in df.groupby([\"class\"]):\n",
    "    layer_inds = df_grouped[\"arr_inds\"].astype(int)\n",
    "    relevant_layers = arr[layer_inds]\n",
    "    group_weights = df_grouped[\"weights\"].values.astype(\"float\")\n",
    "    weighted_layers = np.sum(np.array([relevant_layers[i] * group_weights[i] for i in range(len(group_weights))]), axis=0)\n",
    "    normed_per_class.append(normalize(weighted_layers))\n",
    "normed_per_class = np.asarray(normed_per_class)\n"
   ]
  },
  {
   "cell_type": "code",
   "execution_count": 13,
   "metadata": {},
   "outputs": [],
   "source": [
    "with open(\"../data/belgium_dump_1.dat\", \"rb\") as infile:\n",
    "    data = pickle.load(infile)\n",
    "    (instance, instance_corr, start_inds, dest_inds) = data.data"
   ]
  },
  {
   "cell_type": "code",
   "execution_count": 34,
   "metadata": {},
   "outputs": [
    {
     "data": {
      "text/plain": [
       "array([542, 111])"
      ]
     },
     "execution_count": 34,
     "metadata": {},
     "output_type": "execute_result"
    }
   ],
   "source": [
    "start_inds"
   ]
  },
  {
   "cell_type": "code",
   "execution_count": 15,
   "metadata": {},
   "outputs": [
    {
     "data": {
      "text/plain": [
       "((4, 739, 1300), (4, 1511, 1313))"
      ]
     },
     "execution_count": 15,
     "metadata": {},
     "output_type": "execute_result"
    }
   ],
   "source": [
    "instance.shape, normed_per_class.shape"
   ]
  },
  {
   "cell_type": "markdown",
   "metadata": {},
   "source": [
    "### Script to create dataframe"
   ]
  },
  {
   "cell_type": "code",
   "execution_count": null,
   "metadata": {
    "scrolled": true
   },
   "outputs": [],
   "source": [
    "arr, forb, df = get_raw_data(layer_path, csv_path)"
   ]
  },
  {
   "cell_type": "code",
   "execution_count": 32,
   "metadata": {},
   "outputs": [],
   "source": [
    "# read in ksp from one file\n",
    "with open(os.path.join(json_path, \"chinst_scale2_scen1_a4_path_orig.json\"), \"r\") as infile:\n",
    "    b_path = json.load(infile)\n",
    "path_list = [np.asarray(p) for p in b_path]\n",
    "json_names = [\"ksp_\"+str(i) for i in range(len(path_list))]"
   ]
  },
  {
   "cell_type": "code",
   "execution_count": 19,
   "metadata": {},
   "outputs": [
    {
     "name": "stdout",
     "output_type": "stream",
     "text": [
      "loaded 1 paths\n"
     ]
    }
   ],
   "source": [
    "# read in several files\n",
    "json_names = [\"ch_inst_test_orig.json\"]\n",
    "# [\"impl_0e_3a.json\", \"impl_2e_2a.json\", \"impl_3e_0a.json\", \"impl_parcel_2e_2a.json\"]\n",
    "# [\"impl_lg.json\", \"normal.json\",  \"impl_5e_1a.json\"] # \"edge_cost_2_orig.json\" - does not work because scale 2 -> forbidden areas (can still take it but will give assertion error)\n",
    "path_list = []\n",
    "for j_name in json_names:\n",
    "    with open(os.path.join(json_path, j_name), \"r\") as infile:\n",
    "        path_list.append(np.array(json.load(infile)[0]))\n",
    "print(f\"loaded {len(path_list)} paths\")"
   ]
  },
  {
   "cell_type": "code",
   "execution_count": null,
   "metadata": {},
   "outputs": [],
   "source": [
    "display_paths(forb, path_list)"
   ]
  },
  {
   "cell_type": "code",
   "execution_count": null,
   "metadata": {},
   "outputs": [],
   "source": [
    "for path in path_list:\n",
    "    assert_forbidden(forb, path)\n",
    "    # path2 = np.array(path)-shift_to_origin\n",
    "    # assert_forbidden_inst(instance_corr, path2)"
   ]
  },
  {
   "cell_type": "code",
   "execution_count": 35,
   "metadata": {},
   "outputs": [
    {
     "name": "stdout",
     "output_type": "stream",
     "text": [
      "{'weights': 0, 'arr_inds': '-', 'class': 'ANGLE', 'layer': 'Sum of angles (radial)', ('ksp_0', 'edge_costs'): 5.12, ('ksp_0', 'cable_costs'): 5.12, ('ksp_0', 'pylon_cost'): 5.12, ('ksp_1', 'edge_costs'): 5.46, ('ksp_1', 'cable_costs'): 5.46, ('ksp_1', 'pylon_cost'): 5.46, ('ksp_2', 'edge_costs'): 6.42, ('ksp_2', 'cable_costs'): 6.42, ('ksp_2', 'pylon_cost'): 6.42, ('ksp_3', 'edge_costs'): 5.58, ('ksp_3', 'cable_costs'): 5.58, ('ksp_3', 'pylon_cost'): 5.58, ('ksp_4', 'edge_costs'): 5.07, ('ksp_4', 'cable_costs'): 5.07, ('ksp_4', 'pylon_cost'): 5.07}\n"
     ]
    }
   ],
   "source": [
    "results_df = df.copy()\n",
    "angle_dict = {\"weights\":0,\"arr_inds\":\"-\", \"class\":\"ANGLE\", \"layer\":\"Sum of angles (radial)\"}\n",
    "for name, path in zip(json_names,path_list):\n",
    "    results_df[(name.split(\".\")[0], \"pylon_cost\")] = pylon_costs(arr, path)\n",
    "    results_df[(name.split(\".\")[0], \"cable_costs\")] = cable_costs(arr, path)\n",
    "    results_df[(name.split(\".\")[0], \"edge_costs\")] = edge_costs(arr,path)\n",
    "    angle_dict[(name.split(\".\")[0], \"edge_costs\")] = angle_costs(path)\n",
    "    angle_dict[(name.split(\".\")[0], \"cable_costs\")] = angle_costs(path)\n",
    "    angle_dict[(name.split(\".\")[0], \"pylon_cost\")] = angle_costs(path)\n",
    "# add angles\n",
    "print(angle_dict)\n",
    "results_df.loc[-1] = angle_dict"
   ]
  },
  {
   "cell_type": "code",
   "execution_count": null,
   "metadata": {
    "scrolled": false
   },
   "outputs": [],
   "source": [
    "# results_df[(results_df[[(\"impl_0e_3a\", \"cable_costs\"),(\"impl_2e_2a\", \"cable_costs\"),(\"impl_3e_0a\", \"cable_costs\")]].T != 0).any()].drop(columns=[\"arr_inds\"])\n",
    "results_df"
   ]
  },
  {
   "cell_type": "code",
   "execution_count": 37,
   "metadata": {},
   "outputs": [
    {
     "data": {
      "text/html": [
       "<div>\n",
       "<style scoped>\n",
       "    .dataframe tbody tr th:only-of-type {\n",
       "        vertical-align: middle;\n",
       "    }\n",
       "\n",
       "    .dataframe tbody tr th {\n",
       "        vertical-align: top;\n",
       "    }\n",
       "\n",
       "    .dataframe thead tr th {\n",
       "        text-align: left;\n",
       "    }\n",
       "</style>\n",
       "<table border=\"1\" class=\"dataframe\">\n",
       "  <thead>\n",
       "    <tr>\n",
       "      <th></th>\n",
       "      <th>class</th>\n",
       "      <th colspan=\"6\" halign=\"left\">ksp_0</th>\n",
       "      <th colspan=\"3\" halign=\"left\">ksp_1</th>\n",
       "      <th>...</th>\n",
       "      <th colspan=\"4\" halign=\"left\">ksp_3</th>\n",
       "      <th colspan=\"6\" halign=\"left\">ksp_4</th>\n",
       "    </tr>\n",
       "    <tr>\n",
       "      <th></th>\n",
       "      <th></th>\n",
       "      <th colspan=\"2\" halign=\"left\">edge_costs</th>\n",
       "      <th colspan=\"2\" halign=\"left\">pylon_cost</th>\n",
       "      <th colspan=\"2\" halign=\"left\">cable_costs</th>\n",
       "      <th colspan=\"2\" halign=\"left\">edge_costs</th>\n",
       "      <th>pylon_cost</th>\n",
       "      <th>...</th>\n",
       "      <th colspan=\"2\" halign=\"left\">pylon_cost</th>\n",
       "      <th colspan=\"2\" halign=\"left\">cable_costs</th>\n",
       "      <th colspan=\"2\" halign=\"left\">edge_costs</th>\n",
       "      <th colspan=\"2\" halign=\"left\">pylon_cost</th>\n",
       "      <th colspan=\"2\" halign=\"left\">cable_costs</th>\n",
       "    </tr>\n",
       "    <tr>\n",
       "      <th></th>\n",
       "      <th></th>\n",
       "      <th>absolute</th>\n",
       "      <th>weighted</th>\n",
       "      <th>absolute</th>\n",
       "      <th>weighted</th>\n",
       "      <th>absolute</th>\n",
       "      <th>weighted</th>\n",
       "      <th>absolute</th>\n",
       "      <th>weighted</th>\n",
       "      <th>absolute</th>\n",
       "      <th>...</th>\n",
       "      <th>absolute</th>\n",
       "      <th>weighted</th>\n",
       "      <th>absolute</th>\n",
       "      <th>weighted</th>\n",
       "      <th>absolute</th>\n",
       "      <th>weighted</th>\n",
       "      <th>absolute</th>\n",
       "      <th>weighted</th>\n",
       "      <th>absolute</th>\n",
       "      <th>weighted</th>\n",
       "    </tr>\n",
       "  </thead>\n",
       "  <tbody>\n",
       "    <tr>\n",
       "      <th>0</th>\n",
       "      <td>Bau/Unterhalt</td>\n",
       "      <td>49.202063</td>\n",
       "      <td>5.762</td>\n",
       "      <td>21.0</td>\n",
       "      <td>1.098</td>\n",
       "      <td>1002.0</td>\n",
       "      <td>117.085</td>\n",
       "      <td>44.891747</td>\n",
       "      <td>5.642</td>\n",
       "      <td>18.0</td>\n",
       "      <td>...</td>\n",
       "      <td>23.0</td>\n",
       "      <td>1.305</td>\n",
       "      <td>956.0</td>\n",
       "      <td>110.585</td>\n",
       "      <td>59.124458</td>\n",
       "      <td>5.191</td>\n",
       "      <td>30.0</td>\n",
       "      <td>0.890</td>\n",
       "      <td>1211.0</td>\n",
       "      <td>106.768</td>\n",
       "    </tr>\n",
       "    <tr>\n",
       "      <th>1</th>\n",
       "      <td>Raumplanung</td>\n",
       "      <td>24.817493</td>\n",
       "      <td>2.500</td>\n",
       "      <td>30.0</td>\n",
       "      <td>2.800</td>\n",
       "      <td>465.0</td>\n",
       "      <td>46.867</td>\n",
       "      <td>28.481756</td>\n",
       "      <td>2.744</td>\n",
       "      <td>33.0</td>\n",
       "      <td>...</td>\n",
       "      <td>38.0</td>\n",
       "      <td>2.800</td>\n",
       "      <td>754.0</td>\n",
       "      <td>57.133</td>\n",
       "      <td>32.922275</td>\n",
       "      <td>2.561</td>\n",
       "      <td>35.0</td>\n",
       "      <td>2.600</td>\n",
       "      <td>702.0</td>\n",
       "      <td>53.667</td>\n",
       "    </tr>\n",
       "    <tr>\n",
       "      <th>2</th>\n",
       "      <td>Umwelt-/Biotopschutz</td>\n",
       "      <td>81.552201</td>\n",
       "      <td>16.532</td>\n",
       "      <td>63.0</td>\n",
       "      <td>12.848</td>\n",
       "      <td>1586.0</td>\n",
       "      <td>316.935</td>\n",
       "      <td>78.622233</td>\n",
       "      <td>16.659</td>\n",
       "      <td>59.0</td>\n",
       "      <td>...</td>\n",
       "      <td>66.0</td>\n",
       "      <td>14.043</td>\n",
       "      <td>1840.0</td>\n",
       "      <td>383.500</td>\n",
       "      <td>92.251839</td>\n",
       "      <td>18.247</td>\n",
       "      <td>74.0</td>\n",
       "      <td>14.913</td>\n",
       "      <td>1993.0</td>\n",
       "      <td>397.630</td>\n",
       "    </tr>\n",
       "  </tbody>\n",
       "</table>\n",
       "<p>3 rows × 31 columns</p>\n",
       "</div>"
      ],
      "text/plain": [
       "                  class      ksp_0                                           \\\n",
       "                        edge_costs          pylon_cost          cable_costs   \n",
       "                          absolute weighted   absolute weighted    absolute   \n",
       "0         Bau/Unterhalt  49.202063    5.762       21.0    1.098      1002.0   \n",
       "1           Raumplanung  24.817493    2.500       30.0    2.800       465.0   \n",
       "2  Umwelt-/Biotopschutz  81.552201   16.532       63.0   12.848      1586.0   \n",
       "\n",
       "                ksp_1                      ...      ksp_3           \\\n",
       "           edge_costs          pylon_cost  ... pylon_cost            \n",
       "  weighted   absolute weighted   absolute  ...   absolute weighted   \n",
       "0  117.085  44.891747    5.642       18.0  ...       23.0    1.305   \n",
       "1   46.867  28.481756    2.744       33.0  ...       38.0    2.800   \n",
       "2  316.935  78.622233   16.659       59.0  ...       66.0   14.043   \n",
       "\n",
       "                            ksp_4                                           \\\n",
       "  cable_costs          edge_costs          pylon_cost          cable_costs   \n",
       "     absolute weighted   absolute weighted   absolute weighted    absolute   \n",
       "0       956.0  110.585  59.124458    5.191       30.0    0.890      1211.0   \n",
       "1       754.0   57.133  32.922275    2.561       35.0    2.600       702.0   \n",
       "2      1840.0  383.500  92.251839   18.247       74.0   14.913      1993.0   \n",
       "\n",
       "            \n",
       "            \n",
       "  weighted  \n",
       "0  106.768  \n",
       "1   53.667  \n",
       "2  397.630  \n",
       "\n",
       "[3 rows x 31 columns]"
      ]
     },
     "execution_count": 37,
     "metadata": {},
     "output_type": "execute_result"
    }
   ],
   "source": [
    "class_df = pd.DataFrame()\n",
    "\n",
    "weighted_pylon_costs, weighted_edge_costs = [], []\n",
    "summed_pylon_costs, summed_edge_costs = [], [] \n",
    "class_df[(\"class\", \"\", \"\")] = [c for (c,_) in results_df.groupby([\"class\"]) if c!=\"ANGLE\"]\n",
    "# iterate over columns\n",
    "for j_name in json_names:\n",
    "    name = j_name.split(\".\")[0]\n",
    "    for cost in [\"edge_costs\", \"pylon_cost\", \"cable_costs\"]: \n",
    "        # consider groups\n",
    "        weighted_results, abs_results = [], []\n",
    "        for class_name, df_grouped in results_df.groupby([\"class\"]):\n",
    "            if class_name==\"ANGLE\":\n",
    "                continue\n",
    "            # print(class_name, df_grouped[\"weights\"])\n",
    "            group_weights = np.array(df_grouped[\"weights\"]).astype(int)\n",
    "            normed_weights = group_weights/np.sum(group_weights)\n",
    "            # print(normed_weights, class_name, df_grouped[\"weights\"])\n",
    "            w = normed_weights * np.array(df_grouped[(name, cost)].values)\n",
    "            weighted_results.append(round(np.sum(w),3))\n",
    "            abs_results.append(np.sum(df_grouped[(name, cost)].values))\n",
    "        class_df[(name, cost, \"absolute\")] = abs_results\n",
    "        class_df[(name, cost, \"weighted\")] = weighted_results\n",
    "class_df.columns = pd.MultiIndex.from_tuples(class_df.columns)\n",
    "class_df"
   ]
  },
  {
   "cell_type": "code",
   "execution_count": null,
   "metadata": {},
   "outputs": [],
   "source": [
    "for column in class_df.columns:\n",
    "    if \"class\" in column or \"absolute\" in column:\n",
    "        continue\n",
    "    vals = class_df[column].values\n",
    "    print(column, np.sum(vals*np.array([0.28571429, 0.35714286, 0.14285714, 0.21428571])))\n",
    "# (['angle', 'cultural', 'human', 'planning', 'technical'],\n",
    "# array([0.        , 0.28571429, 0.35714286, 0.14285714, 0.21428571]))"
   ]
  },
  {
   "cell_type": "markdown",
   "metadata": {},
   "source": [
    "## Plotting"
   ]
  },
  {
   "cell_type": "code",
   "execution_count": 38,
   "metadata": {},
   "outputs": [],
   "source": [
    "cab_cost_cols = [(name.split(\".\")[0], \"pylon_cost\") for name in json_names]"
   ]
  },
  {
   "cell_type": "code",
   "execution_count": 39,
   "metadata": {},
   "outputs": [],
   "source": [
    "test_df = results_df.copy().set_index(\"layer\")[cab_cost_cols]"
   ]
  },
  {
   "cell_type": "code",
   "execution_count": 40,
   "metadata": {},
   "outputs": [],
   "source": [
    "test_weights = results_df.copy().set_index(\"layer\")[(test_df.T != 0).any()][\"weights\"]\n",
    "test_df = test_df[(test_df.T != 0).any()]"
   ]
  },
  {
   "cell_type": "code",
   "execution_count": 41,
   "metadata": {},
   "outputs": [],
   "source": [
    "assert len(test_weights)==len(test_df)"
   ]
  },
  {
   "cell_type": "code",
   "execution_count": 42,
   "metadata": {},
   "outputs": [
    {
     "data": {
      "text/plain": [
       "layer\n",
       "Trockenwiese                      4\n",
       "Wald                              8\n",
       "Schutzgebiete nach Jagdgesetz     3\n",
       "Nationalpaerke                   15\n",
       "GEOTOP_BUND                       6\n",
       "Grundwasserzonen_S2              10\n",
       "Suedhaenge                        3\n",
       "slope_45-55                      10\n",
       "slope_plus55                     15\n",
       "Buendlung_FLTG                   -1\n",
       "Infrastrukturanlagen              2\n",
       "Landschaftschutzgebiete           1\n",
       "Wohn-Arbeits-gemischte Zonen      4\n",
       "Sum of angles (radial)            0\n",
       "Name: weights, dtype: object"
      ]
     },
     "execution_count": 42,
     "metadata": {},
     "output_type": "execute_result"
    }
   ],
   "source": [
    "test_weights"
   ]
  },
  {
   "cell_type": "code",
   "execution_count": 43,
   "metadata": {},
   "outputs": [],
   "source": [
    "# normed_weighted = (test_weights.values.astype(int) +5)/10\n",
    "w_vals = test_weights.values.astype(int)\n",
    "normed_weighted = (w_vals - np.min(w_vals))/(np.max(w_vals)- np.min(w_vals))\n",
    "rgbs = [(n,1-n,0) for n in normed_weighted]"
   ]
  },
  {
   "cell_type": "code",
   "execution_count": 44,
   "metadata": {},
   "outputs": [
    {
     "data": {
      "image/png": "[encoded data removed]",
      "text/plain": [
       "<Figure size 720x576 with 1 Axes>"
      ]
     },
     "metadata": {
      "needs_background": "light"
     },
     "output_type": "display_data"
    }
   ],
   "source": [
    "fig1, ax1 = plt.subplots(figsize=(10,8))\n",
    "test_df.plot.bar(ax = ax1, rot=90, color=[rgbs, rgbs])\n",
    "plt.gcf().subplots_adjust(bottom=0.5)\n",
    "plt.tight_layout()\n",
    "plt.savefig(\"../../figure/abs_cost.png\")"
   ]
  },
  {
   "cell_type": "code",
   "execution_count": null,
   "metadata": {},
   "outputs": [],
   "source": [
    "labels = results_df[\"layer\"]\n",
    "men_means = [20, 34, 30, 35, 27]\n",
    "women_means = [25, 32, 34, 20, 25]\n",
    "\n",
    "x = np.arange(len(labels))  # the label locations\n",
    "width = 0.35  # the width of the bars\n",
    "\n",
    "fig, ax = plt.subplots()\n",
    "rects1 = ax.bar(x - width/2, men_means, width, label='Men')\n",
    "rects2 = ax.bar(x + width/2, women_means, width, label='Women')\n",
    "\n",
    "# Add some text for labels, title and custom x-axis tick labels, etc.\n",
    "ax.set_ylabel('Scores')\n",
    "ax.set_title('Scores by group and gender')\n",
    "ax.set_xticks(x)\n",
    "ax.set_xticklabels(labels)\n",
    "ax.legend()"
   ]
  },
  {
   "cell_type": "markdown",
   "metadata": {},
   "source": [
    "## QGIS preparation"
   ]
  },
  {
   "cell_type": "code",
   "execution_count": 471,
   "metadata": {},
   "outputs": [],
   "source": [
    "SCALE_PARAM = 1\n",
    "IOPATH = \"../../data/belgium.nosync/data_dump_orig_\" + str(SCALE_PARAM) + \".dat\"\n",
    "with open(IOPATH, \"rb\") as infile:\n",
    "    data = pickle.load(infile)"
   ]
  },
  {
   "cell_type": "code",
   "execution_count": 475,
   "metadata": {},
   "outputs": [],
   "source": [
    "for name, path in zip(json_names, path_list):\n",
    "    coordinates = [data.transform_matrix * p for p in path]\n",
    "    df = pd.DataFrame(np.asarray(coordinates), columns=[\"X\", \"Y\"])\n",
    "    out_path = os.path.join(json_path, name.split(\".\")[0])\n",
    "    df.to_csv(out_path + \"_coords.csv\", index=False)"
   ]
  },
  {
   "cell_type": "markdown",
   "metadata": {},
   "source": [
    "## Pylon - layer matrix"
   ]
  },
  {
   "cell_type": "code",
   "execution_count": 45,
   "metadata": {},
   "outputs": [],
   "source": [
    "# first compute coordinates of pylons and cables\n",
    "def path_to_edge_coords(path):\n",
    "    is_pylon = []\n",
    "    path_coords = []\n",
    "    for p in range(len(path)-1):\n",
    "        # add current pylon\n",
    "        path_coords.append(path[p])\n",
    "        is_pylon.append(1)\n",
    "        # add cable\n",
    "        line = bresenham_line(\n",
    "                    path[p][0], path[p][1], path[p + 1][0], path[p + 1][1]\n",
    "                )[1:-1]\n",
    "        for l in line:\n",
    "            path_coords.append(l)\n",
    "            is_pylon.append(0)\n",
    "    path_coords.append(path[-1])\n",
    "    is_pylon.append(1)\n",
    "    return path_coords, is_pylon\n",
    "# plt.plot(np.array(path_coords)[:,0], np.array(path_coords)[:,1])\n",
    "\n",
    "def pathline_to_matrix(arr, path_coords, is_pylon):\n",
    "    out_matrix = np.zeros((len(arr),len(is_pylon)))\n",
    "    is_pylon_helper = np.array(is_pylon)+1\n",
    "    for i in range(len(arr)):\n",
    "        count = 0\n",
    "        for (m,n), is_py in zip(path_coords, is_pylon_helper):\n",
    "            out_matrix[i,count] = arr[i, m,n] * is_py # +1 if pylon\n",
    "            count+=1\n",
    "    return out_matrix\n",
    "\n",
    "def pylon_cable_matrix(arr, path):\n",
    "    path_coords, is_pylon = path_to_edge_coords(path)\n",
    "    return pathline_to_matrix(arr, path_coords, is_pylon)\n",
    "    \n",
    "def pylon_edge_matrix(arr, path):\n",
    "    out_matrix = np.zeros((len(arr), 2*len(path)-1))\n",
    "    for i in range(len(arr)):\n",
    "        for p in range(len(path)-1):\n",
    "            # add current pylon\n",
    "            (x,y) = path[p]\n",
    "            out_matrix[i,p*2] = arr[i,x,y] * 2 # other value for pylon than for cable       \n",
    "            # add cable\n",
    "            line = bresenham_line(\n",
    "                        path[p][0], path[p][1], path[p + 1][0], path[p + 1][1]\n",
    "                    )[1:-1]\n",
    "            out_matrix[i, p*2+1] = np.any([arr[i,x,y] for (x,y) in line])\n",
    "    return out_matrix\n",
    "\n",
    "def pylon_matrix(arr, path):\n",
    "    out_matrix = np.zeros((len(arr),len(path)))\n",
    "    for i in range(len(arr)):\n",
    "        for j, (m,k) in enumerate(path):\n",
    "            out_matrix[i,j] = arr[i, m,k]\n",
    "    return out_matrix"
   ]
  },
  {
   "cell_type": "code",
   "execution_count": 50,
   "metadata": {},
   "outputs": [
    {
     "data": {
      "image/png": "[encoded data removed]",
      "text/plain": [
       "<Figure size 1440x720 with 1 Axes>"
      ]
     },
     "metadata": {
      "needs_background": "light"
     },
     "output_type": "display_data"
    }
   ],
   "source": [
    "# OPTION 1: pylons and edges both as one field\n",
    "out_matrix = pylon_edge_matrix(arr, path)\n",
    "# OPTION 2: all fields of cables seperately\n",
    "# out_matrix = pylon_cable_matrix(arr, path)\n",
    "# OPTION 3: simply take pylons, no cables considered\n",
    "# out_matrix = pylon_matrix(arr, path)\n",
    "\n",
    "# restrict to nonzero:\n",
    "layer_labels = df[\"layer\"].values[np.any(out_matrix, axis=1)]\n",
    "out_matrix = out_matrix[np.any(out_matrix, axis=1)]\n",
    "\n",
    "# PLOTTING\n",
    "fig, ax = plt.subplots(figsize=(20,10))\n",
    "ax.imshow(out_matrix)\n",
    "ax.set_xticklabels([i for i in range(len(out_matrix[0]))], fontsize=1)\n",
    "ax.set_yticklabels(layer_labels, fontsize=15)\n",
    "# plt.xticks([i for i in range(len(is_pylon))])\n",
    "plt.yticks([i for i in range(len(out_matrix))])\n",
    "plt.xlabel(\"Pylons and cables on path\")\n",
    "ax.set_aspect(aspect=10)\n",
    "plt.savefig(\"../../figure/pylon_cable_cost2.png\")\n",
    "plt.show()"
   ]
  },
  {
   "cell_type": "markdown",
   "metadata": {},
   "source": [
    "## Test edge cost comutation\n",
    "\n",
    "because of edge_inst?"
   ]
  },
  {
   "cell_type": "code",
   "execution_count": 60,
   "metadata": {},
   "outputs": [],
   "source": [
    "def edge_costs(layer_arr, path, normed=False):\n",
    "    edge_costs = []\n",
    "    path_int = path.astype(int)\n",
    "    for l in range(len(layer_arr)): \n",
    "        path_edges = []\n",
    "        for p in range(len(path)-1):\n",
    "            # get connection line between two paths\n",
    "            line = bresenham_line(\n",
    "                    path[p][0], path[p][1], path[p + 1][0], path[p + 1][1]\n",
    "                )\n",
    "            # take the mean of each segment\n",
    "            path_edges.append(np.mean([layer_arr[l,i,j] for (i,j) in line[1:-1]]))\n",
    "        edge_costs.append(np.sum(path_edges))\n",
    "    print(edge_costs)\n",
    "    return edge_costs\n",
    "\n",
    "def compute_edge_costs(path, instance, class_weights):\n",
    "    costs = []\n",
    "    for p in range(len(path) - 1):\n",
    "        point_list = bresenham_line(\n",
    "            path[p][0], path[p][1], path[p + 1][0], path[p + 1][1]\n",
    "        )\n",
    "        costs.append(np.mean([np.sum(instance[:, i, j]*class_weights) for (i, j) in point_list[1:-1]]))\n",
    "    return np.sum(costs)"
   ]
  },
  {
   "cell_type": "code",
   "execution_count": 50,
   "metadata": {},
   "outputs": [],
   "source": [
    "from power_planner.utils.utils_costs import CostUtils"
   ]
  },
  {
   "cell_type": "code",
   "execution_count": 64,
   "metadata": {},
   "outputs": [],
   "source": [
    "edge_inst = instance.copy()\n",
    "edge_inst[:, instance_corr==0] = 1"
   ]
  },
  {
   "cell_type": "code",
   "execution_count": 67,
   "metadata": {},
   "outputs": [
    {
     "name": "stdout",
     "output_type": "stream",
     "text": [
      "impl_0e_3a.json 11.791903827345422\n",
      "impl_2e_2a.json 9.635710067137667\n",
      "impl_3e_0a.json 9.403328948897446\n"
     ]
    }
   ],
   "source": [
    "class_weights = np.array([0.28571429, 0.35714286, 0.14285714, 0.21428571])\n",
    "for name, path in zip(json_names, path_list):\n",
    "    shifted_path = np.asarray(path) - shift_to_origin\n",
    "    out = compute_edge_costs(shifted_path, edge_inst, class_weights)\n",
    "    print(name, out)\n",
    "    # out2 = edge_costs(instance, shifted_path)\n",
    "    # print(np.sum(out* class_weights), np.sum(out2*class_weights))"
   ]
  },
  {
   "cell_type": "code",
   "execution_count": 35,
   "metadata": {},
   "outputs": [
    {
     "data": {
      "text/html": [
       "<div>\n",
       "<style scoped>\n",
       "    .dataframe tbody tr th:only-of-type {\n",
       "        vertical-align: middle;\n",
       "    }\n",
       "\n",
       "    .dataframe tbody tr th {\n",
       "        vertical-align: top;\n",
       "    }\n",
       "\n",
       "    .dataframe thead tr th {\n",
       "        text-align: left;\n",
       "    }\n",
       "</style>\n",
       "<table border=\"1\" class=\"dataframe\">\n",
       "  <thead>\n",
       "    <tr>\n",
       "      <th></th>\n",
       "      <th>class</th>\n",
       "      <th colspan=\"6\" halign=\"left\">impl_0e_3a</th>\n",
       "      <th colspan=\"6\" halign=\"left\">impl_2e_2a</th>\n",
       "      <th colspan=\"6\" halign=\"left\">impl_3e_0a</th>\n",
       "    </tr>\n",
       "    <tr>\n",
       "      <th></th>\n",
       "      <th></th>\n",
       "      <th colspan=\"2\" halign=\"left\">edge_costs</th>\n",
       "      <th colspan=\"2\" halign=\"left\">pylon_cost</th>\n",
       "      <th colspan=\"2\" halign=\"left\">cable_costs</th>\n",
       "      <th colspan=\"2\" halign=\"left\">edge_costs</th>\n",
       "      <th colspan=\"2\" halign=\"left\">pylon_cost</th>\n",
       "      <th colspan=\"2\" halign=\"left\">cable_costs</th>\n",
       "      <th colspan=\"2\" halign=\"left\">edge_costs</th>\n",
       "      <th colspan=\"2\" halign=\"left\">pylon_cost</th>\n",
       "      <th colspan=\"2\" halign=\"left\">cable_costs</th>\n",
       "    </tr>\n",
       "    <tr>\n",
       "      <th></th>\n",
       "      <th></th>\n",
       "      <th>absolute</th>\n",
       "      <th>weighted</th>\n",
       "      <th>absolute</th>\n",
       "      <th>weighted</th>\n",
       "      <th>absolute</th>\n",
       "      <th>weighted</th>\n",
       "      <th>absolute</th>\n",
       "      <th>weighted</th>\n",
       "      <th>absolute</th>\n",
       "      <th>weighted</th>\n",
       "      <th>absolute</th>\n",
       "      <th>weighted</th>\n",
       "      <th>absolute</th>\n",
       "      <th>weighted</th>\n",
       "      <th>absolute</th>\n",
       "      <th>weighted</th>\n",
       "      <th>absolute</th>\n",
       "      <th>weighted</th>\n",
       "    </tr>\n",
       "  </thead>\n",
       "  <tbody>\n",
       "    <tr>\n",
       "      <th>0</th>\n",
       "      <td>cultural</td>\n",
       "      <td>3.302372</td>\n",
       "      <td>0.552296</td>\n",
       "      <td>2.0</td>\n",
       "      <td>0.307692</td>\n",
       "      <td>75.0</td>\n",
       "      <td>12.538462</td>\n",
       "      <td>4.191700</td>\n",
       "      <td>0.658255</td>\n",
       "      <td>3.0</td>\n",
       "      <td>0.461538</td>\n",
       "      <td>96.0</td>\n",
       "      <td>15.076923</td>\n",
       "      <td>4.306512</td>\n",
       "      <td>0.669866</td>\n",
       "      <td>3.0</td>\n",
       "      <td>0.461538</td>\n",
       "      <td>99.0</td>\n",
       "      <td>15.384615</td>\n",
       "    </tr>\n",
       "    <tr>\n",
       "      <th>1</th>\n",
       "      <td>human</td>\n",
       "      <td>0.000000</td>\n",
       "      <td>0.000000</td>\n",
       "      <td>0.0</td>\n",
       "      <td>0.000000</td>\n",
       "      <td>0.0</td>\n",
       "      <td>0.000000</td>\n",
       "      <td>0.000000</td>\n",
       "      <td>0.000000</td>\n",
       "      <td>0.0</td>\n",
       "      <td>0.000000</td>\n",
       "      <td>0.0</td>\n",
       "      <td>0.000000</td>\n",
       "      <td>0.000000</td>\n",
       "      <td>0.000000</td>\n",
       "      <td>0.0</td>\n",
       "      <td>0.000000</td>\n",
       "      <td>0.0</td>\n",
       "      <td>0.000000</td>\n",
       "    </tr>\n",
       "    <tr>\n",
       "      <th>2</th>\n",
       "      <td>planning</td>\n",
       "      <td>56.659563</td>\n",
       "      <td>23.955485</td>\n",
       "      <td>75.0</td>\n",
       "      <td>21.360000</td>\n",
       "      <td>1221.0</td>\n",
       "      <td>512.880000</td>\n",
       "      <td>53.626413</td>\n",
       "      <td>23.680036</td>\n",
       "      <td>78.0</td>\n",
       "      <td>20.080000</td>\n",
       "      <td>1182.0</td>\n",
       "      <td>518.160000</td>\n",
       "      <td>65.650066</td>\n",
       "      <td>23.901265</td>\n",
       "      <td>105.0</td>\n",
       "      <td>17.760000</td>\n",
       "      <td>1409.0</td>\n",
       "      <td>518.240000</td>\n",
       "    </tr>\n",
       "    <tr>\n",
       "      <th>3</th>\n",
       "      <td>technical</td>\n",
       "      <td>22.352235</td>\n",
       "      <td>20.259899</td>\n",
       "      <td>28.0</td>\n",
       "      <td>18.827586</td>\n",
       "      <td>481.0</td>\n",
       "      <td>433.931034</td>\n",
       "      <td>16.285442</td>\n",
       "      <td>20.607938</td>\n",
       "      <td>24.0</td>\n",
       "      <td>19.655172</td>\n",
       "      <td>356.0</td>\n",
       "      <td>451.758621</td>\n",
       "      <td>24.736285</td>\n",
       "      <td>21.024836</td>\n",
       "      <td>33.0</td>\n",
       "      <td>18.931034</td>\n",
       "      <td>538.0</td>\n",
       "      <td>455.206897</td>\n",
       "    </tr>\n",
       "  </tbody>\n",
       "</table>\n",
       "</div>"
      ],
      "text/plain": [
       "       class impl_0e_3a                                               \\\n",
       "             edge_costs            pylon_cost            cable_costs   \n",
       "               absolute   weighted   absolute   weighted    absolute   \n",
       "0   cultural   3.302372   0.552296        2.0   0.307692        75.0   \n",
       "1      human   0.000000   0.000000        0.0   0.000000         0.0   \n",
       "2   planning  56.659563  23.955485       75.0  21.360000      1221.0   \n",
       "3  technical  22.352235  20.259899       28.0  18.827586       481.0   \n",
       "\n",
       "              impl_2e_2a                                               \\\n",
       "              edge_costs            pylon_cost            cable_costs   \n",
       "     weighted   absolute   weighted   absolute   weighted    absolute   \n",
       "0   12.538462   4.191700   0.658255        3.0   0.461538        96.0   \n",
       "1    0.000000   0.000000   0.000000        0.0   0.000000         0.0   \n",
       "2  512.880000  53.626413  23.680036       78.0  20.080000      1182.0   \n",
       "3  433.931034  16.285442  20.607938       24.0  19.655172       356.0   \n",
       "\n",
       "              impl_3e_0a                                               \\\n",
       "              edge_costs            pylon_cost            cable_costs   \n",
       "     weighted   absolute   weighted   absolute   weighted    absolute   \n",
       "0   15.076923   4.306512   0.669866        3.0   0.461538        99.0   \n",
       "1    0.000000   0.000000   0.000000        0.0   0.000000         0.0   \n",
       "2  518.160000  65.650066  23.901265      105.0  17.760000      1409.0   \n",
       "3  451.758621  24.736285  21.024836       33.0  18.931034       538.0   \n",
       "\n",
       "               \n",
       "               \n",
       "     weighted  \n",
       "0   15.384615  \n",
       "1    0.000000  \n",
       "2  518.240000  \n",
       "3  455.206897  "
      ]
     },
     "execution_count": 35,
     "metadata": {},
     "output_type": "execute_result"
    }
   ],
   "source": [
    "shift_to_origin = data.orig_start - start_inds \n",
    "normed_df = class_df.copy()\n",
    "for name, path in zip(json_names,path_list):\n",
    "    normed_df[(name.split(\".\")[0], \"pylon_cost\", \"weighted\")] = pylon_costs(instance, np.asarray(path) - shift_to_origin)\n",
    "    normed_df[(name.split(\".\")[0], \"cable_costs\", \"weighted\")] = cable_costs(instance, np.asarray(path) - shift_to_origin)\n",
    "    normed_df[(name.split(\".\")[0], \"edge_costs\", \"weighted\")] = edge_costs(instance, np.asarray(path) - shift_to_origin)\n",
    "normed_df"
   ]
  },
  {
   "cell_type": "markdown",
   "metadata": {},
   "source": [
    "## backup"
   ]
  },
  {
   "cell_type": "code",
   "execution_count": null,
   "metadata": {},
   "outputs": [],
   "source": [
    "weighted_edge_costs.append(np.sum(weighted_edges))\n",
    "    summed_pylon_costs.append(np.sum(df_grouped[\"pylon_costs\"].values))\n",
    "    summed_edge_costs.append(np.sum(df_grouped[\"cable_costs\"].values))\n",
    "    c.append(class_name)\n",
    "class_df = pd.DataFrame()\n",
    "class_df[\"class\"] = c\n",
    "class_df[\"pylon_costs\"] = summed_pylon_costs\n",
    "class_df[\"weighted_pylon_costs\"] = weighted_pylon_costs\n",
    "class_df[\"cable_costs\"] = summed_edge_costs\n",
    "class_df[\"weighted_cable_costs\"] = weighted_edge_costs\n",
    "class_df"
   ]
  }
 ],
 "metadata": {
  "kernelspec": {
   "display_name": "Python 3",
   "language": "python",
   "name": "python3"
  },
  "language_info": {
   "codemirror_mode": {
    "name": "ipython",
    "version": 3
   },
   "file_extension": ".py",
   "mimetype": "text/x-python",
   "name": "python",
   "nbconvert_exporter": "python",
   "pygments_lexer": "ipython3",
   "version": "3.8.2"
  }
 },
 "nbformat": 4,
 "nbformat_minor": 4
}
