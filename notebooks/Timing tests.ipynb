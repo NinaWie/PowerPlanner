{
 "cells": [
  {
   "cell_type": "code",
   "execution_count": 10,
   "metadata": {},
   "outputs": [],
   "source": [
    "import matplotlib.pyplot as plt\n",
    "import numpy as np\n",
    "# import networkx as nx\n",
    "import os\n",
    "from PIL import Image\n",
    "import rasterio\n",
    "import time\n",
    "import json\n",
    "from graph_tool.all import *"
   ]
  },
  {
   "cell_type": "code",
   "execution_count": 13,
   "metadata": {},
   "outputs": [],
   "source": [
    "from power_planner.utils import *"
   ]
  },
  {
   "cell_type": "markdown",
   "metadata": {},
   "source": [
    "## Next meeting:\n",
    "\n",
    "* path straightening in constraints notebook with algorithm is not an actual straightening"
   ]
  },
  {
   "cell_type": "markdown",
   "metadata": {},
   "source": [
    "### Explain pipeline:\n",
    "\n",
    "* Get hard constraints --> binary corridor, + water etc\n",
    "* Add one node to the graph for each raster cell in the corridor\n",
    "* Define donut around each cell\n",
    "* Add edges between each point and the point in the donut around it, with weights:\n",
    "    * First option: sum of cost of both cells of these two nodes\n",
    "    * Second option: sum of cost of all cells inbetween --> Bresenham line (other notebook)\n",
    "* Add start and end node, and connect to the top x and bottom x points of the corridor with weight 0\n",
    "* Run shortest path algorithm (bellman ford)\n",
    "\n",
    "So far: downscaling with different factors\n",
    "\n",
    "### Runtimes:\n",
    "\n",
    "**Scale by 5 --> 20 poins in donut**\n",
    "* edge convolutions: {'init_graph': 0.03, 'add_nodes': 1.676, **'edge_list (per convolution!)': 0.9, 'add_edges (per shift)': 0.0045**, 'start_end_vertex': 0.004, 'shortest_path': 0.363}\n",
    "* node adding: {'init_graph': 0.03, 'add_nodes': 1.376, **'edge_list': 0.00245, 'add_edges': 0.00665,** 'start_end_vertex': 0.005, 'shortest_path': 0.236}\n",
    "* old edge version {'init_graph': 0.031, 'add_nodes': 1.481, **'edge_list': 0.198, 'add_edges': 0.045**, 'start_end_vertex': 0.003, 'shortest_path': 0.216}\n",
    "\n",
    "--> add adges even longer if list not split?!, improved node constraints by factor of 80\n",
    "\n",
    "**networkx scale 5:**\n",
    "* bellman ford: {'init_graph': 0.037, 'add_nodes': 0.03, 'edge_list': 0.002, **'add_edges': 0.2996**, 'start_end_vertex': 0.007, **'shortest_path': 2.961**}\n",
    "* dijkstra: {'init_graph': 0.036, 'add_nodes': 0.03, 'edge_list': 0.0020000000000000005, 'add_edges': 0.2926000000000001, 'start_end_vertex': 0.004, 'shortest_path': 0.633}\n",
    "\n",
    "--> graph-tool speed up: shortest path 10 times (bellman ford), 2 times (dijkstra), adding edges 60 times\n",
    "\n",
    "**Scale by 2 --> 156 point in donut**\n",
    "* edge convolutions with **faster convolutions**: {'init_graph': 0.233, 'add_nodes': 0.005, 'concatenate': 0.328, 'add_edges': 0.025, **'edge_list': 0.15**, 'start_end_vertex': 0.015, 'shortest_path': 27.296}\n",
    "* edge convolutions: {'init_graph': 0.198, 'add_nodes': 9.569, **'edge_list': 6.908, 'add_edges': 0.0273**, 'start_end_vertex': 0.034, 'shortest_path': 32.844}\n",
    "* node adding: {'init_graph': 0.202, 'add_nodes': 9.458, **'edge_list': 0.0092, 'add_edges': 0.024,** 'start_end_vertex': 0.017, 'shortest_path': 7.76}\n",
    "* node adding graph tool dijkstra: {'init_graph': 0.274, 'add_nodes': 0.006, 'edge_list': 0.010, 'add_edges': 0.029, 'start_end_vertex': 0.018, **'shortest_path': 0.822**}\n",
    "* old edge version: {'init_graph': 0.206, 'add_nodes': 10.979, **'edge_list': 1.154, 'add_edges': 0.314,** 'start_end_vertex': 0.032, 'shortest_path': 7.492}\n",
    "* networkx dijkstra: {'init_graph': 0.212, 'add_nodes': 0.156, 'edge_list': 0.01, **'add_edges': 3.08,** 'start_end_vertex': 0.065, **'shortest_path': 41.075**}\n",
    "\n",
    "--> speed up of node constraint by factor of 125\n",
    "--> graph tool speedup: 6 times for shortest path, \n",
    "\n",
    "**Whole instance: 428643 nodes --> around 263 615 445 edges**\n",
    "* dijkstra does not work because out of memory, time is {'init_graph': 0.624, 'add_nodes': 0.021, 'edge_list': 0.065,**'add_edges': 1.179**, 'start_end_vertex': 0.61,**'shortest_path': 611.761**}\n",
    "* with adding all edges at ones (bellman ford graph-tool): crashed \n",
    "\n",
    "\n",
    "**Directed graph:**\n",
    "* speed up for shortest path by a lot! \n",
    "* scale 2 directed: 0.5 \n",
    "* {'init_graph': 0.218, 'add_nodes': 0.005, 'add_edges': 0.024, 'edge_list': 0.12, **'shortest_path': 0.518**}\n",
    "* scale 2 undirected: 8\n",
    "\n",
    "**Other observations:**\n",
    "* graph-tool becomes slower for adding edges, the more edges are in the graph already\n",
    "* graph-tool with adding all edges at once: {'init_graph': 0.211, 'add_nodes': 0.005, 'add_edges': 0.026, 'edge_list': 0.017, 'start_end_vertex': 0.007, 'shortest_path': 6.554}\n",
    "* **add_nodes is much faster when no generator is returned (and seems to work just as fine**\n",
    "\n",
    "### Space efficiency:\n",
    "\n",
    "* with dijkstra my laptop crashed, with bellman ford it's okay (for full instance --> 249 000 000 edges)\n",
    "* scaled 2 still fine 15 912 513 edges\n",
    "\n",
    "### Discuss:\n",
    "\n",
    "* Angle constraints: \n",
    "    * Path straightening (other notebook) is actually sampling fewer points\n",
    "    * Line graph takes m*1/3 d\n",
    "\n",
    "### Questions:\n",
    "\n",
    "Pipeline so far:\n",
    "\n",
    "* Normalization: 0-1 normalization for cost surface?\n",
    "* Bresenham line makes sense?\n",
    "* Start and end node given? first row?\n",
    "* networkx version\n",
    "\n",
    "Constraints:\n",
    "\n",
    "* Hard constraints: Distance from towns etc? Water?\n",
    "* View on towers / cables constraint?\n",
    "* Height of towers\n",
    "* Monetary costs? --> node costs in addition, so it's not placing too many towers\n",
    "\n",
    "How to use other tifs?? - Excel sheet"
   ]
  },
  {
   "cell_type": "markdown",
   "metadata": {},
   "source": [
    "### meeting:\n",
    "\n",
    "* infinity costs on edges for NaNs\n",
    "* function to compute resistance: multiply raster tifs with weights\n",
    "* the more negative the value, the more suitable\n",
    "* completely forbidden: NaN or infinite\n",
    "* MCDA negative values - but zickszack\n",
    "\n",
    "Todo:\n",
    "* flip coordinates"
   ]
  },
  {
   "cell_type": "code",
   "execution_count": 2,
   "metadata": {},
   "outputs": [],
   "source": [
    "with open(\"../outputs/path_whole_instance_infos.json\",\"r\") as infile:\n",
    "    infos = json.load(infile)"
   ]
  },
  {
   "cell_type": "code",
   "execution_count": 9,
   "metadata": {},
   "outputs": [
    {
     "data": {
      "image/png": "[encoded data removed]",
      "text/plain": [
       "<Figure size 432x288 with 1 Axes>"
      ]
     },
     "metadata": {
      "needs_background": "light"
     },
     "output_type": "display_data"
    }
   ],
   "source": [
    "plt.plot(infos[\"time_logs\"][\"edge_list_times\"])\n",
    "plt.show()"
   ]
  },
  {
   "cell_type": "markdown",
   "metadata": {},
   "source": [
    "## Start and end"
   ]
  },
  {
   "cell_type": "code",
   "execution_count": 275,
   "metadata": {},
   "outputs": [],
   "source": [
    "path_files = \"/Users/ninawiedemann/Downloads/tif_ras_buf\""
   ]
  },
  {
   "cell_type": "code",
   "execution_count": 283,
   "metadata": {},
   "outputs": [
    {
     "name": "stdout",
     "output_type": "stream",
     "text": [
      "1511\n",
      "BoundingBox(left=163246.2068, bottom=126131.1214, right=178356.2068, top=139261.1214)\n",
      "(1, 1313, 1511)\n"
     ]
    }
   ],
   "source": [
    "with rasterio.open(os.path.join(path_files, \"corridor/CORRIDOR_BE.tif\")) as dataset:\n",
    "    # \"/Users/ninawiedemann/Downloads/tifs_new/Destination.tif\", 'r') as dataset:\n",
    "    print(dataset.width)\n",
    "    print(dataset.bounds)\n",
    "    transform_matrix = dataset.transform\n",
    "    arr = dataset.read()\n",
    "    print(arr.shape)"
   ]
  },
  {
   "cell_type": "code",
   "execution_count": 284,
   "metadata": {},
   "outputs": [
    {
     "data": {
      "text/plain": [
       "(471.0066256730479, 1202.9776301153415)"
      ]
     },
     "execution_count": 284,
     "metadata": {},
     "output_type": "execute_result"
    }
   ],
   "source": [
    "~transform_matrix*(167956.27305673048, 127231.34509884659)"
   ]
  },
  {
   "cell_type": "code",
   "execution_count": 294,
   "metadata": {},
   "outputs": [
    {
     "data": {
      "image/png": "[encoded data removed]",
      "text/plain": [
       "<Figure size 432x288 with 1 Axes>"
      ]
     },
     "metadata": {
      "needs_background": "light"
     },
     "output_type": "display_data"
    }
   ],
   "source": [
    "plt.imshow(arr[0], origin=\"lower\")\n",
    "plt.show()"
   ]
  },
  {
   "cell_type": "code",
   "execution_count": 295,
   "metadata": {},
   "outputs": [
    {
     "data": {
      "text/plain": [
       "8222.764660044888"
      ]
     },
     "execution_count": 295,
     "metadata": {},
     "output_type": "execute_result"
    }
   ],
   "source": [
    "arr[0, 1202, 471]"
   ]
  },
  {
   "cell_type": "code",
   "execution_count": 258,
   "metadata": {},
   "outputs": [],
   "source": [
    "import shapefile\n",
    "sf = shapefile.Reader(\"/Users/ninawiedemann/Downloads/tifs_new/Destination\")"
   ]
  },
  {
   "cell_type": "code",
   "execution_count": 269,
   "metadata": {},
   "outputs": [],
   "source": [
    "shapes = sf.shapes()"
   ]
  },
  {
   "cell_type": "code",
   "execution_count": 272,
   "metadata": {},
   "outputs": [
    {
     "data": {
      "text/plain": [
       "[[167956.27305673048, 127231.34509884659]]"
      ]
     },
     "execution_count": 272,
     "metadata": {},
     "output_type": "execute_result"
    }
   ],
   "source": [
    "shapes[0].points"
   ]
  },
  {
   "cell_type": "code",
   "execution_count": 251,
   "metadata": {},
   "outputs": [
    {
     "data": {
      "text/plain": [
       "(array([0]), array([22]), array([94]))"
      ]
     },
     "execution_count": 251,
     "metadata": {},
     "output_type": "execute_result"
    }
   ],
   "source": [
    "# np.unique(arr)\n",
    "np.where(arr==1)"
   ]
  },
  {
   "cell_type": "markdown",
   "metadata": {},
   "source": [
    "## Optimize convolution"
   ]
  },
  {
   "cell_type": "code",
   "execution_count": 16,
   "metadata": {},
   "outputs": [],
   "source": [
    "import numpy as np\n",
    "\n",
    "from power_planner.utils import get_half_donut\n",
    "\n",
    "\n",
    "def bresenham_line(x0, y0, x1, y1):\n",
    "    \"\"\"\n",
    "    find pixels on line between two pixels\n",
    "    https://stackoverflow.com/questions/50995499/generating-pixel-values-of-line-connecting-2-points\n",
    "    \"\"\"\n",
    "    steep = abs(y1 - y0) > abs(x1 - x0)\n",
    "    if steep:\n",
    "        x0, y0 = y0, x0\n",
    "        x1, y1 = y1, x1\n",
    "\n",
    "    switched = False\n",
    "    if x0 > x1:\n",
    "        switched = True\n",
    "        x0, x1 = x1, x0\n",
    "        y0, y1 = y1, y0\n",
    "\n",
    "    if y0 < y1:\n",
    "        ystep = 1\n",
    "    else:\n",
    "        ystep = -1\n",
    "\n",
    "    deltax = x1 - x0\n",
    "    deltay = abs(y1 - y0)\n",
    "    error = -deltax / 2\n",
    "    y = y0\n",
    "\n",
    "    line = []\n",
    "    for x in range(x0, x1 + 1):\n",
    "        if steep:\n",
    "            line.append([y, x])\n",
    "        else:\n",
    "            line.append([x, y])\n",
    "\n",
    "        error = error + deltay\n",
    "        if error > 0:\n",
    "            y = y + ystep\n",
    "            error = error - deltax\n",
    "    if switched:\n",
    "        line.reverse()\n",
    "    return line\n",
    "\n",
    "\n",
    "def get_kernel(shifts):\n",
    "    \"\"\"\n",
    "    Get all kernels describing the path of the edges in a discrete raster\n",
    "    :param shifts: possible circle points\n",
    "    :returns kernel: all possible kernels (number of circle points x upper x upper)\n",
    "    :returns posneg: a list indicating whether it is a path to the left (=1) or to the right(=0)\n",
    "    \"\"\"\n",
    "    upper = np.amax(np.absolute(shifts)) + 1\n",
    "    posneg = []\n",
    "    kernel = np.zeros((len(shifts), upper, upper))\n",
    "\n",
    "    for i, shift in enumerate(shifts):\n",
    "        if shift[1] < 0:\n",
    "            posneg.append(1)\n",
    "            line = bresenham_line(0, upper - 1, shift[0], upper - 1 + shift[1])\n",
    "        else:\n",
    "            posneg.append(0)\n",
    "            line = bresenham_line(0, 0, shift[0], shift[1])\n",
    "        # add points of line to the kernel\n",
    "        for (j, k) in line:\n",
    "            kernel[i, j, k] += 1\n",
    "    return kernel, posneg\n",
    "\n",
    "\n",
    "def convolve(img, kernel, neg=0):\n",
    "    \"\"\"\n",
    "    Convolve a 2d img with a kernel, storing the output in the cell \n",
    "    corresponding the the left or right upper corner \n",
    "    :param img: 2d numpy array\n",
    "    :param kernel: kernel (must have equal size and width)\n",
    "    :param neg: if neg=0, store in upper left corner, if neg=1, store in upper \n",
    "    right corner\n",
    "    :return convolved image of same size\n",
    "    \"\"\"\n",
    "    k_size = len(kernel)\n",
    "    if neg:\n",
    "        padded = np.pad(img, ((0, k_size - 1), (k_size - 1, 0)))\n",
    "    else:\n",
    "        padded = np.pad(img, ((0, k_size), (0, k_size)))\n",
    "    # print(padded.shape)\n",
    "    convolved = np.zeros(img.shape)\n",
    "    w, h = img.shape\n",
    "    for i in range(0, w):\n",
    "        for j in range(0, h):\n",
    "            patch = padded[i:i + k_size, j:j + k_size]\n",
    "            convolved[i, j] = np.sum(patch * kernel)\n",
    "    return convolved\n",
    "\n",
    "\n",
    "def angle(path):\n",
    "    path = np.asarray(path)\n",
    "    for p, (i, j) in enumerate(path[:-2]):\n",
    "        v1 = path[p + 1] - path[p]\n",
    "        v2 = path[p + 1] - path[p + 2]\n",
    "        v1_norm = np.linalg.norm(v1)\n",
    "        v2_norm = np.linalg.norm(v2)\n",
    "        angle = np.arccos(np.dot(v1, v2))\n",
    "        if angle < np.pi:\n",
    "            pass\n",
    "\n",
    "\n",
    "# Questions:\n",
    "## altitude leads to more costs for pylons? because they are higher?\n",
    "\n",
    "# height profile constraints:\n",
    "## simply exclude edges which cannot be placed --> only works when iterating over edges\n",
    "\n",
    "## Angle constraints:\n",
    "# * line graph\n",
    "# * path straighening toolbox\n"
   ]
  },
  {
   "cell_type": "code",
   "execution_count": 14,
   "metadata": {},
   "outputs": [
    {
     "data": {
      "text/plain": [
       "array([[ 0,  1,  2,  3,  4,  5,  6,  7,  8],\n",
       "       [ 9, 10, 11, 12, 13, 14, 15, 16, 17],\n",
       "       [18, 19, 20, 21, 22, 23, 24, 25, 26],\n",
       "       [27, 28, 29, 30, 31, 32, 33, 34, 35],\n",
       "       [36, 37, 38, 39, 40, 41, 42, 43, 44],\n",
       "       [45, 46, 47, 48, 49, 50, 51, 52, 53],\n",
       "       [54, 55, 56, 57, 58, 59, 60, 61, 62],\n",
       "       [63, 64, 65, 66, 67, 68, 69, 70, 71],\n",
       "       [72, 73, 74, 75, 76, 77, 78, 79, 80]])"
      ]
     },
     "execution_count": 14,
     "metadata": {},
     "output_type": "execute_result"
    }
   ],
   "source": [
    "arr = np.arange(0,81,1).reshape((9,9))\n",
    "arr"
   ]
  },
  {
   "cell_type": "code",
   "execution_count": 210,
   "metadata": {},
   "outputs": [],
   "source": [
    "shifts = get_half_donut(3, 8)\n",
    "kernel, posneg = get_kernel(shifts)"
   ]
  },
  {
   "cell_type": "code",
   "execution_count": 225,
   "metadata": {},
   "outputs": [
    {
     "data": {
      "text/plain": [
       "array([[0., 0., 0., 0., 0., 0., 1., 1.],\n",
       "       [0., 0., 1., 1., 1., 1., 0., 0.],\n",
       "       [1., 1., 0., 0., 0., 0., 0., 0.],\n",
       "       [0., 0., 0., 0., 0., 0., 0., 0.],\n",
       "       [0., 0., 0., 0., 0., 0., 0., 0.],\n",
       "       [0., 0., 0., 0., 0., 0., 0., 0.],\n",
       "       [0., 0., 0., 0., 0., 0., 0., 0.],\n",
       "       [0., 0., 0., 0., 0., 0., 0., 0.]])"
      ]
     },
     "execution_count": 225,
     "metadata": {},
     "output_type": "execute_result"
    }
   ],
   "source": [
    "kernel[14]"
   ]
  },
  {
   "cell_type": "code",
   "execution_count": 227,
   "metadata": {},
   "outputs": [
    {
     "data": {
      "text/plain": [
       "array([[  0.,   1.,  12.,  24.,  37.,  51.,  75., 100., 108.],\n",
       "       [  9.,  19.,  39.,  60.,  82., 105., 138., 172., 180.],\n",
       "       [ 18.,  37.,  66.,  96., 127., 159., 201., 244., 252.],\n",
       "       [ 27.,  55.,  93., 132., 172., 213., 264., 316., 324.],\n",
       "       [ 36.,  73., 120., 168., 217., 267., 327., 388., 396.],\n",
       "       [ 45.,  91., 147., 204., 262., 321., 390., 460., 468.],\n",
       "       [ 54., 109., 174., 240., 307., 375., 453., 532., 540.],\n",
       "       [ 63., 127., 201., 276., 352., 429., 435., 441., 447.],\n",
       "       [ 72., 145., 147., 149., 151., 153., 155., 157., 159.]])"
      ]
     },
     "execution_count": 227,
     "metadata": {},
     "output_type": "execute_result"
    }
   ],
   "source": [
    "convolve(arr, kernel[14], 1)"
   ]
  },
  {
   "cell_type": "code",
   "execution_count": 26,
   "metadata": {},
   "outputs": [],
   "source": [
    "from scipy.signal import convolve2d"
   ]
  },
  {
   "cell_type": "code",
   "execution_count": 232,
   "metadata": {},
   "outputs": [],
   "source": [
    "def convolve_faster(img, f, neg):\n",
    "    k_size = len(f)\n",
    "    # a = np.pad(img, ((0, k_size-1), (0, k_size-1)))\n",
    "    if neg:\n",
    "        padded = np.pad(img, ((0, k_size - 1), (k_size - 1, 0)))\n",
    "    else:\n",
    "        padded = np.pad(img, ((0, k_size - 1), (0, k_size - 1)))\n",
    "    \n",
    "    s = f.shape + tuple(np.subtract(padded.shape, f.shape) + 1)\n",
    "    strd = np.lib.stride_tricks.as_strided\n",
    "    subM = strd(padded, shape = s, strides = padded.strides * 2)\n",
    "    return np.einsum('ij,ijkl->kl', f, subM)"
   ]
  },
  {
   "cell_type": "code",
   "execution_count": 233,
   "metadata": {},
   "outputs": [],
   "source": [
    "arr2 = convolve_faster(arr, kernel[14], 1) # [5:-2, 2:-5] # 8x8\n",
    "# [3:-6, 9:] # for 10x10 kernel, 1:-3,3:-1] # for 5x5 kernel"
   ]
  },
  {
   "cell_type": "code",
   "execution_count": 234,
   "metadata": {},
   "outputs": [
    {
     "data": {
      "text/plain": [
       "array([[  0.,   1.,  12.,  24.,  37.,  51.,  75., 100., 108.],\n",
       "       [  9.,  19.,  39.,  60.,  82., 105., 138., 172., 180.],\n",
       "       [ 18.,  37.,  66.,  96., 127., 159., 201., 244., 252.],\n",
       "       [ 27.,  55.,  93., 132., 172., 213., 264., 316., 324.],\n",
       "       [ 36.,  73., 120., 168., 217., 267., 327., 388., 396.],\n",
       "       [ 45.,  91., 147., 204., 262., 321., 390., 460., 468.],\n",
       "       [ 54., 109., 174., 240., 307., 375., 453., 532., 540.],\n",
       "       [ 63., 127., 201., 276., 352., 429., 435., 441., 447.],\n",
       "       [ 72., 145., 147., 149., 151., 153., 155., 157., 159.]])"
      ]
     },
     "execution_count": 234,
     "metadata": {},
     "output_type": "execute_result"
    }
   ],
   "source": [
    "arr2"
   ]
  },
  {
   "cell_type": "code",
   "execution_count": null,
   "metadata": {},
   "outputs": [],
   "source": [
    "def convolve_faster(img, kernel, neg):\n",
    "    k_size = len(kernel)\n",
    "    print(k_size)\n",
    "    # print(k_size)\n",
    "    # if neg:\n",
    "    #     padded = np.pad(img, ((0, k_size - 1), (k_size - 1, 0)))\n",
    "    # else:\n",
    "    #     padded = np.pad(img, ((0, k_size), (0, k_size)))\n",
    "    padded = np.pad(img, ((0, k_size), (0, k_size)))\n",
    "    print(padded.astype(int))\n",
    "    print(kernel)\n",
    "    return convolve2d(padded, kernel, mode =\"same\")[:-k_size-4, :-k_size-4]\n",
    "# 8x8: [1:-k_size+1, 1:-k_size+1] \n",
    "# 7x7 [2:-k_size+2, :-k_size]\n",
    "# 6x6 [3:-k_size+3, 1:-k_size+1]\n",
    "# 5x5 "
   ]
  },
  {
   "cell_type": "code",
   "execution_count": null,
   "metadata": {},
   "outputs": [],
   "source": []
  },
  {
   "cell_type": "code",
   "execution_count": 197,
   "metadata": {},
   "outputs": [
    {
     "data": {
      "text/plain": [
       "array([[ 147.,  195.,  247.,  267.,  287.],\n",
       "       [ 258.,  345.,  437.,  462.,  487.],\n",
       "       [ 396.,  531.,  672.,  702.,  732.],\n",
       "       [ 558.,  747.,  942.,  972., 1002.],\n",
       "       [ 720.,  963., 1212., 1242., 1272.]])"
      ]
     },
     "execution_count": 197,
     "metadata": {},
     "output_type": "execute_result"
    }
   ],
   "source": [
    "arr2"
   ]
  },
  {
   "cell_type": "code",
   "execution_count": 82,
   "metadata": {},
   "outputs": [
    {
     "data": {
      "text/plain": [
       "(10, 10)"
      ]
     },
     "execution_count": 82,
     "metadata": {},
     "output_type": "execute_result"
    }
   ],
   "source": [
    "kernel[33].shape"
   ]
  },
  {
   "cell_type": "code",
   "execution_count": null,
   "metadata": {},
   "outputs": [],
   "source": []
  }
 ],
 "metadata": {
  "kernelspec": {
   "display_name": "Python 3",
   "language": "python",
   "name": "python3"
  },
  "language_info": {
   "codemirror_mode": {
    "name": "ipython",
    "version": 3
   },
   "file_extension": ".py",
   "mimetype": "text/x-python",
   "name": "python",
   "nbconvert_exporter": "python",
   "pygments_lexer": "ipython3",
   "version": "3.7.4"
  }
 },
 "nbformat": 4,
 "nbformat_minor": 4
}
