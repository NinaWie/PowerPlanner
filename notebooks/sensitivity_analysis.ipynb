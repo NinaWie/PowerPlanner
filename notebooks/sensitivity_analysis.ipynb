{
 "cells": [
  {
   "cell_type": "markdown",
   "metadata": {},
   "source": [
    "# Sensitivity analysis\n",
    "\n",
    "### Todo:\n",
    "\n",
    "* variance of parameter vs variance of other plotten (x axis: angle weight, y axis: several lines, variation of each parameter, so one can see higher angle costs on average causes higher planungskosten)\n",
    "* scatter plot matrix: immer two together considered"
   ]
  },
  {
   "cell_type": "markdown",
   "metadata": {},
   "source": [
    "### General notes:\n",
    "\n",
    "* Bau: Red, Planung: Green, Umwelt: Blue"
   ]
  },
  {
   "cell_type": "code",
   "execution_count": null,
   "metadata": {},
   "outputs": [],
   "source": [
    "import matplotlib.pyplot as plt\n",
    "import numpy as np\n",
    "# import networkx as nx\n",
    "import os\n",
    "import pandas as pd\n",
    "import time\n",
    "import json\n",
    "import pickle\n",
    "import seaborn as sb"
   ]
  },
  {
   "cell_type": "code",
   "execution_count": null,
   "metadata": {},
   "outputs": [],
   "source": [
    "base_path = \"../../outputs/sensitivity_analysis_50\"\n",
    "MIN_H = 50\n",
    "MAX_H = 80\n",
    "\n",
    "COLS = [\"green\", \"orange\", \"red\"]\n",
    "COL_NAMES = [\"Angle\", \"Edge\", \"Height\", \"Bau_Unterhalt\", \"Planung\", \"Umwelt\"]"
   ]
  },
  {
   "cell_type": "code",
   "execution_count": null,
   "metadata": {},
   "outputs": [],
   "source": [
    "unique_ids = [f for f in os.listdir(base_path) if f[-3:]==\"csv\" and f[:2]==\"ch\"]"
   ]
  },
  {
   "cell_type": "code",
   "execution_count": null,
   "metadata": {},
   "outputs": [],
   "source": [
    "table_list = [pd.read_csv(os.path.join(base_path, file_id)) for file_id in unique_ids]"
   ]
  },
  {
   "cell_type": "code",
   "execution_count": null,
   "metadata": {},
   "outputs": [],
   "source": [
    "# need to swap columns to match the weights\n",
    "for i in range(len(table_list)):\n",
    "    table_list[i] = table_list[i][['X', 'Y', 'X_raw', 'Y_raw', 'angle','edge_costs', 'heigths', 'Bau/Unterhalt', 'Raumplanung',\n",
    "       'Umwelt-/Biotopschutz']]"
   ]
  },
  {
   "cell_type": "code",
   "execution_count": null,
   "metadata": {},
   "outputs": [],
   "source": [
    "id_params = [fn.split(\"_\")[1:-1] for fn in unique_ids]\n",
    "id_params = np.array([[int(a[1:]) for a in liste] for liste in id_params])"
   ]
  },
  {
   "cell_type": "code",
   "execution_count": null,
   "metadata": {},
   "outputs": [],
   "source": [
    "# READ DATA\n",
    "with open(\"../data/ch_dump_w1_1.dat\", \"rb\") as infile:\n",
    "    data = pickle.load(infile)\n",
    "    (instance, instance_corr, start_inds, dest_inds) = data.data\n",
    "disp_inst = (np.moveaxis(instance, 0, -1)[:, :, :3] * 255).astype(np.uint8)"
   ]
  },
  {
   "cell_type": "code",
   "execution_count": null,
   "metadata": {},
   "outputs": [],
   "source": [
    "def plot_paths(inst, paths):\n",
    "    plt.figure(figsize=(20,10))\n",
    "    plt.imshow(inst)\n",
    "    for path in paths:\n",
    "        path = np.asarray(path)\n",
    "        plt.plot(path[:,1], path[:,0])\n",
    "    plt.show()\n",
    "def group_by_col(id_params, value, col=0):\n",
    "    id_params = np.asarray(id_params)\n",
    "    inds = np.where(id_params[:, col]==value)[0]\n",
    "    return inds\n",
    "def return_path_subset(table_list, inds):\n",
    "    return [np.asarray(table_list[i][[\"X_raw\", \"Y_raw\"]]) for i in inds]"
   ]
  },
  {
   "cell_type": "markdown",
   "metadata": {},
   "source": [
    "## Plot all paths:"
   ]
  },
  {
   "cell_type": "code",
   "execution_count": null,
   "metadata": {},
   "outputs": [],
   "source": [
    "paths = return_path_subset(table_list, range(len(table_list)))\n",
    "plot_paths(disp_inst, paths)"
   ]
  },
  {
   "cell_type": "code",
   "execution_count": null,
   "metadata": {},
   "outputs": [],
   "source": [
    "len(table_list)"
   ]
  },
  {
   "cell_type": "markdown",
   "metadata": {},
   "source": [
    "## Check paths for different configurations of ONE column"
   ]
  },
  {
   "cell_type": "code",
   "execution_count": null,
   "metadata": {
    "scrolled": true
   },
   "outputs": [],
   "source": [
    "column = 0\n",
    "print(COL_NAMES[column])\n",
    "for angle_weight in np.unique(id_params[:, column]):\n",
    "    print(\"WEIGHT:\", angle_weight)\n",
    "    inds = group_by_col(id_params, angle_weight, col=column)\n",
    "    paths = return_path_subset(table_list, inds)\n",
    "    plot_paths(disp_inst, paths)"
   ]
  },
  {
   "cell_type": "markdown",
   "metadata": {},
   "source": [
    "### Interpretation:\n",
    "\n",
    "- Southern part is Planung and Umwelt costs"
   ]
  },
  {
   "cell_type": "code",
   "execution_count": null,
   "metadata": {},
   "outputs": [],
   "source": [
    "assert len(table_list)==len(id_params)\n",
    "h_col = []\n",
    "heights_list = []\n",
    "for i in range(len(table_list)):\n",
    "    heights = table_list[i][\"heigths\"].values\n",
    "    heights_list.append(heights)\n",
    "    # heights = heights /MIN_H - 1\n",
    "    above_60 = np.sum(heights)- MIN_H*len(heights)\n",
    "    normed_above = above_60 # /MIN_H - 1\n",
    "    h_col.append(round(normed_above,2))\n",
    "    \n",
    "together = np.concatenate((id_params, np.expand_dims(np.asarray(h_col),1)),1)  \n",
    "df = pd.DataFrame(together)"
   ]
  },
  {
   "cell_type": "code",
   "execution_count": null,
   "metadata": {},
   "outputs": [],
   "source": [
    "df.head()"
   ]
  },
  {
   "cell_type": "code",
   "execution_count": null,
   "metadata": {},
   "outputs": [],
   "source": [
    "grouped = df.groupby([0,1,3,4,5])"
   ]
  },
  {
   "cell_type": "code",
   "execution_count": null,
   "metadata": {
    "scrolled": true
   },
   "outputs": [],
   "source": [
    "for name, group in grouped:\n",
    "    h_w = group[2].values\n",
    "    vals = group[6].values\n",
    "    inds = np.argsort(h_w)\n",
    "    print(h_w, inds, vals)\n",
    "    if not vals[inds[0]]>=vals[inds[1]] and vals[inds[1]]>=vals[inds[2]]:\n",
    "        print(\"Problem\", group)"
   ]
  },
  {
   "cell_type": "code",
   "execution_count": null,
   "metadata": {},
   "outputs": [],
   "source": [
    "col_dict = {0:\"green\", 2:\"orange\", 9:\"red\"}\n",
    "plt.figure(figsize=(20,10))\n",
    "for k, h_l in enumerate(heights_list):\n",
    "    h_w = id_params[k, 2]\n",
    "    h_l = np.asarray(h_l)\n",
    "    inds_nonzero = np.where(h_l>MIN_H)\n",
    "    # plt.plot(h_l)\n",
    "    plt.scatter(inds_nonzero, h_l[inds_nonzero], c=col_dict[h_w])\n",
    "plt.title(\"Height spread across path: green: zero height weight, orange: 0.2, red:0.9\", fontsize=15)\n",
    "plt.xlabel(\"Pylon index on path\", fontsize=20)\n",
    "plt.ylabel(\"Pylon height\", fontsize=20)\n",
    "plt.show()"
   ]
  },
  {
   "cell_type": "code",
   "execution_count": null,
   "metadata": {},
   "outputs": [],
   "source": [
    "plt.figure(figsize=(20,10))\n",
    "plt.imshow(disp_inst)\n",
    "for i in range(len(table_list)):\n",
    "    if id_params[i,2]==0:\n",
    "        heights = np.asarray(table_list[i][\"heigths\"].values)\n",
    "        path = np.asarray(table_list[i][[\"X_raw\", \"Y_raw\"]])\n",
    "        normed_heights = (heights-MIN_H)/(MAX_H-MIN_H)\n",
    "        cols = np.swapaxes(np.array([normed_heights, 1-normed_heights, np.zeros(len(heights))]), 1,0)\n",
    "        # print(cols.shape)\n",
    "        plt.scatter(path[:,1], path[:,0], c=cols.tolist(), s=2)"
   ]
  },
  {
   "cell_type": "markdown",
   "metadata": {},
   "source": [
    "## Analyze groups of three: always fix all parameter except for one, check variance"
   ]
  },
  {
   "cell_type": "code",
   "execution_count": null,
   "metadata": {},
   "outputs": [],
   "source": [
    "def iou(s1, s2):\n",
    "    path_inter = len(s1.intersection(s2))\n",
    "    return path_inter / len(s1.union(s2))\n",
    "def group_analysis(id_params, table_list, ind):\n",
    "    a = np.arange(id_params.shape[1])\n",
    "    a = np.delete(a, ind)\n",
    "    df = pd.DataFrame(id_params)\n",
    "    grouped = df.groupby(list(a))\n",
    "    all_vars , intersection= [], []\n",
    "    for name, df_g in grouped:\n",
    "        inds = list(df_g.index)\n",
    "        if len(inds)==1:\n",
    "            continue\n",
    "        # print(name)\n",
    "        three_paths = return_path_subset(table_list, inds)\n",
    "        path_sets = [set([tuple(p) for p in path]) for path in three_paths]\n",
    "        if len(path_sets)==2:\n",
    "            intersection.append(iou(path_sets[0], path_sets[0]))\n",
    "        elif len(path_sets)==3:\n",
    "            ious = [iou(path_sets[i], path_sets[j]) for i in range(3) for j in range(i+1, 3)]\n",
    "            intersection.append(np.mean(ious))\n",
    "        else:\n",
    "            print(inds, name)\n",
    "        three_costs = []\n",
    "        for i in inds:\n",
    "            cost_arr = np.delete(np.asarray(table_list[i])[:, 4:], 2, axis=1)\n",
    "            # cost_arr[:, -1] = (cost_arr[:, -1]-MIN_H)/(MAX_H-MIN_H)\n",
    "            three_costs.append(np.sum(cost_arr, axis=0))\n",
    "        variance = np.std(np.asarray(three_costs), axis=0)\n",
    "        # print(variance)\n",
    "        all_vars.append(variance)\n",
    "        # print(\"--------------\")\n",
    "    plot_data = np.concatenate((np.asarray(all_vars), np.expand_dims(intersection,1)), axis=1)\n",
    "    # print(np.swapaxes(np.asarray(all_vars),1,0).shape)\n",
    "    plt.figure(figsize=(10,5))\n",
    "    sb.boxplot(data=plot_data)\n",
    "    plt.title(\"Vary weight of \"+str(COL_NAMES[ind]))\n",
    "    plt.ylim(0,4)\n",
    "    plt.xticks(range(len(COL_NAMES)), COL_NAMES[:-1]+[\"Path intersection\"])\n",
    "    plt.show()"
   ]
  },
  {
   "cell_type": "code",
   "execution_count": null,
   "metadata": {
    "scrolled": true
   },
   "outputs": [],
   "source": [
    "for column in range(6):\n",
    "    group_analysis(id_params, table_list, column)"
   ]
  },
  {
   "cell_type": "markdown",
   "metadata": {},
   "source": [
    "### Interpretation:\n",
    "\n",
    "* generally low variance, so similar path costs\n",
    "\n",
    "Single angle interpretation:\n",
    "\n",
    "* Varying angle cost leads to high variance of Planungskosten and a bit of Umweltkosten\n",
    "* Height cost does not change the other costs by much, and high path intersection\n",
    "* If Bau-Unterhalt is changed, the height costs are different\n",
    "* changed Planungs kosten --> much variance of Bau/Unterhalt (last plot is changed Umweltkosten)\n",
    "\n",
    "Explanation:\n",
    "* path intersection of 1 is because of only 2 paths vs 3?"
   ]
  },
  {
   "cell_type": "markdown",
   "metadata": {},
   "source": [
    "## Plot path distributions"
   ]
  },
  {
   "cell_type": "code",
   "execution_count": null,
   "metadata": {
    "scrolled": false
   },
   "outputs": [],
   "source": [
    "for column in range(6):\n",
    "    plt.figure(figsize=(20,10))\n",
    "    plt.imshow(disp_inst)\n",
    "    for j, angle_weight in enumerate(np.unique(id_params[:, column])):\n",
    "        # print(angle_weight)\n",
    "        #plt.subplot(1,3,j+1)\n",
    "        inds = group_by_col(id_params, angle_weight, col=column)\n",
    "        paths = return_path_subset(table_list, inds)\n",
    "        paths = np.concatenate(paths, axis=0)\n",
    "        # print(paths.shape)\n",
    "        # sb.scatterplot(paths[:,1], paths[:,0], label = str(angle_weight))\n",
    "        sb.kdeplot(paths[:,1], paths[:,0], color=COLS[j],shade=True, shade_lowest=False, bw=.15, alpha=0.9, label = str(angle_weight))\n",
    "    plt.title(COL_NAMES[column], fontsize=20)\n",
    "    plt.legend(fontsize=20)\n",
    "    plt.show()"
   ]
  },
  {
   "cell_type": "markdown",
   "metadata": {},
   "source": [
    "## Analyte cost sums:"
   ]
  },
  {
   "cell_type": "code",
   "execution_count": null,
   "metadata": {},
   "outputs": [],
   "source": [
    "cost_sum_arr = list()\n",
    "for i in range(len(table_list)):\n",
    "    cost_arr = np.asarray(table_list[i])[:,4:]\n",
    "    cost_arr[:,2] = (cost_arr[:,2]-MIN_H)/(MAX_H-MIN_H)\n",
    "    # cost_arr[:, -1] = (cost_arr[:, -1]-MIN_H)/(MAX_H-MIN_H)\n",
    "    cost_sum = np.sum(cost_arr, axis=0)\n",
    "    cost_sum_arr.append(cost_sum)\n",
    "cost_sum_arr = np.asarray(cost_sum_arr)"
   ]
  },
  {
   "cell_type": "code",
   "execution_count": null,
   "metadata": {},
   "outputs": [],
   "source": [
    "fact = 1\n",
    "\n",
    "plt.figure(figsize=(20,4))\n",
    "num_costs = cost_sum_arr.shape[1]\n",
    "outliers_larger = list()\n",
    "outliers_smaller = list()\n",
    "for k in range(num_costs):\n",
    "    plt.subplot(1,num_costs, k+1)\n",
    "    plt.boxplot(cost_sum_arr[:,k])\n",
    "    plt.title(COL_NAMES[k])\n",
    "    col = cost_sum_arr[:,k]\n",
    "    mean, std = (np.mean(col), np.std(col))\n",
    "    outliers_larger.append(np.where(col-mean>fact*std)[0])\n",
    "    outliers_smaller.append(np.where(col-mean<-fact*std)[0])\n",
    "plt.show()"
   ]
  },
  {
   "cell_type": "code",
   "execution_count": null,
   "metadata": {},
   "outputs": [],
   "source": [
    "cols = [\"yellow\", \"orange\", \"red\", \"pink\", \"green\", \"blue\"]\n",
    "titles = [\"Outliers of LARGER cost\", \"Outliers of SMALLER cost\"]\n",
    "for m, outliers in enumerate([outliers_larger, outliers_smaller]):\n",
    "    plt.figure(figsize=(25,15))\n",
    "    plt.imshow(disp_inst)\n",
    "    [np.asarray(table_list[i][[\"X_raw\", \"Y_raw\"]]) for i in inds]\n",
    "    for i in range(len(table_list)):\n",
    "        path = np.asarray(table_list[i][[\"X_raw\", \"Y_raw\"]])\n",
    "        plt.plot(path[:,1], path[:,0], c=\"white\")\n",
    "    for col in range(len(outliers)):\n",
    "        for j in outliers[col]:\n",
    "            path = np.asarray(table_list[j][[\"X_raw\", \"Y_raw\"]])\n",
    "            plt.plot(path[:,1], path[:,0], label=COL_NAMES[col], c=cols[col], lw=2)\n",
    "\n",
    "    handles, labels = plt.gca().get_legend_handles_labels()\n",
    "    by_label = dict(zip(labels, handles))\n",
    "    plt.legend(by_label.values(), by_label.keys(), fontsize=15)\n",
    "    plt.title(titles[m], fontsize=20)\n",
    "    plt.show()"
   ]
  },
  {
   "cell_type": "markdown",
   "metadata": {},
   "source": [
    "## Line plot of parameter variation"
   ]
  },
  {
   "cell_type": "code",
   "execution_count": null,
   "metadata": {},
   "outputs": [],
   "source": [
    "for column in range(6):\n",
    "    res = []\n",
    "    uni_vals = np.unique(id_params[:, column])\n",
    "    for weight in uni_vals:\n",
    "        inds = group_by_col(id_params, weight, col=column)\n",
    "        res.append(np.mean(cost_sum_arr[inds], axis=0))\n",
    "        # mean_costs = [np.mean(cost_sum_arr[ind_list], axis=0) for ind_list in inds]\n",
    "        # print(weight, mean_costs)\n",
    "    res = np.swapaxes(np.asarray(res), 1,0)\n",
    "    for j,r in enumerate(res):\n",
    "        if j!=column:\n",
    "            plt.plot(r, label=COL_NAMES[j])\n",
    "    plt.xticks(np.arange(len(uni_vals)), uni_vals)\n",
    "    plt.legend()\n",
    "    plt.title(COL_NAMES[column])\n",
    "    plt.show()"
   ]
  },
  {
   "cell_type": "code",
   "execution_count": null,
   "metadata": {},
   "outputs": [],
   "source": []
  }
 ],
 "metadata": {
  "kernelspec": {
   "display_name": "Python 3",
   "language": "python",
   "name": "python3"
  },
  "language_info": {
   "codemirror_mode": {
    "name": "ipython",
    "version": 3
   },
   "file_extension": ".py",
   "mimetype": "text/x-python",
   "name": "python",
   "nbconvert_exporter": "python",
   "pygments_lexer": "ipython3",
   "version": "3.8.2"
  }
 },
 "nbformat": 4,
 "nbformat_minor": 4
}
